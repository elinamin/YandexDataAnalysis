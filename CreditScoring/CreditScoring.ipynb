{
  "nbformat": 4,
  "nbformat_minor": 0,
  "metadata": {
    "kernelspec": {
      "display_name": "Python 3",
      "language": "python",
      "name": "python3"
    },
    "language_info": {
      "codemirror_mode": {
        "name": "ipython",
        "version": 3
      },
      "file_extension": ".py",
      "mimetype": "text/x-python",
      "name": "python",
      "nbconvert_exporter": "python",
      "pygments_lexer": "ipython3",
      "version": "3.7.8"
    },
    "toc": {
      "base_numbering": 1,
      "nav_menu": {},
      "number_sections": false,
      "sideBar": true,
      "skip_h1_title": true,
      "title_cell": "Table of Contents",
      "title_sidebar": "Contents",
      "toc_cell": false,
      "toc_position": {
        "height": "calc(100% - 180px)",
        "left": "10px",
        "top": "150px",
        "width": "270.391px"
      },
      "toc_section_display": true,
      "toc_window_display": true
    },
    "colab": {
      "name": "CreditScoring.ipynb",
      "provenance": [],
      "collapsed_sections": [
        "lrTC2vZGq-gY"
      ]
    }
  },
  "cells": [
    {
      "cell_type": "markdown",
      "metadata": {
        "id": "G6ZXhoYFq-gK"
      },
      "source": [
        "# Исследование надёжности заёмщиков\n",
        "\n",
        "Заказчик — кредитный отдел банка. Нужно разобраться, влияет ли семейное положение и количество детей клиента на факт погашения кредита в срок. Входные данные от банка — статистика о платёжеспособности клиентов.\n",
        "\n",
        "Результаты исследования будут учтены при построении модели **кредитного скоринга** — специальной системы, которая оценивает способность потенциального заёмщика вернуть кредит банку."
      ]
    },
    {
      "cell_type": "markdown",
      "metadata": {
        "id": "raj4dYOmq-gL"
      },
      "source": [
        "## Этап 1. Получение данных"
      ]
    },
    {
      "cell_type": "markdown",
      "metadata": {
        "id": "E9_YibQSq-gL"
      },
      "source": [
        "Импортируем библиотеку pandas, прочитаем файл data.csv и сохраним его в переменную data.\n",
        "Получим первые 10 строк."
      ]
    },
    {
      "cell_type": "code",
      "metadata": {
        "scrolled": true,
        "id": "iMcJGblbq-gM",
        "outputId": "89122675-02a9-43b0-d9aa-ec850069e794"
      },
      "source": [
        "import pandas as pd\n",
        "data = pd.read_csv('/datasets/data.csv')\n",
        "data.head(10)"
      ],
      "execution_count": null,
      "outputs": [
        {
          "data": {
            "text/html": [
              "<div>\n",
              "<style scoped>\n",
              "    .dataframe tbody tr th:only-of-type {\n",
              "        vertical-align: middle;\n",
              "    }\n",
              "\n",
              "    .dataframe tbody tr th {\n",
              "        vertical-align: top;\n",
              "    }\n",
              "\n",
              "    .dataframe thead th {\n",
              "        text-align: right;\n",
              "    }\n",
              "</style>\n",
              "<table border=\"1\" class=\"dataframe\">\n",
              "  <thead>\n",
              "    <tr style=\"text-align: right;\">\n",
              "      <th></th>\n",
              "      <th>children</th>\n",
              "      <th>days_employed</th>\n",
              "      <th>dob_years</th>\n",
              "      <th>education</th>\n",
              "      <th>education_id</th>\n",
              "      <th>family_status</th>\n",
              "      <th>family_status_id</th>\n",
              "      <th>gender</th>\n",
              "      <th>income_type</th>\n",
              "      <th>debt</th>\n",
              "      <th>total_income</th>\n",
              "      <th>purpose</th>\n",
              "    </tr>\n",
              "  </thead>\n",
              "  <tbody>\n",
              "    <tr>\n",
              "      <td>0</td>\n",
              "      <td>1</td>\n",
              "      <td>-8437.673028</td>\n",
              "      <td>42</td>\n",
              "      <td>высшее</td>\n",
              "      <td>0</td>\n",
              "      <td>женат / замужем</td>\n",
              "      <td>0</td>\n",
              "      <td>F</td>\n",
              "      <td>сотрудник</td>\n",
              "      <td>0</td>\n",
              "      <td>253875.639453</td>\n",
              "      <td>покупка жилья</td>\n",
              "    </tr>\n",
              "    <tr>\n",
              "      <td>1</td>\n",
              "      <td>1</td>\n",
              "      <td>-4024.803754</td>\n",
              "      <td>36</td>\n",
              "      <td>среднее</td>\n",
              "      <td>1</td>\n",
              "      <td>женат / замужем</td>\n",
              "      <td>0</td>\n",
              "      <td>F</td>\n",
              "      <td>сотрудник</td>\n",
              "      <td>0</td>\n",
              "      <td>112080.014102</td>\n",
              "      <td>приобретение автомобиля</td>\n",
              "    </tr>\n",
              "    <tr>\n",
              "      <td>2</td>\n",
              "      <td>0</td>\n",
              "      <td>-5623.422610</td>\n",
              "      <td>33</td>\n",
              "      <td>Среднее</td>\n",
              "      <td>1</td>\n",
              "      <td>женат / замужем</td>\n",
              "      <td>0</td>\n",
              "      <td>M</td>\n",
              "      <td>сотрудник</td>\n",
              "      <td>0</td>\n",
              "      <td>145885.952297</td>\n",
              "      <td>покупка жилья</td>\n",
              "    </tr>\n",
              "    <tr>\n",
              "      <td>3</td>\n",
              "      <td>3</td>\n",
              "      <td>-4124.747207</td>\n",
              "      <td>32</td>\n",
              "      <td>среднее</td>\n",
              "      <td>1</td>\n",
              "      <td>женат / замужем</td>\n",
              "      <td>0</td>\n",
              "      <td>M</td>\n",
              "      <td>сотрудник</td>\n",
              "      <td>0</td>\n",
              "      <td>267628.550329</td>\n",
              "      <td>дополнительное образование</td>\n",
              "    </tr>\n",
              "    <tr>\n",
              "      <td>4</td>\n",
              "      <td>0</td>\n",
              "      <td>340266.072047</td>\n",
              "      <td>53</td>\n",
              "      <td>среднее</td>\n",
              "      <td>1</td>\n",
              "      <td>гражданский брак</td>\n",
              "      <td>1</td>\n",
              "      <td>F</td>\n",
              "      <td>пенсионер</td>\n",
              "      <td>0</td>\n",
              "      <td>158616.077870</td>\n",
              "      <td>сыграть свадьбу</td>\n",
              "    </tr>\n",
              "    <tr>\n",
              "      <td>5</td>\n",
              "      <td>0</td>\n",
              "      <td>-926.185831</td>\n",
              "      <td>27</td>\n",
              "      <td>высшее</td>\n",
              "      <td>0</td>\n",
              "      <td>гражданский брак</td>\n",
              "      <td>1</td>\n",
              "      <td>M</td>\n",
              "      <td>компаньон</td>\n",
              "      <td>0</td>\n",
              "      <td>255763.565419</td>\n",
              "      <td>покупка жилья</td>\n",
              "    </tr>\n",
              "    <tr>\n",
              "      <td>6</td>\n",
              "      <td>0</td>\n",
              "      <td>-2879.202052</td>\n",
              "      <td>43</td>\n",
              "      <td>высшее</td>\n",
              "      <td>0</td>\n",
              "      <td>женат / замужем</td>\n",
              "      <td>0</td>\n",
              "      <td>F</td>\n",
              "      <td>компаньон</td>\n",
              "      <td>0</td>\n",
              "      <td>240525.971920</td>\n",
              "      <td>операции с жильем</td>\n",
              "    </tr>\n",
              "    <tr>\n",
              "      <td>7</td>\n",
              "      <td>0</td>\n",
              "      <td>-152.779569</td>\n",
              "      <td>50</td>\n",
              "      <td>СРЕДНЕЕ</td>\n",
              "      <td>1</td>\n",
              "      <td>женат / замужем</td>\n",
              "      <td>0</td>\n",
              "      <td>M</td>\n",
              "      <td>сотрудник</td>\n",
              "      <td>0</td>\n",
              "      <td>135823.934197</td>\n",
              "      <td>образование</td>\n",
              "    </tr>\n",
              "    <tr>\n",
              "      <td>8</td>\n",
              "      <td>2</td>\n",
              "      <td>-6929.865299</td>\n",
              "      <td>35</td>\n",
              "      <td>ВЫСШЕЕ</td>\n",
              "      <td>0</td>\n",
              "      <td>гражданский брак</td>\n",
              "      <td>1</td>\n",
              "      <td>F</td>\n",
              "      <td>сотрудник</td>\n",
              "      <td>0</td>\n",
              "      <td>95856.832424</td>\n",
              "      <td>на проведение свадьбы</td>\n",
              "    </tr>\n",
              "    <tr>\n",
              "      <td>9</td>\n",
              "      <td>0</td>\n",
              "      <td>-2188.756445</td>\n",
              "      <td>41</td>\n",
              "      <td>среднее</td>\n",
              "      <td>1</td>\n",
              "      <td>женат / замужем</td>\n",
              "      <td>0</td>\n",
              "      <td>M</td>\n",
              "      <td>сотрудник</td>\n",
              "      <td>0</td>\n",
              "      <td>144425.938277</td>\n",
              "      <td>покупка жилья для семьи</td>\n",
              "    </tr>\n",
              "  </tbody>\n",
              "</table>\n",
              "</div>"
            ],
            "text/plain": [
              "   children  days_employed  dob_years education  education_id  \\\n",
              "0         1   -8437.673028         42    высшее             0   \n",
              "1         1   -4024.803754         36   среднее             1   \n",
              "2         0   -5623.422610         33   Среднее             1   \n",
              "3         3   -4124.747207         32   среднее             1   \n",
              "4         0  340266.072047         53   среднее             1   \n",
              "5         0    -926.185831         27    высшее             0   \n",
              "6         0   -2879.202052         43    высшее             0   \n",
              "7         0    -152.779569         50   СРЕДНЕЕ             1   \n",
              "8         2   -6929.865299         35    ВЫСШЕЕ             0   \n",
              "9         0   -2188.756445         41   среднее             1   \n",
              "\n",
              "      family_status  family_status_id gender income_type  debt   total_income  \\\n",
              "0   женат / замужем                 0      F   сотрудник     0  253875.639453   \n",
              "1   женат / замужем                 0      F   сотрудник     0  112080.014102   \n",
              "2   женат / замужем                 0      M   сотрудник     0  145885.952297   \n",
              "3   женат / замужем                 0      M   сотрудник     0  267628.550329   \n",
              "4  гражданский брак                 1      F   пенсионер     0  158616.077870   \n",
              "5  гражданский брак                 1      M   компаньон     0  255763.565419   \n",
              "6   женат / замужем                 0      F   компаньон     0  240525.971920   \n",
              "7   женат / замужем                 0      M   сотрудник     0  135823.934197   \n",
              "8  гражданский брак                 1      F   сотрудник     0   95856.832424   \n",
              "9   женат / замужем                 0      M   сотрудник     0  144425.938277   \n",
              "\n",
              "                      purpose  \n",
              "0               покупка жилья  \n",
              "1     приобретение автомобиля  \n",
              "2               покупка жилья  \n",
              "3  дополнительное образование  \n",
              "4             сыграть свадьбу  \n",
              "5               покупка жилья  \n",
              "6           операции с жильем  \n",
              "7                 образование  \n",
              "8       на проведение свадьбы  \n",
              "9     покупка жилья для семьи  "
            ]
          },
          "execution_count": 1,
          "metadata": {},
          "output_type": "execute_result"
        }
      ]
    },
    {
      "cell_type": "markdown",
      "metadata": {
        "id": "Hcp6NS3sq-gN"
      },
      "source": [
        "Получим общую информацию о таблице, а также проверим наличие пропусков."
      ]
    },
    {
      "cell_type": "code",
      "metadata": {
        "scrolled": true,
        "id": "K1jtkcKxq-gN",
        "outputId": "0fa72249-10e6-4014-d181-a8d93cc0646f"
      },
      "source": [
        "data.info()"
      ],
      "execution_count": null,
      "outputs": [
        {
          "name": "stdout",
          "output_type": "stream",
          "text": [
            "<class 'pandas.core.frame.DataFrame'>\n",
            "RangeIndex: 21525 entries, 0 to 21524\n",
            "Data columns (total 12 columns):\n",
            "children            21525 non-null int64\n",
            "days_employed       19351 non-null float64\n",
            "dob_years           21525 non-null int64\n",
            "education           21525 non-null object\n",
            "education_id        21525 non-null int64\n",
            "family_status       21525 non-null object\n",
            "family_status_id    21525 non-null int64\n",
            "gender              21525 non-null object\n",
            "income_type         21525 non-null object\n",
            "debt                21525 non-null int64\n",
            "total_income        19351 non-null float64\n",
            "purpose             21525 non-null object\n",
            "dtypes: float64(2), int64(5), object(5)\n",
            "memory usage: 2.0+ MB\n"
          ]
        }
      ]
    },
    {
      "cell_type": "code",
      "metadata": {
        "id": "X0Vug640q-gN",
        "outputId": "685c87ed-1c25-4bb6-f573-98baf9915dfc"
      },
      "source": [
        "data.isnull().sum()"
      ],
      "execution_count": null,
      "outputs": [
        {
          "data": {
            "text/plain": [
              "children               0\n",
              "days_employed       2174\n",
              "dob_years              0\n",
              "education              0\n",
              "education_id           0\n",
              "family_status          0\n",
              "family_status_id       0\n",
              "gender                 0\n",
              "income_type            0\n",
              "debt                   0\n",
              "total_income        2174\n",
              "purpose                0\n",
              "dtype: int64"
            ]
          },
          "execution_count": 3,
          "metadata": {},
          "output_type": "execute_result"
        }
      ]
    },
    {
      "cell_type": "markdown",
      "metadata": {
        "id": "GjBf9PPaq-gO"
      },
      "source": [
        "Видим, что количество значений в стобцах различается, значит есть отсутствующие значения.\n",
        "Отсутствующие значения имеются в столбцах days_employed и total_income.\n",
        "\n",
        "Помимо этого, видим, что столбец days_employed имеет вещественный тип данных, что странно, так как количество дней должно быть целым, а также отрицательные значения.\n",
        "\n",
        "При первом взгляде на таблицу также бросается в глаза, что в столбце education имеются одинаковые по сути значения, но отличающиеся регистром, а в столбце purpose - отличающиеся формой записи.\n",
        "Просмотрим эти столбцы на уникальность значений и убедимся в этом."
      ]
    },
    {
      "cell_type": "code",
      "metadata": {
        "id": "du_BM2_Rq-gO",
        "outputId": "5a8f8c0c-4bea-4316-a693-9053cd63e040"
      },
      "source": [
        "data['education'].unique()"
      ],
      "execution_count": null,
      "outputs": [
        {
          "data": {
            "text/plain": [
              "array(['высшее', 'среднее', 'Среднее', 'СРЕДНЕЕ', 'ВЫСШЕЕ',\n",
              "       'неоконченное высшее', 'начальное', 'Высшее',\n",
              "       'НЕОКОНЧЕННОЕ ВЫСШЕЕ', 'Неоконченное высшее', 'НАЧАЛЬНОЕ',\n",
              "       'Начальное', 'Ученая степень', 'УЧЕНАЯ СТЕПЕНЬ', 'ученая степень'],\n",
              "      dtype=object)"
            ]
          },
          "execution_count": 4,
          "metadata": {},
          "output_type": "execute_result"
        }
      ]
    },
    {
      "cell_type": "code",
      "metadata": {
        "id": "tqJLaiznq-gP",
        "outputId": "59cd230b-d5e6-4901-9d6e-ba0668862e7b"
      },
      "source": [
        "data['purpose'].unique()"
      ],
      "execution_count": null,
      "outputs": [
        {
          "data": {
            "text/plain": [
              "array(['покупка жилья', 'приобретение автомобиля',\n",
              "       'дополнительное образование', 'сыграть свадьбу',\n",
              "       'операции с жильем', 'образование', 'на проведение свадьбы',\n",
              "       'покупка жилья для семьи', 'покупка недвижимости',\n",
              "       'покупка коммерческой недвижимости', 'покупка жилой недвижимости',\n",
              "       'строительство собственной недвижимости', 'недвижимость',\n",
              "       'строительство недвижимости', 'на покупку подержанного автомобиля',\n",
              "       'на покупку своего автомобиля',\n",
              "       'операции с коммерческой недвижимостью',\n",
              "       'строительство жилой недвижимости', 'жилье',\n",
              "       'операции со своей недвижимостью', 'автомобили',\n",
              "       'заняться образованием', 'сделка с подержанным автомобилем',\n",
              "       'получение образования', 'автомобиль', 'свадьба',\n",
              "       'получение дополнительного образования', 'покупка своего жилья',\n",
              "       'операции с недвижимостью', 'получение высшего образования',\n",
              "       'свой автомобиль', 'сделка с автомобилем',\n",
              "       'профильное образование', 'высшее образование',\n",
              "       'покупка жилья для сдачи', 'на покупку автомобиля', 'ремонт жилью',\n",
              "       'заняться высшим образованием'], dtype=object)"
            ]
          },
          "execution_count": 5,
          "metadata": {},
          "output_type": "execute_result"
        }
      ]
    },
    {
      "cell_type": "markdown",
      "metadata": {
        "id": "f3c9fFNdq-gP"
      },
      "source": [
        "Проверим на уникальность также столбцы dob_years, family_status, children."
      ]
    },
    {
      "cell_type": "code",
      "metadata": {
        "id": "zwdGjaOzq-gQ",
        "outputId": "c1ea3ca3-26a2-4f35-f177-e9e82a168b22"
      },
      "source": [
        "data['dob_years'].unique()"
      ],
      "execution_count": null,
      "outputs": [
        {
          "data": {
            "text/plain": [
              "array([42, 36, 33, 32, 53, 27, 43, 50, 35, 41, 40, 65, 54, 56, 26, 48, 24,\n",
              "       21, 57, 67, 28, 63, 62, 47, 34, 68, 25, 31, 30, 20, 49, 37, 45, 61,\n",
              "       64, 44, 52, 46, 23, 38, 39, 51,  0, 59, 29, 60, 55, 58, 71, 22, 73,\n",
              "       66, 69, 19, 72, 70, 74, 75])"
            ]
          },
          "execution_count": 6,
          "metadata": {},
          "output_type": "execute_result"
        }
      ]
    },
    {
      "cell_type": "markdown",
      "metadata": {
        "id": "BD8ftxFvq-gR"
      },
      "source": [
        "В столбце возраста есть нулевые значения."
      ]
    },
    {
      "cell_type": "code",
      "metadata": {
        "id": "8kkwnkv8q-gR",
        "outputId": "efdc4c97-ae98-49ce-9c0c-30f78585d6ec"
      },
      "source": [
        "data['family_status'].unique()"
      ],
      "execution_count": null,
      "outputs": [
        {
          "data": {
            "text/plain": [
              "array(['женат / замужем', 'гражданский брак', 'вдовец / вдова',\n",
              "       'в разводе', 'Не женат / не замужем'], dtype=object)"
            ]
          },
          "execution_count": 7,
          "metadata": {},
          "output_type": "execute_result"
        }
      ]
    },
    {
      "cell_type": "markdown",
      "metadata": {
        "id": "-yxFBeuBq-gS"
      },
      "source": [
        "В этом столбце со значениями все в порядке."
      ]
    },
    {
      "cell_type": "code",
      "metadata": {
        "id": "bcoFbE0bq-gS",
        "outputId": "debd5915-06ae-4233-8c16-ed0effea1643"
      },
      "source": [
        "data['children'].unique()"
      ],
      "execution_count": null,
      "outputs": [
        {
          "data": {
            "text/plain": [
              "array([ 1,  0,  3,  2, -1,  4, 20,  5])"
            ]
          },
          "execution_count": 8,
          "metadata": {},
          "output_type": "execute_result"
        }
      ]
    },
    {
      "cell_type": "markdown",
      "metadata": {
        "id": "RyLmpFfVq-gT"
      },
      "source": [
        "В столбце с количеством детей имеются отрицательные значения, а также артефакт - 20 детей."
      ]
    },
    {
      "cell_type": "markdown",
      "metadata": {
        "id": "u6P_1_dNq-gT"
      },
      "source": [
        "**Вывод**"
      ]
    },
    {
      "cell_type": "markdown",
      "metadata": {
        "id": "0IrfsgpUq-gU"
      },
      "source": [
        "- Проанализировав данные, нашли, что имеются отсутствующие значения в стобцах days_employed и total_income. Значения NaN, предположительно, это не работающие в данный момент люди, поэтому и не имеющие дохода.<br>\n",
        "- Столбец days_employed к тому же имеет вещественный тип и содержит отрицательные значения.<br>\n",
        "- Столбец education имеет одинаковые значения, но отличающиеся регистром.<br>\n",
        "- Столбец purpose тоже имеет одинаковые значения, но отличающиеся формой записи. Значения в этих двух столбцах скорее всего заполняются вручную, что и приводит к таким разнящимся значениям.<br>\n",
        "- Столбец dob_years содержит нулевые значения.<br>\n",
        "- Столбец children имеет одно отрицательное значение, а также одно значение очень выбивающееся из выгрузки - 20 детей.<br>\n",
        "Надо привести все в порядок: заполнить отсутствующие значения, привести значения к нужному типу данных, избавиться от дубликатов.<br>"
      ]
    },
    {
      "cell_type": "markdown",
      "metadata": {
        "id": "5HbJ1fgxq-gU"
      },
      "source": [
        "## Этап 2. Предобработка данных"
      ]
    },
    {
      "cell_type": "markdown",
      "metadata": {
        "id": "e2YAFFjOq-gU"
      },
      "source": [
        "### Обработка пропусков"
      ]
    },
    {
      "cell_type": "markdown",
      "metadata": {
        "id": "0ge_cNICq-gV"
      },
      "source": [
        "Обрабатывая пропуски в столбцах days_employed и total_income, а также нулевые значени в столбце dob_years, определим, что они имеют количественный тип. Заполним пропуски в этих переменных характерными значениями."
      ]
    },
    {
      "cell_type": "markdown",
      "metadata": {
        "id": "a4qE8Yvvq-gV"
      },
      "source": [
        "#### Обработка пропусков в столбце total_income"
      ]
    },
    {
      "cell_type": "markdown",
      "metadata": {
        "id": "qODV7T5Fq-gV"
      },
      "source": [
        "Посмотрим на строки, имеющие пропуски в столбце total_income."
      ]
    },
    {
      "cell_type": "code",
      "metadata": {
        "id": "e-xCipbOq-gV",
        "outputId": "d78df1de-d17f-4aff-ff40-4c8f3f5a6d38"
      },
      "source": [
        "data[data['total_income'].isnull()].head()"
      ],
      "execution_count": null,
      "outputs": [
        {
          "data": {
            "text/html": [
              "<div>\n",
              "<style scoped>\n",
              "    .dataframe tbody tr th:only-of-type {\n",
              "        vertical-align: middle;\n",
              "    }\n",
              "\n",
              "    .dataframe tbody tr th {\n",
              "        vertical-align: top;\n",
              "    }\n",
              "\n",
              "    .dataframe thead th {\n",
              "        text-align: right;\n",
              "    }\n",
              "</style>\n",
              "<table border=\"1\" class=\"dataframe\">\n",
              "  <thead>\n",
              "    <tr style=\"text-align: right;\">\n",
              "      <th></th>\n",
              "      <th>children</th>\n",
              "      <th>days_employed</th>\n",
              "      <th>dob_years</th>\n",
              "      <th>education</th>\n",
              "      <th>education_id</th>\n",
              "      <th>family_status</th>\n",
              "      <th>family_status_id</th>\n",
              "      <th>gender</th>\n",
              "      <th>income_type</th>\n",
              "      <th>debt</th>\n",
              "      <th>total_income</th>\n",
              "      <th>purpose</th>\n",
              "    </tr>\n",
              "  </thead>\n",
              "  <tbody>\n",
              "    <tr>\n",
              "      <td>12</td>\n",
              "      <td>0</td>\n",
              "      <td>NaN</td>\n",
              "      <td>65</td>\n",
              "      <td>среднее</td>\n",
              "      <td>1</td>\n",
              "      <td>гражданский брак</td>\n",
              "      <td>1</td>\n",
              "      <td>M</td>\n",
              "      <td>пенсионер</td>\n",
              "      <td>0</td>\n",
              "      <td>NaN</td>\n",
              "      <td>сыграть свадьбу</td>\n",
              "    </tr>\n",
              "    <tr>\n",
              "      <td>26</td>\n",
              "      <td>0</td>\n",
              "      <td>NaN</td>\n",
              "      <td>41</td>\n",
              "      <td>среднее</td>\n",
              "      <td>1</td>\n",
              "      <td>женат / замужем</td>\n",
              "      <td>0</td>\n",
              "      <td>M</td>\n",
              "      <td>госслужащий</td>\n",
              "      <td>0</td>\n",
              "      <td>NaN</td>\n",
              "      <td>образование</td>\n",
              "    </tr>\n",
              "    <tr>\n",
              "      <td>29</td>\n",
              "      <td>0</td>\n",
              "      <td>NaN</td>\n",
              "      <td>63</td>\n",
              "      <td>среднее</td>\n",
              "      <td>1</td>\n",
              "      <td>Не женат / не замужем</td>\n",
              "      <td>4</td>\n",
              "      <td>F</td>\n",
              "      <td>пенсионер</td>\n",
              "      <td>0</td>\n",
              "      <td>NaN</td>\n",
              "      <td>строительство жилой недвижимости</td>\n",
              "    </tr>\n",
              "    <tr>\n",
              "      <td>41</td>\n",
              "      <td>0</td>\n",
              "      <td>NaN</td>\n",
              "      <td>50</td>\n",
              "      <td>среднее</td>\n",
              "      <td>1</td>\n",
              "      <td>женат / замужем</td>\n",
              "      <td>0</td>\n",
              "      <td>F</td>\n",
              "      <td>госслужащий</td>\n",
              "      <td>0</td>\n",
              "      <td>NaN</td>\n",
              "      <td>сделка с подержанным автомобилем</td>\n",
              "    </tr>\n",
              "    <tr>\n",
              "      <td>55</td>\n",
              "      <td>0</td>\n",
              "      <td>NaN</td>\n",
              "      <td>54</td>\n",
              "      <td>среднее</td>\n",
              "      <td>1</td>\n",
              "      <td>гражданский брак</td>\n",
              "      <td>1</td>\n",
              "      <td>F</td>\n",
              "      <td>пенсионер</td>\n",
              "      <td>1</td>\n",
              "      <td>NaN</td>\n",
              "      <td>сыграть свадьбу</td>\n",
              "    </tr>\n",
              "  </tbody>\n",
              "</table>\n",
              "</div>"
            ],
            "text/plain": [
              "    children  days_employed  dob_years education  education_id  \\\n",
              "12         0            NaN         65   среднее             1   \n",
              "26         0            NaN         41   среднее             1   \n",
              "29         0            NaN         63   среднее             1   \n",
              "41         0            NaN         50   среднее             1   \n",
              "55         0            NaN         54   среднее             1   \n",
              "\n",
              "            family_status  family_status_id gender  income_type  debt  \\\n",
              "12       гражданский брак                 1      M    пенсионер     0   \n",
              "26        женат / замужем                 0      M  госслужащий     0   \n",
              "29  Не женат / не замужем                 4      F    пенсионер     0   \n",
              "41        женат / замужем                 0      F  госслужащий     0   \n",
              "55       гражданский брак                 1      F    пенсионер     1   \n",
              "\n",
              "    total_income                           purpose  \n",
              "12           NaN                   сыграть свадьбу  \n",
              "26           NaN                       образование  \n",
              "29           NaN  строительство жилой недвижимости  \n",
              "41           NaN  сделка с подержанным автомобилем  \n",
              "55           NaN                   сыграть свадьбу  "
            ]
          },
          "execution_count": 9,
          "metadata": {},
          "output_type": "execute_result"
        }
      ]
    },
    {
      "cell_type": "markdown",
      "metadata": {
        "id": "ihUHYO8Yq-gW"
      },
      "source": [
        "Подсчитаем количество пропусков в столбце total_income по каждому типу занятости клиентов. Так увидим те значения income_type, у которых пропущены значения в столбце total_income."
      ]
    },
    {
      "cell_type": "code",
      "metadata": {
        "id": "7IXIkjcsq-gW",
        "outputId": "65272c18-4e40-4617-f12c-33ba27086343"
      },
      "source": [
        "data.loc[data['total_income'].isnull(), 'income_type'].value_counts()"
      ],
      "execution_count": null,
      "outputs": [
        {
          "data": {
            "text/plain": [
              "сотрудник          1105\n",
              "компаньон           508\n",
              "пенсионер           413\n",
              "госслужащий         147\n",
              "предприниматель       1\n",
              "Name: income_type, dtype: int64"
            ]
          },
          "execution_count": 10,
          "metadata": {},
          "output_type": "execute_result"
        }
      ]
    },
    {
      "cell_type": "markdown",
      "metadata": {
        "id": "aXpMi37-q-gW"
      },
      "source": [
        "Подсчитаем медианный доход по каждому типу занятости и запишем значения в таблицу data_total_income_median."
      ]
    },
    {
      "cell_type": "code",
      "metadata": {
        "id": "M3v6LShlq-gX",
        "outputId": "201b9f2c-df04-4310-f1ea-360bd4b7e589"
      },
      "source": [
        "data_total_income_median = data.groupby('income_type')['total_income'].median()\n",
        "data_total_income_median"
      ],
      "execution_count": null,
      "outputs": [
        {
          "data": {
            "text/plain": [
              "income_type\n",
              "безработный        131339.751676\n",
              "в декрете           53829.130729\n",
              "госслужащий        150447.935283\n",
              "компаньон          172357.950966\n",
              "пенсионер          118514.486412\n",
              "предприниматель    499163.144947\n",
              "сотрудник          142594.396847\n",
              "студент             98201.625314\n",
              "Name: total_income, dtype: float64"
            ]
          },
          "execution_count": 11,
          "metadata": {},
          "output_type": "execute_result"
        }
      ]
    },
    {
      "cell_type": "markdown",
      "metadata": {
        "id": "JOYQcVp7q-gX"
      },
      "source": [
        "Заполним пропуски в столбце total_income медианными значеними ежемесячного дохода по каждому типу занятости. Проверим, остались ли пропуски в этом столбце."
      ]
    },
    {
      "cell_type": "code",
      "metadata": {
        "id": "UFtHnUXeq-gX",
        "outputId": "35afdd4d-16e3-4264-8c0e-02249cdd75e7"
      },
      "source": [
        "data.loc[(data['total_income'].isnull()) & (data['income_type'] == 'сотрудник'), 'total_income'] = data_total_income_median[6]\n",
        "data.loc[(data['total_income'].isnull()) & (data['income_type'] == 'компаньон'), 'total_income'] = data_total_income_median[3]\n",
        "data.loc[(data['total_income'].isnull()) & (data['income_type'] == 'пенсионер'), 'total_income'] = data_total_income_median[4]\n",
        "data.loc[(data['total_income'].isnull()) & (data['income_type'] == 'госслужащий'), 'total_income'] = data_total_income_median[2]\n",
        "data.loc[(data['total_income'].isnull()) & (data['income_type'] == 'предприниматель'), 'total_income'] = data_total_income_median[2]\n",
        "data.isnull().sum()"
      ],
      "execution_count": null,
      "outputs": [
        {
          "data": {
            "text/plain": [
              "children               0\n",
              "days_employed       2174\n",
              "dob_years              0\n",
              "education              0\n",
              "education_id           0\n",
              "family_status          0\n",
              "family_status_id       0\n",
              "gender                 0\n",
              "income_type            0\n",
              "debt                   0\n",
              "total_income           0\n",
              "purpose                0\n",
              "dtype: int64"
            ]
          },
          "execution_count": 12,
          "metadata": {},
          "output_type": "execute_result"
        }
      ]
    },
    {
      "cell_type": "markdown",
      "metadata": {
        "id": "lrTC2vZGq-gY"
      },
      "source": [
        "#### Обработка нулевых значений в столбце dob_years"
      ]
    },
    {
      "cell_type": "markdown",
      "metadata": {
        "id": "s0YM9gp9q-gY"
      },
      "source": [
        "Подсчитаем нулевых значений в столбце dob_years по каждому типу занятости клиентов. Так увидим те значения income_type, у которых в столбце dob_years стоит 0."
      ]
    },
    {
      "cell_type": "code",
      "metadata": {
        "id": "v6Orn1e-q-gZ",
        "outputId": "7c98ed14-ddf5-486f-fa67-10c11356de9f"
      },
      "source": [
        "data.loc[data['dob_years'] == 0, 'income_type'].value_counts()"
      ],
      "execution_count": null,
      "outputs": [
        {
          "data": {
            "text/plain": [
              "сотрудник      55\n",
              "компаньон      20\n",
              "пенсионер      20\n",
              "госслужащий     6\n",
              "Name: income_type, dtype: int64"
            ]
          },
          "execution_count": 13,
          "metadata": {},
          "output_type": "execute_result"
        }
      ]
    },
    {
      "cell_type": "markdown",
      "metadata": {
        "id": "fcNKR_8oq-gZ"
      },
      "source": [
        "Подсчитаем медианный возраст по каждому типу занятости клиентов запишем значения в таблицу data_dob_years_median."
      ]
    },
    {
      "cell_type": "code",
      "metadata": {
        "id": "sdh9L9ueq-gZ",
        "outputId": "d3c49ded-3eeb-4213-b8c9-5a7927cd60d1"
      },
      "source": [
        "data_dob_years_median = data.groupby('income_type')['dob_years'].median()\n",
        "data_dob_years_median"
      ],
      "execution_count": null,
      "outputs": [
        {
          "data": {
            "text/plain": [
              "income_type\n",
              "безработный        38.0\n",
              "в декрете          39.0\n",
              "госслужащий        40.0\n",
              "компаньон          39.0\n",
              "пенсионер          60.0\n",
              "предприниматель    42.5\n",
              "сотрудник          39.0\n",
              "студент            22.0\n",
              "Name: dob_years, dtype: float64"
            ]
          },
          "execution_count": 14,
          "metadata": {},
          "output_type": "execute_result"
        }
      ]
    },
    {
      "cell_type": "markdown",
      "metadata": {
        "id": "ndaT2Nd0q-ga"
      },
      "source": [
        "Заполним пропуски в столбце dob_years медианными значеними ежемесячного дохода по каждому типу занятости. Проверим, остались ли пропуски в этом столбце."
      ]
    },
    {
      "cell_type": "code",
      "metadata": {
        "id": "jLRBo7ZBq-ga",
        "outputId": "a7da96ba-5a41-465d-c396-39685c17dd2a"
      },
      "source": [
        "data.loc[(data['dob_years'] == 0) & (data['income_type'] == 'сотрудник'), 'dob_years'] = data_dob_years_median[6]\n",
        "data.loc[(data['dob_years'] == 0) & (data['income_type'] == 'компаньон'), 'dob_years'] = data_dob_years_median[3]\n",
        "data.loc[(data['dob_years'] == 0) & (data['income_type'] == 'пенсионер'), 'dob_years'] = data_dob_years_median[4]\n",
        "data.loc[(data['dob_years'] == 0) & (data['income_type'] == 'госслужащий'), 'dob_years'] = data_dob_years_median[2]\n",
        "data.loc[data['dob_years'] == 0, 'income_type'].value_counts()"
      ],
      "execution_count": null,
      "outputs": [
        {
          "data": {
            "text/plain": [
              "Series([], Name: income_type, dtype: int64)"
            ]
          },
          "execution_count": 15,
          "metadata": {},
          "output_type": "execute_result"
        }
      ]
    },
    {
      "cell_type": "markdown",
      "metadata": {
        "id": "mAsKPZeCq-ga"
      },
      "source": [
        "#### Обработка пропусков в столбце days_employed"
      ]
    },
    {
      "cell_type": "markdown",
      "metadata": {
        "id": "8ABiV-yBq-gb"
      },
      "source": [
        "Заполним пропуски в столбце days_employed медианными значениями общего трудового стажа по каждому возрасту клиента. Для этого сначала рассчитаем эти медианные значения."
      ]
    },
    {
      "cell_type": "code",
      "metadata": {
        "id": "THNsTvXLq-gb",
        "outputId": "618385e9-8049-44f7-9c40-a995f2ae35a2"
      },
      "source": [
        "data_days_employed_median = data.groupby('dob_years')['days_employed'].median()\n",
        "data_days_employed_median.head()"
      ],
      "execution_count": null,
      "outputs": [
        {
          "data": {
            "text/plain": [
              "dob_years\n",
              "19.0   -724.492610\n",
              "20.0   -674.838979\n",
              "21.0   -618.733817\n",
              "22.0   -698.101581\n",
              "23.0   -690.204208\n",
              "Name: days_employed, dtype: float64"
            ]
          },
          "execution_count": 16,
          "metadata": {},
          "output_type": "execute_result"
        }
      ]
    },
    {
      "cell_type": "markdown",
      "metadata": {
        "id": "goS0mWwqq-gc"
      },
      "source": [
        "Подсчитаем количество пропусков в столбце days_employed по каждому возрасту клиента."
      ]
    },
    {
      "cell_type": "code",
      "metadata": {
        "id": "1kFRhP6kq-gc",
        "outputId": "41c0bc23-6afd-48c6-bdcb-4342a79cf5de"
      },
      "source": [
        "data.loc[data['days_employed'].isnull(), 'dob_years'].value_counts()"
      ],
      "execution_count": null,
      "outputs": [
        {
          "data": {
            "text/plain": [
              "34.0    69\n",
              "40.0    66\n",
              "42.0    65\n",
              "31.0    65\n",
              "35.0    64\n",
              "36.0    63\n",
              "47.0    59\n",
              "41.0    59\n",
              "30.0    58\n",
              "39.0    58\n",
              "28.0    57\n",
              "57.0    56\n",
              "58.0    56\n",
              "54.0    55\n",
              "38.0    54\n",
              "56.0    54\n",
              "52.0    53\n",
              "37.0    53\n",
              "33.0    51\n",
              "50.0    51\n",
              "45.0    50\n",
              "51.0    50\n",
              "29.0    50\n",
              "49.0    50\n",
              "43.0    50\n",
              "55.0    48\n",
              "46.0    48\n",
              "48.0    46\n",
              "44.0    44\n",
              "53.0    44\n",
              "60.0    42\n",
              "62.0    38\n",
              "61.0    38\n",
              "64.0    37\n",
              "32.0    37\n",
              "27.0    36\n",
              "23.0    36\n",
              "26.0    35\n",
              "59.0    34\n",
              "63.0    29\n",
              "25.0    23\n",
              "24.0    21\n",
              "65.0    20\n",
              "66.0    20\n",
              "21.0    18\n",
              "22.0    17\n",
              "67.0    16\n",
              "68.0     9\n",
              "20.0     5\n",
              "69.0     5\n",
              "71.0     5\n",
              "70.0     3\n",
              "72.0     2\n",
              "19.0     1\n",
              "73.0     1\n",
              "Name: dob_years, dtype: int64"
            ]
          },
          "execution_count": 17,
          "metadata": {},
          "output_type": "execute_result"
        }
      ]
    },
    {
      "cell_type": "markdown",
      "metadata": {
        "id": "SMViLE6Iq-gd"
      },
      "source": [
        "Для того, чтобы не писать длинный код замены пропусков в столбце days_employed медианными значениями по каждому возрасту, по которому эти пропуски встречаются, распределим клиентов на возрастные группы и рассчитаем медианные значения уже по каждой такой группе."
      ]
    },
    {
      "cell_type": "code",
      "metadata": {
        "id": "JLVDgIbCq-gd",
        "outputId": "ea404488-d8cc-4942-96e3-dd31a9f3ac56"
      },
      "source": [
        "def age_group(dob_years):\n",
        "    \n",
        "        \"\"\"\n",
        "        Возвращает возрастную группу по значению возраста age, используя правила:\n",
        "        - 'молодой' при значении dob_years менее или равно 25 лет\n",
        "        - 'взрослый' при значениии dob_years более 25 и менее 50, включая 50\n",
        "        - 'пожилой' при значениии dob_years более 50\n",
        "        \"\"\"\n",
        "        \n",
        "        if dob_years <= 25:\n",
        "                return 'молодой'\n",
        "        if dob_years <= 60:\n",
        "                return 'взрослый'\n",
        "        return 'пожилой'\n",
        "\n",
        "    \n",
        "data['age_group'] = data['dob_years'].apply(age_group)\n",
        "data_days_employed_age_group_median = data.groupby('age_group')['days_employed'].median()\n",
        "data_days_employed_age_group_median"
      ],
      "execution_count": null,
      "outputs": [
        {
          "data": {
            "text/plain": [
              "age_group\n",
              "взрослый     -1452.197294\n",
              "молодой       -796.983636\n",
              "пожилой     356191.137667\n",
              "Name: days_employed, dtype: float64"
            ]
          },
          "execution_count": 18,
          "metadata": {},
          "output_type": "execute_result"
        }
      ]
    },
    {
      "cell_type": "markdown",
      "metadata": {
        "id": "h5y2pA87q-ge"
      },
      "source": [
        "Подсчитаем количество пропусков в столбце days_employed по каждой возрастной категории."
      ]
    },
    {
      "cell_type": "code",
      "metadata": {
        "id": "ZglJ12j5q-ge",
        "outputId": "1be957cc-71a2-44e1-9417-f713bbe38561"
      },
      "source": [
        "data.loc[data['days_employed'].isnull(), 'age_group'].value_counts()"
      ],
      "execution_count": null,
      "outputs": [
        {
          "data": {
            "text/plain": [
              "взрослый    1830\n",
              "пожилой      223\n",
              "молодой      121\n",
              "Name: age_group, dtype: int64"
            ]
          },
          "execution_count": 19,
          "metadata": {},
          "output_type": "execute_result"
        }
      ]
    },
    {
      "cell_type": "markdown",
      "metadata": {
        "id": "PQuHgVazq-gf"
      },
      "source": [
        "Заполним пропуски в столбце days_employed медианными значеними общего трудового стажа по каждой возрастной группе. Проверим, остались ли пропуски в этом столбце."
      ]
    },
    {
      "cell_type": "code",
      "metadata": {
        "id": "LsRD87BQq-gf",
        "outputId": "9586de3e-d1ca-4d38-cf30-1eff7ac4471a"
      },
      "source": [
        "data.loc[(data['days_employed'].isnull()) & (data['age_group'] == 'взрослый'),  'days_employed'] = data_days_employed_age_group_median[0]\n",
        "data.loc[(data['days_employed'].isnull()) & (data['age_group'] == 'молодой'), 'days_employed'] = data_days_employed_age_group_median[1]\n",
        "data.loc[(data['days_employed'].isnull()) & (data['age_group'] == 'пожилой'), 'days_employed'] = data_days_employed_age_group_median[2]\n",
        "data.isnull().sum()"
      ],
      "execution_count": null,
      "outputs": [
        {
          "data": {
            "text/plain": [
              "children            0\n",
              "days_employed       0\n",
              "dob_years           0\n",
              "education           0\n",
              "education_id        0\n",
              "family_status       0\n",
              "family_status_id    0\n",
              "gender              0\n",
              "income_type         0\n",
              "debt                0\n",
              "total_income        0\n",
              "purpose             0\n",
              "age_group           0\n",
              "dtype: int64"
            ]
          },
          "execution_count": 20,
          "metadata": {},
          "output_type": "execute_result"
        }
      ]
    },
    {
      "cell_type": "markdown",
      "metadata": {
        "id": "FwJIJvOyq-gf"
      },
      "source": [
        "Переведем все значения столбца days_employed из вещественного в целочисленный тип и все отрицательные значения в положительные. Посмотрим первые 5 строк таблицы."
      ]
    },
    {
      "cell_type": "code",
      "metadata": {
        "id": "qzMyPLT1q-gg",
        "outputId": "6bebda67-6a3f-4565-b19d-141096bd04d0"
      },
      "source": [
        "data['days_employed'] = data['days_employed'].astype('int')\n",
        "data['days_employed'] = data['days_employed'].abs()\n",
        "data.head()"
      ],
      "execution_count": null,
      "outputs": [
        {
          "data": {
            "text/html": [
              "<div>\n",
              "<style scoped>\n",
              "    .dataframe tbody tr th:only-of-type {\n",
              "        vertical-align: middle;\n",
              "    }\n",
              "\n",
              "    .dataframe tbody tr th {\n",
              "        vertical-align: top;\n",
              "    }\n",
              "\n",
              "    .dataframe thead th {\n",
              "        text-align: right;\n",
              "    }\n",
              "</style>\n",
              "<table border=\"1\" class=\"dataframe\">\n",
              "  <thead>\n",
              "    <tr style=\"text-align: right;\">\n",
              "      <th></th>\n",
              "      <th>children</th>\n",
              "      <th>days_employed</th>\n",
              "      <th>dob_years</th>\n",
              "      <th>education</th>\n",
              "      <th>education_id</th>\n",
              "      <th>family_status</th>\n",
              "      <th>family_status_id</th>\n",
              "      <th>gender</th>\n",
              "      <th>income_type</th>\n",
              "      <th>debt</th>\n",
              "      <th>total_income</th>\n",
              "      <th>purpose</th>\n",
              "      <th>age_group</th>\n",
              "    </tr>\n",
              "  </thead>\n",
              "  <tbody>\n",
              "    <tr>\n",
              "      <td>0</td>\n",
              "      <td>1</td>\n",
              "      <td>8437</td>\n",
              "      <td>42.0</td>\n",
              "      <td>высшее</td>\n",
              "      <td>0</td>\n",
              "      <td>женат / замужем</td>\n",
              "      <td>0</td>\n",
              "      <td>F</td>\n",
              "      <td>сотрудник</td>\n",
              "      <td>0</td>\n",
              "      <td>253875.639453</td>\n",
              "      <td>покупка жилья</td>\n",
              "      <td>взрослый</td>\n",
              "    </tr>\n",
              "    <tr>\n",
              "      <td>1</td>\n",
              "      <td>1</td>\n",
              "      <td>4024</td>\n",
              "      <td>36.0</td>\n",
              "      <td>среднее</td>\n",
              "      <td>1</td>\n",
              "      <td>женат / замужем</td>\n",
              "      <td>0</td>\n",
              "      <td>F</td>\n",
              "      <td>сотрудник</td>\n",
              "      <td>0</td>\n",
              "      <td>112080.014102</td>\n",
              "      <td>приобретение автомобиля</td>\n",
              "      <td>взрослый</td>\n",
              "    </tr>\n",
              "    <tr>\n",
              "      <td>2</td>\n",
              "      <td>0</td>\n",
              "      <td>5623</td>\n",
              "      <td>33.0</td>\n",
              "      <td>Среднее</td>\n",
              "      <td>1</td>\n",
              "      <td>женат / замужем</td>\n",
              "      <td>0</td>\n",
              "      <td>M</td>\n",
              "      <td>сотрудник</td>\n",
              "      <td>0</td>\n",
              "      <td>145885.952297</td>\n",
              "      <td>покупка жилья</td>\n",
              "      <td>взрослый</td>\n",
              "    </tr>\n",
              "    <tr>\n",
              "      <td>3</td>\n",
              "      <td>3</td>\n",
              "      <td>4124</td>\n",
              "      <td>32.0</td>\n",
              "      <td>среднее</td>\n",
              "      <td>1</td>\n",
              "      <td>женат / замужем</td>\n",
              "      <td>0</td>\n",
              "      <td>M</td>\n",
              "      <td>сотрудник</td>\n",
              "      <td>0</td>\n",
              "      <td>267628.550329</td>\n",
              "      <td>дополнительное образование</td>\n",
              "      <td>взрослый</td>\n",
              "    </tr>\n",
              "    <tr>\n",
              "      <td>4</td>\n",
              "      <td>0</td>\n",
              "      <td>340266</td>\n",
              "      <td>53.0</td>\n",
              "      <td>среднее</td>\n",
              "      <td>1</td>\n",
              "      <td>гражданский брак</td>\n",
              "      <td>1</td>\n",
              "      <td>F</td>\n",
              "      <td>пенсионер</td>\n",
              "      <td>0</td>\n",
              "      <td>158616.077870</td>\n",
              "      <td>сыграть свадьбу</td>\n",
              "      <td>взрослый</td>\n",
              "    </tr>\n",
              "  </tbody>\n",
              "</table>\n",
              "</div>"
            ],
            "text/plain": [
              "   children  days_employed  dob_years education  education_id  \\\n",
              "0         1           8437       42.0    высшее             0   \n",
              "1         1           4024       36.0   среднее             1   \n",
              "2         0           5623       33.0   Среднее             1   \n",
              "3         3           4124       32.0   среднее             1   \n",
              "4         0         340266       53.0   среднее             1   \n",
              "\n",
              "      family_status  family_status_id gender income_type  debt   total_income  \\\n",
              "0   женат / замужем                 0      F   сотрудник     0  253875.639453   \n",
              "1   женат / замужем                 0      F   сотрудник     0  112080.014102   \n",
              "2   женат / замужем                 0      M   сотрудник     0  145885.952297   \n",
              "3   женат / замужем                 0      M   сотрудник     0  267628.550329   \n",
              "4  гражданский брак                 1      F   пенсионер     0  158616.077870   \n",
              "\n",
              "                      purpose age_group  \n",
              "0               покупка жилья  взрослый  \n",
              "1     приобретение автомобиля  взрослый  \n",
              "2               покупка жилья  взрослый  \n",
              "3  дополнительное образование  взрослый  \n",
              "4             сыграть свадьбу  взрослый  "
            ]
          },
          "execution_count": 21,
          "metadata": {},
          "output_type": "execute_result"
        }
      ]
    },
    {
      "cell_type": "markdown",
      "metadata": {
        "id": "ZsblCIDCq-gg"
      },
      "source": [
        "Подробнее рассмотрим значения столбца days_employed: переведем медианные значения общего трудового стажа для каждой возрастной группы в года. "
      ]
    },
    {
      "cell_type": "code",
      "metadata": {
        "id": "3SEsZUObq-gh",
        "outputId": "d319a011-13b5-45e0-ed82-42b41e129a0e"
      },
      "source": [
        "print('Общий трудовой стаж в годах для возрастной категории \"молодой\": {} лет'.format(abs(data_days_employed_age_group_median[0] / 365)))\n",
        "print('Общий трудовой стаж в годах для возрастной категории \"взрослый\": {} лет'.format(abs(data_days_employed_age_group_median[1] / 365)))  \n",
        "print('Общий трудовой стаж в годах для возрастной категории \"пожилой\": {} лет'.format(abs(data_days_employed_age_group_median[2] / 365))) "
      ],
      "execution_count": null,
      "outputs": [
        {
          "name": "stdout",
          "output_type": "stream",
          "text": [
            "Общий трудовой стаж в годах для возрастной категории \"молодой\": 3.9786227219243355 лет\n",
            "Общий трудовой стаж в годах для возрастной категории \"взрослый\": 2.1835168107904472 лет\n",
            "Общий трудовой стаж в годах для возрастной категории \"пожилой\": 975.8661305941084 лет\n"
          ]
        }
      ]
    },
    {
      "cell_type": "markdown",
      "metadata": {
        "id": "rcV9aM7Vq-gh"
      },
      "source": [
        "Видим, что помимо того, что столбец days_employed имеет вещественный тип данных, а также содержит отрицательные значения, при переводе его значений в года получаются аномальные большие значения в сотни лет или наоборот всего лишь в пару лет.<br>Тип данных столбца переведен в целочисленный с помощью метода astype() с аргументом int, а отрицательные значения в положительные переведены с помощью функции abs.<br>Однако, прежде всего лучше уточнить у тех, кто сделал выгрузку, по какому принципу рассчитываются значения этого столбца, и только потом обработать их. Предположительно, в этом столбце рассчитывается диапазон дат, возможно, заполненных некорректно."
      ]
    },
    {
      "cell_type": "markdown",
      "metadata": {
        "id": "XDRt5kYiq-gh"
      },
      "source": [
        "**Вывод**"
      ]
    },
    {
      "cell_type": "markdown",
      "metadata": {
        "id": "RDXGvOjYq-gi"
      },
      "source": [
        "Обработаны все пропуски в данных:<br>\n",
        "- Пропуски в столбце total_income заполнены медианными значеними ежемесячного дохода по каждому типу занятости.<br>\n",
        "- Нулевые значения в столбце dob_years заполнены медианными значеними ежемесячного дохода по каждому типу занятости.<br>\n",
        "- Пропуски в столбце days_employed заполнены медианными значеними общего трудового стажа по каждой возрастной группе."
      ]
    },
    {
      "cell_type": "markdown",
      "metadata": {
        "id": "a-I4cIYaq-gi"
      },
      "source": [
        "### Замена типа данных"
      ]
    },
    {
      "cell_type": "markdown",
      "metadata": {
        "id": "O4K57ljcq-gi"
      },
      "source": [
        "#### Обработка значений столбца children"
      ]
    },
    {
      "cell_type": "markdown",
      "metadata": {
        "id": "LqqWMrSdq-gi"
      },
      "source": [
        "Переведем все отрицательные значения столбца children в положительные, а также заменим артефакт 20 на 2 из предположения, что заполняющим это значение сотрудником имелось в виду значение 2 ребенка.<br>Выведем уникальные значения столбца children, чтобы убедиться в корректности его значений."
      ]
    },
    {
      "cell_type": "code",
      "metadata": {
        "id": "aqJY7OEwq-gj",
        "outputId": "ae89ff56-7f6d-4076-c3e9-6ea9a1500335"
      },
      "source": [
        "data['children'] = data['children'].abs()\n",
        "data.loc[data['children'] == 20, 'children'] = 2\n",
        "data['children'].unique()"
      ],
      "execution_count": null,
      "outputs": [
        {
          "data": {
            "text/plain": [
              "array([1, 0, 3, 2, 4, 5])"
            ]
          },
          "execution_count": 23,
          "metadata": {},
          "output_type": "execute_result"
        }
      ]
    },
    {
      "cell_type": "markdown",
      "metadata": {
        "id": "QjgthJQNq-gk"
      },
      "source": [
        "#### Замена типа данных столбца dob_years"
      ]
    },
    {
      "cell_type": "markdown",
      "metadata": {
        "id": "pe2slx_Kq-gk"
      },
      "source": [
        "Еще раз посмотрим общую информацию по таблице."
      ]
    },
    {
      "cell_type": "code",
      "metadata": {
        "id": "oS5PwetAq-gl",
        "outputId": "da0d4f96-47db-4806-b8d4-15804937cec4"
      },
      "source": [
        "data.info()"
      ],
      "execution_count": null,
      "outputs": [
        {
          "name": "stdout",
          "output_type": "stream",
          "text": [
            "<class 'pandas.core.frame.DataFrame'>\n",
            "RangeIndex: 21525 entries, 0 to 21524\n",
            "Data columns (total 13 columns):\n",
            "children            21525 non-null int64\n",
            "days_employed       21525 non-null int64\n",
            "dob_years           21525 non-null float64\n",
            "education           21525 non-null object\n",
            "education_id        21525 non-null int64\n",
            "family_status       21525 non-null object\n",
            "family_status_id    21525 non-null int64\n",
            "gender              21525 non-null object\n",
            "income_type         21525 non-null object\n",
            "debt                21525 non-null int64\n",
            "total_income        21525 non-null float64\n",
            "purpose             21525 non-null object\n",
            "age_group           21525 non-null object\n",
            "dtypes: float64(2), int64(5), object(6)\n",
            "memory usage: 2.1+ MB\n"
          ]
        }
      ]
    },
    {
      "cell_type": "markdown",
      "metadata": {
        "id": "YDkZbpXYq-gl"
      },
      "source": [
        "Тип данных для столбца days_employed был изменен ранее при обработке его пропущенных значений.\n",
        "Из остальных столбцов тип данных надо заменить только для столбца dob_years, так как на данный момент значения этого столбца имеют вещественный тип данных. Переведем значения этого столбца в целочисленные."
      ]
    },
    {
      "cell_type": "code",
      "metadata": {
        "id": "hl-761CWq-gm"
      },
      "source": [
        "data['dob_years'] = data['dob_years'].astype('int')"
      ],
      "execution_count": null,
      "outputs": []
    },
    {
      "cell_type": "markdown",
      "metadata": {
        "id": "2jW4wJCyq-gm"
      },
      "source": [
        "Убедимся в том, что тип данных заменен."
      ]
    },
    {
      "cell_type": "code",
      "metadata": {
        "id": "8ielVbKFq-gm",
        "outputId": "af457525-4970-46dc-c812-2fa6cb14db9f"
      },
      "source": [
        "data.info()"
      ],
      "execution_count": null,
      "outputs": [
        {
          "name": "stdout",
          "output_type": "stream",
          "text": [
            "<class 'pandas.core.frame.DataFrame'>\n",
            "RangeIndex: 21525 entries, 0 to 21524\n",
            "Data columns (total 13 columns):\n",
            "children            21525 non-null int64\n",
            "days_employed       21525 non-null int64\n",
            "dob_years           21525 non-null int64\n",
            "education           21525 non-null object\n",
            "education_id        21525 non-null int64\n",
            "family_status       21525 non-null object\n",
            "family_status_id    21525 non-null int64\n",
            "gender              21525 non-null object\n",
            "income_type         21525 non-null object\n",
            "debt                21525 non-null int64\n",
            "total_income        21525 non-null float64\n",
            "purpose             21525 non-null object\n",
            "age_group           21525 non-null object\n",
            "dtypes: float64(1), int64(6), object(6)\n",
            "memory usage: 2.1+ MB\n"
          ]
        }
      ]
    },
    {
      "cell_type": "markdown",
      "metadata": {
        "id": "BcIZkmh7q-gm"
      },
      "source": [
        "**Вывод**"
      ]
    },
    {
      "cell_type": "markdown",
      "metadata": {
        "id": "z7cio7GEq-gn"
      },
      "source": [
        "- Используя метод astype() с аргументом (int), перевели значения столбцов dob_years и days_employed в целочисленные.\n",
        "- Перевели все отрицательные значения столбца children в положительные, а также заменили артефакт 20 на 2 из предположения, что заполняющим это значение сотрудником имелось в виду значение 2 ребенка."
      ]
    },
    {
      "cell_type": "markdown",
      "metadata": {
        "id": "dfNJDGiSq-gn"
      },
      "source": [
        "### Обработка дубликатов"
      ]
    },
    {
      "cell_type": "markdown",
      "metadata": {
        "id": "b3hAQxu4q-gn"
      },
      "source": [
        "#### Обработка столбца education"
      ]
    },
    {
      "cell_type": "markdown",
      "metadata": {
        "id": "PD9YMWePq-gn"
      },
      "source": [
        "В столбце education содержатся дубликаты, отличающиеся регистром нескольких букв. Приведем все символы в каждой строке столбца education к нижнему регистру, используя метод str.lower(). "
      ]
    },
    {
      "cell_type": "code",
      "metadata": {
        "id": "OLNnXsLYq-go",
        "outputId": "20c68b75-cfd9-4164-eeba-fb08db9452d0"
      },
      "source": [
        "data['education'] = data['education'].str.lower()\n",
        "data['education'].unique()"
      ],
      "execution_count": null,
      "outputs": [
        {
          "data": {
            "text/plain": [
              "array(['высшее', 'среднее', 'неоконченное высшее', 'начальное',\n",
              "       'ученая степень'], dtype=object)"
            ]
          },
          "execution_count": 27,
          "metadata": {},
          "output_type": "execute_result"
        }
      ]
    },
    {
      "cell_type": "markdown",
      "metadata": {
        "id": "2EA3y47dq-go"
      },
      "source": [
        "#### Обработка дубликатов"
      ]
    },
    {
      "cell_type": "markdown",
      "metadata": {
        "id": "HyWHEamSq-go"
      },
      "source": [
        "Подсчитаем количество дубликатов в массиве."
      ]
    },
    {
      "cell_type": "code",
      "metadata": {
        "id": "fcf2qk1Tq-gp",
        "outputId": "6068eb16-ad51-4aac-9242-056386c52a0f"
      },
      "source": [
        "data.duplicated().sum()"
      ],
      "execution_count": null,
      "outputs": [
        {
          "data": {
            "text/plain": [
              "71"
            ]
          },
          "execution_count": 28,
          "metadata": {},
          "output_type": "execute_result"
        }
      ]
    },
    {
      "cell_type": "markdown",
      "metadata": {
        "id": "iujwwMxXq-gp"
      },
      "source": [
        "Удалим дубликаты и еще раз проверим число дубликатов в массиве."
      ]
    },
    {
      "cell_type": "code",
      "metadata": {
        "id": "lZ0PH-7lq-gp",
        "outputId": "a1d91ebe-3c3e-40d8-b6a2-783a8cfe882d"
      },
      "source": [
        "data = data.drop_duplicates().reset_index(drop=True)\n",
        "data.duplicated().sum()"
      ],
      "execution_count": null,
      "outputs": [
        {
          "data": {
            "text/plain": [
              "0"
            ]
          },
          "execution_count": 29,
          "metadata": {},
          "output_type": "execute_result"
        }
      ]
    },
    {
      "cell_type": "markdown",
      "metadata": {
        "id": "sPS0CwF3q-gq"
      },
      "source": [
        "**Вывод**"
      ]
    },
    {
      "cell_type": "markdown",
      "metadata": {
        "id": "uFw3oamcq-gq"
      },
      "source": [
        "- Дубликаты в столбце education удалили с помощью метода str.lower(), так как они были вызваны отличием регистра букв. Значения в этом столбце заполняютс вручную. Чтобы избежать в дальнейшем появление таких дубликатов, необходимо применить вложенный список из значений уровня образования.\n",
        "- Дубликаты во всей таблице удалили с помощью drop_duplicates."
      ]
    },
    {
      "cell_type": "markdown",
      "metadata": {
        "id": "1uPSZKA4q-gq"
      },
      "source": [
        "### Лемматизация"
      ]
    },
    {
      "cell_type": "markdown",
      "metadata": {
        "id": "rJTgpYzUq-gq"
      },
      "source": [
        "Подсчитаем количество уникальных значений столбца purpose и выделим наиболее встречающиеся цели кредитов: недвижимость, образование, автомобиль и свадьба."
      ]
    },
    {
      "cell_type": "code",
      "metadata": {
        "id": "I28nYbkwq-gr",
        "outputId": "f9a1de6f-7d15-4d66-e29a-23458479ca53"
      },
      "source": [
        "data['purpose'].value_counts()"
      ],
      "execution_count": null,
      "outputs": [
        {
          "data": {
            "text/plain": [
              "свадьба                                   791\n",
              "на проведение свадьбы                     768\n",
              "сыграть свадьбу                           765\n",
              "операции с недвижимостью                  675\n",
              "покупка коммерческой недвижимости         661\n",
              "операции с жильем                         652\n",
              "покупка жилья для сдачи                   651\n",
              "операции с коммерческой недвижимостью     650\n",
              "покупка жилья                             646\n",
              "жилье                                     646\n",
              "покупка жилья для семьи                   638\n",
              "строительство собственной недвижимости    635\n",
              "недвижимость                              633\n",
              "операции со своей недвижимостью           627\n",
              "строительство жилой недвижимости          624\n",
              "покупка недвижимости                      621\n",
              "покупка своего жилья                      620\n",
              "строительство недвижимости                619\n",
              "ремонт жилью                              607\n",
              "покупка жилой недвижимости                606\n",
              "на покупку своего автомобиля              505\n",
              "заняться высшим образованием              496\n",
              "автомобиль                                494\n",
              "сделка с подержанным автомобилем          486\n",
              "на покупку подержанного автомобиля        478\n",
              "свой автомобиль                           478\n",
              "автомобили                                478\n",
              "на покупку автомобиля                     471\n",
              "приобретение автомобиля                   461\n",
              "дополнительное образование                460\n",
              "сделка с автомобилем                      455\n",
              "высшее образование                        452\n",
              "образование                               447\n",
              "получение дополнительного образования     446\n",
              "получение образования                     442\n",
              "профильное образование                    436\n",
              "получение высшего образования             426\n",
              "заняться образованием                     408\n",
              "Name: purpose, dtype: int64"
            ]
          },
          "execution_count": 30,
          "metadata": {},
          "output_type": "execute_result"
        }
      ]
    },
    {
      "cell_type": "markdown",
      "metadata": {
        "id": "1evQ_IKLq-gr"
      },
      "source": [
        "Импортируем библиотеку *pymystem3* и *collections*. Проведем лемматизацию столбца purpose и запишем результат в столбец purpose_lemma."
      ]
    },
    {
      "cell_type": "code",
      "metadata": {
        "id": "nbzVYINAq-gr",
        "outputId": "3d07597f-7332-45a6-e6a3-b1e2704ba51c"
      },
      "source": [
        "from pymystem3 import Mystem\n",
        "from collections import Counter\n",
        "m = Mystem()\n",
        "\n",
        "data['purpose_lemma'] = data['purpose'].apply(m.lemmatize)\n",
        "data.head(10)"
      ],
      "execution_count": null,
      "outputs": [
        {
          "data": {
            "text/html": [
              "<div>\n",
              "<style scoped>\n",
              "    .dataframe tbody tr th:only-of-type {\n",
              "        vertical-align: middle;\n",
              "    }\n",
              "\n",
              "    .dataframe tbody tr th {\n",
              "        vertical-align: top;\n",
              "    }\n",
              "\n",
              "    .dataframe thead th {\n",
              "        text-align: right;\n",
              "    }\n",
              "</style>\n",
              "<table border=\"1\" class=\"dataframe\">\n",
              "  <thead>\n",
              "    <tr style=\"text-align: right;\">\n",
              "      <th></th>\n",
              "      <th>children</th>\n",
              "      <th>days_employed</th>\n",
              "      <th>dob_years</th>\n",
              "      <th>education</th>\n",
              "      <th>education_id</th>\n",
              "      <th>family_status</th>\n",
              "      <th>family_status_id</th>\n",
              "      <th>gender</th>\n",
              "      <th>income_type</th>\n",
              "      <th>debt</th>\n",
              "      <th>total_income</th>\n",
              "      <th>purpose</th>\n",
              "      <th>age_group</th>\n",
              "      <th>purpose_lemma</th>\n",
              "    </tr>\n",
              "  </thead>\n",
              "  <tbody>\n",
              "    <tr>\n",
              "      <td>0</td>\n",
              "      <td>1</td>\n",
              "      <td>8437</td>\n",
              "      <td>42</td>\n",
              "      <td>высшее</td>\n",
              "      <td>0</td>\n",
              "      <td>женат / замужем</td>\n",
              "      <td>0</td>\n",
              "      <td>F</td>\n",
              "      <td>сотрудник</td>\n",
              "      <td>0</td>\n",
              "      <td>253875.639453</td>\n",
              "      <td>покупка жилья</td>\n",
              "      <td>взрослый</td>\n",
              "      <td>[покупка,  , жилье, \\n]</td>\n",
              "    </tr>\n",
              "    <tr>\n",
              "      <td>1</td>\n",
              "      <td>1</td>\n",
              "      <td>4024</td>\n",
              "      <td>36</td>\n",
              "      <td>среднее</td>\n",
              "      <td>1</td>\n",
              "      <td>женат / замужем</td>\n",
              "      <td>0</td>\n",
              "      <td>F</td>\n",
              "      <td>сотрудник</td>\n",
              "      <td>0</td>\n",
              "      <td>112080.014102</td>\n",
              "      <td>приобретение автомобиля</td>\n",
              "      <td>взрослый</td>\n",
              "      <td>[приобретение,  , автомобиль, \\n]</td>\n",
              "    </tr>\n",
              "    <tr>\n",
              "      <td>2</td>\n",
              "      <td>0</td>\n",
              "      <td>5623</td>\n",
              "      <td>33</td>\n",
              "      <td>среднее</td>\n",
              "      <td>1</td>\n",
              "      <td>женат / замужем</td>\n",
              "      <td>0</td>\n",
              "      <td>M</td>\n",
              "      <td>сотрудник</td>\n",
              "      <td>0</td>\n",
              "      <td>145885.952297</td>\n",
              "      <td>покупка жилья</td>\n",
              "      <td>взрослый</td>\n",
              "      <td>[покупка,  , жилье, \\n]</td>\n",
              "    </tr>\n",
              "    <tr>\n",
              "      <td>3</td>\n",
              "      <td>3</td>\n",
              "      <td>4124</td>\n",
              "      <td>32</td>\n",
              "      <td>среднее</td>\n",
              "      <td>1</td>\n",
              "      <td>женат / замужем</td>\n",
              "      <td>0</td>\n",
              "      <td>M</td>\n",
              "      <td>сотрудник</td>\n",
              "      <td>0</td>\n",
              "      <td>267628.550329</td>\n",
              "      <td>дополнительное образование</td>\n",
              "      <td>взрослый</td>\n",
              "      <td>[дополнительный,  , образование, \\n]</td>\n",
              "    </tr>\n",
              "    <tr>\n",
              "      <td>4</td>\n",
              "      <td>0</td>\n",
              "      <td>340266</td>\n",
              "      <td>53</td>\n",
              "      <td>среднее</td>\n",
              "      <td>1</td>\n",
              "      <td>гражданский брак</td>\n",
              "      <td>1</td>\n",
              "      <td>F</td>\n",
              "      <td>пенсионер</td>\n",
              "      <td>0</td>\n",
              "      <td>158616.077870</td>\n",
              "      <td>сыграть свадьбу</td>\n",
              "      <td>взрослый</td>\n",
              "      <td>[сыграть,  , свадьба, \\n]</td>\n",
              "    </tr>\n",
              "    <tr>\n",
              "      <td>5</td>\n",
              "      <td>0</td>\n",
              "      <td>926</td>\n",
              "      <td>27</td>\n",
              "      <td>высшее</td>\n",
              "      <td>0</td>\n",
              "      <td>гражданский брак</td>\n",
              "      <td>1</td>\n",
              "      <td>M</td>\n",
              "      <td>компаньон</td>\n",
              "      <td>0</td>\n",
              "      <td>255763.565419</td>\n",
              "      <td>покупка жилья</td>\n",
              "      <td>взрослый</td>\n",
              "      <td>[покупка,  , жилье, \\n]</td>\n",
              "    </tr>\n",
              "    <tr>\n",
              "      <td>6</td>\n",
              "      <td>0</td>\n",
              "      <td>2879</td>\n",
              "      <td>43</td>\n",
              "      <td>высшее</td>\n",
              "      <td>0</td>\n",
              "      <td>женат / замужем</td>\n",
              "      <td>0</td>\n",
              "      <td>F</td>\n",
              "      <td>компаньон</td>\n",
              "      <td>0</td>\n",
              "      <td>240525.971920</td>\n",
              "      <td>операции с жильем</td>\n",
              "      <td>взрослый</td>\n",
              "      <td>[операция,  , с,  , жилье, \\n]</td>\n",
              "    </tr>\n",
              "    <tr>\n",
              "      <td>7</td>\n",
              "      <td>0</td>\n",
              "      <td>152</td>\n",
              "      <td>50</td>\n",
              "      <td>среднее</td>\n",
              "      <td>1</td>\n",
              "      <td>женат / замужем</td>\n",
              "      <td>0</td>\n",
              "      <td>M</td>\n",
              "      <td>сотрудник</td>\n",
              "      <td>0</td>\n",
              "      <td>135823.934197</td>\n",
              "      <td>образование</td>\n",
              "      <td>взрослый</td>\n",
              "      <td>[образование, \\n]</td>\n",
              "    </tr>\n",
              "    <tr>\n",
              "      <td>8</td>\n",
              "      <td>2</td>\n",
              "      <td>6929</td>\n",
              "      <td>35</td>\n",
              "      <td>высшее</td>\n",
              "      <td>0</td>\n",
              "      <td>гражданский брак</td>\n",
              "      <td>1</td>\n",
              "      <td>F</td>\n",
              "      <td>сотрудник</td>\n",
              "      <td>0</td>\n",
              "      <td>95856.832424</td>\n",
              "      <td>на проведение свадьбы</td>\n",
              "      <td>взрослый</td>\n",
              "      <td>[на,  , проведение,  , свадьба, \\n]</td>\n",
              "    </tr>\n",
              "    <tr>\n",
              "      <td>9</td>\n",
              "      <td>0</td>\n",
              "      <td>2188</td>\n",
              "      <td>41</td>\n",
              "      <td>среднее</td>\n",
              "      <td>1</td>\n",
              "      <td>женат / замужем</td>\n",
              "      <td>0</td>\n",
              "      <td>M</td>\n",
              "      <td>сотрудник</td>\n",
              "      <td>0</td>\n",
              "      <td>144425.938277</td>\n",
              "      <td>покупка жилья для семьи</td>\n",
              "      <td>взрослый</td>\n",
              "      <td>[покупка,  , жилье,  , для,  , семья, \\n]</td>\n",
              "    </tr>\n",
              "  </tbody>\n",
              "</table>\n",
              "</div>"
            ],
            "text/plain": [
              "   children  days_employed  dob_years education  education_id  \\\n",
              "0         1           8437         42    высшее             0   \n",
              "1         1           4024         36   среднее             1   \n",
              "2         0           5623         33   среднее             1   \n",
              "3         3           4124         32   среднее             1   \n",
              "4         0         340266         53   среднее             1   \n",
              "5         0            926         27    высшее             0   \n",
              "6         0           2879         43    высшее             0   \n",
              "7         0            152         50   среднее             1   \n",
              "8         2           6929         35    высшее             0   \n",
              "9         0           2188         41   среднее             1   \n",
              "\n",
              "      family_status  family_status_id gender income_type  debt   total_income  \\\n",
              "0   женат / замужем                 0      F   сотрудник     0  253875.639453   \n",
              "1   женат / замужем                 0      F   сотрудник     0  112080.014102   \n",
              "2   женат / замужем                 0      M   сотрудник     0  145885.952297   \n",
              "3   женат / замужем                 0      M   сотрудник     0  267628.550329   \n",
              "4  гражданский брак                 1      F   пенсионер     0  158616.077870   \n",
              "5  гражданский брак                 1      M   компаньон     0  255763.565419   \n",
              "6   женат / замужем                 0      F   компаньон     0  240525.971920   \n",
              "7   женат / замужем                 0      M   сотрудник     0  135823.934197   \n",
              "8  гражданский брак                 1      F   сотрудник     0   95856.832424   \n",
              "9   женат / замужем                 0      M   сотрудник     0  144425.938277   \n",
              "\n",
              "                      purpose age_group  \\\n",
              "0               покупка жилья  взрослый   \n",
              "1     приобретение автомобиля  взрослый   \n",
              "2               покупка жилья  взрослый   \n",
              "3  дополнительное образование  взрослый   \n",
              "4             сыграть свадьбу  взрослый   \n",
              "5               покупка жилья  взрослый   \n",
              "6           операции с жильем  взрослый   \n",
              "7                 образование  взрослый   \n",
              "8       на проведение свадьбы  взрослый   \n",
              "9     покупка жилья для семьи  взрослый   \n",
              "\n",
              "                               purpose_lemma  \n",
              "0                    [покупка,  , жилье, \\n]  \n",
              "1          [приобретение,  , автомобиль, \\n]  \n",
              "2                    [покупка,  , жилье, \\n]  \n",
              "3       [дополнительный,  , образование, \\n]  \n",
              "4                  [сыграть,  , свадьба, \\n]  \n",
              "5                    [покупка,  , жилье, \\n]  \n",
              "6             [операция,  , с,  , жилье, \\n]  \n",
              "7                          [образование, \\n]  \n",
              "8        [на,  , проведение,  , свадьба, \\n]  \n",
              "9  [покупка,  , жилье,  , для,  , семья, \\n]  "
            ]
          },
          "execution_count": 31,
          "metadata": {},
          "output_type": "execute_result"
        }
      ]
    },
    {
      "cell_type": "markdown",
      "metadata": {
        "id": "u_5lBTAUq-gs"
      },
      "source": [
        "В каждой строке столбца purpose_lemma найдем ключевые слова из списка наиболее встречающихся целей кредитов и запишем в столбец purpose_new. Подсчитаем всевозможные категории целей кредитов."
      ]
    },
    {
      "cell_type": "code",
      "metadata": {
        "id": "lfwTIjRbq-gs",
        "outputId": "57893e04-3029-4564-bc74-c3940304c2b2"
      },
      "source": [
        "def set_purpose(purpose_lemma):\n",
        "        if  'свадьба' in purpose_lemma:\n",
        "                return 'свадьба'\n",
        "        if 'автомобиль' in purpose_lemma:\n",
        "                return 'автомобиль'\n",
        "        if 'образование' in purpose_lemma:\n",
        "                return 'образование'\n",
        "        if ('недвижимость' in purpose_lemma) or ('жилье' in purpose_lemma):\n",
        "                return 'недвижимость'\n",
        "    \n",
        "    \n",
        "data['purpose_new'] = data['purpose_lemma'].apply(set_purpose)\n",
        "data['purpose_new'].value_counts()"
      ],
      "execution_count": null,
      "outputs": [
        {
          "data": {
            "text/plain": [
              "недвижимость    10811\n",
              "автомобиль       4306\n",
              "образование      4013\n",
              "свадьба          2324\n",
              "Name: purpose_new, dtype: int64"
            ]
          },
          "execution_count": 32,
          "metadata": {},
          "output_type": "execute_result"
        }
      ]
    },
    {
      "cell_type": "markdown",
      "metadata": {
        "id": "i1aG_pHIq-gt"
      },
      "source": [
        "**Вывод**"
      ]
    },
    {
      "cell_type": "markdown",
      "metadata": {
        "id": "vZbapZdlq-gt"
      },
      "source": [
        "В результате лемматизации установили наиболее встречающиеся цели кредитов: недвижимость, автомобиль, образование, свадьба."
      ]
    },
    {
      "cell_type": "markdown",
      "metadata": {
        "id": "cvDOkPJeq-gt"
      },
      "source": [
        "### Категоризация данных"
      ]
    },
    {
      "cell_type": "markdown",
      "metadata": {
        "id": "UU8Jb5UOq-gt"
      },
      "source": [
        "Ранее была проведена категоризация по возрастному признаку и по целям кредита. Проведем категоризацию также по количеству имеющихся у клиента детей и по уровню его дохода."
      ]
    },
    {
      "cell_type": "markdown",
      "metadata": {
        "id": "rIOOuKAhq-gu"
      },
      "source": [
        "#### Категоризация по количеству детей"
      ]
    },
    {
      "cell_type": "code",
      "metadata": {
        "id": "OU-JyEekq-gu",
        "outputId": "50463eaa-0c2a-4c1c-f4dd-e46f25f95248"
      },
      "source": [
        "def children_group(children):\n",
        "    \n",
        "        if children == 0:\n",
        "                return 'без детей'\n",
        "        if children <= 2:\n",
        "                return 'с 1 ребенком или 2 детьми'\n",
        "        return 'многодетные'\n",
        "\n",
        "    \n",
        "data['children_group'] = data['children'].apply(children_group)\n",
        "data['children_group'].value_counts()"
      ],
      "execution_count": null,
      "outputs": [
        {
          "data": {
            "text/plain": [
              "без детей                    14091\n",
              "с 1 ребенком или 2 детьми     6983\n",
              "многодетные                    380\n",
              "Name: children_group, dtype: int64"
            ]
          },
          "execution_count": 33,
          "metadata": {},
          "output_type": "execute_result"
        }
      ]
    },
    {
      "cell_type": "markdown",
      "metadata": {
        "id": "95J-pKLgq-gv"
      },
      "source": [
        "При категоризации клиентов по количеству имеющихся у них детей были выделены 3 группы:\n",
        "- Клиенты без детей - составляют больше половины от общего количества клиентов банка\n",
        "- Клиенты с 1 ребенком или 2 детьми\n",
        "- Многодетные клиенты - клиенты с количеством детей от 3 и более"
      ]
    },
    {
      "cell_type": "markdown",
      "metadata": {
        "id": "mNlq1cDmq-gv"
      },
      "source": [
        "#### Категоризация по уровню дохода"
      ]
    },
    {
      "cell_type": "code",
      "metadata": {
        "id": "iqLA-XqTq-gv",
        "outputId": "472c269c-a035-4826-8a6e-f1eb39d454f8"
      },
      "source": [
        "def total_income_group1(total_income):\n",
        "          \n",
        "        \"\"\"\n",
        "        Возвращает группу доходов по значению ежемесячного дохода total_income, используя правила:\n",
        "        - 'Низкий доход при значении total_income менее или равно 60000\n",
        "        - 'Средний доход' при значении total_income более 60000 и менее или равно 120000 \n",
        "        - 'Средний доход' при значении total_income более 120000 и менее или равно 200000\n",
        "        - 'Высокий доход' при значении total_income более 200000\n",
        "        \"\"\"\n",
        "        \n",
        "        if total_income <= 60000:\n",
        "                return 'Низкий доход'\n",
        "        if total_income <= 120000:\n",
        "                return 'Средний доход'\n",
        "        if total_income <= 200000:\n",
        "                return 'Высокий средний доход'\n",
        "        return 'Высокий доход'\n",
        "\n",
        "    \n",
        "data['total_income_group1'] = data['total_income'].apply(total_income_group1)\n",
        "data['total_income_group1'].value_counts()"
      ],
      "execution_count": null,
      "outputs": [
        {
          "data": {
            "text/plain": [
              "Высокий средний доход    9157\n",
              "Средний доход            6425\n",
              "Высокий доход            5066\n",
              "Низкий доход              806\n",
              "Name: total_income_group1, dtype: int64"
            ]
          },
          "execution_count": 34,
          "metadata": {},
          "output_type": "execute_result"
        }
      ]
    },
    {
      "cell_type": "markdown",
      "metadata": {
        "id": "MtnrEtmZq-gv"
      },
      "source": [
        "При категоризации клиентов по уровню их ежемесячного дохода были выделены 4 группы:\n",
        "- Клиенты с низким доходом менее 60000 в месяц\n",
        "- Клиенты с средним доходом от 60000 и до 120000 в месяц\n",
        "- Клиенты с высоким средним доходом от 120000 до 200000 в месяц\n",
        "- Клиенты с средним доходом от 200000 в месяц и выше"
      ]
    },
    {
      "cell_type": "markdown",
      "metadata": {
        "id": "1XSC9a2qq-gw"
      },
      "source": [
        "**Вывод**"
      ]
    },
    {
      "cell_type": "markdown",
      "metadata": {
        "id": "qRp8hzrCq-gw"
      },
      "source": [
        "Для дальнейшего анализа была проведена категоризация клиентов по следующим признакам:\n",
        "- возраст\n",
        "- цель кредита\n",
        "- количество детей\n",
        "- уровень дохода"
      ]
    },
    {
      "cell_type": "markdown",
      "metadata": {
        "id": "agDoOX-Wq-gw"
      },
      "source": [
        "## Этап 3. Ответьте на вопросы"
      ]
    },
    {
      "cell_type": "markdown",
      "metadata": {
        "id": "dOp9sYrvq-gw"
      },
      "source": [
        "Для ответа на поставленные вопросы построим сводные таблицы, показывающие количество клиентов банка, сгруппированных по выбранной категории, а также по имевшейся у них задолженности по возврату кредита. Рассчитаем долю должников по каждой подкатегории и полученные значения запишем в новый стобец ratio. Сравним эти доли."
      ]
    },
    {
      "cell_type": "markdown",
      "metadata": {
        "id": "Gx5GSRM3q-gw"
      },
      "source": [
        "- Есть ли зависимость между наличием детей и возвратом кредита в срок?"
      ]
    },
    {
      "cell_type": "code",
      "metadata": {
        "id": "1XZhp3omq-gw",
        "outputId": "bcf3179c-75d3-4494-e2ab-742ba471743b"
      },
      "source": [
        " data_pivot_children = data.pivot_table(index = ['children_group'], columns = 'debt', values= 'children', aggfunc = 'count')\n",
        "data_pivot_children['ratio'] = (data_pivot_children[1] / (data_pivot_children[1] + data_pivot_children[0]))*100\n",
        "data_pivot_children.sort_values(by = 'ratio', ascending = False)"
      ],
      "execution_count": null,
      "outputs": [
        {
          "data": {
            "text/html": [
              "<div>\n",
              "<style scoped>\n",
              "    .dataframe tbody tr th:only-of-type {\n",
              "        vertical-align: middle;\n",
              "    }\n",
              "\n",
              "    .dataframe tbody tr th {\n",
              "        vertical-align: top;\n",
              "    }\n",
              "\n",
              "    .dataframe thead th {\n",
              "        text-align: right;\n",
              "    }\n",
              "</style>\n",
              "<table border=\"1\" class=\"dataframe\">\n",
              "  <thead>\n",
              "    <tr style=\"text-align: right;\">\n",
              "      <th>debt</th>\n",
              "      <th>0</th>\n",
              "      <th>1</th>\n",
              "      <th>ratio</th>\n",
              "    </tr>\n",
              "    <tr>\n",
              "      <th>children_group</th>\n",
              "      <th></th>\n",
              "      <th></th>\n",
              "      <th></th>\n",
              "    </tr>\n",
              "  </thead>\n",
              "  <tbody>\n",
              "    <tr>\n",
              "      <td>с 1 ребенком или 2 детьми</td>\n",
              "      <td>6336</td>\n",
              "      <td>647</td>\n",
              "      <td>9.265359</td>\n",
              "    </tr>\n",
              "    <tr>\n",
              "      <td>многодетные</td>\n",
              "      <td>349</td>\n",
              "      <td>31</td>\n",
              "      <td>8.157895</td>\n",
              "    </tr>\n",
              "    <tr>\n",
              "      <td>без детей</td>\n",
              "      <td>13028</td>\n",
              "      <td>1063</td>\n",
              "      <td>7.543822</td>\n",
              "    </tr>\n",
              "  </tbody>\n",
              "</table>\n",
              "</div>"
            ],
            "text/plain": [
              "debt                           0     1     ratio\n",
              "children_group                                  \n",
              "с 1 ребенком или 2 детьми   6336   647  9.265359\n",
              "многодетные                  349    31  8.157895\n",
              "без детей                  13028  1063  7.543822"
            ]
          },
          "execution_count": 35,
          "metadata": {},
          "output_type": "execute_result"
        }
      ]
    },
    {
      "cell_type": "markdown",
      "metadata": {
        "id": "pK5MqK3Zq-gx"
      },
      "source": [
        "**Вывод**"
      ]
    },
    {
      "cell_type": "markdown",
      "metadata": {
        "id": "InW77nfpq-gx"
      },
      "source": [
        "Если у клиента есть дети, это увеличивает вероятность возникновения задолженности по кредиту.<br>\n",
        "Воспитание детей требует больших расходов, часть бюджета клиента уходит на обеспечение их нужд, поэтому он скорее допустит просрочку по кредиту, чем клиент, не имеющий детей."
      ]
    },
    {
      "cell_type": "markdown",
      "metadata": {
        "id": "Vu0FNEJOq-gx"
      },
      "source": [
        "- Есть ли зависимость между семейным положением и возвратом кредита в срок?"
      ]
    },
    {
      "cell_type": "code",
      "metadata": {
        "id": "nI6HKFLRq-gy",
        "outputId": "06ff9a03-549f-483d-f51b-6b37738976ba"
      },
      "source": [
        "data_pivot_family_status = data.pivot_table(index = ['family_status'], columns = 'debt', values = 'income_type', aggfunc = 'count')\n",
        "data_pivot_family_status['ratio'] = ((data_pivot_family_status[1] / (data_pivot_family_status[1] + data_pivot_family_status[0]))*100)\n",
        "data_pivot_family_status.sort_values(by = 'ratio', ascending = False)"
      ],
      "execution_count": null,
      "outputs": [
        {
          "data": {
            "text/html": [
              "<div>\n",
              "<style scoped>\n",
              "    .dataframe tbody tr th:only-of-type {\n",
              "        vertical-align: middle;\n",
              "    }\n",
              "\n",
              "    .dataframe tbody tr th {\n",
              "        vertical-align: top;\n",
              "    }\n",
              "\n",
              "    .dataframe thead th {\n",
              "        text-align: right;\n",
              "    }\n",
              "</style>\n",
              "<table border=\"1\" class=\"dataframe\">\n",
              "  <thead>\n",
              "    <tr style=\"text-align: right;\">\n",
              "      <th>debt</th>\n",
              "      <th>0</th>\n",
              "      <th>1</th>\n",
              "      <th>ratio</th>\n",
              "    </tr>\n",
              "    <tr>\n",
              "      <th>family_status</th>\n",
              "      <th></th>\n",
              "      <th></th>\n",
              "      <th></th>\n",
              "    </tr>\n",
              "  </thead>\n",
              "  <tbody>\n",
              "    <tr>\n",
              "      <td>Не женат / не замужем</td>\n",
              "      <td>2536</td>\n",
              "      <td>274</td>\n",
              "      <td>9.750890</td>\n",
              "    </tr>\n",
              "    <tr>\n",
              "      <td>гражданский брак</td>\n",
              "      <td>3763</td>\n",
              "      <td>388</td>\n",
              "      <td>9.347145</td>\n",
              "    </tr>\n",
              "    <tr>\n",
              "      <td>женат / замужем</td>\n",
              "      <td>11408</td>\n",
              "      <td>931</td>\n",
              "      <td>7.545182</td>\n",
              "    </tr>\n",
              "    <tr>\n",
              "      <td>в разводе</td>\n",
              "      <td>1110</td>\n",
              "      <td>85</td>\n",
              "      <td>7.112971</td>\n",
              "    </tr>\n",
              "    <tr>\n",
              "      <td>вдовец / вдова</td>\n",
              "      <td>896</td>\n",
              "      <td>63</td>\n",
              "      <td>6.569343</td>\n",
              "    </tr>\n",
              "  </tbody>\n",
              "</table>\n",
              "</div>"
            ],
            "text/plain": [
              "debt                       0    1     ratio\n",
              "family_status                              \n",
              "Не женат / не замужем   2536  274  9.750890\n",
              "гражданский брак        3763  388  9.347145\n",
              "женат / замужем        11408  931  7.545182\n",
              "в разводе               1110   85  7.112971\n",
              "вдовец / вдова           896   63  6.569343"
            ]
          },
          "execution_count": 36,
          "metadata": {},
          "output_type": "execute_result"
        }
      ]
    },
    {
      "cell_type": "markdown",
      "metadata": {
        "id": "luBsGnaQq-gy"
      },
      "source": [
        "**Вывод**"
      ]
    },
    {
      "cell_type": "markdown",
      "metadata": {
        "id": "_u-ARla1q-gz"
      },
      "source": [
        "Клиенты, находящиеся в официальном браке или побывавшие в нем, гораздо ответственнее относятся к погашению задолженности по кредиту в срок. "
      ]
    },
    {
      "cell_type": "markdown",
      "metadata": {
        "id": "SlIFjz0Nq-gz"
      },
      "source": [
        "- Есть ли зависимость между уровнем дохода и возвратом кредита в срок?"
      ]
    },
    {
      "cell_type": "code",
      "metadata": {
        "id": "RI9E6dANq-gz",
        "outputId": "5447606f-e471-4fd0-ae91-627ce5fd0dcd"
      },
      "source": [
        "data_pivot_total_income = data.pivot_table(index = ['total_income_group1'], columns = 'debt', values = 'children', aggfunc = 'count')\n",
        "data_pivot_total_income['ratio'] = ((data_pivot_total_income[1] / (data_pivot_total_income[1] + data_pivot_total_income[0]))*100)\n",
        "data_pivot_total_income.sort_values(by = 'ratio', ascending = False)"
      ],
      "execution_count": null,
      "outputs": [
        {
          "data": {
            "text/html": [
              "<div>\n",
              "<style scoped>\n",
              "    .dataframe tbody tr th:only-of-type {\n",
              "        vertical-align: middle;\n",
              "    }\n",
              "\n",
              "    .dataframe tbody tr th {\n",
              "        vertical-align: top;\n",
              "    }\n",
              "\n",
              "    .dataframe thead th {\n",
              "        text-align: right;\n",
              "    }\n",
              "</style>\n",
              "<table border=\"1\" class=\"dataframe\">\n",
              "  <thead>\n",
              "    <tr style=\"text-align: right;\">\n",
              "      <th>debt</th>\n",
              "      <th>0</th>\n",
              "      <th>1</th>\n",
              "      <th>ratio</th>\n",
              "    </tr>\n",
              "    <tr>\n",
              "      <th>total_income_group1</th>\n",
              "      <th></th>\n",
              "      <th></th>\n",
              "      <th></th>\n",
              "    </tr>\n",
              "  </thead>\n",
              "  <tbody>\n",
              "    <tr>\n",
              "      <td>Высокий средний доход</td>\n",
              "      <td>8360</td>\n",
              "      <td>797</td>\n",
              "      <td>8.703724</td>\n",
              "    </tr>\n",
              "    <tr>\n",
              "      <td>Средний доход</td>\n",
              "      <td>5888</td>\n",
              "      <td>537</td>\n",
              "      <td>8.357977</td>\n",
              "    </tr>\n",
              "    <tr>\n",
              "      <td>Высокий доход</td>\n",
              "      <td>4708</td>\n",
              "      <td>358</td>\n",
              "      <td>7.066719</td>\n",
              "    </tr>\n",
              "    <tr>\n",
              "      <td>Низкий доход</td>\n",
              "      <td>757</td>\n",
              "      <td>49</td>\n",
              "      <td>6.079404</td>\n",
              "    </tr>\n",
              "  </tbody>\n",
              "</table>\n",
              "</div>"
            ],
            "text/plain": [
              "debt                      0    1     ratio\n",
              "total_income_group1                       \n",
              "Высокий средний доход  8360  797  8.703724\n",
              "Средний доход          5888  537  8.357977\n",
              "Высокий доход          4708  358  7.066719\n",
              "Низкий доход            757   49  6.079404"
            ]
          },
          "execution_count": 37,
          "metadata": {},
          "output_type": "execute_result"
        }
      ]
    },
    {
      "cell_type": "markdown",
      "metadata": {
        "id": "DKCbJsVzq-g0"
      },
      "source": [
        "**Вывод**"
      ]
    },
    {
      "cell_type": "markdown",
      "metadata": {
        "id": "xx-6HMjBq-g0"
      },
      "source": [
        "Анализ зависимости уровня дохода от возврата кредита в срок показывает, что наибольшее количество просрочек допускают клиенты со средним доходом. При этом клиенты с наименьшим уровнем доходов, а также с самым высоким доходом - это самые ответственные плательщики."
      ]
    },
    {
      "cell_type": "markdown",
      "metadata": {
        "id": "X4qNKm-Eq-g0"
      },
      "source": [
        "- Как разные цели кредита влияют на его возврат в срок?"
      ]
    },
    {
      "cell_type": "code",
      "metadata": {
        "id": "OZDFn9VLq-g0",
        "outputId": "a737bf90-230f-4cc0-893e-5c4306a2675d"
      },
      "source": [
        "data_pivot_purpose = data.pivot_table(index = ['purpose_new'], columns = 'debt', values = 'children', aggfunc = 'count')\n",
        "data_pivot_purpose['ratio'] = ((data_pivot_purpose[1] / (data_pivot_purpose[1] + data_pivot_purpose[0]))*100)\n",
        "data_pivot_purpose.sort_values(by = 'ratio', ascending = False)"
      ],
      "execution_count": null,
      "outputs": [
        {
          "data": {
            "text/html": [
              "<div>\n",
              "<style scoped>\n",
              "    .dataframe tbody tr th:only-of-type {\n",
              "        vertical-align: middle;\n",
              "    }\n",
              "\n",
              "    .dataframe tbody tr th {\n",
              "        vertical-align: top;\n",
              "    }\n",
              "\n",
              "    .dataframe thead th {\n",
              "        text-align: right;\n",
              "    }\n",
              "</style>\n",
              "<table border=\"1\" class=\"dataframe\">\n",
              "  <thead>\n",
              "    <tr style=\"text-align: right;\">\n",
              "      <th>debt</th>\n",
              "      <th>0</th>\n",
              "      <th>1</th>\n",
              "      <th>ratio</th>\n",
              "    </tr>\n",
              "    <tr>\n",
              "      <th>purpose_new</th>\n",
              "      <th></th>\n",
              "      <th></th>\n",
              "      <th></th>\n",
              "    </tr>\n",
              "  </thead>\n",
              "  <tbody>\n",
              "    <tr>\n",
              "      <td>автомобиль</td>\n",
              "      <td>3903</td>\n",
              "      <td>403</td>\n",
              "      <td>9.359034</td>\n",
              "    </tr>\n",
              "    <tr>\n",
              "      <td>образование</td>\n",
              "      <td>3643</td>\n",
              "      <td>370</td>\n",
              "      <td>9.220035</td>\n",
              "    </tr>\n",
              "    <tr>\n",
              "      <td>свадьба</td>\n",
              "      <td>2138</td>\n",
              "      <td>186</td>\n",
              "      <td>8.003442</td>\n",
              "    </tr>\n",
              "    <tr>\n",
              "      <td>недвижимость</td>\n",
              "      <td>10029</td>\n",
              "      <td>782</td>\n",
              "      <td>7.233373</td>\n",
              "    </tr>\n",
              "  </tbody>\n",
              "</table>\n",
              "</div>"
            ],
            "text/plain": [
              "debt              0    1     ratio\n",
              "purpose_new                       \n",
              "автомобиль     3903  403  9.359034\n",
              "образование    3643  370  9.220035\n",
              "свадьба        2138  186  8.003442\n",
              "недвижимость  10029  782  7.233373"
            ]
          },
          "execution_count": 38,
          "metadata": {},
          "output_type": "execute_result"
        }
      ]
    },
    {
      "cell_type": "markdown",
      "metadata": {
        "id": "QgPMZLk0q-g1"
      },
      "source": [
        "**Вывод**"
      ]
    },
    {
      "cell_type": "markdown",
      "metadata": {
        "id": "HyYctjdMq-g2"
      },
      "source": [
        "Самый низкий процент должников среди тех клиентов, кто берет кредит на недвижимость. Клиенты, взявшие кредит на свадьбу, возвращают их ответственее, чем те, кто брал кредит на автомобиль или получение образования. Хуже всего платят кредиты, взятые для образовательных целей и автокредиты."
      ]
    },
    {
      "cell_type": "markdown",
      "metadata": {
        "id": "YEqmsfd0q-g3"
      },
      "source": [
        "## Шаг 4. Общий вывод"
      ]
    },
    {
      "cell_type": "markdown",
      "metadata": {
        "id": "GSLWZr-9q-g4"
      },
      "source": [
        "Изучив зависимости разных категорий клиентов от наличия у них задолженности, можно сделать такой вывод:\n",
        "-  Наличие у клиента большого количества детей, воспитание которых требует значительных расходов из бюджета семьи, увеличивает возможность возникновения задолженности по возврату кредита.\n",
        "- Люди в официальном браке, а также побывавшие в нем, ответственнее относятся к вовзрату кредита.\n",
        "- С наименьшей вероятностью в должниках окажутся клиенты с высоким достатким, а также с низким достатком. Это можно объяснить тем. что люди, имеющие низкий достаток, ответственнее распоряжаются своим бюджетом.\n",
        "- Самая ответственные плательщики - это клиенты, берущие кредиты на недвижимость."
      ]
    }
  ]
}