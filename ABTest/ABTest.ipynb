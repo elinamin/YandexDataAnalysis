{
  "nbformat": 4,
  "nbformat_minor": 0,
  "metadata": {
    "ExecuteTimeLog": [
      {
        "duration": 1407,
        "start_time": "2021-06-30T16:30:21.744Z"
      },
      {
        "duration": 90,
        "start_time": "2021-06-30T16:32:26.181Z"
      },
      {
        "duration": 22,
        "start_time": "2021-06-30T16:36:43.404Z"
      },
      {
        "duration": 9,
        "start_time": "2021-06-30T16:36:56.186Z"
      },
      {
        "duration": 8,
        "start_time": "2021-06-30T16:37:20.892Z"
      },
      {
        "duration": 11,
        "start_time": "2021-06-30T16:37:38.115Z"
      },
      {
        "duration": 8,
        "start_time": "2021-06-30T16:37:50.713Z"
      },
      {
        "duration": 8,
        "start_time": "2021-06-30T16:38:23.249Z"
      },
      {
        "duration": 4,
        "start_time": "2021-06-30T16:45:33.532Z"
      },
      {
        "duration": 9,
        "start_time": "2021-06-30T16:45:40.944Z"
      },
      {
        "duration": 11,
        "start_time": "2021-06-30T16:49:59.433Z"
      },
      {
        "duration": 9,
        "start_time": "2021-06-30T16:50:10.926Z"
      },
      {
        "duration": 6,
        "start_time": "2021-06-30T16:50:45.053Z"
      },
      {
        "duration": 21,
        "start_time": "2021-06-30T16:57:46.429Z"
      },
      {
        "duration": 4,
        "start_time": "2021-06-30T16:58:30.744Z"
      },
      {
        "duration": 15,
        "start_time": "2021-06-30T16:58:33.973Z"
      },
      {
        "duration": 12,
        "start_time": "2021-06-30T16:58:40.167Z"
      },
      {
        "duration": 12,
        "start_time": "2021-06-30T16:58:44.692Z"
      },
      {
        "duration": 23,
        "start_time": "2021-06-30T17:00:50.253Z"
      },
      {
        "duration": 15,
        "start_time": "2021-06-30T17:01:58.815Z"
      },
      {
        "duration": 19,
        "start_time": "2021-06-30T17:02:08.075Z"
      },
      {
        "duration": 444,
        "start_time": "2021-07-03T09:26:21.237Z"
      },
      {
        "duration": 1675,
        "start_time": "2021-07-03T09:26:30.050Z"
      },
      {
        "duration": 61,
        "start_time": "2021-07-03T09:26:31.728Z"
      },
      {
        "duration": 15,
        "start_time": "2021-07-03T09:26:31.792Z"
      },
      {
        "duration": 12,
        "start_time": "2021-07-03T09:26:31.814Z"
      },
      {
        "duration": 20,
        "start_time": "2021-07-03T09:26:31.829Z"
      },
      {
        "duration": 11,
        "start_time": "2021-07-03T09:26:31.852Z"
      },
      {
        "duration": 25,
        "start_time": "2021-07-03T09:26:31.865Z"
      },
      {
        "duration": 30,
        "start_time": "2021-07-03T09:26:31.894Z"
      },
      {
        "duration": 21,
        "start_time": "2021-07-03T09:26:31.928Z"
      },
      {
        "duration": 14,
        "start_time": "2021-07-03T09:26:31.952Z"
      },
      {
        "duration": 18,
        "start_time": "2021-07-03T09:26:31.969Z"
      },
      {
        "duration": 28,
        "start_time": "2021-07-03T09:26:31.990Z"
      },
      {
        "duration": 12,
        "start_time": "2021-07-03T09:26:32.020Z"
      },
      {
        "duration": 35,
        "start_time": "2021-07-03T09:26:32.035Z"
      },
      {
        "duration": 16,
        "start_time": "2021-07-03T09:26:32.073Z"
      },
      {
        "duration": 25,
        "start_time": "2021-07-03T09:26:32.091Z"
      },
      {
        "duration": 9924,
        "start_time": "2021-07-03T09:26:32.118Z"
      },
      {
        "duration": 630,
        "start_time": "2021-07-03T09:29:09.214Z"
      },
      {
        "duration": 350,
        "start_time": "2021-07-03T09:30:15.260Z"
      },
      {
        "duration": 387,
        "start_time": "2021-07-03T09:30:45.226Z"
      },
      {
        "duration": 411,
        "start_time": "2021-07-03T09:31:21.600Z"
      },
      {
        "duration": 5,
        "start_time": "2021-07-03T09:47:10.109Z"
      },
      {
        "duration": 372,
        "start_time": "2021-07-03T09:47:13.119Z"
      },
      {
        "duration": 353,
        "start_time": "2021-07-03T09:49:20.134Z"
      },
      {
        "duration": 455,
        "start_time": "2021-07-03T09:55:21.469Z"
      },
      {
        "duration": 599,
        "start_time": "2021-07-03T09:56:11.177Z"
      },
      {
        "duration": 547,
        "start_time": "2021-07-03T09:56:21.144Z"
      },
      {
        "duration": 379,
        "start_time": "2021-07-03T09:56:40.098Z"
      },
      {
        "duration": 583,
        "start_time": "2021-07-03T09:56:44.617Z"
      },
      {
        "duration": 9180,
        "start_time": "2021-07-03T10:08:16.010Z"
      },
      {
        "duration": 387,
        "start_time": "2021-07-03T10:08:32.765Z"
      },
      {
        "duration": 490,
        "start_time": "2021-07-03T10:10:24.198Z"
      },
      {
        "duration": 539,
        "start_time": "2021-07-03T10:10:36.373Z"
      },
      {
        "duration": 943,
        "start_time": "2021-07-03T10:22:37.834Z"
      },
      {
        "duration": 7,
        "start_time": "2021-07-03T10:24:22.735Z"
      },
      {
        "duration": 7,
        "start_time": "2021-07-03T10:24:46.510Z"
      },
      {
        "duration": 6,
        "start_time": "2021-07-03T10:25:52.647Z"
      },
      {
        "duration": 6,
        "start_time": "2021-07-03T10:25:57.976Z"
      },
      {
        "duration": 1151,
        "start_time": "2021-07-03T10:32:50.334Z"
      },
      {
        "duration": 7,
        "start_time": "2021-07-03T10:34:10.562Z"
      },
      {
        "duration": 7,
        "start_time": "2021-07-03T10:34:25.765Z"
      },
      {
        "duration": 407,
        "start_time": "2021-07-03T11:37:36.244Z"
      },
      {
        "duration": 5,
        "start_time": "2021-07-03T11:38:03.350Z"
      },
      {
        "duration": 186,
        "start_time": "2021-07-03T11:38:07.394Z"
      },
      {
        "duration": 92,
        "start_time": "2021-07-03T11:56:28.734Z"
      },
      {
        "duration": 32,
        "start_time": "2021-07-03T11:57:44.704Z"
      },
      {
        "duration": 30,
        "start_time": "2021-07-03T11:58:19.024Z"
      },
      {
        "duration": 31,
        "start_time": "2021-07-03T11:58:30.234Z"
      },
      {
        "duration": 37,
        "start_time": "2021-07-03T11:59:12.168Z"
      },
      {
        "duration": 29,
        "start_time": "2021-07-03T12:00:30.161Z"
      },
      {
        "duration": 30,
        "start_time": "2021-07-03T12:11:16.286Z"
      },
      {
        "duration": 30,
        "start_time": "2021-07-03T12:11:23.082Z"
      },
      {
        "duration": 218,
        "start_time": "2021-07-04T18:05:06.762Z"
      },
      {
        "duration": 1005,
        "start_time": "2021-07-04T18:05:11.837Z"
      },
      {
        "duration": 79,
        "start_time": "2021-07-04T18:05:12.845Z"
      },
      {
        "duration": 10,
        "start_time": "2021-07-04T18:05:12.926Z"
      },
      {
        "duration": 7,
        "start_time": "2021-07-04T18:05:12.937Z"
      },
      {
        "duration": 7,
        "start_time": "2021-07-04T18:05:12.946Z"
      },
      {
        "duration": 4,
        "start_time": "2021-07-04T18:05:12.954Z"
      },
      {
        "duration": 10,
        "start_time": "2021-07-04T18:05:12.959Z"
      },
      {
        "duration": 5,
        "start_time": "2021-07-04T18:05:12.971Z"
      },
      {
        "duration": 6,
        "start_time": "2021-07-04T18:05:12.978Z"
      },
      {
        "duration": 8,
        "start_time": "2021-07-04T18:05:12.988Z"
      },
      {
        "duration": 9,
        "start_time": "2021-07-04T18:05:12.997Z"
      },
      {
        "duration": 5,
        "start_time": "2021-07-04T18:05:13.008Z"
      },
      {
        "duration": 5,
        "start_time": "2021-07-04T18:05:13.015Z"
      },
      {
        "duration": 16,
        "start_time": "2021-07-04T18:05:13.021Z"
      },
      {
        "duration": 10,
        "start_time": "2021-07-04T18:05:13.038Z"
      },
      {
        "duration": 8,
        "start_time": "2021-07-04T18:05:13.050Z"
      },
      {
        "duration": 393,
        "start_time": "2021-07-04T18:05:13.059Z"
      },
      {
        "duration": 263,
        "start_time": "2021-07-04T18:05:13.454Z"
      },
      {
        "duration": 245,
        "start_time": "2021-07-04T18:05:13.719Z"
      },
      {
        "duration": 374,
        "start_time": "2021-07-04T18:05:13.966Z"
      },
      {
        "duration": 281,
        "start_time": "2021-07-04T18:05:14.342Z"
      },
      {
        "duration": 348,
        "start_time": "2021-07-04T18:05:14.625Z"
      },
      {
        "duration": 742,
        "start_time": "2021-07-04T18:05:14.976Z"
      },
      {
        "duration": 4,
        "start_time": "2021-07-04T18:05:15.720Z"
      },
      {
        "duration": 709,
        "start_time": "2021-07-04T18:05:15.726Z"
      },
      {
        "duration": 4,
        "start_time": "2021-07-04T18:05:16.437Z"
      },
      {
        "duration": 20,
        "start_time": "2021-07-04T18:05:16.442Z"
      },
      {
        "duration": 28,
        "start_time": "2021-07-04T18:06:15.895Z"
      },
      {
        "duration": 13,
        "start_time": "2021-07-04T18:08:07.584Z"
      },
      {
        "duration": 12,
        "start_time": "2021-07-04T18:09:30.012Z"
      },
      {
        "duration": 10,
        "start_time": "2021-07-04T18:09:35.861Z"
      },
      {
        "duration": 10,
        "start_time": "2021-07-04T18:09:41.827Z"
      },
      {
        "duration": 4693,
        "start_time": "2021-07-04T18:22:39.866Z"
      },
      {
        "duration": 11,
        "start_time": "2021-07-04T18:23:25.544Z"
      },
      {
        "duration": 15,
        "start_time": "2021-07-04T18:27:36.118Z"
      },
      {
        "duration": 14,
        "start_time": "2021-07-04T18:32:05.750Z"
      },
      {
        "duration": 21,
        "start_time": "2021-07-04T18:32:27.576Z"
      },
      {
        "duration": 13,
        "start_time": "2021-07-04T18:34:00.324Z"
      },
      {
        "duration": 60,
        "start_time": "2021-07-05T17:58:06.996Z"
      },
      {
        "duration": 213,
        "start_time": "2021-07-05T18:08:56.390Z"
      },
      {
        "duration": 1093,
        "start_time": "2021-07-05T18:09:03.443Z"
      },
      {
        "duration": 788,
        "start_time": "2021-07-05T18:09:04.538Z"
      },
      {
        "duration": 11,
        "start_time": "2021-07-05T18:09:05.327Z"
      },
      {
        "duration": 6,
        "start_time": "2021-07-05T18:09:05.340Z"
      },
      {
        "duration": 8,
        "start_time": "2021-07-05T18:09:05.348Z"
      },
      {
        "duration": 9,
        "start_time": "2021-07-05T18:09:05.357Z"
      },
      {
        "duration": 9,
        "start_time": "2021-07-05T18:09:05.368Z"
      },
      {
        "duration": 6,
        "start_time": "2021-07-05T18:09:05.380Z"
      },
      {
        "duration": 7,
        "start_time": "2021-07-05T18:09:05.388Z"
      },
      {
        "duration": 6,
        "start_time": "2021-07-05T18:09:05.396Z"
      },
      {
        "duration": 7,
        "start_time": "2021-07-05T18:09:05.404Z"
      },
      {
        "duration": 6,
        "start_time": "2021-07-05T18:09:05.413Z"
      },
      {
        "duration": 5,
        "start_time": "2021-07-05T18:09:05.420Z"
      },
      {
        "duration": 12,
        "start_time": "2021-07-05T18:09:05.427Z"
      },
      {
        "duration": 45,
        "start_time": "2021-07-05T18:09:05.441Z"
      },
      {
        "duration": 10,
        "start_time": "2021-07-05T18:09:05.488Z"
      },
      {
        "duration": 373,
        "start_time": "2021-07-05T18:09:05.499Z"
      },
      {
        "duration": 270,
        "start_time": "2021-07-05T18:09:05.875Z"
      },
      {
        "duration": 252,
        "start_time": "2021-07-05T18:09:06.146Z"
      },
      {
        "duration": 330,
        "start_time": "2021-07-05T18:09:06.400Z"
      },
      {
        "duration": 246,
        "start_time": "2021-07-05T18:09:06.732Z"
      },
      {
        "duration": 369,
        "start_time": "2021-07-05T18:09:06.980Z"
      },
      {
        "duration": 685,
        "start_time": "2021-07-05T18:09:07.352Z"
      },
      {
        "duration": 4,
        "start_time": "2021-07-05T18:09:08.039Z"
      },
      {
        "duration": 700,
        "start_time": "2021-07-05T18:09:08.045Z"
      },
      {
        "duration": 4,
        "start_time": "2021-07-05T18:09:08.747Z"
      },
      {
        "duration": 35,
        "start_time": "2021-07-05T18:09:08.753Z"
      },
      {
        "duration": 10,
        "start_time": "2021-07-05T18:09:08.790Z"
      },
      {
        "duration": 8,
        "start_time": "2021-07-05T18:09:08.801Z"
      },
      {
        "duration": 14,
        "start_time": "2021-07-05T18:09:08.811Z"
      },
      {
        "duration": 13,
        "start_time": "2021-07-05T18:09:08.827Z"
      },
      {
        "duration": 58,
        "start_time": "2021-07-05T18:24:38.747Z"
      },
      {
        "duration": 11,
        "start_time": "2021-07-05T18:28:41.027Z"
      },
      {
        "duration": 19,
        "start_time": "2021-07-05T18:29:16.330Z"
      },
      {
        "duration": 14,
        "start_time": "2021-07-05T18:29:53.989Z"
      },
      {
        "duration": 19,
        "start_time": "2021-07-05T18:30:26.622Z"
      },
      {
        "duration": 58,
        "start_time": "2021-07-05T18:39:46.615Z"
      },
      {
        "duration": 17,
        "start_time": "2021-07-05T18:53:55.654Z"
      },
      {
        "duration": 18,
        "start_time": "2021-07-05T18:56:20.582Z"
      },
      {
        "duration": 1062,
        "start_time": "2021-07-05T18:56:32.565Z"
      },
      {
        "duration": 64,
        "start_time": "2021-07-05T18:56:33.629Z"
      },
      {
        "duration": 9,
        "start_time": "2021-07-05T18:56:33.695Z"
      },
      {
        "duration": 6,
        "start_time": "2021-07-05T18:56:33.706Z"
      },
      {
        "duration": 6,
        "start_time": "2021-07-05T18:56:33.713Z"
      },
      {
        "duration": 3,
        "start_time": "2021-07-05T18:56:33.721Z"
      },
      {
        "duration": 8,
        "start_time": "2021-07-05T18:56:33.726Z"
      },
      {
        "duration": 6,
        "start_time": "2021-07-05T18:56:33.736Z"
      },
      {
        "duration": 7,
        "start_time": "2021-07-05T18:56:33.743Z"
      },
      {
        "duration": 34,
        "start_time": "2021-07-05T18:56:33.751Z"
      },
      {
        "duration": 7,
        "start_time": "2021-07-05T18:56:33.786Z"
      },
      {
        "duration": 6,
        "start_time": "2021-07-05T18:56:33.794Z"
      },
      {
        "duration": 5,
        "start_time": "2021-07-05T18:56:33.802Z"
      },
      {
        "duration": 11,
        "start_time": "2021-07-05T18:56:33.809Z"
      },
      {
        "duration": 10,
        "start_time": "2021-07-05T18:56:33.822Z"
      },
      {
        "duration": 9,
        "start_time": "2021-07-05T18:56:33.833Z"
      },
      {
        "duration": 363,
        "start_time": "2021-07-05T18:56:33.844Z"
      },
      {
        "duration": 239,
        "start_time": "2021-07-05T18:56:34.209Z"
      },
      {
        "duration": 235,
        "start_time": "2021-07-05T18:56:34.450Z"
      },
      {
        "duration": 366,
        "start_time": "2021-07-05T18:56:34.687Z"
      },
      {
        "duration": 253,
        "start_time": "2021-07-05T18:56:35.055Z"
      },
      {
        "duration": 342,
        "start_time": "2021-07-05T18:56:35.310Z"
      },
      {
        "duration": 654,
        "start_time": "2021-07-05T18:56:35.655Z"
      },
      {
        "duration": 5,
        "start_time": "2021-07-05T18:56:36.311Z"
      },
      {
        "duration": 711,
        "start_time": "2021-07-05T18:56:36.317Z"
      },
      {
        "duration": 4,
        "start_time": "2021-07-05T18:56:37.029Z"
      },
      {
        "duration": 24,
        "start_time": "2021-07-05T18:56:37.035Z"
      },
      {
        "duration": 32,
        "start_time": "2021-07-05T18:56:37.060Z"
      },
      {
        "duration": 7,
        "start_time": "2021-07-05T18:56:37.094Z"
      },
      {
        "duration": 18,
        "start_time": "2021-07-05T18:56:37.102Z"
      },
      {
        "duration": 17,
        "start_time": "2021-07-05T18:56:37.121Z"
      },
      {
        "duration": 24,
        "start_time": "2021-07-05T19:42:32.085Z"
      },
      {
        "duration": 63,
        "start_time": "2021-07-05T19:42:51.721Z"
      },
      {
        "duration": 23,
        "start_time": "2021-07-05T19:42:56.908Z"
      },
      {
        "duration": 63,
        "start_time": "2021-07-05T19:44:11.305Z"
      },
      {
        "duration": 14,
        "start_time": "2021-07-05T19:45:04.410Z"
      },
      {
        "duration": 14,
        "start_time": "2021-07-05T19:45:24.422Z"
      },
      {
        "duration": 17,
        "start_time": "2021-07-05T19:45:48.871Z"
      },
      {
        "duration": 59,
        "start_time": "2021-07-05T19:46:17.179Z"
      },
      {
        "duration": 20,
        "start_time": "2021-07-05T19:46:21.755Z"
      },
      {
        "duration": 1008,
        "start_time": "2021-07-05T20:02:43.025Z"
      },
      {
        "duration": 91,
        "start_time": "2021-07-05T20:02:44.034Z"
      },
      {
        "duration": 12,
        "start_time": "2021-07-05T20:02:44.127Z"
      },
      {
        "duration": 6,
        "start_time": "2021-07-05T20:02:44.141Z"
      },
      {
        "duration": 6,
        "start_time": "2021-07-05T20:02:44.149Z"
      },
      {
        "duration": 5,
        "start_time": "2021-07-05T20:02:44.156Z"
      },
      {
        "duration": 9,
        "start_time": "2021-07-05T20:02:44.163Z"
      },
      {
        "duration": 7,
        "start_time": "2021-07-05T20:02:44.174Z"
      },
      {
        "duration": 6,
        "start_time": "2021-07-05T20:02:44.183Z"
      },
      {
        "duration": 5,
        "start_time": "2021-07-05T20:02:44.191Z"
      },
      {
        "duration": 11,
        "start_time": "2021-07-05T20:02:44.197Z"
      },
      {
        "duration": 6,
        "start_time": "2021-07-05T20:02:44.209Z"
      },
      {
        "duration": 10,
        "start_time": "2021-07-05T20:02:44.217Z"
      },
      {
        "duration": 12,
        "start_time": "2021-07-05T20:02:44.229Z"
      },
      {
        "duration": 11,
        "start_time": "2021-07-05T20:02:44.242Z"
      },
      {
        "duration": 33,
        "start_time": "2021-07-05T20:02:44.255Z"
      },
      {
        "duration": 361,
        "start_time": "2021-07-05T20:02:44.289Z"
      },
      {
        "duration": 256,
        "start_time": "2021-07-05T20:02:44.651Z"
      },
      {
        "duration": 248,
        "start_time": "2021-07-05T20:02:44.910Z"
      },
      {
        "duration": 392,
        "start_time": "2021-07-05T20:02:45.160Z"
      },
      {
        "duration": 256,
        "start_time": "2021-07-05T20:02:45.553Z"
      },
      {
        "duration": 359,
        "start_time": "2021-07-05T20:02:45.810Z"
      },
      {
        "duration": 685,
        "start_time": "2021-07-05T20:02:46.172Z"
      },
      {
        "duration": 5,
        "start_time": "2021-07-05T20:02:46.858Z"
      },
      {
        "duration": 673,
        "start_time": "2021-07-05T20:02:46.865Z"
      },
      {
        "duration": 5,
        "start_time": "2021-07-05T20:02:47.539Z"
      },
      {
        "duration": 40,
        "start_time": "2021-07-05T20:02:47.546Z"
      },
      {
        "duration": 13,
        "start_time": "2021-07-05T20:02:47.588Z"
      },
      {
        "duration": 8,
        "start_time": "2021-07-05T20:02:47.602Z"
      },
      {
        "duration": 18,
        "start_time": "2021-07-05T20:02:47.611Z"
      },
      {
        "duration": 17,
        "start_time": "2021-07-05T20:02:47.631Z"
      },
      {
        "duration": 1109,
        "start_time": "2021-07-06T16:02:10.826Z"
      },
      {
        "duration": 61,
        "start_time": "2021-07-06T16:02:11.937Z"
      },
      {
        "duration": 10,
        "start_time": "2021-07-06T16:02:12.000Z"
      },
      {
        "duration": 9,
        "start_time": "2021-07-06T16:02:12.012Z"
      },
      {
        "duration": 11,
        "start_time": "2021-07-06T16:02:12.022Z"
      },
      {
        "duration": 9,
        "start_time": "2021-07-06T16:02:12.034Z"
      },
      {
        "duration": 13,
        "start_time": "2021-07-06T16:02:12.044Z"
      },
      {
        "duration": 7,
        "start_time": "2021-07-06T16:02:12.060Z"
      },
      {
        "duration": 9,
        "start_time": "2021-07-06T16:02:12.069Z"
      },
      {
        "duration": 6,
        "start_time": "2021-07-06T16:02:12.079Z"
      },
      {
        "duration": 9,
        "start_time": "2021-07-06T16:02:12.086Z"
      },
      {
        "duration": 7,
        "start_time": "2021-07-06T16:02:12.097Z"
      },
      {
        "duration": 6,
        "start_time": "2021-07-06T16:02:12.106Z"
      },
      {
        "duration": 28,
        "start_time": "2021-07-06T16:02:12.114Z"
      },
      {
        "duration": 13,
        "start_time": "2021-07-06T16:02:12.143Z"
      },
      {
        "duration": 14,
        "start_time": "2021-07-06T16:02:12.157Z"
      },
      {
        "duration": 512,
        "start_time": "2021-07-06T16:02:12.172Z"
      },
      {
        "duration": 334,
        "start_time": "2021-07-06T16:02:12.686Z"
      },
      {
        "duration": 318,
        "start_time": "2021-07-06T16:02:13.023Z"
      },
      {
        "duration": 326,
        "start_time": "2021-07-06T16:02:13.343Z"
      },
      {
        "duration": 237,
        "start_time": "2021-07-06T16:02:13.670Z"
      },
      {
        "duration": 376,
        "start_time": "2021-07-06T16:02:13.909Z"
      },
      {
        "duration": 803,
        "start_time": "2021-07-06T16:02:14.287Z"
      },
      {
        "duration": 5,
        "start_time": "2021-07-06T16:02:15.092Z"
      },
      {
        "duration": 696,
        "start_time": "2021-07-06T16:02:15.098Z"
      },
      {
        "duration": 4,
        "start_time": "2021-07-06T16:02:15.795Z"
      },
      {
        "duration": 24,
        "start_time": "2021-07-06T16:02:15.800Z"
      },
      {
        "duration": 28,
        "start_time": "2021-07-06T16:02:15.825Z"
      },
      {
        "duration": 22,
        "start_time": "2021-07-06T16:02:15.855Z"
      },
      {
        "duration": 21,
        "start_time": "2021-07-06T16:02:15.879Z"
      },
      {
        "duration": 20,
        "start_time": "2021-07-06T16:02:15.902Z"
      },
      {
        "duration": 275,
        "start_time": "2021-07-06T16:04:23.716Z"
      },
      {
        "duration": 85,
        "start_time": "2021-07-06T16:13:32.035Z"
      },
      {
        "duration": 436,
        "start_time": "2021-07-06T16:43:53.879Z"
      },
      {
        "duration": 1659,
        "start_time": "2021-07-06T16:43:59.783Z"
      },
      {
        "duration": 141,
        "start_time": "2021-07-06T16:44:01.446Z"
      },
      {
        "duration": 21,
        "start_time": "2021-07-06T16:44:01.591Z"
      },
      {
        "duration": 12,
        "start_time": "2021-07-06T16:44:01.616Z"
      },
      {
        "duration": 25,
        "start_time": "2021-07-06T16:44:01.631Z"
      },
      {
        "duration": 13,
        "start_time": "2021-07-06T16:44:01.659Z"
      },
      {
        "duration": 33,
        "start_time": "2021-07-06T16:44:01.676Z"
      },
      {
        "duration": 22,
        "start_time": "2021-07-06T16:44:01.714Z"
      },
      {
        "duration": 19,
        "start_time": "2021-07-06T16:44:01.740Z"
      },
      {
        "duration": 19,
        "start_time": "2021-07-06T16:44:01.762Z"
      },
      {
        "duration": 26,
        "start_time": "2021-07-06T16:44:01.783Z"
      },
      {
        "duration": 11,
        "start_time": "2021-07-06T16:44:01.812Z"
      },
      {
        "duration": 18,
        "start_time": "2021-07-06T16:44:01.826Z"
      },
      {
        "duration": 26,
        "start_time": "2021-07-06T16:44:01.847Z"
      },
      {
        "duration": 35,
        "start_time": "2021-07-06T16:44:01.876Z"
      },
      {
        "duration": 25,
        "start_time": "2021-07-06T16:44:01.913Z"
      },
      {
        "duration": 660,
        "start_time": "2021-07-06T16:44:01.940Z"
      },
      {
        "duration": 546,
        "start_time": "2021-07-06T16:44:02.603Z"
      },
      {
        "duration": 518,
        "start_time": "2021-07-06T16:44:03.152Z"
      },
      {
        "duration": 601,
        "start_time": "2021-07-06T16:44:03.673Z"
      },
      {
        "duration": 411,
        "start_time": "2021-07-06T16:44:04.277Z"
      },
      {
        "duration": 469,
        "start_time": "2021-07-06T16:44:04.691Z"
      },
      {
        "duration": 984,
        "start_time": "2021-07-06T16:44:05.165Z"
      },
      {
        "duration": 7,
        "start_time": "2021-07-06T16:44:06.152Z"
      },
      {
        "duration": 1021,
        "start_time": "2021-07-06T16:44:06.161Z"
      },
      {
        "duration": 6,
        "start_time": "2021-07-06T16:44:07.184Z"
      },
      {
        "duration": 36,
        "start_time": "2021-07-06T16:44:07.201Z"
      },
      {
        "duration": 19,
        "start_time": "2021-07-06T16:44:07.240Z"
      },
      {
        "duration": 40,
        "start_time": "2021-07-06T16:44:07.261Z"
      },
      {
        "duration": 27,
        "start_time": "2021-07-06T16:44:07.304Z"
      },
      {
        "duration": 29,
        "start_time": "2021-07-06T16:44:07.334Z"
      },
      {
        "duration": 348,
        "start_time": "2021-07-06T20:26:35.662Z"
      },
      {
        "duration": 1028,
        "start_time": "2021-07-06T20:26:41.332Z"
      },
      {
        "duration": 61,
        "start_time": "2021-07-06T20:26:42.362Z"
      },
      {
        "duration": 9,
        "start_time": "2021-07-06T20:26:42.425Z"
      },
      {
        "duration": 19,
        "start_time": "2021-07-06T20:26:42.436Z"
      },
      {
        "duration": 8,
        "start_time": "2021-07-06T20:26:42.457Z"
      },
      {
        "duration": 8,
        "start_time": "2021-07-06T20:26:42.466Z"
      },
      {
        "duration": 13,
        "start_time": "2021-07-06T20:26:42.475Z"
      },
      {
        "duration": 7,
        "start_time": "2021-07-06T20:26:42.490Z"
      },
      {
        "duration": 7,
        "start_time": "2021-07-06T20:26:42.499Z"
      },
      {
        "duration": 6,
        "start_time": "2021-07-06T20:26:42.507Z"
      },
      {
        "duration": 7,
        "start_time": "2021-07-06T20:26:42.514Z"
      },
      {
        "duration": 8,
        "start_time": "2021-07-06T20:26:42.522Z"
      },
      {
        "duration": 5,
        "start_time": "2021-07-06T20:26:42.531Z"
      },
      {
        "duration": 20,
        "start_time": "2021-07-06T20:26:42.538Z"
      },
      {
        "duration": 13,
        "start_time": "2021-07-06T20:26:42.559Z"
      },
      {
        "duration": 10,
        "start_time": "2021-07-06T20:26:42.573Z"
      },
      {
        "duration": 16,
        "start_time": "2021-07-06T20:26:42.585Z"
      },
      {
        "duration": 343,
        "start_time": "2021-07-06T20:26:42.603Z"
      },
      {
        "duration": 217,
        "start_time": "2021-07-06T20:26:42.948Z"
      },
      {
        "duration": 213,
        "start_time": "2021-07-06T20:26:43.166Z"
      },
      {
        "duration": 308,
        "start_time": "2021-07-06T20:26:43.381Z"
      },
      {
        "duration": 227,
        "start_time": "2021-07-06T20:26:43.691Z"
      },
      {
        "duration": 334,
        "start_time": "2021-07-06T20:26:43.921Z"
      },
      {
        "duration": 612,
        "start_time": "2021-07-06T20:26:44.257Z"
      },
      {
        "duration": 4,
        "start_time": "2021-07-06T20:26:44.870Z"
      },
      {
        "duration": 618,
        "start_time": "2021-07-06T20:26:44.876Z"
      },
      {
        "duration": 4,
        "start_time": "2021-07-06T20:26:45.495Z"
      },
      {
        "duration": 24,
        "start_time": "2021-07-06T20:26:45.500Z"
      },
      {
        "duration": 26,
        "start_time": "2021-07-06T20:26:45.525Z"
      },
      {
        "duration": 15,
        "start_time": "2021-07-06T20:26:45.553Z"
      },
      {
        "duration": 17,
        "start_time": "2021-07-06T20:26:45.569Z"
      },
      {
        "duration": 19,
        "start_time": "2021-07-06T20:26:45.587Z"
      },
      {
        "duration": 10,
        "start_time": "2021-07-06T20:27:11.741Z"
      },
      {
        "duration": 9,
        "start_time": "2021-07-06T20:27:58.373Z"
      },
      {
        "duration": 9,
        "start_time": "2021-07-06T20:28:44.552Z"
      },
      {
        "duration": 13,
        "start_time": "2021-07-06T20:29:02.082Z"
      },
      {
        "duration": 10,
        "start_time": "2021-07-06T20:29:41.604Z"
      },
      {
        "duration": 10,
        "start_time": "2021-07-06T20:32:42.933Z"
      },
      {
        "duration": 9,
        "start_time": "2021-07-06T20:32:48.065Z"
      },
      {
        "duration": 10,
        "start_time": "2021-07-06T20:33:44.840Z"
      },
      {
        "duration": 9,
        "start_time": "2021-07-06T20:33:57.723Z"
      },
      {
        "duration": 10,
        "start_time": "2021-07-06T20:35:30.398Z"
      },
      {
        "duration": 281,
        "start_time": "2021-07-06T20:42:55.719Z"
      },
      {
        "duration": 361,
        "start_time": "2021-07-06T20:47:17.846Z"
      },
      {
        "duration": 342,
        "start_time": "2021-07-06T20:47:28.036Z"
      },
      {
        "duration": 10,
        "start_time": "2021-07-06T20:47:51.608Z"
      },
      {
        "duration": 343,
        "start_time": "2021-07-06T20:49:56.555Z"
      },
      {
        "duration": 325,
        "start_time": "2021-07-06T21:07:58.568Z"
      },
      {
        "duration": 365,
        "start_time": "2021-07-06T21:09:05.022Z"
      },
      {
        "duration": 1280,
        "start_time": "2021-07-06T21:10:03.359Z"
      },
      {
        "duration": 64,
        "start_time": "2021-07-06T21:10:04.641Z"
      },
      {
        "duration": 15,
        "start_time": "2021-07-06T21:10:04.708Z"
      },
      {
        "duration": 20,
        "start_time": "2021-07-06T21:10:04.725Z"
      },
      {
        "duration": 23,
        "start_time": "2021-07-06T21:10:04.747Z"
      },
      {
        "duration": 25,
        "start_time": "2021-07-06T21:10:04.771Z"
      },
      {
        "duration": 23,
        "start_time": "2021-07-06T21:10:04.798Z"
      },
      {
        "duration": 29,
        "start_time": "2021-07-06T21:10:04.824Z"
      },
      {
        "duration": 19,
        "start_time": "2021-07-06T21:10:04.855Z"
      },
      {
        "duration": 25,
        "start_time": "2021-07-06T21:10:04.876Z"
      },
      {
        "duration": 20,
        "start_time": "2021-07-06T21:10:04.902Z"
      },
      {
        "duration": 28,
        "start_time": "2021-07-06T21:10:04.924Z"
      },
      {
        "duration": 19,
        "start_time": "2021-07-06T21:10:04.954Z"
      },
      {
        "duration": 28,
        "start_time": "2021-07-06T21:10:04.974Z"
      },
      {
        "duration": 13,
        "start_time": "2021-07-06T21:10:05.003Z"
      },
      {
        "duration": 21,
        "start_time": "2021-07-06T21:10:05.018Z"
      },
      {
        "duration": 24,
        "start_time": "2021-07-06T21:10:05.041Z"
      },
      {
        "duration": 339,
        "start_time": "2021-07-06T21:10:05.067Z"
      },
      {
        "duration": 282,
        "start_time": "2021-07-06T21:10:05.408Z"
      },
      {
        "duration": 216,
        "start_time": "2021-07-06T21:10:05.691Z"
      },
      {
        "duration": 375,
        "start_time": "2021-07-06T21:10:05.908Z"
      },
      {
        "duration": 225,
        "start_time": "2021-07-06T21:10:06.285Z"
      },
      {
        "duration": 375,
        "start_time": "2021-07-06T21:10:06.513Z"
      },
      {
        "duration": 670,
        "start_time": "2021-07-06T21:10:06.890Z"
      },
      {
        "duration": 4,
        "start_time": "2021-07-06T21:10:07.562Z"
      },
      {
        "duration": 647,
        "start_time": "2021-07-06T21:10:07.568Z"
      },
      {
        "duration": 3,
        "start_time": "2021-07-06T21:10:08.217Z"
      },
      {
        "duration": 36,
        "start_time": "2021-07-06T21:10:08.222Z"
      },
      {
        "duration": 22,
        "start_time": "2021-07-06T21:10:08.260Z"
      },
      {
        "duration": 31,
        "start_time": "2021-07-06T21:10:08.283Z"
      },
      {
        "duration": 38,
        "start_time": "2021-07-06T21:10:08.316Z"
      },
      {
        "duration": 21,
        "start_time": "2021-07-06T21:10:08.356Z"
      },
      {
        "duration": 89,
        "start_time": "2021-07-06T21:10:43.398Z"
      },
      {
        "duration": 301,
        "start_time": "2021-07-06T21:11:18.998Z"
      },
      {
        "duration": 337,
        "start_time": "2021-07-06T21:11:35.114Z"
      },
      {
        "duration": 564,
        "start_time": "2021-07-06T21:19:20.478Z"
      },
      {
        "duration": 561,
        "start_time": "2021-07-06T21:19:47.486Z"
      },
      {
        "duration": 324,
        "start_time": "2021-07-07T08:54:40.730Z"
      },
      {
        "duration": 1451,
        "start_time": "2021-07-07T08:54:45.631Z"
      },
      {
        "duration": 95,
        "start_time": "2021-07-07T08:54:47.086Z"
      },
      {
        "duration": 15,
        "start_time": "2021-07-07T08:54:47.184Z"
      },
      {
        "duration": 22,
        "start_time": "2021-07-07T08:54:47.202Z"
      },
      {
        "duration": 15,
        "start_time": "2021-07-07T08:54:47.227Z"
      },
      {
        "duration": 17,
        "start_time": "2021-07-07T08:54:47.245Z"
      },
      {
        "duration": 27,
        "start_time": "2021-07-07T08:54:47.265Z"
      },
      {
        "duration": 11,
        "start_time": "2021-07-07T08:54:47.296Z"
      },
      {
        "duration": 21,
        "start_time": "2021-07-07T08:54:47.310Z"
      },
      {
        "duration": 15,
        "start_time": "2021-07-07T08:54:47.333Z"
      },
      {
        "duration": 21,
        "start_time": "2021-07-07T08:54:47.350Z"
      },
      {
        "duration": 13,
        "start_time": "2021-07-07T08:54:47.374Z"
      },
      {
        "duration": 21,
        "start_time": "2021-07-07T08:54:47.390Z"
      },
      {
        "duration": 26,
        "start_time": "2021-07-07T08:54:47.413Z"
      },
      {
        "duration": 17,
        "start_time": "2021-07-07T08:54:47.442Z"
      },
      {
        "duration": 16,
        "start_time": "2021-07-07T08:54:47.461Z"
      },
      {
        "duration": 25,
        "start_time": "2021-07-07T08:54:47.501Z"
      },
      {
        "duration": 600,
        "start_time": "2021-07-07T08:54:47.529Z"
      },
      {
        "duration": 514,
        "start_time": "2021-07-07T08:54:48.131Z"
      },
      {
        "duration": 380,
        "start_time": "2021-07-07T08:54:48.648Z"
      },
      {
        "duration": 483,
        "start_time": "2021-07-07T08:54:49.031Z"
      },
      {
        "duration": 388,
        "start_time": "2021-07-07T08:54:49.517Z"
      },
      {
        "duration": 463,
        "start_time": "2021-07-07T08:54:49.912Z"
      },
      {
        "duration": 1000,
        "start_time": "2021-07-07T08:54:50.378Z"
      },
      {
        "duration": 6,
        "start_time": "2021-07-07T08:54:51.381Z"
      },
      {
        "duration": 1152,
        "start_time": "2021-07-07T08:54:51.401Z"
      },
      {
        "duration": 6,
        "start_time": "2021-07-07T08:54:52.556Z"
      },
      {
        "duration": 56,
        "start_time": "2021-07-07T08:54:52.564Z"
      },
      {
        "duration": 26,
        "start_time": "2021-07-07T08:54:52.622Z"
      },
      {
        "duration": 29,
        "start_time": "2021-07-07T08:54:52.650Z"
      },
      {
        "duration": 56,
        "start_time": "2021-07-07T08:54:52.682Z"
      },
      {
        "duration": 49,
        "start_time": "2021-07-07T08:54:52.740Z"
      },
      {
        "duration": 994,
        "start_time": "2021-07-07T09:10:15.944Z"
      },
      {
        "duration": 458,
        "start_time": "2021-07-07T09:23:21.101Z"
      },
      {
        "duration": 481,
        "start_time": "2021-07-07T09:23:44.034Z"
      },
      {
        "duration": 1434,
        "start_time": "2021-07-07T09:25:06.537Z"
      },
      {
        "duration": 85,
        "start_time": "2021-07-07T09:25:07.974Z"
      },
      {
        "duration": 20,
        "start_time": "2021-07-07T09:25:08.063Z"
      },
      {
        "duration": 12,
        "start_time": "2021-07-07T09:25:08.086Z"
      },
      {
        "duration": 15,
        "start_time": "2021-07-07T09:25:08.100Z"
      },
      {
        "duration": 10,
        "start_time": "2021-07-07T09:25:08.118Z"
      },
      {
        "duration": 22,
        "start_time": "2021-07-07T09:25:08.131Z"
      },
      {
        "duration": 10,
        "start_time": "2021-07-07T09:25:08.159Z"
      },
      {
        "duration": 32,
        "start_time": "2021-07-07T09:25:08.173Z"
      },
      {
        "duration": 9,
        "start_time": "2021-07-07T09:25:08.208Z"
      },
      {
        "duration": 17,
        "start_time": "2021-07-07T09:25:08.220Z"
      },
      {
        "duration": 13,
        "start_time": "2021-07-07T09:25:08.239Z"
      },
      {
        "duration": 13,
        "start_time": "2021-07-07T09:25:08.255Z"
      },
      {
        "duration": 54,
        "start_time": "2021-07-07T09:25:08.270Z"
      },
      {
        "duration": 19,
        "start_time": "2021-07-07T09:25:08.327Z"
      },
      {
        "duration": 54,
        "start_time": "2021-07-07T09:25:08.349Z"
      },
      {
        "duration": 20,
        "start_time": "2021-07-07T09:25:08.406Z"
      },
      {
        "duration": 594,
        "start_time": "2021-07-07T09:25:08.428Z"
      },
      {
        "duration": 587,
        "start_time": "2021-07-07T09:25:09.024Z"
      },
      {
        "duration": 364,
        "start_time": "2021-07-07T09:25:09.613Z"
      },
      {
        "duration": 500,
        "start_time": "2021-07-07T09:25:09.979Z"
      },
      {
        "duration": 389,
        "start_time": "2021-07-07T09:25:10.482Z"
      },
      {
        "duration": 569,
        "start_time": "2021-07-07T09:25:10.876Z"
      },
      {
        "duration": 1094,
        "start_time": "2021-07-07T09:25:11.449Z"
      },
      {
        "duration": 6,
        "start_time": "2021-07-07T09:25:12.545Z"
      },
      {
        "duration": 1007,
        "start_time": "2021-07-07T09:25:12.554Z"
      },
      {
        "duration": 6,
        "start_time": "2021-07-07T09:25:13.563Z"
      },
      {
        "duration": 54,
        "start_time": "2021-07-07T09:25:13.571Z"
      },
      {
        "duration": 21,
        "start_time": "2021-07-07T09:25:13.627Z"
      },
      {
        "duration": 12,
        "start_time": "2021-07-07T09:25:13.650Z"
      },
      {
        "duration": 54,
        "start_time": "2021-07-07T09:25:13.664Z"
      },
      {
        "duration": 31,
        "start_time": "2021-07-07T09:25:13.720Z"
      },
      {
        "duration": 20,
        "start_time": "2021-07-07T09:26:24.008Z"
      },
      {
        "duration": 5,
        "start_time": "2021-07-07T09:27:15.343Z"
      },
      {
        "duration": 482,
        "start_time": "2021-07-07T10:03:41.236Z"
      },
      {
        "duration": 279,
        "start_time": "2021-07-07T10:03:58.627Z"
      },
      {
        "duration": 135,
        "start_time": "2021-07-07T10:09:42.671Z"
      },
      {
        "duration": 94,
        "start_time": "2021-07-07T10:09:46.778Z"
      },
      {
        "duration": 155,
        "start_time": "2021-07-07T10:09:54.396Z"
      },
      {
        "duration": 83,
        "start_time": "2021-07-07T10:10:07.810Z"
      },
      {
        "duration": 22,
        "start_time": "2021-07-07T10:11:09.522Z"
      },
      {
        "duration": 22,
        "start_time": "2021-07-07T10:11:55.068Z"
      },
      {
        "duration": 1660,
        "start_time": "2021-07-07T10:13:30.413Z"
      },
      {
        "duration": 286,
        "start_time": "2021-07-07T10:13:46.687Z"
      },
      {
        "duration": 1494,
        "start_time": "2021-07-07T10:14:01.785Z"
      },
      {
        "duration": 72,
        "start_time": "2021-07-07T10:14:03.282Z"
      },
      {
        "duration": 15,
        "start_time": "2021-07-07T10:14:03.357Z"
      },
      {
        "duration": 14,
        "start_time": "2021-07-07T10:14:03.376Z"
      },
      {
        "duration": 13,
        "start_time": "2021-07-07T10:14:03.393Z"
      },
      {
        "duration": 7,
        "start_time": "2021-07-07T10:14:03.409Z"
      },
      {
        "duration": 16,
        "start_time": "2021-07-07T10:14:03.419Z"
      },
      {
        "duration": 10,
        "start_time": "2021-07-07T10:14:03.440Z"
      },
      {
        "duration": 10,
        "start_time": "2021-07-07T10:14:03.454Z"
      },
      {
        "duration": 8,
        "start_time": "2021-07-07T10:14:03.501Z"
      },
      {
        "duration": 14,
        "start_time": "2021-07-07T10:14:03.511Z"
      },
      {
        "duration": 19,
        "start_time": "2021-07-07T10:14:03.528Z"
      },
      {
        "duration": 10,
        "start_time": "2021-07-07T10:14:03.549Z"
      },
      {
        "duration": 487,
        "start_time": "2021-07-07T10:14:03.562Z"
      },
      {
        "duration": 60745,
        "start_time": "2021-07-07T10:13:03.308Z"
      },
      {
        "duration": 60743,
        "start_time": "2021-07-07T10:13:03.312Z"
      },
      {
        "duration": 60741,
        "start_time": "2021-07-07T10:13:03.315Z"
      },
      {
        "duration": 60739,
        "start_time": "2021-07-07T10:13:03.319Z"
      },
      {
        "duration": 60734,
        "start_time": "2021-07-07T10:13:03.325Z"
      },
      {
        "duration": 60731,
        "start_time": "2021-07-07T10:13:03.330Z"
      },
      {
        "duration": 60728,
        "start_time": "2021-07-07T10:13:03.334Z"
      },
      {
        "duration": 60727,
        "start_time": "2021-07-07T10:13:03.337Z"
      },
      {
        "duration": 60726,
        "start_time": "2021-07-07T10:13:03.339Z"
      },
      {
        "duration": 60725,
        "start_time": "2021-07-07T10:13:03.342Z"
      },
      {
        "duration": 60723,
        "start_time": "2021-07-07T10:13:03.345Z"
      },
      {
        "duration": 60724,
        "start_time": "2021-07-07T10:13:03.346Z"
      },
      {
        "duration": 60723,
        "start_time": "2021-07-07T10:13:03.348Z"
      },
      {
        "duration": 60718,
        "start_time": "2021-07-07T10:13:03.355Z"
      },
      {
        "duration": 60717,
        "start_time": "2021-07-07T10:13:03.357Z"
      },
      {
        "duration": 60716,
        "start_time": "2021-07-07T10:13:03.359Z"
      },
      {
        "duration": 60716,
        "start_time": "2021-07-07T10:13:03.361Z"
      },
      {
        "duration": 60715,
        "start_time": "2021-07-07T10:13:03.363Z"
      },
      {
        "duration": 60715,
        "start_time": "2021-07-07T10:13:03.365Z"
      },
      {
        "duration": 60715,
        "start_time": "2021-07-07T10:13:03.367Z"
      },
      {
        "duration": 286,
        "start_time": "2021-07-07T10:14:42.244Z"
      },
      {
        "duration": 21,
        "start_time": "2021-07-07T10:14:49.814Z"
      },
      {
        "duration": 22,
        "start_time": "2021-07-07T10:16:08.222Z"
      },
      {
        "duration": 20,
        "start_time": "2021-07-07T10:16:19.485Z"
      },
      {
        "duration": 17,
        "start_time": "2021-07-07T10:17:53.068Z"
      },
      {
        "duration": 25,
        "start_time": "2021-07-07T10:18:04.035Z"
      },
      {
        "duration": 9,
        "start_time": "2021-07-07T10:21:41.116Z"
      },
      {
        "duration": 289,
        "start_time": "2021-07-07T10:22:17.517Z"
      },
      {
        "duration": 1191,
        "start_time": "2021-07-07T10:25:27.227Z"
      },
      {
        "duration": 1289,
        "start_time": "2021-07-07T10:25:40.609Z"
      },
      {
        "duration": 9,
        "start_time": "2021-07-07T10:25:49.561Z"
      },
      {
        "duration": 22,
        "start_time": "2021-07-07T10:25:55.839Z"
      },
      {
        "duration": 24,
        "start_time": "2021-07-07T10:26:20.385Z"
      },
      {
        "duration": 35,
        "start_time": "2021-07-07T10:27:24.377Z"
      },
      {
        "duration": 27,
        "start_time": "2021-07-07T10:32:26.268Z"
      },
      {
        "duration": 88,
        "start_time": "2021-07-07T10:33:12.807Z"
      },
      {
        "duration": 12,
        "start_time": "2021-07-07T10:34:50.052Z"
      },
      {
        "duration": 6,
        "start_time": "2021-07-07T10:37:04.734Z"
      },
      {
        "duration": 7,
        "start_time": "2021-07-07T10:37:15.035Z"
      },
      {
        "duration": 23,
        "start_time": "2021-07-07T10:37:52.346Z"
      },
      {
        "duration": 1405,
        "start_time": "2021-07-07T10:45:42.265Z"
      },
      {
        "duration": 10,
        "start_time": "2021-07-07T10:45:55.440Z"
      },
      {
        "duration": 5,
        "start_time": "2021-07-07T10:46:24.368Z"
      },
      {
        "duration": 5,
        "start_time": "2021-07-07T10:46:32.730Z"
      },
      {
        "duration": 278,
        "start_time": "2021-07-07T10:49:30.417Z"
      },
      {
        "duration": 25,
        "start_time": "2021-07-07T10:50:00.498Z"
      },
      {
        "duration": 8,
        "start_time": "2021-07-07T10:50:11.346Z"
      },
      {
        "duration": 15,
        "start_time": "2021-07-07T10:50:20.434Z"
      },
      {
        "duration": 15,
        "start_time": "2021-07-07T10:50:52.328Z"
      },
      {
        "duration": 11,
        "start_time": "2021-07-07T10:51:09.283Z"
      },
      {
        "duration": 15,
        "start_time": "2021-07-07T10:58:25.043Z"
      },
      {
        "duration": 12,
        "start_time": "2021-07-07T10:58:29.575Z"
      },
      {
        "duration": 309,
        "start_time": "2021-07-07T11:00:03.792Z"
      },
      {
        "duration": 293,
        "start_time": "2021-07-07T11:00:16.000Z"
      },
      {
        "duration": 313,
        "start_time": "2021-07-07T11:00:29.849Z"
      },
      {
        "duration": 286,
        "start_time": "2021-07-07T11:00:34.319Z"
      },
      {
        "duration": 113,
        "start_time": "2021-07-07T11:01:41.409Z"
      },
      {
        "duration": 286,
        "start_time": "2021-07-07T11:01:47.360Z"
      },
      {
        "duration": 287,
        "start_time": "2021-07-07T11:02:19.054Z"
      },
      {
        "duration": 283,
        "start_time": "2021-07-07T11:03:03.313Z"
      },
      {
        "duration": 329,
        "start_time": "2021-07-07T11:03:53.057Z"
      },
      {
        "duration": 299,
        "start_time": "2021-07-07T11:04:13.308Z"
      },
      {
        "duration": 271,
        "start_time": "2021-07-07T11:05:10.538Z"
      },
      {
        "duration": 8,
        "start_time": "2021-07-07T11:05:54.826Z"
      },
      {
        "duration": 6172,
        "start_time": "2021-07-07T11:06:26.793Z"
      },
      {
        "duration": 8,
        "start_time": "2021-07-07T11:06:37.121Z"
      },
      {
        "duration": 6,
        "start_time": "2021-07-07T11:06:47.146Z"
      },
      {
        "duration": 5092,
        "start_time": "2021-07-07T11:07:53.818Z"
      },
      {
        "duration": 6,
        "start_time": "2021-07-07T11:07:58.914Z"
      },
      {
        "duration": 5155,
        "start_time": "2021-07-07T11:08:14.065Z"
      },
      {
        "duration": 5,
        "start_time": "2021-07-07T11:08:23.714Z"
      },
      {
        "duration": 6906,
        "start_time": "2021-07-07T11:09:24.585Z"
      },
      {
        "duration": 29,
        "start_time": "2021-07-07T11:09:43.468Z"
      },
      {
        "duration": 274,
        "start_time": "2021-07-07T11:11:55.724Z"
      },
      {
        "duration": 300,
        "start_time": "2021-07-07T11:12:05.227Z"
      },
      {
        "duration": 6,
        "start_time": "2021-07-07T11:12:16.915Z"
      },
      {
        "duration": 21,
        "start_time": "2021-07-07T11:14:20.717Z"
      },
      {
        "duration": 21,
        "start_time": "2021-07-07T11:19:39.808Z"
      },
      {
        "duration": 1499,
        "start_time": "2021-07-07T12:42:44.197Z"
      },
      {
        "duration": 85,
        "start_time": "2021-07-07T12:42:45.702Z"
      },
      {
        "duration": 18,
        "start_time": "2021-07-07T12:42:45.791Z"
      },
      {
        "duration": 10,
        "start_time": "2021-07-07T12:42:45.811Z"
      },
      {
        "duration": 12,
        "start_time": "2021-07-07T12:42:45.824Z"
      },
      {
        "duration": 9,
        "start_time": "2021-07-07T12:42:45.838Z"
      },
      {
        "duration": 27,
        "start_time": "2021-07-07T12:42:45.850Z"
      },
      {
        "duration": 27,
        "start_time": "2021-07-07T12:42:45.880Z"
      },
      {
        "duration": 15,
        "start_time": "2021-07-07T12:42:45.911Z"
      },
      {
        "duration": 15,
        "start_time": "2021-07-07T12:42:45.929Z"
      },
      {
        "duration": 19,
        "start_time": "2021-07-07T12:42:45.947Z"
      },
      {
        "duration": 15,
        "start_time": "2021-07-07T12:42:45.968Z"
      },
      {
        "duration": 6,
        "start_time": "2021-07-07T12:42:46.001Z"
      },
      {
        "duration": 4906,
        "start_time": "2021-07-07T12:42:46.009Z"
      },
      {
        "duration": 25,
        "start_time": "2021-07-07T12:42:50.918Z"
      },
      {
        "duration": 17,
        "start_time": "2021-07-07T12:42:50.945Z"
      },
      {
        "duration": 41,
        "start_time": "2021-07-07T12:42:50.964Z"
      },
      {
        "duration": 17,
        "start_time": "2021-07-07T12:42:51.007Z"
      },
      {
        "duration": 611,
        "start_time": "2021-07-07T12:42:51.027Z"
      },
      {
        "duration": 471,
        "start_time": "2021-07-07T12:42:51.640Z"
      },
      {
        "duration": 390,
        "start_time": "2021-07-07T12:42:52.113Z"
      },
      {
        "duration": 479,
        "start_time": "2021-07-07T12:42:52.506Z"
      },
      {
        "duration": 391,
        "start_time": "2021-07-07T12:42:52.990Z"
      },
      {
        "duration": 478,
        "start_time": "2021-07-07T12:42:53.384Z"
      },
      {
        "duration": 993,
        "start_time": "2021-07-07T12:42:53.865Z"
      },
      {
        "duration": 7,
        "start_time": "2021-07-07T12:42:54.861Z"
      },
      {
        "duration": 1001,
        "start_time": "2021-07-07T12:42:54.871Z"
      },
      {
        "duration": 7,
        "start_time": "2021-07-07T12:42:55.875Z"
      },
      {
        "duration": 47,
        "start_time": "2021-07-07T12:42:55.885Z"
      },
      {
        "duration": 18,
        "start_time": "2021-07-07T12:42:55.935Z"
      },
      {
        "duration": 11,
        "start_time": "2021-07-07T12:42:55.956Z"
      },
      {
        "duration": 27,
        "start_time": "2021-07-07T12:42:56.002Z"
      },
      {
        "duration": 27,
        "start_time": "2021-07-07T12:42:56.031Z"
      },
      {
        "duration": 24,
        "start_time": "2021-07-07T13:21:02.810Z"
      },
      {
        "duration": 7,
        "start_time": "2021-07-07T13:21:38.114Z"
      },
      {
        "duration": 20,
        "start_time": "2021-07-07T13:41:22.587Z"
      },
      {
        "duration": 8,
        "start_time": "2021-07-07T13:45:02.289Z"
      },
      {
        "duration": 29,
        "start_time": "2021-07-07T13:47:11.943Z"
      },
      {
        "duration": 35,
        "start_time": "2021-07-07T13:48:06.126Z"
      },
      {
        "duration": 31,
        "start_time": "2021-07-07T13:49:14.883Z"
      },
      {
        "duration": 410,
        "start_time": "2021-07-07T13:50:04.932Z"
      },
      {
        "duration": 37,
        "start_time": "2021-07-07T13:54:00.410Z"
      },
      {
        "duration": 33,
        "start_time": "2021-07-07T13:54:47.387Z"
      },
      {
        "duration": 7,
        "start_time": "2021-07-07T13:55:21.073Z"
      },
      {
        "duration": 24,
        "start_time": "2021-07-07T13:56:13.026Z"
      },
      {
        "duration": 25,
        "start_time": "2021-07-07T13:56:21.629Z"
      },
      {
        "duration": 8,
        "start_time": "2021-07-07T13:57:55.522Z"
      },
      {
        "duration": 8,
        "start_time": "2021-07-07T13:57:58.417Z"
      },
      {
        "duration": 18,
        "start_time": "2021-07-07T13:57:59.617Z"
      },
      {
        "duration": 8,
        "start_time": "2021-07-07T13:58:04.041Z"
      },
      {
        "duration": 9,
        "start_time": "2021-07-07T13:58:07.426Z"
      },
      {
        "duration": 7,
        "start_time": "2021-07-07T13:58:21.597Z"
      },
      {
        "duration": 9,
        "start_time": "2021-07-07T13:58:22.987Z"
      },
      {
        "duration": 266,
        "start_time": "2021-07-07T13:59:11.275Z"
      },
      {
        "duration": 7,
        "start_time": "2021-07-07T13:59:16.323Z"
      },
      {
        "duration": 1520,
        "start_time": "2021-07-07T13:59:21.957Z"
      },
      {
        "duration": 73,
        "start_time": "2021-07-07T13:59:23.479Z"
      },
      {
        "duration": 16,
        "start_time": "2021-07-07T13:59:23.555Z"
      },
      {
        "duration": 9,
        "start_time": "2021-07-07T13:59:23.573Z"
      },
      {
        "duration": 9,
        "start_time": "2021-07-07T13:59:23.585Z"
      },
      {
        "duration": 5,
        "start_time": "2021-07-07T13:59:23.596Z"
      },
      {
        "duration": 13,
        "start_time": "2021-07-07T13:59:23.603Z"
      },
      {
        "duration": 10,
        "start_time": "2021-07-07T13:59:23.620Z"
      },
      {
        "duration": 8,
        "start_time": "2021-07-07T13:59:23.633Z"
      },
      {
        "duration": 9,
        "start_time": "2021-07-07T13:59:23.643Z"
      },
      {
        "duration": 49,
        "start_time": "2021-07-07T13:59:23.654Z"
      },
      {
        "duration": 8,
        "start_time": "2021-07-07T13:59:23.706Z"
      },
      {
        "duration": 8,
        "start_time": "2021-07-07T13:59:23.717Z"
      },
      {
        "duration": 5308,
        "start_time": "2021-07-07T13:59:23.727Z"
      },
      {
        "duration": 29,
        "start_time": "2021-07-07T13:59:29.037Z"
      },
      {
        "duration": 7,
        "start_time": "2021-07-07T13:59:29.068Z"
      },
      {
        "duration": 42,
        "start_time": "2021-07-07T13:59:29.077Z"
      },
      {
        "duration": 7,
        "start_time": "2021-07-07T13:59:29.121Z"
      },
      {
        "duration": 8,
        "start_time": "2021-07-07T13:59:29.130Z"
      },
      {
        "duration": 13,
        "start_time": "2021-07-07T13:59:29.141Z"
      },
      {
        "duration": 5,
        "start_time": "2021-07-07T13:59:29.157Z"
      },
      {
        "duration": 45,
        "start_time": "2021-07-07T13:59:29.165Z"
      },
      {
        "duration": 17,
        "start_time": "2021-07-07T13:59:29.215Z"
      },
      {
        "duration": 15,
        "start_time": "2021-07-07T13:59:29.235Z"
      },
      {
        "duration": 640,
        "start_time": "2021-07-07T13:59:29.253Z"
      },
      {
        "duration": 490,
        "start_time": "2021-07-07T13:59:29.899Z"
      },
      {
        "duration": 372,
        "start_time": "2021-07-07T13:59:30.392Z"
      },
      {
        "duration": 499,
        "start_time": "2021-07-07T13:59:30.766Z"
      },
      {
        "duration": 387,
        "start_time": "2021-07-07T13:59:31.269Z"
      },
      {
        "duration": 495,
        "start_time": "2021-07-07T13:59:31.659Z"
      },
      {
        "duration": 1091,
        "start_time": "2021-07-07T13:59:32.156Z"
      },
      {
        "duration": 6,
        "start_time": "2021-07-07T13:59:33.249Z"
      },
      {
        "duration": 1015,
        "start_time": "2021-07-07T13:59:33.258Z"
      },
      {
        "duration": 6,
        "start_time": "2021-07-07T13:59:34.276Z"
      },
      {
        "duration": 48,
        "start_time": "2021-07-07T13:59:34.284Z"
      },
      {
        "duration": 19,
        "start_time": "2021-07-07T13:59:34.335Z"
      },
      {
        "duration": 44,
        "start_time": "2021-07-07T13:59:34.356Z"
      },
      {
        "duration": 28,
        "start_time": "2021-07-07T13:59:34.403Z"
      },
      {
        "duration": 30,
        "start_time": "2021-07-07T13:59:34.433Z"
      },
      {
        "duration": 773,
        "start_time": "2021-07-07T14:01:53.294Z"
      },
      {
        "duration": 12,
        "start_time": "2021-07-07T14:04:36.957Z"
      },
      {
        "duration": 1454,
        "start_time": "2021-07-07T14:04:42.315Z"
      },
      {
        "duration": 75,
        "start_time": "2021-07-07T14:04:43.772Z"
      },
      {
        "duration": 16,
        "start_time": "2021-07-07T14:04:43.850Z"
      },
      {
        "duration": 13,
        "start_time": "2021-07-07T14:04:43.869Z"
      },
      {
        "duration": 12,
        "start_time": "2021-07-07T14:04:43.885Z"
      },
      {
        "duration": 12,
        "start_time": "2021-07-07T14:04:43.899Z"
      },
      {
        "duration": 22,
        "start_time": "2021-07-07T14:04:43.914Z"
      },
      {
        "duration": 9,
        "start_time": "2021-07-07T14:04:43.940Z"
      },
      {
        "duration": 12,
        "start_time": "2021-07-07T14:04:43.952Z"
      },
      {
        "duration": 16,
        "start_time": "2021-07-07T14:04:43.967Z"
      },
      {
        "duration": 17,
        "start_time": "2021-07-07T14:04:43.985Z"
      },
      {
        "duration": 18,
        "start_time": "2021-07-07T14:04:44.004Z"
      },
      {
        "duration": 11,
        "start_time": "2021-07-07T14:04:44.024Z"
      },
      {
        "duration": 4918,
        "start_time": "2021-07-07T14:04:44.037Z"
      },
      {
        "duration": 27,
        "start_time": "2021-07-07T14:04:48.958Z"
      },
      {
        "duration": 15,
        "start_time": "2021-07-07T14:04:48.988Z"
      },
      {
        "duration": 23,
        "start_time": "2021-07-07T14:04:49.005Z"
      },
      {
        "duration": 7,
        "start_time": "2021-07-07T14:04:49.030Z"
      },
      {
        "duration": 7,
        "start_time": "2021-07-07T14:04:49.039Z"
      },
      {
        "duration": 53,
        "start_time": "2021-07-07T14:04:49.048Z"
      },
      {
        "duration": 4,
        "start_time": "2021-07-07T14:04:49.104Z"
      },
      {
        "duration": 17,
        "start_time": "2021-07-07T14:04:49.110Z"
      },
      {
        "duration": 16,
        "start_time": "2021-07-07T14:04:49.132Z"
      },
      {
        "duration": 52,
        "start_time": "2021-07-07T14:04:49.151Z"
      },
      {
        "duration": 606,
        "start_time": "2021-07-07T14:04:49.205Z"
      },
      {
        "duration": 493,
        "start_time": "2021-07-07T14:04:49.813Z"
      },
      {
        "duration": 373,
        "start_time": "2021-07-07T14:04:50.309Z"
      },
      {
        "duration": 472,
        "start_time": "2021-07-07T14:04:50.684Z"
      },
      {
        "duration": 376,
        "start_time": "2021-07-07T14:04:51.158Z"
      },
      {
        "duration": 444,
        "start_time": "2021-07-07T14:04:51.537Z"
      },
      {
        "duration": 871,
        "start_time": "2021-07-07T14:04:51.984Z"
      },
      {
        "duration": 8,
        "start_time": "2021-07-07T14:04:52.858Z"
      },
      {
        "duration": 1066,
        "start_time": "2021-07-07T14:04:52.869Z"
      },
      {
        "duration": 6,
        "start_time": "2021-07-07T14:04:53.937Z"
      },
      {
        "duration": 59,
        "start_time": "2021-07-07T14:04:53.946Z"
      },
      {
        "duration": 22,
        "start_time": "2021-07-07T14:04:54.008Z"
      },
      {
        "duration": 12,
        "start_time": "2021-07-07T14:04:54.033Z"
      },
      {
        "duration": 63,
        "start_time": "2021-07-07T14:04:54.048Z"
      },
      {
        "duration": 29,
        "start_time": "2021-07-07T14:04:54.114Z"
      },
      {
        "duration": 774,
        "start_time": "2021-07-07T14:06:06.913Z"
      },
      {
        "duration": 825,
        "start_time": "2021-07-07T14:07:08.832Z"
      },
      {
        "duration": 12,
        "start_time": "2021-07-07T14:07:46.719Z"
      },
      {
        "duration": 7,
        "start_time": "2021-07-07T14:08:06.915Z"
      },
      {
        "duration": 826,
        "start_time": "2021-07-07T14:08:16.898Z"
      },
      {
        "duration": 1292,
        "start_time": "2021-07-07T14:08:25.204Z"
      },
      {
        "duration": 1186,
        "start_time": "2021-07-07T14:08:30.764Z"
      },
      {
        "duration": 1075,
        "start_time": "2021-07-07T14:08:36.484Z"
      },
      {
        "duration": 7,
        "start_time": "2021-07-07T14:08:56.642Z"
      },
      {
        "duration": 820,
        "start_time": "2021-07-07T14:09:12.250Z"
      },
      {
        "duration": 792,
        "start_time": "2021-07-07T14:09:23.193Z"
      },
      {
        "duration": 931,
        "start_time": "2021-07-07T14:09:29.263Z"
      },
      {
        "duration": 849,
        "start_time": "2021-07-07T14:09:36.522Z"
      },
      {
        "duration": 1429,
        "start_time": "2021-07-07T16:27:28.830Z"
      },
      {
        "duration": 74,
        "start_time": "2021-07-07T16:27:30.262Z"
      },
      {
        "duration": 21,
        "start_time": "2021-07-07T16:27:30.339Z"
      },
      {
        "duration": 35,
        "start_time": "2021-07-07T16:27:30.362Z"
      },
      {
        "duration": 19,
        "start_time": "2021-07-07T16:27:30.400Z"
      },
      {
        "duration": 22,
        "start_time": "2021-07-07T16:27:30.422Z"
      },
      {
        "duration": 27,
        "start_time": "2021-07-07T16:27:30.446Z"
      },
      {
        "duration": 24,
        "start_time": "2021-07-07T16:27:30.479Z"
      },
      {
        "duration": 17,
        "start_time": "2021-07-07T16:27:30.506Z"
      },
      {
        "duration": 30,
        "start_time": "2021-07-07T16:27:30.525Z"
      },
      {
        "duration": 26,
        "start_time": "2021-07-07T16:27:30.558Z"
      },
      {
        "duration": 46,
        "start_time": "2021-07-07T16:27:30.587Z"
      },
      {
        "duration": 23,
        "start_time": "2021-07-07T16:27:30.635Z"
      },
      {
        "duration": 5280,
        "start_time": "2021-07-07T16:27:30.660Z"
      },
      {
        "duration": 30,
        "start_time": "2021-07-07T16:27:35.943Z"
      },
      {
        "duration": 30,
        "start_time": "2021-07-07T16:27:35.976Z"
      },
      {
        "duration": 32,
        "start_time": "2021-07-07T16:27:36.009Z"
      },
      {
        "duration": 16,
        "start_time": "2021-07-07T16:27:36.044Z"
      },
      {
        "duration": 43,
        "start_time": "2021-07-07T16:27:36.063Z"
      },
      {
        "duration": 19,
        "start_time": "2021-07-07T16:27:36.109Z"
      },
      {
        "duration": 13,
        "start_time": "2021-07-07T16:27:36.131Z"
      },
      {
        "duration": 26,
        "start_time": "2021-07-07T16:27:36.147Z"
      },
      {
        "duration": 49,
        "start_time": "2021-07-07T16:27:36.178Z"
      },
      {
        "duration": 39,
        "start_time": "2021-07-07T16:27:36.229Z"
      },
      {
        "duration": 662,
        "start_time": "2021-07-07T16:27:36.271Z"
      },
      {
        "duration": 523,
        "start_time": "2021-07-07T16:27:36.935Z"
      },
      {
        "duration": 425,
        "start_time": "2021-07-07T16:27:37.461Z"
      },
      {
        "duration": 546,
        "start_time": "2021-07-07T16:27:37.889Z"
      },
      {
        "duration": 420,
        "start_time": "2021-07-07T16:27:38.438Z"
      },
      {
        "duration": 527,
        "start_time": "2021-07-07T16:27:38.862Z"
      },
      {
        "duration": 973,
        "start_time": "2021-07-07T16:27:39.392Z"
      },
      {
        "duration": 6,
        "start_time": "2021-07-07T16:27:40.368Z"
      },
      {
        "duration": 1118,
        "start_time": "2021-07-07T16:27:40.376Z"
      },
      {
        "duration": 8,
        "start_time": "2021-07-07T16:27:41.496Z"
      },
      {
        "duration": 44,
        "start_time": "2021-07-07T16:27:41.507Z"
      },
      {
        "duration": 55,
        "start_time": "2021-07-07T16:27:41.554Z"
      },
      {
        "duration": 14,
        "start_time": "2021-07-07T16:27:41.612Z"
      },
      {
        "duration": 27,
        "start_time": "2021-07-07T16:27:41.628Z"
      },
      {
        "duration": 72,
        "start_time": "2021-07-07T16:27:41.657Z"
      },
      {
        "duration": 1426,
        "start_time": "2021-07-07T17:15:03.758Z"
      },
      {
        "duration": 128,
        "start_time": "2021-07-07T17:15:05.186Z"
      },
      {
        "duration": 15,
        "start_time": "2021-07-07T17:15:05.317Z"
      },
      {
        "duration": 29,
        "start_time": "2021-07-07T17:15:05.334Z"
      },
      {
        "duration": 16,
        "start_time": "2021-07-07T17:15:05.365Z"
      },
      {
        "duration": 23,
        "start_time": "2021-07-07T17:15:05.384Z"
      },
      {
        "duration": 28,
        "start_time": "2021-07-07T17:15:05.410Z"
      },
      {
        "duration": 14,
        "start_time": "2021-07-07T17:15:05.442Z"
      },
      {
        "duration": 22,
        "start_time": "2021-07-07T17:15:05.462Z"
      },
      {
        "duration": 22,
        "start_time": "2021-07-07T17:15:05.488Z"
      },
      {
        "duration": 23,
        "start_time": "2021-07-07T17:15:05.513Z"
      },
      {
        "duration": 14,
        "start_time": "2021-07-07T17:15:05.539Z"
      },
      {
        "duration": 62,
        "start_time": "2021-07-07T17:15:05.556Z"
      },
      {
        "duration": 4967,
        "start_time": "2021-07-07T17:15:05.620Z"
      },
      {
        "duration": 28,
        "start_time": "2021-07-07T17:15:10.589Z"
      },
      {
        "duration": 7,
        "start_time": "2021-07-07T17:15:10.620Z"
      },
      {
        "duration": 29,
        "start_time": "2021-07-07T17:15:10.629Z"
      },
      {
        "duration": 43,
        "start_time": "2021-07-07T17:15:10.661Z"
      },
      {
        "duration": 10,
        "start_time": "2021-07-07T17:15:10.707Z"
      },
      {
        "duration": 12,
        "start_time": "2021-07-07T17:15:10.719Z"
      },
      {
        "duration": 6,
        "start_time": "2021-07-07T17:15:10.733Z"
      },
      {
        "duration": 17,
        "start_time": "2021-07-07T17:15:10.742Z"
      },
      {
        "duration": 51,
        "start_time": "2021-07-07T17:15:10.761Z"
      },
      {
        "duration": 15,
        "start_time": "2021-07-07T17:15:10.814Z"
      },
      {
        "duration": 616,
        "start_time": "2021-07-07T17:15:10.832Z"
      },
      {
        "duration": 501,
        "start_time": "2021-07-07T17:15:11.450Z"
      },
      {
        "duration": 440,
        "start_time": "2021-07-07T17:15:11.956Z"
      },
      {
        "duration": 472,
        "start_time": "2021-07-07T17:15:12.400Z"
      },
      {
        "duration": 454,
        "start_time": "2021-07-07T17:15:12.874Z"
      },
      {
        "duration": 692,
        "start_time": "2021-07-07T17:15:13.330Z"
      },
      {
        "duration": 826,
        "start_time": "2021-07-07T17:15:14.024Z"
      },
      {
        "duration": 6,
        "start_time": "2021-07-07T17:15:14.853Z"
      },
      {
        "duration": 999,
        "start_time": "2021-07-07T17:15:14.861Z"
      },
      {
        "duration": 6,
        "start_time": "2021-07-07T17:15:15.863Z"
      },
      {
        "duration": 56,
        "start_time": "2021-07-07T17:15:15.871Z"
      },
      {
        "duration": 20,
        "start_time": "2021-07-07T17:15:15.930Z"
      },
      {
        "duration": 48,
        "start_time": "2021-07-07T17:15:15.953Z"
      },
      {
        "duration": 27,
        "start_time": "2021-07-07T17:15:16.003Z"
      },
      {
        "duration": 29,
        "start_time": "2021-07-07T17:15:16.032Z"
      },
      {
        "duration": 168,
        "start_time": "2021-07-07T18:47:14.356Z"
      },
      {
        "duration": 15,
        "start_time": "2021-07-07T18:47:30.165Z"
      },
      {
        "duration": 9,
        "start_time": "2021-07-07T18:52:36.510Z"
      },
      {
        "duration": 17,
        "start_time": "2021-07-07T18:52:41.098Z"
      },
      {
        "duration": 12,
        "start_time": "2021-07-07T18:53:02.523Z"
      },
      {
        "duration": 1587,
        "start_time": "2021-07-07T18:53:55.091Z"
      },
      {
        "duration": 84,
        "start_time": "2021-07-07T18:53:56.681Z"
      },
      {
        "duration": 16,
        "start_time": "2021-07-07T18:53:56.769Z"
      },
      {
        "duration": 8,
        "start_time": "2021-07-07T18:53:56.788Z"
      },
      {
        "duration": 8,
        "start_time": "2021-07-07T18:53:56.799Z"
      },
      {
        "duration": 10,
        "start_time": "2021-07-07T18:53:56.810Z"
      },
      {
        "duration": 21,
        "start_time": "2021-07-07T18:53:56.822Z"
      },
      {
        "duration": 9,
        "start_time": "2021-07-07T18:53:56.849Z"
      },
      {
        "duration": 46,
        "start_time": "2021-07-07T18:53:56.862Z"
      },
      {
        "duration": 8,
        "start_time": "2021-07-07T18:53:56.911Z"
      },
      {
        "duration": 15,
        "start_time": "2021-07-07T18:53:56.923Z"
      },
      {
        "duration": 60,
        "start_time": "2021-07-07T18:53:56.942Z"
      },
      {
        "duration": 6,
        "start_time": "2021-07-07T18:53:57.004Z"
      },
      {
        "duration": 16,
        "start_time": "2021-07-07T18:53:57.014Z"
      },
      {
        "duration": 467,
        "start_time": "2021-07-07T18:53:57.033Z"
      },
      {
        "duration": -257,
        "start_time": "2021-07-07T18:53:57.761Z"
      },
      {
        "duration": -260,
        "start_time": "2021-07-07T18:53:57.766Z"
      },
      {
        "duration": -262,
        "start_time": "2021-07-07T18:53:57.770Z"
      },
      {
        "duration": -264,
        "start_time": "2021-07-07T18:53:57.774Z"
      },
      {
        "duration": -268,
        "start_time": "2021-07-07T18:53:57.779Z"
      },
      {
        "duration": -270,
        "start_time": "2021-07-07T18:53:57.783Z"
      },
      {
        "duration": -273,
        "start_time": "2021-07-07T18:53:57.787Z"
      },
      {
        "duration": -275,
        "start_time": "2021-07-07T18:53:57.791Z"
      },
      {
        "duration": -277,
        "start_time": "2021-07-07T18:53:57.795Z"
      },
      {
        "duration": -281,
        "start_time": "2021-07-07T18:53:57.800Z"
      },
      {
        "duration": -283,
        "start_time": "2021-07-07T18:53:57.804Z"
      },
      {
        "duration": -286,
        "start_time": "2021-07-07T18:53:57.808Z"
      },
      {
        "duration": -285,
        "start_time": "2021-07-07T18:53:57.812Z"
      },
      {
        "duration": -287,
        "start_time": "2021-07-07T18:53:57.816Z"
      },
      {
        "duration": -288,
        "start_time": "2021-07-07T18:53:57.820Z"
      },
      {
        "duration": -289,
        "start_time": "2021-07-07T18:53:57.823Z"
      },
      {
        "duration": -292,
        "start_time": "2021-07-07T18:53:57.828Z"
      },
      {
        "duration": -294,
        "start_time": "2021-07-07T18:53:57.832Z"
      },
      {
        "duration": -296,
        "start_time": "2021-07-07T18:53:57.837Z"
      },
      {
        "duration": 1431,
        "start_time": "2021-07-07T18:54:14.237Z"
      },
      {
        "duration": 85,
        "start_time": "2021-07-07T18:54:15.671Z"
      },
      {
        "duration": 15,
        "start_time": "2021-07-07T18:54:15.759Z"
      },
      {
        "duration": 8,
        "start_time": "2021-07-07T18:54:15.778Z"
      },
      {
        "duration": 9,
        "start_time": "2021-07-07T18:54:15.789Z"
      },
      {
        "duration": 7,
        "start_time": "2021-07-07T18:54:15.801Z"
      },
      {
        "duration": 22,
        "start_time": "2021-07-07T18:54:15.811Z"
      },
      {
        "duration": 14,
        "start_time": "2021-07-07T18:54:15.837Z"
      },
      {
        "duration": 11,
        "start_time": "2021-07-07T18:54:15.856Z"
      },
      {
        "duration": 11,
        "start_time": "2021-07-07T18:54:15.902Z"
      },
      {
        "duration": 13,
        "start_time": "2021-07-07T18:54:15.916Z"
      },
      {
        "duration": 10,
        "start_time": "2021-07-07T18:54:15.931Z"
      },
      {
        "duration": 9,
        "start_time": "2021-07-07T18:54:15.943Z"
      },
      {
        "duration": 56,
        "start_time": "2021-07-07T18:54:15.955Z"
      },
      {
        "duration": 4,
        "start_time": "2021-07-07T18:54:16.013Z"
      },
      {
        "duration": 7,
        "start_time": "2021-07-07T18:54:16.019Z"
      },
      {
        "duration": 73,
        "start_time": "2021-07-07T18:54:16.029Z"
      },
      {
        "duration": 17,
        "start_time": "2021-07-07T18:54:16.105Z"
      },
      {
        "duration": 19,
        "start_time": "2021-07-07T18:54:16.125Z"
      },
      {
        "duration": 635,
        "start_time": "2021-07-07T18:54:16.147Z"
      },
      {
        "duration": 497,
        "start_time": "2021-07-07T18:54:16.785Z"
      },
      {
        "duration": 391,
        "start_time": "2021-07-07T18:54:17.285Z"
      },
      {
        "duration": 506,
        "start_time": "2021-07-07T18:54:17.681Z"
      },
      {
        "duration": 393,
        "start_time": "2021-07-07T18:54:18.190Z"
      },
      {
        "duration": 472,
        "start_time": "2021-07-07T18:54:18.586Z"
      },
      {
        "duration": 826,
        "start_time": "2021-07-07T18:54:19.060Z"
      },
      {
        "duration": 16,
        "start_time": "2021-07-07T18:54:19.889Z"
      },
      {
        "duration": 1056,
        "start_time": "2021-07-07T18:54:19.908Z"
      },
      {
        "duration": 7,
        "start_time": "2021-07-07T18:54:20.967Z"
      },
      {
        "duration": 56,
        "start_time": "2021-07-07T18:54:20.976Z"
      },
      {
        "duration": 19,
        "start_time": "2021-07-07T18:54:21.035Z"
      },
      {
        "duration": 13,
        "start_time": "2021-07-07T18:54:21.100Z"
      },
      {
        "duration": 25,
        "start_time": "2021-07-07T18:54:21.115Z"
      },
      {
        "duration": 75,
        "start_time": "2021-07-07T18:54:21.143Z"
      },
      {
        "duration": 453,
        "start_time": "2021-07-07T18:56:37.919Z"
      },
      {
        "duration": 6,
        "start_time": "2021-07-07T18:56:43.432Z"
      },
      {
        "duration": 6,
        "start_time": "2021-07-07T18:56:53.766Z"
      },
      {
        "duration": 7991,
        "start_time": "2021-07-07T18:59:24.293Z"
      },
      {
        "duration": 12,
        "start_time": "2021-07-07T18:59:41.273Z"
      },
      {
        "duration": 15,
        "start_time": "2021-07-07T19:00:39.521Z"
      },
      {
        "duration": 23,
        "start_time": "2021-07-07T19:01:00.326Z"
      },
      {
        "duration": 8,
        "start_time": "2021-07-07T19:01:20.836Z"
      },
      {
        "duration": 7,
        "start_time": "2021-07-07T19:01:36.634Z"
      },
      {
        "duration": 16,
        "start_time": "2021-07-07T19:01:53.020Z"
      },
      {
        "duration": 18,
        "start_time": "2021-07-07T19:02:14.146Z"
      },
      {
        "duration": 18,
        "start_time": "2021-07-07T19:02:26.724Z"
      },
      {
        "duration": 1526,
        "start_time": "2021-07-07T19:02:34.679Z"
      },
      {
        "duration": 81,
        "start_time": "2021-07-07T19:02:36.209Z"
      },
      {
        "duration": 19,
        "start_time": "2021-07-07T19:02:36.293Z"
      },
      {
        "duration": 26,
        "start_time": "2021-07-07T19:02:36.314Z"
      },
      {
        "duration": 15,
        "start_time": "2021-07-07T19:02:36.343Z"
      },
      {
        "duration": 12,
        "start_time": "2021-07-07T19:02:36.361Z"
      },
      {
        "duration": 29,
        "start_time": "2021-07-07T19:02:36.376Z"
      },
      {
        "duration": 9,
        "start_time": "2021-07-07T19:02:36.410Z"
      },
      {
        "duration": 8,
        "start_time": "2021-07-07T19:02:36.423Z"
      },
      {
        "duration": 12,
        "start_time": "2021-07-07T19:02:36.434Z"
      },
      {
        "duration": 11,
        "start_time": "2021-07-07T19:02:36.500Z"
      },
      {
        "duration": 11,
        "start_time": "2021-07-07T19:02:36.514Z"
      },
      {
        "duration": 11,
        "start_time": "2021-07-07T19:02:36.527Z"
      },
      {
        "duration": 68,
        "start_time": "2021-07-07T19:02:36.541Z"
      },
      {
        "duration": 6,
        "start_time": "2021-07-07T19:02:36.612Z"
      },
      {
        "duration": 10,
        "start_time": "2021-07-07T19:02:36.621Z"
      },
      {
        "duration": 19,
        "start_time": "2021-07-07T19:02:36.633Z"
      },
      {
        "duration": 58,
        "start_time": "2021-07-07T19:02:36.654Z"
      },
      {
        "duration": 21,
        "start_time": "2021-07-07T19:02:36.714Z"
      },
      {
        "duration": 15,
        "start_time": "2021-07-07T19:02:36.739Z"
      },
      {
        "duration": 714,
        "start_time": "2021-07-07T19:02:36.756Z"
      },
      {
        "duration": 527,
        "start_time": "2021-07-07T19:02:37.473Z"
      },
      {
        "duration": 417,
        "start_time": "2021-07-07T19:02:38.007Z"
      },
      {
        "duration": 455,
        "start_time": "2021-07-07T19:02:38.427Z"
      },
      {
        "duration": 408,
        "start_time": "2021-07-07T19:02:38.885Z"
      },
      {
        "duration": 477,
        "start_time": "2021-07-07T19:02:39.296Z"
      },
      {
        "duration": 968,
        "start_time": "2021-07-07T19:02:39.776Z"
      },
      {
        "duration": 6,
        "start_time": "2021-07-07T19:02:40.747Z"
      },
      {
        "duration": 1106,
        "start_time": "2021-07-07T19:02:40.755Z"
      },
      {
        "duration": 11,
        "start_time": "2021-07-07T19:02:41.864Z"
      },
      {
        "duration": 61,
        "start_time": "2021-07-07T19:02:41.879Z"
      },
      {
        "duration": 59,
        "start_time": "2021-07-07T19:02:41.944Z"
      },
      {
        "duration": 11,
        "start_time": "2021-07-07T19:02:42.006Z"
      },
      {
        "duration": 26,
        "start_time": "2021-07-07T19:02:42.020Z"
      },
      {
        "duration": 68,
        "start_time": "2021-07-07T19:02:42.049Z"
      },
      {
        "duration": 1490,
        "start_time": "2021-07-07T19:07:27.961Z"
      },
      {
        "duration": 73,
        "start_time": "2021-07-07T19:07:29.455Z"
      },
      {
        "duration": 16,
        "start_time": "2021-07-07T19:07:29.532Z"
      },
      {
        "duration": 10,
        "start_time": "2021-07-07T19:07:29.551Z"
      },
      {
        "duration": 13,
        "start_time": "2021-07-07T19:07:29.563Z"
      },
      {
        "duration": 25,
        "start_time": "2021-07-07T19:07:29.578Z"
      },
      {
        "duration": 14,
        "start_time": "2021-07-07T19:07:29.606Z"
      },
      {
        "duration": 11,
        "start_time": "2021-07-07T19:07:29.623Z"
      },
      {
        "duration": 12,
        "start_time": "2021-07-07T19:07:29.639Z"
      },
      {
        "duration": 50,
        "start_time": "2021-07-07T19:07:29.654Z"
      },
      {
        "duration": 14,
        "start_time": "2021-07-07T19:07:29.707Z"
      },
      {
        "duration": 10,
        "start_time": "2021-07-07T19:07:29.724Z"
      },
      {
        "duration": 8,
        "start_time": "2021-07-07T19:07:29.736Z"
      },
      {
        "duration": 69,
        "start_time": "2021-07-07T19:07:29.746Z"
      },
      {
        "duration": 6,
        "start_time": "2021-07-07T19:07:29.818Z"
      },
      {
        "duration": 9,
        "start_time": "2021-07-07T19:07:29.826Z"
      },
      {
        "duration": 13,
        "start_time": "2021-07-07T19:07:29.838Z"
      },
      {
        "duration": 61,
        "start_time": "2021-07-07T19:07:29.854Z"
      },
      {
        "duration": 19,
        "start_time": "2021-07-07T19:07:29.918Z"
      },
      {
        "duration": 68,
        "start_time": "2021-07-07T19:07:29.940Z"
      },
      {
        "duration": 630,
        "start_time": "2021-07-07T19:07:30.011Z"
      },
      {
        "duration": 518,
        "start_time": "2021-07-07T19:07:30.644Z"
      },
      {
        "duration": 407,
        "start_time": "2021-07-07T19:07:31.164Z"
      },
      {
        "duration": 493,
        "start_time": "2021-07-07T19:07:31.574Z"
      },
      {
        "duration": 520,
        "start_time": "2021-07-07T19:07:32.070Z"
      },
      {
        "duration": 498,
        "start_time": "2021-07-07T19:07:32.593Z"
      },
      {
        "duration": 934,
        "start_time": "2021-07-07T19:07:33.105Z"
      },
      {
        "duration": 6,
        "start_time": "2021-07-07T19:07:34.041Z"
      },
      {
        "duration": 1274,
        "start_time": "2021-07-07T19:07:34.050Z"
      },
      {
        "duration": 7,
        "start_time": "2021-07-07T19:07:35.327Z"
      },
      {
        "duration": 100,
        "start_time": "2021-07-07T19:07:35.337Z"
      },
      {
        "duration": 69,
        "start_time": "2021-07-07T19:07:35.440Z"
      },
      {
        "duration": 14,
        "start_time": "2021-07-07T19:07:35.511Z"
      },
      {
        "duration": 29,
        "start_time": "2021-07-07T19:07:35.529Z"
      },
      {
        "duration": 70,
        "start_time": "2021-07-07T19:07:35.560Z"
      },
      {
        "duration": 14,
        "start_time": "2021-07-07T19:08:38.476Z"
      },
      {
        "duration": 1439,
        "start_time": "2021-07-07T19:08:57.138Z"
      },
      {
        "duration": 76,
        "start_time": "2021-07-07T19:08:58.580Z"
      },
      {
        "duration": 20,
        "start_time": "2021-07-07T19:08:58.659Z"
      },
      {
        "duration": 12,
        "start_time": "2021-07-07T19:08:58.683Z"
      },
      {
        "duration": 9,
        "start_time": "2021-07-07T19:08:58.698Z"
      },
      {
        "duration": 6,
        "start_time": "2021-07-07T19:08:58.710Z"
      },
      {
        "duration": 18,
        "start_time": "2021-07-07T19:08:58.719Z"
      },
      {
        "duration": 10,
        "start_time": "2021-07-07T19:08:58.742Z"
      },
      {
        "duration": 47,
        "start_time": "2021-07-07T19:08:58.755Z"
      },
      {
        "duration": 8,
        "start_time": "2021-07-07T19:08:58.805Z"
      },
      {
        "duration": 13,
        "start_time": "2021-07-07T19:08:58.815Z"
      },
      {
        "duration": 11,
        "start_time": "2021-07-07T19:08:58.830Z"
      },
      {
        "duration": 59,
        "start_time": "2021-07-07T19:08:58.843Z"
      },
      {
        "duration": 14,
        "start_time": "2021-07-07T19:08:58.905Z"
      },
      {
        "duration": 6,
        "start_time": "2021-07-07T19:08:58.922Z"
      },
      {
        "duration": 14,
        "start_time": "2021-07-07T19:08:58.932Z"
      },
      {
        "duration": 66,
        "start_time": "2021-07-07T19:08:58.950Z"
      },
      {
        "duration": 30,
        "start_time": "2021-07-07T19:08:59.019Z"
      },
      {
        "duration": 27,
        "start_time": "2021-07-07T19:08:59.052Z"
      },
      {
        "duration": 639,
        "start_time": "2021-07-07T19:08:59.083Z"
      },
      {
        "duration": 496,
        "start_time": "2021-07-07T19:08:59.725Z"
      },
      {
        "duration": 543,
        "start_time": "2021-07-07T19:09:00.224Z"
      },
      {
        "duration": 631,
        "start_time": "2021-07-07T19:09:00.773Z"
      },
      {
        "duration": 382,
        "start_time": "2021-07-07T19:09:01.408Z"
      },
      {
        "duration": 485,
        "start_time": "2021-07-07T19:09:01.801Z"
      },
      {
        "duration": 1008,
        "start_time": "2021-07-07T19:09:02.289Z"
      },
      {
        "duration": 6,
        "start_time": "2021-07-07T19:09:03.301Z"
      },
      {
        "duration": 1044,
        "start_time": "2021-07-07T19:09:03.309Z"
      },
      {
        "duration": 7,
        "start_time": "2021-07-07T19:09:04.355Z"
      },
      {
        "duration": 63,
        "start_time": "2021-07-07T19:09:04.365Z"
      },
      {
        "duration": 22,
        "start_time": "2021-07-07T19:09:04.430Z"
      },
      {
        "duration": 46,
        "start_time": "2021-07-07T19:09:04.455Z"
      },
      {
        "duration": 26,
        "start_time": "2021-07-07T19:09:04.504Z"
      },
      {
        "duration": 30,
        "start_time": "2021-07-07T19:09:04.533Z"
      },
      {
        "duration": 18,
        "start_time": "2021-07-07T19:10:46.633Z"
      },
      {
        "duration": 1491,
        "start_time": "2021-07-07T19:10:51.737Z"
      },
      {
        "duration": 73,
        "start_time": "2021-07-07T19:10:53.231Z"
      },
      {
        "duration": 15,
        "start_time": "2021-07-07T19:10:53.307Z"
      },
      {
        "duration": 12,
        "start_time": "2021-07-07T19:10:53.325Z"
      },
      {
        "duration": 8,
        "start_time": "2021-07-07T19:10:53.339Z"
      },
      {
        "duration": 51,
        "start_time": "2021-07-07T19:10:53.349Z"
      },
      {
        "duration": 12,
        "start_time": "2021-07-07T19:10:53.403Z"
      },
      {
        "duration": 12,
        "start_time": "2021-07-07T19:10:53.419Z"
      },
      {
        "duration": 9,
        "start_time": "2021-07-07T19:10:53.435Z"
      },
      {
        "duration": 54,
        "start_time": "2021-07-07T19:10:53.447Z"
      },
      {
        "duration": 11,
        "start_time": "2021-07-07T19:10:53.503Z"
      },
      {
        "duration": 17,
        "start_time": "2021-07-07T19:10:53.518Z"
      },
      {
        "duration": 11,
        "start_time": "2021-07-07T19:10:53.539Z"
      },
      {
        "duration": 56,
        "start_time": "2021-07-07T19:10:53.553Z"
      },
      {
        "duration": 6,
        "start_time": "2021-07-07T19:10:53.612Z"
      },
      {
        "duration": 14,
        "start_time": "2021-07-07T19:10:53.620Z"
      },
      {
        "duration": 18,
        "start_time": "2021-07-07T19:10:53.637Z"
      },
      {
        "duration": 18,
        "start_time": "2021-07-07T19:10:53.702Z"
      },
      {
        "duration": 21,
        "start_time": "2021-07-07T19:10:53.723Z"
      },
      {
        "duration": 666,
        "start_time": "2021-07-07T19:10:53.747Z"
      },
      {
        "duration": 512,
        "start_time": "2021-07-07T19:10:54.416Z"
      },
      {
        "duration": 414,
        "start_time": "2021-07-07T19:10:54.931Z"
      },
      {
        "duration": 516,
        "start_time": "2021-07-07T19:10:55.351Z"
      },
      {
        "duration": 579,
        "start_time": "2021-07-07T19:10:55.870Z"
      },
      {
        "duration": 657,
        "start_time": "2021-07-07T19:10:56.453Z"
      },
      {
        "duration": 1237,
        "start_time": "2021-07-07T19:10:57.114Z"
      },
      {
        "duration": 8,
        "start_time": "2021-07-07T19:10:58.354Z"
      },
      {
        "duration": 1561,
        "start_time": "2021-07-07T19:10:58.366Z"
      },
      {
        "duration": 8,
        "start_time": "2021-07-07T19:10:59.930Z"
      },
      {
        "duration": 78,
        "start_time": "2021-07-07T19:10:59.941Z"
      },
      {
        "duration": 26,
        "start_time": "2021-07-07T19:11:00.021Z"
      },
      {
        "duration": 14,
        "start_time": "2021-07-07T19:11:00.050Z"
      },
      {
        "duration": 65,
        "start_time": "2021-07-07T19:11:00.067Z"
      },
      {
        "duration": 76,
        "start_time": "2021-07-07T19:11:00.136Z"
      },
      {
        "duration": 984,
        "start_time": "2021-07-07T19:12:22.754Z"
      },
      {
        "duration": 1063,
        "start_time": "2021-07-07T19:12:45.406Z"
      },
      {
        "duration": 1085,
        "start_time": "2021-07-07T19:13:07.593Z"
      },
      {
        "duration": 1064,
        "start_time": "2021-07-07T19:13:18.798Z"
      },
      {
        "duration": 1019,
        "start_time": "2021-07-07T19:13:30.245Z"
      },
      {
        "duration": 984,
        "start_time": "2021-07-07T19:13:38.066Z"
      },
      {
        "duration": 1060,
        "start_time": "2021-07-07T19:13:44.413Z"
      },
      {
        "duration": 1009,
        "start_time": "2021-07-07T19:13:51.031Z"
      },
      {
        "duration": 952,
        "start_time": "2021-07-07T19:14:29.018Z"
      },
      {
        "duration": 1224,
        "start_time": "2021-07-07T19:14:35.976Z"
      },
      {
        "duration": 10,
        "start_time": "2021-07-07T19:16:01.532Z"
      }
    ],
    "kernelspec": {
      "display_name": "Python 3",
      "language": "python",
      "name": "python3"
    },
    "language_info": {
      "codemirror_mode": {
        "name": "ipython",
        "version": 3
      },
      "file_extension": ".py",
      "mimetype": "text/x-python",
      "name": "python",
      "nbconvert_exporter": "python",
      "pygments_lexer": "ipython3",
      "version": "3.7.8"
    },
    "toc": {
      "base_numbering": 1,
      "nav_menu": {},
      "number_sections": true,
      "sideBar": true,
      "skip_h1_title": true,
      "title_cell": "Table of Contents",
      "title_sidebar": "Contents",
      "toc_cell": false,
      "toc_position": {
        "height": "calc(100% - 180px)",
        "left": "10px",
        "top": "150px",
        "width": "270.391px"
      },
      "toc_section_display": true,
      "toc_window_display": true
    },
    "colab": {
      "name": "ABTest.ipynb",
      "provenance": []
    }
  },
  "cells": [
    {
      "cell_type": "markdown",
      "metadata": {
        "id": "PbTDmy0d_otC"
      },
      "source": [
        "# Аналитика интернет-магазина"
      ]
    },
    {
      "cell_type": "markdown",
      "metadata": {
        "id": "kznCzpCe_otC"
      },
      "source": [
        "Вы — аналитик крупного интернет-магазина. Вместе с отделом маркетинга вы подготовили список гипотез для увеличения выручки.\n",
        "Приоритизируйте гипотезы, запустите A/B-тест и проанализируйте результаты."
      ]
    },
    {
      "cell_type": "markdown",
      "metadata": {
        "id": "e247tqtN_otD"
      },
      "source": [
        "## Загрузка данных и подготовка их к анализу"
      ]
    },
    {
      "cell_type": "code",
      "metadata": {
        "id": "0qXutrMF_otD"
      },
      "source": [
        "import pandas as pd\n",
        "import matplotlib.pyplot as plt\n",
        "from scipy import stats as stats\n",
        "import numpy as np\n",
        "import seaborn as sns\n",
        "pd.options.mode.chained_assignment = None  # default='warn'\n",
        "pd.set_option('display.max_colwidth', -1)\n",
        "pd.plotting.register_matplotlib_converters()"
      ],
      "execution_count": null,
      "outputs": []
    },
    {
      "cell_type": "code",
      "metadata": {
        "id": "qz9Lxx1M_otG"
      },
      "source": [
        "hypothesis = pd.read_csv('/datasets/hypothesis.csv')\n",
        "orders = pd.read_csv('/datasets/orders.csv')\n",
        "visitors = pd.read_csv('/datasets/visitors.csv')"
      ],
      "execution_count": null,
      "outputs": []
    },
    {
      "cell_type": "code",
      "metadata": {
        "id": "ZIOQq-TO_otG",
        "outputId": "ea153478-a689-46f7-bd61-745ca51f5f92"
      },
      "source": [
        "hypothesis.head()"
      ],
      "execution_count": null,
      "outputs": [
        {
          "data": {
            "text/html": [
              "<div>\n",
              "<style scoped>\n",
              "    .dataframe tbody tr th:only-of-type {\n",
              "        vertical-align: middle;\n",
              "    }\n",
              "\n",
              "    .dataframe tbody tr th {\n",
              "        vertical-align: top;\n",
              "    }\n",
              "\n",
              "    .dataframe thead th {\n",
              "        text-align: right;\n",
              "    }\n",
              "</style>\n",
              "<table border=\"1\" class=\"dataframe\">\n",
              "  <thead>\n",
              "    <tr style=\"text-align: right;\">\n",
              "      <th></th>\n",
              "      <th>Hypothesis</th>\n",
              "      <th>Reach</th>\n",
              "      <th>Impact</th>\n",
              "      <th>Confidence</th>\n",
              "      <th>Efforts</th>\n",
              "    </tr>\n",
              "  </thead>\n",
              "  <tbody>\n",
              "    <tr>\n",
              "      <td>0</td>\n",
              "      <td>Добавить два новых канала привлечения трафика, что позволит привлекать на 30% больше пользователей</td>\n",
              "      <td>3</td>\n",
              "      <td>10</td>\n",
              "      <td>8</td>\n",
              "      <td>6</td>\n",
              "    </tr>\n",
              "    <tr>\n",
              "      <td>1</td>\n",
              "      <td>Запустить собственную службу доставки, что сократит срок доставки заказов</td>\n",
              "      <td>2</td>\n",
              "      <td>5</td>\n",
              "      <td>4</td>\n",
              "      <td>10</td>\n",
              "    </tr>\n",
              "    <tr>\n",
              "      <td>2</td>\n",
              "      <td>Добавить блоки рекомендаций товаров на сайт интернет магазина, чтобы повысить конверсию и средний чек заказа</td>\n",
              "      <td>8</td>\n",
              "      <td>3</td>\n",
              "      <td>7</td>\n",
              "      <td>3</td>\n",
              "    </tr>\n",
              "    <tr>\n",
              "      <td>3</td>\n",
              "      <td>Изменить структура категорий, что увеличит конверсию, т.к. пользователи быстрее найдут нужный товар</td>\n",
              "      <td>8</td>\n",
              "      <td>3</td>\n",
              "      <td>3</td>\n",
              "      <td>8</td>\n",
              "    </tr>\n",
              "    <tr>\n",
              "      <td>4</td>\n",
              "      <td>Изменить цвет фона главной страницы, чтобы увеличить вовлеченность пользователей</td>\n",
              "      <td>3</td>\n",
              "      <td>1</td>\n",
              "      <td>1</td>\n",
              "      <td>1</td>\n",
              "    </tr>\n",
              "  </tbody>\n",
              "</table>\n",
              "</div>"
            ],
            "text/plain": [
              "                                                                                                     Hypothesis  \\\n",
              "0  Добавить два новых канала привлечения трафика, что позволит привлекать на 30% больше пользователей             \n",
              "1  Запустить собственную службу доставки, что сократит срок доставки заказов                                      \n",
              "2  Добавить блоки рекомендаций товаров на сайт интернет магазина, чтобы повысить конверсию и средний чек заказа   \n",
              "3  Изменить структура категорий, что увеличит конверсию, т.к. пользователи быстрее найдут нужный товар            \n",
              "4  Изменить цвет фона главной страницы, чтобы увеличить вовлеченность пользователей                               \n",
              "\n",
              "   Reach  Impact  Confidence  Efforts  \n",
              "0  3      10      8           6        \n",
              "1  2      5       4           10       \n",
              "2  8      3       7           3        \n",
              "3  8      3       3           8        \n",
              "4  3      1       1           1        "
            ]
          },
          "execution_count": 3,
          "metadata": {},
          "output_type": "execute_result"
        }
      ]
    },
    {
      "cell_type": "code",
      "metadata": {
        "id": "UIfhh2Cj_otI",
        "outputId": "ef39fd0d-76cb-4b26-e57d-1fbaca6a6261"
      },
      "source": [
        "hypothesis.info()"
      ],
      "execution_count": null,
      "outputs": [
        {
          "name": "stdout",
          "output_type": "stream",
          "text": [
            "<class 'pandas.core.frame.DataFrame'>\n",
            "RangeIndex: 9 entries, 0 to 8\n",
            "Data columns (total 5 columns):\n",
            "Hypothesis    9 non-null object\n",
            "Reach         9 non-null int64\n",
            "Impact        9 non-null int64\n",
            "Confidence    9 non-null int64\n",
            "Efforts       9 non-null int64\n",
            "dtypes: int64(4), object(1)\n",
            "memory usage: 488.0+ bytes\n"
          ]
        }
      ]
    },
    {
      "cell_type": "code",
      "metadata": {
        "id": "SndiJUM2_otJ",
        "outputId": "8f241d1e-74ff-4800-fe9a-fb2c6867b1c6"
      },
      "source": [
        "hypothesis.duplicated().sum()"
      ],
      "execution_count": null,
      "outputs": [
        {
          "data": {
            "text/plain": [
              "0"
            ]
          },
          "execution_count": 5,
          "metadata": {},
          "output_type": "execute_result"
        }
      ]
    },
    {
      "cell_type": "code",
      "metadata": {
        "id": "r1Stbepb_otK"
      },
      "source": [
        "hypothesis.columns = hypothesis.columns.str.lower()"
      ],
      "execution_count": null,
      "outputs": []
    },
    {
      "cell_type": "code",
      "metadata": {
        "id": "IvmCzNKu_otK",
        "outputId": "db1706c2-0fe6-4b96-c1e8-85fb8a007e7c"
      },
      "source": [
        "orders.head()"
      ],
      "execution_count": null,
      "outputs": [
        {
          "data": {
            "text/html": [
              "<div>\n",
              "<style scoped>\n",
              "    .dataframe tbody tr th:only-of-type {\n",
              "        vertical-align: middle;\n",
              "    }\n",
              "\n",
              "    .dataframe tbody tr th {\n",
              "        vertical-align: top;\n",
              "    }\n",
              "\n",
              "    .dataframe thead th {\n",
              "        text-align: right;\n",
              "    }\n",
              "</style>\n",
              "<table border=\"1\" class=\"dataframe\">\n",
              "  <thead>\n",
              "    <tr style=\"text-align: right;\">\n",
              "      <th></th>\n",
              "      <th>transactionId</th>\n",
              "      <th>visitorId</th>\n",
              "      <th>date</th>\n",
              "      <th>revenue</th>\n",
              "      <th>group</th>\n",
              "    </tr>\n",
              "  </thead>\n",
              "  <tbody>\n",
              "    <tr>\n",
              "      <td>0</td>\n",
              "      <td>3667963787</td>\n",
              "      <td>3312258926</td>\n",
              "      <td>2019-08-15</td>\n",
              "      <td>1650</td>\n",
              "      <td>B</td>\n",
              "    </tr>\n",
              "    <tr>\n",
              "      <td>1</td>\n",
              "      <td>2804400009</td>\n",
              "      <td>3642806036</td>\n",
              "      <td>2019-08-15</td>\n",
              "      <td>730</td>\n",
              "      <td>B</td>\n",
              "    </tr>\n",
              "    <tr>\n",
              "      <td>2</td>\n",
              "      <td>2961555356</td>\n",
              "      <td>4069496402</td>\n",
              "      <td>2019-08-15</td>\n",
              "      <td>400</td>\n",
              "      <td>A</td>\n",
              "    </tr>\n",
              "    <tr>\n",
              "      <td>3</td>\n",
              "      <td>3797467345</td>\n",
              "      <td>1196621759</td>\n",
              "      <td>2019-08-15</td>\n",
              "      <td>9759</td>\n",
              "      <td>B</td>\n",
              "    </tr>\n",
              "    <tr>\n",
              "      <td>4</td>\n",
              "      <td>2282983706</td>\n",
              "      <td>2322279887</td>\n",
              "      <td>2019-08-15</td>\n",
              "      <td>2308</td>\n",
              "      <td>B</td>\n",
              "    </tr>\n",
              "  </tbody>\n",
              "</table>\n",
              "</div>"
            ],
            "text/plain": [
              "   transactionId   visitorId        date  revenue group\n",
              "0  3667963787     3312258926  2019-08-15  1650     B   \n",
              "1  2804400009     3642806036  2019-08-15  730      B   \n",
              "2  2961555356     4069496402  2019-08-15  400      A   \n",
              "3  3797467345     1196621759  2019-08-15  9759     B   \n",
              "4  2282983706     2322279887  2019-08-15  2308     B   "
            ]
          },
          "execution_count": 7,
          "metadata": {},
          "output_type": "execute_result"
        }
      ]
    },
    {
      "cell_type": "code",
      "metadata": {
        "id": "6ajCYyZi_otM",
        "outputId": "23d3f8a8-a41c-427a-8629-b793b1461d94"
      },
      "source": [
        "orders.info()"
      ],
      "execution_count": null,
      "outputs": [
        {
          "name": "stdout",
          "output_type": "stream",
          "text": [
            "<class 'pandas.core.frame.DataFrame'>\n",
            "RangeIndex: 1197 entries, 0 to 1196\n",
            "Data columns (total 5 columns):\n",
            "transactionId    1197 non-null int64\n",
            "visitorId        1197 non-null int64\n",
            "date             1197 non-null object\n",
            "revenue          1197 non-null int64\n",
            "group            1197 non-null object\n",
            "dtypes: int64(3), object(2)\n",
            "memory usage: 46.9+ KB\n"
          ]
        }
      ]
    },
    {
      "cell_type": "code",
      "metadata": {
        "id": "eKaEKjAS_otO",
        "outputId": "9bd309c1-9c30-47b0-ef9b-71141ae21725"
      },
      "source": [
        "orders.duplicated().sum()"
      ],
      "execution_count": null,
      "outputs": [
        {
          "data": {
            "text/plain": [
              "0"
            ]
          },
          "execution_count": 9,
          "metadata": {},
          "output_type": "execute_result"
        }
      ]
    },
    {
      "cell_type": "code",
      "metadata": {
        "id": "52z2tyQN_otP"
      },
      "source": [
        "orders['date'] = orders['date'].astype('datetime64[D]')\n",
        "orders.columns = ['transaction_id', 'visitor_id', 'date', 'revenue', 'group']"
      ],
      "execution_count": null,
      "outputs": []
    },
    {
      "cell_type": "code",
      "metadata": {
        "id": "2F7w5tPT_otP",
        "outputId": "074f4b09-8e73-4835-adae-8a69056c0d85"
      },
      "source": [
        "visitors.head()"
      ],
      "execution_count": null,
      "outputs": [
        {
          "data": {
            "text/html": [
              "<div>\n",
              "<style scoped>\n",
              "    .dataframe tbody tr th:only-of-type {\n",
              "        vertical-align: middle;\n",
              "    }\n",
              "\n",
              "    .dataframe tbody tr th {\n",
              "        vertical-align: top;\n",
              "    }\n",
              "\n",
              "    .dataframe thead th {\n",
              "        text-align: right;\n",
              "    }\n",
              "</style>\n",
              "<table border=\"1\" class=\"dataframe\">\n",
              "  <thead>\n",
              "    <tr style=\"text-align: right;\">\n",
              "      <th></th>\n",
              "      <th>date</th>\n",
              "      <th>group</th>\n",
              "      <th>visitors</th>\n",
              "    </tr>\n",
              "  </thead>\n",
              "  <tbody>\n",
              "    <tr>\n",
              "      <td>0</td>\n",
              "      <td>2019-08-01</td>\n",
              "      <td>A</td>\n",
              "      <td>719</td>\n",
              "    </tr>\n",
              "    <tr>\n",
              "      <td>1</td>\n",
              "      <td>2019-08-02</td>\n",
              "      <td>A</td>\n",
              "      <td>619</td>\n",
              "    </tr>\n",
              "    <tr>\n",
              "      <td>2</td>\n",
              "      <td>2019-08-03</td>\n",
              "      <td>A</td>\n",
              "      <td>507</td>\n",
              "    </tr>\n",
              "    <tr>\n",
              "      <td>3</td>\n",
              "      <td>2019-08-04</td>\n",
              "      <td>A</td>\n",
              "      <td>717</td>\n",
              "    </tr>\n",
              "    <tr>\n",
              "      <td>4</td>\n",
              "      <td>2019-08-05</td>\n",
              "      <td>A</td>\n",
              "      <td>756</td>\n",
              "    </tr>\n",
              "  </tbody>\n",
              "</table>\n",
              "</div>"
            ],
            "text/plain": [
              "         date group  visitors\n",
              "0  2019-08-01  A     719     \n",
              "1  2019-08-02  A     619     \n",
              "2  2019-08-03  A     507     \n",
              "3  2019-08-04  A     717     \n",
              "4  2019-08-05  A     756     "
            ]
          },
          "execution_count": 11,
          "metadata": {},
          "output_type": "execute_result"
        }
      ]
    },
    {
      "cell_type": "code",
      "metadata": {
        "id": "yk4YoY_Q_otR",
        "outputId": "6fccb6dc-d6db-44b1-e172-4bd4b49067f7"
      },
      "source": [
        "visitors.info()"
      ],
      "execution_count": null,
      "outputs": [
        {
          "name": "stdout",
          "output_type": "stream",
          "text": [
            "<class 'pandas.core.frame.DataFrame'>\n",
            "RangeIndex: 62 entries, 0 to 61\n",
            "Data columns (total 3 columns):\n",
            "date        62 non-null object\n",
            "group       62 non-null object\n",
            "visitors    62 non-null int64\n",
            "dtypes: int64(1), object(2)\n",
            "memory usage: 1.6+ KB\n"
          ]
        }
      ]
    },
    {
      "cell_type": "code",
      "metadata": {
        "id": "y_J2p-50_otS"
      },
      "source": [
        "visitors['date'] = visitors['date'].astype('datetime64[D]')"
      ],
      "execution_count": null,
      "outputs": []
    },
    {
      "cell_type": "markdown",
      "metadata": {
        "id": "048WuoI__otU"
      },
      "source": [
        "Посчитаем количество уникальных значений для каждого пользователя в каждой группе.<br>\n",
        "В случае, если значение счетчика больше единицы, это будет означать, что пользователь попал в обе группы и мы запишем его id в отдельный список."
      ]
    },
    {
      "cell_type": "code",
      "metadata": {
        "id": "AyYSCBIQ_otW",
        "outputId": "55033411-2c84-443b-b5de-d7d3ec091e7d"
      },
      "source": [
        "group_count = orders.groupby('visitor_id').agg({'group' : 'nunique'}).reset_index()\n",
        "group_count = group_count[group_count['group']>1]\n",
        "visitors_in_both_groups = list(group_count['visitor_id'])\n",
        "len(group_count['visitor_id'].unique())"
      ],
      "execution_count": null,
      "outputs": [
        {
          "data": {
            "text/plain": [
              "58"
            ]
          },
          "execution_count": 14,
          "metadata": {},
          "output_type": "execute_result"
        }
      ]
    },
    {
      "cell_type": "code",
      "metadata": {
        "id": "bEya-YwE_otW",
        "outputId": "6c75474d-3014-4c38-e5fd-fb1d60d40ee6"
      },
      "source": [
        "len(orders['visitor_id'].unique())"
      ],
      "execution_count": null,
      "outputs": [
        {
          "data": {
            "text/plain": [
              "1031"
            ]
          },
          "execution_count": 15,
          "metadata": {},
          "output_type": "execute_result"
        }
      ]
    },
    {
      "cell_type": "markdown",
      "metadata": {
        "id": "Vo2TsRwB_otX"
      },
      "source": [
        "58 пользователей попало в обе группы. 58 пользователей из 1031 - всего лишь 5 процентов от общего числа пользователей. Отфильтруем таблицу orders от пользователей, попавших в обе группы."
      ]
    },
    {
      "cell_type": "code",
      "metadata": {
        "id": "ujBRQEaR_otY"
      },
      "source": [
        "orders = orders.query('visitor_id not in @visitors_in_both_groups')"
      ],
      "execution_count": null,
      "outputs": []
    },
    {
      "cell_type": "code",
      "metadata": {
        "id": "xvgUbJ67_ota",
        "outputId": "5b1d2098-e2c3-4a6e-f37c-1f24c1554098"
      },
      "source": [
        "orders.info()"
      ],
      "execution_count": null,
      "outputs": [
        {
          "name": "stdout",
          "output_type": "stream",
          "text": [
            "<class 'pandas.core.frame.DataFrame'>\n",
            "Int64Index: 1016 entries, 0 to 1196\n",
            "Data columns (total 5 columns):\n",
            "transaction_id    1016 non-null int64\n",
            "visitor_id        1016 non-null int64\n",
            "date              1016 non-null datetime64[ns]\n",
            "revenue           1016 non-null int64\n",
            "group             1016 non-null object\n",
            "dtypes: datetime64[ns](1), int64(3), object(1)\n",
            "memory usage: 47.6+ KB\n"
          ]
        }
      ]
    },
    {
      "cell_type": "markdown",
      "metadata": {
        "id": "Z0UTX2Eg_otb"
      },
      "source": [
        "### Вывод"
      ]
    },
    {
      "cell_type": "markdown",
      "metadata": {
        "id": "3cnHM_1A_otd"
      },
      "source": [
        "- Названия столбцов приведены к нижнему регистру\n",
        "- Пропуски в данных не обнаружены\n",
        "- Дубликаты в данных не обнаружены\n",
        "- Столбцы, содержащие в себе дату, приведены к типу данных datetime\n",
        "- Определены пользователи, попавшие в обе группы, исходная таблица отфильтрована"
      ]
    },
    {
      "cell_type": "markdown",
      "metadata": {
        "id": "jbBarKNP_ote"
      },
      "source": [
        "## Приоритизация гипотез."
      ]
    },
    {
      "cell_type": "markdown",
      "metadata": {
        "id": "v9rhFj_a_otf"
      },
      "source": [
        "### Примените фреймворк ICE для приоритизации гипотез. Отсортируйте их по убыванию приоритета"
      ]
    },
    {
      "cell_type": "code",
      "metadata": {
        "id": "w_4onSfa_otf",
        "outputId": "b80f8641-99ec-49a2-ae47-7ad5ea337a47"
      },
      "source": [
        "hypothesis['ICE'] = round((hypothesis['impact'] * hypothesis['confidence'])/hypothesis['efforts'])\n",
        "hypothesis[['hypothesis','ICE']].sort_values(by='ICE', ascending=False)"
      ],
      "execution_count": null,
      "outputs": [
        {
          "data": {
            "text/html": [
              "<div>\n",
              "<style scoped>\n",
              "    .dataframe tbody tr th:only-of-type {\n",
              "        vertical-align: middle;\n",
              "    }\n",
              "\n",
              "    .dataframe tbody tr th {\n",
              "        vertical-align: top;\n",
              "    }\n",
              "\n",
              "    .dataframe thead th {\n",
              "        text-align: right;\n",
              "    }\n",
              "</style>\n",
              "<table border=\"1\" class=\"dataframe\">\n",
              "  <thead>\n",
              "    <tr style=\"text-align: right;\">\n",
              "      <th></th>\n",
              "      <th>hypothesis</th>\n",
              "      <th>ICE</th>\n",
              "    </tr>\n",
              "  </thead>\n",
              "  <tbody>\n",
              "    <tr>\n",
              "      <td>8</td>\n",
              "      <td>Запустить акцию, дающую скидку на товар в день рождения</td>\n",
              "      <td>16.0</td>\n",
              "    </tr>\n",
              "    <tr>\n",
              "      <td>0</td>\n",
              "      <td>Добавить два новых канала привлечения трафика, что позволит привлекать на 30% больше пользователей</td>\n",
              "      <td>13.0</td>\n",
              "    </tr>\n",
              "    <tr>\n",
              "      <td>7</td>\n",
              "      <td>Добавить форму подписки на все основные страницы, чтобы собрать базу клиентов для email-рассылок</td>\n",
              "      <td>11.0</td>\n",
              "    </tr>\n",
              "    <tr>\n",
              "      <td>6</td>\n",
              "      <td>Показать на главной странице баннеры с актуальными акциями и распродажами, чтобы увеличить конверсию</td>\n",
              "      <td>8.0</td>\n",
              "    </tr>\n",
              "    <tr>\n",
              "      <td>2</td>\n",
              "      <td>Добавить блоки рекомендаций товаров на сайт интернет магазина, чтобы повысить конверсию и средний чек заказа</td>\n",
              "      <td>7.0</td>\n",
              "    </tr>\n",
              "    <tr>\n",
              "      <td>1</td>\n",
              "      <td>Запустить собственную службу доставки, что сократит срок доставки заказов</td>\n",
              "      <td>2.0</td>\n",
              "    </tr>\n",
              "    <tr>\n",
              "      <td>3</td>\n",
              "      <td>Изменить структура категорий, что увеличит конверсию, т.к. пользователи быстрее найдут нужный товар</td>\n",
              "      <td>1.0</td>\n",
              "    </tr>\n",
              "    <tr>\n",
              "      <td>4</td>\n",
              "      <td>Изменить цвет фона главной страницы, чтобы увеличить вовлеченность пользователей</td>\n",
              "      <td>1.0</td>\n",
              "    </tr>\n",
              "    <tr>\n",
              "      <td>5</td>\n",
              "      <td>Добавить страницу отзывов клиентов о магазине, что позволит увеличить количество заказов</td>\n",
              "      <td>1.0</td>\n",
              "    </tr>\n",
              "  </tbody>\n",
              "</table>\n",
              "</div>"
            ],
            "text/plain": [
              "                                                                                                     hypothesis  \\\n",
              "8  Запустить акцию, дающую скидку на товар в день рождения                                                        \n",
              "0  Добавить два новых канала привлечения трафика, что позволит привлекать на 30% больше пользователей             \n",
              "7  Добавить форму подписки на все основные страницы, чтобы собрать базу клиентов для email-рассылок               \n",
              "6  Показать на главной странице баннеры с актуальными акциями и распродажами, чтобы увеличить конверсию           \n",
              "2  Добавить блоки рекомендаций товаров на сайт интернет магазина, чтобы повысить конверсию и средний чек заказа   \n",
              "1  Запустить собственную службу доставки, что сократит срок доставки заказов                                      \n",
              "3  Изменить структура категорий, что увеличит конверсию, т.к. пользователи быстрее найдут нужный товар            \n",
              "4  Изменить цвет фона главной страницы, чтобы увеличить вовлеченность пользователей                               \n",
              "5  Добавить страницу отзывов клиентов о магазине, что позволит увеличить количество заказов                       \n",
              "\n",
              "    ICE  \n",
              "8  16.0  \n",
              "0  13.0  \n",
              "7  11.0  \n",
              "6  8.0   \n",
              "2  7.0   \n",
              "1  2.0   \n",
              "3  1.0   \n",
              "4  1.0   \n",
              "5  1.0   "
            ]
          },
          "execution_count": 17,
          "metadata": {},
          "output_type": "execute_result"
        }
      ]
    },
    {
      "cell_type": "markdown",
      "metadata": {
        "id": "fPFaCIVk_oth"
      },
      "source": [
        "### Примените фреймворк RICE для приоритизации гипотез. Отсортируйте их по убыванию приоритета."
      ]
    },
    {
      "cell_type": "code",
      "metadata": {
        "id": "aLnyTbfS_oth",
        "outputId": "43591a1b-9634-4229-83fd-c044c8a550ba"
      },
      "source": [
        "hypothesis['RICE'] = (hypothesis['reach']* hypothesis['impact'] * hypothesis['confidence'])/hypothesis['efforts']\n",
        "hypothesis[['hypothesis','RICE']].sort_values(by='RICE', ascending=False)"
      ],
      "execution_count": null,
      "outputs": [
        {
          "data": {
            "text/html": [
              "<div>\n",
              "<style scoped>\n",
              "    .dataframe tbody tr th:only-of-type {\n",
              "        vertical-align: middle;\n",
              "    }\n",
              "\n",
              "    .dataframe tbody tr th {\n",
              "        vertical-align: top;\n",
              "    }\n",
              "\n",
              "    .dataframe thead th {\n",
              "        text-align: right;\n",
              "    }\n",
              "</style>\n",
              "<table border=\"1\" class=\"dataframe\">\n",
              "  <thead>\n",
              "    <tr style=\"text-align: right;\">\n",
              "      <th></th>\n",
              "      <th>hypothesis</th>\n",
              "      <th>RICE</th>\n",
              "    </tr>\n",
              "  </thead>\n",
              "  <tbody>\n",
              "    <tr>\n",
              "      <td>7</td>\n",
              "      <td>Добавить форму подписки на все основные страницы, чтобы собрать базу клиентов для email-рассылок</td>\n",
              "      <td>112.0</td>\n",
              "    </tr>\n",
              "    <tr>\n",
              "      <td>2</td>\n",
              "      <td>Добавить блоки рекомендаций товаров на сайт интернет магазина, чтобы повысить конверсию и средний чек заказа</td>\n",
              "      <td>56.0</td>\n",
              "    </tr>\n",
              "    <tr>\n",
              "      <td>0</td>\n",
              "      <td>Добавить два новых канала привлечения трафика, что позволит привлекать на 30% больше пользователей</td>\n",
              "      <td>40.0</td>\n",
              "    </tr>\n",
              "    <tr>\n",
              "      <td>6</td>\n",
              "      <td>Показать на главной странице баннеры с актуальными акциями и распродажами, чтобы увеличить конверсию</td>\n",
              "      <td>40.0</td>\n",
              "    </tr>\n",
              "    <tr>\n",
              "      <td>8</td>\n",
              "      <td>Запустить акцию, дающую скидку на товар в день рождения</td>\n",
              "      <td>16.2</td>\n",
              "    </tr>\n",
              "    <tr>\n",
              "      <td>3</td>\n",
              "      <td>Изменить структура категорий, что увеличит конверсию, т.к. пользователи быстрее найдут нужный товар</td>\n",
              "      <td>9.0</td>\n",
              "    </tr>\n",
              "    <tr>\n",
              "      <td>1</td>\n",
              "      <td>Запустить собственную службу доставки, что сократит срок доставки заказов</td>\n",
              "      <td>4.0</td>\n",
              "    </tr>\n",
              "    <tr>\n",
              "      <td>5</td>\n",
              "      <td>Добавить страницу отзывов клиентов о магазине, что позволит увеличить количество заказов</td>\n",
              "      <td>4.0</td>\n",
              "    </tr>\n",
              "    <tr>\n",
              "      <td>4</td>\n",
              "      <td>Изменить цвет фона главной страницы, чтобы увеличить вовлеченность пользователей</td>\n",
              "      <td>3.0</td>\n",
              "    </tr>\n",
              "  </tbody>\n",
              "</table>\n",
              "</div>"
            ],
            "text/plain": [
              "                                                                                                     hypothesis  \\\n",
              "7  Добавить форму подписки на все основные страницы, чтобы собрать базу клиентов для email-рассылок               \n",
              "2  Добавить блоки рекомендаций товаров на сайт интернет магазина, чтобы повысить конверсию и средний чек заказа   \n",
              "0  Добавить два новых канала привлечения трафика, что позволит привлекать на 30% больше пользователей             \n",
              "6  Показать на главной странице баннеры с актуальными акциями и распродажами, чтобы увеличить конверсию           \n",
              "8  Запустить акцию, дающую скидку на товар в день рождения                                                        \n",
              "3  Изменить структура категорий, что увеличит конверсию, т.к. пользователи быстрее найдут нужный товар            \n",
              "1  Запустить собственную службу доставки, что сократит срок доставки заказов                                      \n",
              "5  Добавить страницу отзывов клиентов о магазине, что позволит увеличить количество заказов                       \n",
              "4  Изменить цвет фона главной страницы, чтобы увеличить вовлеченность пользователей                               \n",
              "\n",
              "    RICE  \n",
              "7  112.0  \n",
              "2  56.0   \n",
              "0  40.0   \n",
              "6  40.0   \n",
              "8  16.2   \n",
              "3  9.0    \n",
              "1  4.0    \n",
              "5  4.0    \n",
              "4  3.0    "
            ]
          },
          "execution_count": 18,
          "metadata": {},
          "output_type": "execute_result"
        }
      ]
    },
    {
      "cell_type": "markdown",
      "metadata": {
        "id": "O30fwCxq_oti"
      },
      "source": [
        "### Укажите, как изменилась приоритизация гипотез при применении RICE вместо ICE. Объясните, почему так произошло."
      ]
    },
    {
      "cell_type": "code",
      "metadata": {
        "id": "aiqS5jZ-_oti",
        "outputId": "d29c293e-5a96-4374-e9a5-0c27b2af6718"
      },
      "source": [
        "hypothesis[['hypothesis','ICE','RICE']].sort_values(by='ICE', ascending=False)"
      ],
      "execution_count": null,
      "outputs": [
        {
          "data": {
            "text/html": [
              "<div>\n",
              "<style scoped>\n",
              "    .dataframe tbody tr th:only-of-type {\n",
              "        vertical-align: middle;\n",
              "    }\n",
              "\n",
              "    .dataframe tbody tr th {\n",
              "        vertical-align: top;\n",
              "    }\n",
              "\n",
              "    .dataframe thead th {\n",
              "        text-align: right;\n",
              "    }\n",
              "</style>\n",
              "<table border=\"1\" class=\"dataframe\">\n",
              "  <thead>\n",
              "    <tr style=\"text-align: right;\">\n",
              "      <th></th>\n",
              "      <th>hypothesis</th>\n",
              "      <th>ICE</th>\n",
              "      <th>RICE</th>\n",
              "    </tr>\n",
              "  </thead>\n",
              "  <tbody>\n",
              "    <tr>\n",
              "      <td>8</td>\n",
              "      <td>Запустить акцию, дающую скидку на товар в день рождения</td>\n",
              "      <td>16.0</td>\n",
              "      <td>16.2</td>\n",
              "    </tr>\n",
              "    <tr>\n",
              "      <td>0</td>\n",
              "      <td>Добавить два новых канала привлечения трафика, что позволит привлекать на 30% больше пользователей</td>\n",
              "      <td>13.0</td>\n",
              "      <td>40.0</td>\n",
              "    </tr>\n",
              "    <tr>\n",
              "      <td>7</td>\n",
              "      <td>Добавить форму подписки на все основные страницы, чтобы собрать базу клиентов для email-рассылок</td>\n",
              "      <td>11.0</td>\n",
              "      <td>112.0</td>\n",
              "    </tr>\n",
              "    <tr>\n",
              "      <td>6</td>\n",
              "      <td>Показать на главной странице баннеры с актуальными акциями и распродажами, чтобы увеличить конверсию</td>\n",
              "      <td>8.0</td>\n",
              "      <td>40.0</td>\n",
              "    </tr>\n",
              "    <tr>\n",
              "      <td>2</td>\n",
              "      <td>Добавить блоки рекомендаций товаров на сайт интернет магазина, чтобы повысить конверсию и средний чек заказа</td>\n",
              "      <td>7.0</td>\n",
              "      <td>56.0</td>\n",
              "    </tr>\n",
              "    <tr>\n",
              "      <td>1</td>\n",
              "      <td>Запустить собственную службу доставки, что сократит срок доставки заказов</td>\n",
              "      <td>2.0</td>\n",
              "      <td>4.0</td>\n",
              "    </tr>\n",
              "    <tr>\n",
              "      <td>3</td>\n",
              "      <td>Изменить структура категорий, что увеличит конверсию, т.к. пользователи быстрее найдут нужный товар</td>\n",
              "      <td>1.0</td>\n",
              "      <td>9.0</td>\n",
              "    </tr>\n",
              "    <tr>\n",
              "      <td>4</td>\n",
              "      <td>Изменить цвет фона главной страницы, чтобы увеличить вовлеченность пользователей</td>\n",
              "      <td>1.0</td>\n",
              "      <td>3.0</td>\n",
              "    </tr>\n",
              "    <tr>\n",
              "      <td>5</td>\n",
              "      <td>Добавить страницу отзывов клиентов о магазине, что позволит увеличить количество заказов</td>\n",
              "      <td>1.0</td>\n",
              "      <td>4.0</td>\n",
              "    </tr>\n",
              "  </tbody>\n",
              "</table>\n",
              "</div>"
            ],
            "text/plain": [
              "                                                                                                     hypothesis  \\\n",
              "8  Запустить акцию, дающую скидку на товар в день рождения                                                        \n",
              "0  Добавить два новых канала привлечения трафика, что позволит привлекать на 30% больше пользователей             \n",
              "7  Добавить форму подписки на все основные страницы, чтобы собрать базу клиентов для email-рассылок               \n",
              "6  Показать на главной странице баннеры с актуальными акциями и распродажами, чтобы увеличить конверсию           \n",
              "2  Добавить блоки рекомендаций товаров на сайт интернет магазина, чтобы повысить конверсию и средний чек заказа   \n",
              "1  Запустить собственную службу доставки, что сократит срок доставки заказов                                      \n",
              "3  Изменить структура категорий, что увеличит конверсию, т.к. пользователи быстрее найдут нужный товар            \n",
              "4  Изменить цвет фона главной страницы, чтобы увеличить вовлеченность пользователей                               \n",
              "5  Добавить страницу отзывов клиентов о магазине, что позволит увеличить количество заказов                       \n",
              "\n",
              "    ICE   RICE  \n",
              "8  16.0  16.2   \n",
              "0  13.0  40.0   \n",
              "7  11.0  112.0  \n",
              "6  8.0   40.0   \n",
              "2  7.0   56.0   \n",
              "1  2.0   4.0    \n",
              "3  1.0   9.0    \n",
              "4  1.0   3.0    \n",
              "5  1.0   4.0    "
            ]
          },
          "execution_count": 19,
          "metadata": {},
          "output_type": "execute_result"
        }
      ]
    },
    {
      "cell_type": "markdown",
      "metadata": {
        "id": "KB3V-ngf_otj"
      },
      "source": [
        "Применив фреймворк ICE, в качестве приоритетных гипотез выделили гипотезы:\n",
        "- Запустить акцию, дающую скидку на товар в день рождения\n",
        "- Добавить два новых канала привлечения трафика, что позволит привлекать на 30% больше пользователей\n",
        "- Добавить форму подписки на все основные страницы, чтобы собрать базу клиентов для email-рассылок"
      ]
    },
    {
      "cell_type": "markdown",
      "metadata": {
        "id": "mys3h-tD_otj"
      },
      "source": [
        "Применив фреймворк RICE, в качестве приоритетных гипотез выделили гипотезы:\n",
        "- Добавить форму подписки на все основные страницы, чтобы собрать базу клиентов для email-рассылок\n",
        "- Добавить блоки рекомендаций товаров на сайт интернет магазина, чтобы повысить конверсию и средний чек заказа\n",
        "- Добавить два новых канала привлечения трафика, что позволит привлекать на 30% больше пользователей\n",
        "<br><br>\n",
        "Такие различия в приоритетах объясняются тем, что в первом случае, мы не учитывали параметр охвата пользователей Reach."
      ]
    },
    {
      "cell_type": "markdown",
      "metadata": {
        "id": "qAFpms3j_otk"
      },
      "source": [
        "## Анализ A/B-теста"
      ]
    },
    {
      "cell_type": "markdown",
      "metadata": {
        "id": "B0xQcWsA_otk"
      },
      "source": [
        "### Постройте график кумулятивной выручки по группам. Сделайте выводы и предположения."
      ]
    },
    {
      "cell_type": "code",
      "metadata": {
        "id": "MaEztoqB_otk",
        "outputId": "1ce836ed-b33c-43dc-eb55-4662fc6ba4e5"
      },
      "source": [
        "datesGroups = orders[['date','group']].drop_duplicates() \n",
        "ordersAggregated = datesGroups.apply(lambda x: orders[np.logical_and(orders['date'] <= x['date'], orders['group'] == x['group'])].agg({'date' : 'max', 'group' : 'max', 'transaction_id' : pd.Series.nunique, 'visitor_id' : pd.Series.nunique, 'revenue' : 'sum'}), axis=1).sort_values(by=['date','group'])\n",
        "visitorsAggregated = datesGroups.apply(lambda x: visitors[np.logical_and(visitors['date'] <= x['date'], visitors['group'] == x['group'])].agg({'date' : 'max', 'group' : 'max', 'visitors' : 'sum'}), axis=1).sort_values(by=['date','group'])\n",
        "cumulativeData = ordersAggregated.merge(visitorsAggregated, left_on=['date', 'group'], right_on=['date', 'group'])\n",
        "cumulativeData.columns = ['date', 'group', 'orders', 'buyers', 'revenue', 'visitors']\n",
        "\n",
        "cumulativeData.head(5)"
      ],
      "execution_count": null,
      "outputs": [
        {
          "data": {
            "text/html": [
              "<div>\n",
              "<style scoped>\n",
              "    .dataframe tbody tr th:only-of-type {\n",
              "        vertical-align: middle;\n",
              "    }\n",
              "\n",
              "    .dataframe tbody tr th {\n",
              "        vertical-align: top;\n",
              "    }\n",
              "\n",
              "    .dataframe thead th {\n",
              "        text-align: right;\n",
              "    }\n",
              "</style>\n",
              "<table border=\"1\" class=\"dataframe\">\n",
              "  <thead>\n",
              "    <tr style=\"text-align: right;\">\n",
              "      <th></th>\n",
              "      <th>date</th>\n",
              "      <th>group</th>\n",
              "      <th>orders</th>\n",
              "      <th>buyers</th>\n",
              "      <th>revenue</th>\n",
              "      <th>visitors</th>\n",
              "    </tr>\n",
              "  </thead>\n",
              "  <tbody>\n",
              "    <tr>\n",
              "      <td>0</td>\n",
              "      <td>2019-08-01</td>\n",
              "      <td>A</td>\n",
              "      <td>23</td>\n",
              "      <td>19</td>\n",
              "      <td>142779</td>\n",
              "      <td>719</td>\n",
              "    </tr>\n",
              "    <tr>\n",
              "      <td>1</td>\n",
              "      <td>2019-08-01</td>\n",
              "      <td>B</td>\n",
              "      <td>17</td>\n",
              "      <td>17</td>\n",
              "      <td>59758</td>\n",
              "      <td>713</td>\n",
              "    </tr>\n",
              "    <tr>\n",
              "      <td>2</td>\n",
              "      <td>2019-08-02</td>\n",
              "      <td>A</td>\n",
              "      <td>42</td>\n",
              "      <td>36</td>\n",
              "      <td>234381</td>\n",
              "      <td>1338</td>\n",
              "    </tr>\n",
              "    <tr>\n",
              "      <td>3</td>\n",
              "      <td>2019-08-02</td>\n",
              "      <td>B</td>\n",
              "      <td>40</td>\n",
              "      <td>39</td>\n",
              "      <td>221801</td>\n",
              "      <td>1294</td>\n",
              "    </tr>\n",
              "    <tr>\n",
              "      <td>4</td>\n",
              "      <td>2019-08-03</td>\n",
              "      <td>A</td>\n",
              "      <td>66</td>\n",
              "      <td>60</td>\n",
              "      <td>346854</td>\n",
              "      <td>1845</td>\n",
              "    </tr>\n",
              "  </tbody>\n",
              "</table>\n",
              "</div>"
            ],
            "text/plain": [
              "        date group  orders  buyers  revenue  visitors\n",
              "0 2019-08-01  A     23      19      142779   719     \n",
              "1 2019-08-01  B     17      17      59758    713     \n",
              "2 2019-08-02  A     42      36      234381   1338    \n",
              "3 2019-08-02  B     40      39      221801   1294    \n",
              "4 2019-08-03  A     66      60      346854   1845    "
            ]
          },
          "execution_count": 20,
          "metadata": {},
          "output_type": "execute_result"
        }
      ]
    },
    {
      "cell_type": "code",
      "metadata": {
        "id": "cSMWRG7J_otk",
        "outputId": "751fed72-fa56-44cf-a219-e36119d9cc2b"
      },
      "source": [
        "cumulativeRevenueA = cumulativeData[cumulativeData['group']=='A'][['date','revenue', 'orders']]\n",
        "cumulativeRevenueB = cumulativeData[cumulativeData['group']=='B'][['date','revenue', 'orders']]\n",
        "\n",
        "plt.figure(figsize=(12,4))\n",
        "plt.plot(cumulativeRevenueA['date'], cumulativeRevenueA['revenue'], label = 'A')\n",
        "plt.plot(cumulativeRevenueB['date'], cumulativeRevenueB['revenue'], label = 'B')\n",
        "plt.ylabel('Выручка')\n",
        "plt.xlabel('Дата')\n",
        "plt.title('Графики кумулятивной выручки по группам A/B')\n",
        "plt.legend()\n",
        "plt.annotate('скачок', xy=('2019-08-17', 2800000), xytext=('2019-08-10', 3500000),\n",
        "            arrowprops=dict(facecolor='g'))\n",
        "plt.annotate('отрыв', xy=('2019-08-05', 800000), xytext=('2019-08-05', 2000000),\n",
        "            arrowprops=dict(facecolor='g'))\n",
        "plt.show()"
      ],
      "execution_count": null,
      "outputs": [
        {
          "data": {
            "image/png": "[encoded data removed]",
            "text/plain": [
              "<Figure size 864x288 with 1 Axes>"
            ]
          },
          "metadata": {
            "needs_background": "light"
          },
          "output_type": "display_data"
        }
      ]
    },
    {
      "cell_type": "markdown",
      "metadata": {
        "id": "9NWEb-03_otl"
      },
      "source": [
        "До 5 августа кумулятивная выручка по обоим сегментам практически равна. С 5 августа группа B вырывается вперед по кумулятивной выручке, причем с 18-19 августа у группы B происходит резкий скачок, и до конца теста группа B продолжает лидировать."
      ]
    },
    {
      "cell_type": "markdown",
      "metadata": {
        "id": "N0wwcGK9_otn"
      },
      "source": [
        "### Постройте график кумулятивного среднего чека по группам. Сделайте выводы и предположения."
      ]
    },
    {
      "cell_type": "code",
      "metadata": {
        "scrolled": true,
        "id": "duqkjzpN_oto",
        "outputId": "0b7d9324-a274-4e19-f88e-9679235d5af1"
      },
      "source": [
        "plt.figure(figsize=(12,4))\n",
        "plt.plot(cumulativeRevenueA['date'], cumulativeRevenueA['revenue']/cumulativeRevenueA['orders'], label = 'A')\n",
        "plt.plot(cumulativeRevenueB['date'], cumulativeRevenueB['revenue']/cumulativeRevenueB['orders'], label = 'B')\n",
        "plt.title('Графики кумулятивного среднего чека по группам A/B')\n",
        "plt.ylabel('Средний чек')\n",
        "plt.xlabel('Дата')\n",
        "plt.legend()\n",
        "plt.show()"
      ],
      "execution_count": null,
      "outputs": [
        {
          "data": {
            "image/png": "[encoded data removed]",
            "text/plain": [
              "<Figure size 864x288 with 1 Axes>"
            ]
          },
          "metadata": {
            "needs_background": "light"
          },
          "output_type": "display_data"
        }
      ]
    },
    {
      "cell_type": "markdown",
      "metadata": {
        "id": "nu-z85vA_oto"
      },
      "source": [
        "Средний чек группы B почти все время был выше, чем средний чек группы A, лишь 13 августа группа A немного вырывается вперед. Опять же с 18-19 августа наблюдаем резкий скачок у группы B, как на графике кумулятивной выручки. Возможно, это обусловлено аномалиями, необходимо это выяснить при дальнейшем анализе."
      ]
    },
    {
      "cell_type": "markdown",
      "metadata": {
        "id": "bCk4h-kA_oto"
      },
      "source": [
        "### Постройте график относительного изменения кумулятивного среднего чека группы B к группе A. Сделайте выводы и предположения."
      ]
    },
    {
      "cell_type": "code",
      "metadata": {
        "id": "rzJZrmHw_otp",
        "outputId": "1029edf1-acd5-41c5-a411-4946d73cda42"
      },
      "source": [
        "mergedCumulativeRevenue = cumulativeRevenueA.merge(cumulativeRevenueB, left_on='date', right_on='date', how='left', suffixes=['A', 'B'])\n",
        "\n",
        "plt.figure(figsize=(12,4))\n",
        "plt.plot(mergedCumulativeRevenue['date'], (mergedCumulativeRevenue['revenueB']/mergedCumulativeRevenue['ordersB'])/(mergedCumulativeRevenue['revenueA']/mergedCumulativeRevenue['ordersA'])-1)\n",
        "plt.title('График относительного изменения кумулятивного среднего чека группы B к группе A')\n",
        "plt.xlabel('Дата')\n",
        "plt.ylabel('Относительное различие')\n",
        "plt.axhline(y=0, color='black', linestyle='--')\n",
        "plt.show()"
      ],
      "execution_count": null,
      "outputs": [
        {
          "data": {
            "image/png": "[encoded data removed]",
            "text/plain": [
              "<Figure size 864x288 with 1 Axes>"
            ]
          },
          "metadata": {
            "needs_background": "light"
          },
          "output_type": "display_data"
        }
      ]
    },
    {
      "cell_type": "markdown",
      "metadata": {
        "id": "Kn1IJrkb_otq"
      },
      "source": [
        "Результаты теста значительно резко менялись в нескольких точках (13 августа, 18-19 августа) - в дальнейшем необходимо рассмотреть выбросы в данных."
      ]
    },
    {
      "cell_type": "markdown",
      "metadata": {
        "id": "77Rij4wV_otq"
      },
      "source": [
        "### Постройте график кумулятивной конверсии по группам. Сделайте выводы и предположения."
      ]
    },
    {
      "cell_type": "code",
      "metadata": {
        "id": "Nj9WK5zU_otq",
        "outputId": "72955622-3f39-44b5-cc2d-88d03c2d26a6"
      },
      "source": [
        "cumulativeData['conversion'] = cumulativeData['orders']/cumulativeData['visitors']\n",
        "cumulativeDataA = cumulativeData[cumulativeData['group']=='A']\n",
        "cumulativeDataB = cumulativeData[cumulativeData['group']=='B']\n",
        "\n",
        "plt.figure(figsize=(12,4))\n",
        "plt.plot(cumulativeDataA['date'], cumulativeDataA['conversion'], label='A')\n",
        "plt.plot(cumulativeDataB['date'], cumulativeDataB['conversion'], label='B')\n",
        "plt.title('График кумулятивной конверсии по группам A/B')\n",
        "plt.xlabel('Дата')\n",
        "plt.ylabel('Конверсия')\n",
        "plt.legend()\n",
        "plt.show()"
      ],
      "execution_count": null,
      "outputs": [
        {
          "data": {
            "image/png": "[encoded data removed]",
            "text/plain": [
              "<Figure size 864x288 with 1 Axes>"
            ]
          },
          "metadata": {
            "needs_background": "light"
          },
          "output_type": "display_data"
        }
      ]
    },
    {
      "cell_type": "markdown",
      "metadata": {
        "id": "bqlJ9dUE_otr"
      },
      "source": [
        "Начиная с 6 августа, конверсия группы B вырвалась вперед, а конверсия группы A просела."
      ]
    },
    {
      "cell_type": "markdown",
      "metadata": {
        "id": "BBKPGf4U_otr"
      },
      "source": [
        "### Постройте график относительного изменения кумулятивной конверсии группы B к группе A. Сделайте выводы и предположения."
      ]
    },
    {
      "cell_type": "code",
      "metadata": {
        "scrolled": false,
        "id": "LTDPFx9D_ots",
        "outputId": "d5269605-dc33-426c-e6b3-5a3156d14c38"
      },
      "source": [
        "mergedCumulativeConversions = cumulativeDataA[['date','conversion']].merge(cumulativeDataB[['date','conversion']], left_on='date', right_on='date', how='left', suffixes=['A', 'B'])\n",
        "\n",
        "plt.figure(figsize=(12,4))\n",
        "plt.plot(mergedCumulativeConversions['date'], mergedCumulativeConversions['conversionB']/mergedCumulativeConversions['conversionA']-1)\n",
        "plt.title('График относительного изменения кумулятивной конверсии группы B к группе A')\n",
        "plt.axhline(y=0, color='black', linestyle='--')\n",
        "plt.axhline(y=0.1, color='grey', linestyle='--')\n",
        "plt.ylabel('Относительное различие')\n",
        "plt.xlabel('Дата')\n",
        "plt.show()"
      ],
      "execution_count": null,
      "outputs": [
        {
          "data": {
            "image/png": "[encoded data removed]",
            "text/plain": [
              "<Figure size 864x288 with 1 Axes>"
            ]
          },
          "metadata": {
            "needs_background": "light"
          },
          "output_type": "display_data"
        }
      ]
    },
    {
      "cell_type": "markdown",
      "metadata": {
        "id": "5Y11-IE5_otu"
      },
      "source": [
        "По просшествии недели, примерно с 7 августа, конверсия группы B стабильно выше конверсии группы A."
      ]
    },
    {
      "cell_type": "markdown",
      "metadata": {
        "id": "eIvD6zU4_otu"
      },
      "source": [
        "### Постройте точечный график количества заказов по пользователям. Сделайте выводы и предположения."
      ]
    },
    {
      "cell_type": "code",
      "metadata": {
        "id": "XXYS10_5_otu",
        "outputId": "ab8411c0-d007-4990-ef75-f00ddd803980"
      },
      "source": [
        "ordersByUsers = (\n",
        "    orders\n",
        "    .groupby('visitor_id', as_index=False)\n",
        "    .agg({'transaction_id': 'nunique'})\n",
        ")\n",
        "ordersByUsers.columns = ['visitor_id', 'orders']\n",
        "\n",
        "plt.figure(figsize=(12,4))\n",
        "plt.hist(ordersByUsers['orders'], range=(1,6), bins = 10)\n",
        "plt.title('Гистрограмма распределения количества заказов на одного пользователя')\n",
        "plt.ylabel('Частота')\n",
        "plt.xlabel('Количество заказов')\n",
        "plt.show()\n",
        "\n",
        "x_values = pd.Series(range(0, len(ordersByUsers)))\n",
        "plt.figure(figsize=(12,4))\n",
        "plt.scatter(x_values, ordersByUsers['orders'])\n",
        "plt.title('Точечная диаграмма числа заказов на одного пользователя')\n",
        "plt.ylabel('Количество заказов')\n",
        "plt.xlabel('Частота')\n",
        "plt.show()"
      ],
      "execution_count": null,
      "outputs": [
        {
          "data": {
            "image/png": "[encoded data removed]",
            "text/plain": [
              "<Figure size 864x288 with 1 Axes>"
            ]
          },
          "metadata": {
            "needs_background": "light"
          },
          "output_type": "display_data"
        },
        {
          "data": {
            "image/png": "[encoded data removed]",
            "text/plain": [
              "<Figure size 864x288 with 1 Axes>"
            ]
          },
          "metadata": {
            "needs_background": "light"
          },
          "output_type": "display_data"
        }
      ]
    },
    {
      "cell_type": "markdown",
      "metadata": {
        "id": "UGT4c8nF_otv"
      },
      "source": [
        "Чаще всего пользователи совершают 1 или 2 заказа. Реже больше 2 заказов."
      ]
    },
    {
      "cell_type": "markdown",
      "metadata": {
        "id": "lju3TpoX_otv"
      },
      "source": [
        "### Посчитайте 95-й и 99-й перцентили количества заказов на пользователя. Выберите границу для определения аномальных пользователей."
      ]
    },
    {
      "cell_type": "code",
      "metadata": {
        "id": "ghYTArsq_otw",
        "outputId": "32d87867-233d-415b-dbed-dc2b970cfc6c"
      },
      "source": [
        "percentiles = np.percentile(ordersByUsers['orders'], [95, 99])\n",
        "print('95 перцентиль: {}'.format(percentiles[0]))\n",
        "print('99 перцентиль: {}'.format(percentiles[1]))"
      ],
      "execution_count": null,
      "outputs": [
        {
          "name": "stdout",
          "output_type": "stream",
          "text": [
            "95 перцентиль: 1.0\n",
            "99 перцентиль: 2.0\n"
          ]
        }
      ]
    },
    {
      "cell_type": "markdown",
      "metadata": {
        "id": "UxKq3_Pb_otw"
      },
      "source": [
        "Не более 5% пользователей совершают больше 1 заказа и не более 1% больше 2 заказов.<br>\n",
        "В качестве границы определения аномальных пользователей возьмем значение в 1 заказ."
      ]
    },
    {
      "cell_type": "markdown",
      "metadata": {
        "id": "VL035HUO_otw"
      },
      "source": [
        "### Постройте точечный график стоимостей заказов. Сделайте выводы и предположения."
      ]
    },
    {
      "cell_type": "code",
      "metadata": {
        "id": "5vXbI1xl_otw",
        "outputId": "efca4a18-abcb-4a48-c86b-d92bf02416a1"
      },
      "source": [
        "plt.figure(figsize=(12,4))\n",
        "plt.hist(orders['revenue'], range=(0,100000), bins = 100)\n",
        "plt.title('Гистрограмма распределения сумм заказов на одного пользователя')\n",
        "plt.ylabel('Частота')\n",
        "plt.xlabel('Сумма заказа')\n",
        "plt.show()\n",
        "x_values = pd.Series(range(0, len(orders)))\n",
        "plt.figure(figsize=(12,4))\n",
        "plt.scatter(x_values, orders['revenue'])\n",
        "plt.ylabel('Сумма заказа')\n",
        "plt.xlabel('Частота')\n",
        "plt.axis([0, 1025, 0, 200000])\n",
        "plt.title('Точечная диаграмма сумм заказов на одного пользователя')\n",
        "plt.show()"
      ],
      "execution_count": null,
      "outputs": [
        {
          "data": {
            "image/png": "[encoded data removed]",
            "text/plain": [
              "<Figure size 864x288 with 1 Axes>"
            ]
          },
          "metadata": {
            "needs_background": "light"
          },
          "output_type": "display_data"
        },
        {
          "data": {
            "image/png": "[encoded data removed]",
            "text/plain": [
              "<Figure size 864x288 with 1 Axes>"
            ]
          },
          "metadata": {
            "needs_background": "light"
          },
          "output_type": "display_data"
        }
      ]
    },
    {
      "cell_type": "markdown",
      "metadata": {
        "id": "oe73cN78_otw"
      },
      "source": [
        "Проанализировав графики, можно сделать вывод, что большая часть пользователей совершает покупки на сумму не больше 25-30 тысяч рублей."
      ]
    },
    {
      "cell_type": "markdown",
      "metadata": {
        "id": "Iha1QBYu_otx"
      },
      "source": [
        "### Посчитайте 95-й и 99-й перцентили стоимости заказов. Выберите границу для определения аномальных заказов."
      ]
    },
    {
      "cell_type": "code",
      "metadata": {
        "id": "ag3D6EHY_otx",
        "outputId": "cf22656a-3306-4a88-a2ad-cfb66e691b31"
      },
      "source": [
        "percentiles = np.percentile(orders['revenue'], [95, 99])\n",
        "print('95 перцентиль: {:.0f}'.format(percentiles[0]))\n",
        "print('99 перцентиль: {:.0f}'.format(percentiles[1]))"
      ],
      "execution_count": null,
      "outputs": [
        {
          "name": "stdout",
          "output_type": "stream",
          "text": [
            "95 перцентиль: 26785\n",
            "99 перцентиль: 53904\n"
          ]
        }
      ]
    },
    {
      "cell_type": "markdown",
      "metadata": {
        "id": "Vvf3GosA_otx"
      },
      "source": [
        "Не более 5% заказов дороже 26785 рублей и не более 1% дороже 53904 рублей.<br>\n",
        "В качестве границы определения аномальных заказов возьмем значение в 26785 рублей."
      ]
    },
    {
      "cell_type": "markdown",
      "metadata": {
        "id": "Ocn5E5Ha_oty"
      },
      "source": [
        "### Посчитайте статистическую значимость различий в конверсии между группами по «сырым» данным. Сделайте выводы и предположения."
      ]
    },
    {
      "cell_type": "markdown",
      "metadata": {
        "id": "5Uul-WT__oty"
      },
      "source": [
        "Для тестирования гипотез применим тест Уилкоксона-Манна-Уитни, так как в данных присутствуют выбросы, а данный тест работает с рангами, не учитывая сами значения.\n",
        "\n",
        "Нулевая гипотеза:  Cтатистически значимых различий в конверсии между группами по \"сырым данным\" нет. <br>\n",
        "Альтернативная гипотеза: Cтатистически значимые различия в конверсии между группами \"сырым данным\" есть.\n",
        "\n",
        "Критерий значимости или уровень достоверности для всех последующих тестов определим как 0,05 (5%). Таким образом при проверке статистических гипотез вероятность совершить ошибку первого рода, то есть отвергнуть истинную нулевую гипотезу, будет равна 5%."
      ]
    },
    {
      "cell_type": "code",
      "metadata": {
        "id": "9VUl4dfj_oty",
        "outputId": "531156b4-4791-44fb-9e2a-1bd1d42f4593"
      },
      "source": [
        "ordersByUsersA = orders[orders['group']=='A'].groupby('visitor_id', as_index=False).agg({'transaction_id':'nunique'})\n",
        "ordersByUsersA.columns = ['visitor_id', 'orders']\n",
        "ordersByUsersB = orders[orders['group']=='B'].groupby('visitor_id', as_index=False).agg({'transaction_id':'nunique'})\n",
        "ordersByUsersB.columns = ['visitor_id', 'orders']\n",
        "\n",
        "\n",
        "sampleA = pd.concat(\n",
        "    [\n",
        "        ordersByUsersA['orders'],\n",
        "        pd.Series(\n",
        "            0,\n",
        "            index=np.arange(\n",
        "                visitors[visitors['group']=='A']['visitors'].sum() - len(ordersByUsersA['orders'])\n",
        "            ),\n",
        "            name='orders',\n",
        "        ),\n",
        "    ],\n",
        "    axis=0,\n",
        ")\n",
        "\n",
        "sampleB = pd.concat(\n",
        "    [\n",
        "        ordersByUsersB['orders'],\n",
        "        pd.Series(\n",
        "            0,\n",
        "            index=np.arange(\n",
        "                visitors[visitors['group']=='B']['visitors'].sum() - len(ordersByUsersB['orders'])\n",
        "            ),\n",
        "            name='orders',\n",
        "        ),\n",
        "    ],\n",
        "    axis=0,\n",
        ")\n",
        "\n",
        "alpha = 0.05\n",
        "\n",
        "print('Относительный прирост конверсии группы B по отношению к группе A: {:.3f}'.format(sampleB.mean()/sampleA.mean()-1))\n",
        "print('P-value: {0:.5f}'.format(stats.mannwhitneyu(sampleA, sampleB, alternative = 'two-sided')[1]))\n",
        "if (stats.mannwhitneyu(sampleA, sampleB, alternative = 'two-sided')[1] < alpha):\n",
        "    print(\"Отвергаем нулевую гипотезу\")\n",
        "else:\n",
        "    print(\"Не получилось отвергнуть нулевую гипотезу\")"
      ],
      "execution_count": null,
      "outputs": [
        {
          "name": "stdout",
          "output_type": "stream",
          "text": [
            "Относительный прирост конверсии группы B по отношению к группе A: 0.160\n",
            "P-value: 0.01102\n",
            "Отвергаем нулевую гипотезу\n"
          ]
        }
      ]
    },
    {
      "cell_type": "markdown",
      "metadata": {
        "id": "MEq5bMpK_oty"
      },
      "source": [
        "По сырым данным различия в конверсии между группами статистически значимы."
      ]
    },
    {
      "cell_type": "markdown",
      "metadata": {
        "id": "JeJKBSAo_oty"
      },
      "source": [
        "### Посчитайте статистическую значимость различий в среднем чеке заказа между группами по «сырым» данным. Сделайте выводы и предположения."
      ]
    },
    {
      "cell_type": "markdown",
      "metadata": {
        "id": "nmwaRtzH_otz"
      },
      "source": [
        "Нулевая гипотеза:  Cтатистически значимых различий в cреднем чеке заказа между группами по \"сырым данным\" нет. <br>\n",
        "Альтернативная гипотеза: Cтатистически значимые различия в cреднем чеке заказа между группами по \"сырым данным\" есть."
      ]
    },
    {
      "cell_type": "code",
      "metadata": {
        "id": "vk4o1PYa_otz",
        "outputId": "7d29ed20-84a3-4168-8554-46b90736ec75"
      },
      "source": [
        "print('Относительный прирост среднего чека группы B по отношению к группе A: {0:.3f}'.format(orders[orders['group']=='B']['revenue'].mean()/orders[orders['group']=='A']['revenue'].mean()-1))\n",
        "print('P-value: {0:.5f}'.format(stats.mannwhitneyu(orders[orders['group']=='A']['revenue'], orders[orders['group']=='B']['revenue'],alternative = 'two-sided')[1], alternative = 'two-sided'))\n",
        "if (stats.mannwhitneyu(orders[orders['group']=='A']['revenue'], orders[orders['group']=='B']['revenue'],alternative = 'two-sided')[1] < alpha):\n",
        "    print(\"Отвергаем нулевую гипотезу\")\n",
        "else:\n",
        "    print(\"Не получилось отвергнуть нулевую гипотезу\")"
      ],
      "execution_count": null,
      "outputs": [
        {
          "name": "stdout",
          "output_type": "stream",
          "text": [
            "Относительный прирост среднего чека группы B по отношению к группе A: 0.287\n",
            "P-value: 0.82949\n",
            "Не получилось отвергнуть нулевую гипотезу\n"
          ]
        }
      ]
    },
    {
      "cell_type": "markdown",
      "metadata": {
        "id": "23Z-eoXc_otz"
      },
      "source": [
        "Отвергнуть нулевую гипотезу об отсутствии статистически значимых различий в среднем чеке заказа между группами по сырым данным не можем."
      ]
    },
    {
      "cell_type": "markdown",
      "metadata": {
        "id": "Gkbc2hBY_ot0"
      },
      "source": [
        "Протестируем гипотезы на очищенных данных и сравним результаты тестов."
      ]
    },
    {
      "cell_type": "markdown",
      "metadata": {
        "id": "t8dNZhTd_ot0"
      },
      "source": [
        "### Посчитайте статистическую значимость различий в конверсии между группами по «очищенным» данным. Сделайте выводы и предположения"
      ]
    },
    {
      "cell_type": "code",
      "metadata": {
        "id": "2Uhp4Aw4_ot0"
      },
      "source": [
        "usersWithManyOrders = pd.concat(\n",
        "    [\n",
        "        ordersByUsersA[ordersByUsersA['orders'] > 1]['visitor_id'],\n",
        "        ordersByUsersB[ordersByUsersB['orders'] > 1]['visitor_id'],\n",
        "    ],\n",
        "    axis=0,\n",
        ")\n",
        "usersWithExpensiveOrders = orders[orders['revenue'] > 26785]['visitor_id']\n",
        "abnormalUsers = (\n",
        "    pd.concat([usersWithManyOrders, usersWithExpensiveOrders], axis=0)\n",
        "    .drop_duplicates()\n",
        "    .sort_values()\n",
        ")"
      ],
      "execution_count": null,
      "outputs": []
    },
    {
      "cell_type": "markdown",
      "metadata": {
        "id": "xYQYhhK7_ot1"
      },
      "source": [
        "Нулевая гипотеза: Cтатистически значимых различий в конверсии между группами по очищенным данным нет. <br>\n",
        "Альтернативная гипотеза: Cтатистически значимые различия в конверсии между группами по очищенным данным\" есть."
      ]
    },
    {
      "cell_type": "code",
      "metadata": {
        "id": "58uC8TzN_ot1",
        "outputId": "79183a37-4d07-400c-c3e2-fafb6d289493"
      },
      "source": [
        "sampleAFiltered = pd.concat(\n",
        "    [\n",
        "        ordersByUsersA[\n",
        "            np.logical_not(ordersByUsersA['visitor_id'].isin(abnormalUsers))\n",
        "        ]['orders'],\n",
        "        pd.Series(\n",
        "            0,\n",
        "            index=np.arange(\n",
        "                visitors[visitors['group']=='A']['visitors'].sum() - len(ordersByUsersA['orders'])\n",
        "            ),\n",
        "            name='orders',\n",
        "        ),\n",
        "    ],\n",
        "    axis=0,\n",
        ")\n",
        "\n",
        "sampleBFiltered = pd.concat(\n",
        "    [\n",
        "        ordersByUsersB[\n",
        "            np.logical_not(ordersByUsersB['visitor_id'].isin(abnormalUsers))\n",
        "        ]['orders'],\n",
        "        pd.Series(\n",
        "            0,\n",
        "            index=np.arange(\n",
        "                visitors[visitors['group']=='B']['visitors'].sum() - len(ordersByUsersB['orders'])\n",
        "            ),\n",
        "            name='orders',\n",
        "        ),\n",
        "    ],\n",
        "    axis=0,\n",
        ")\n",
        "\n",
        "print('Относительный прирост конверсии группы B по отношению к группе A по очищенным данным: {:.3f}'.format(sampleBFiltered.mean()/sampleAFiltered.mean()-1))\n",
        "print('P-value: {0:.5f}'.format(stats.mannwhitneyu(sampleAFiltered, sampleBFiltered,  alternative = 'two-sided')[1]))\n",
        "if (stats.mannwhitneyu(sampleAFiltered, sampleBFiltered, alternative = 'two-sided')[1] < alpha):\n",
        "    print(\"Отвергаем нулевую гипотезу\")\n",
        "else:\n",
        "    print(\"Не получилось отвергнуть нулевую гипотезу\")"
      ],
      "execution_count": null,
      "outputs": [
        {
          "name": "stdout",
          "output_type": "stream",
          "text": [
            "Относительный прирост конверсии группы B по отношению к группе A по очищенным данным: 0.174\n",
            "P-value: 0.01593\n",
            "Отвергаем нулевую гипотезу\n"
          ]
        }
      ]
    },
    {
      "cell_type": "markdown",
      "metadata": {
        "id": "iJOu6i00_ot2"
      },
      "source": [
        "В обоих случаях, как при проверке статистической значимости по \"сырым данным\", так и при проверке по очищенным данным, отвергаем нулевую гипотезу об отсутствии статистически значимых различий в конверсии между группами."
      ]
    },
    {
      "cell_type": "markdown",
      "metadata": {
        "id": "WErp41Km_ot2"
      },
      "source": [
        "### Посчитайте статистическую значимость различий в среднем чеке заказа между группами по «очищенным» данным. Сделайте выводы и предположения."
      ]
    },
    {
      "cell_type": "markdown",
      "metadata": {
        "id": "aVvdbRwv_ot2"
      },
      "source": [
        "Нулевая гипотеза:  Cтатистически значимых различий в cреднем чеке заказа между группами по очищенным данным нет. <br>\n",
        "Альтернативная гипотеза: Cтатистически значимые различия в cреднем чеке заказа между группами по очищенным данным есть."
      ]
    },
    {
      "cell_type": "code",
      "metadata": {
        "id": "70gY5KA6_ot2",
        "outputId": "5e5ded04-eb1d-49a3-fbf7-132d37a96962"
      },
      "source": [
        "print(\n",
        "    'Относительный прирост среднего чека группы B по отношению к группе A по очищенным данным: {0:.3f}'.format(\n",
        "        orders[\n",
        "            np.logical_and(\n",
        "                orders['group'] == 'B',\n",
        "                np.logical_not(orders['visitor_id'].isin(abnormalUsers)),\n",
        "            )\n",
        "        ]['revenue'].mean()\n",
        "        / orders[\n",
        "            np.logical_and(\n",
        "                orders['group'] == 'A',\n",
        "                np.logical_not(orders['visitor_id'].isin(abnormalUsers)),\n",
        "            )\n",
        "        ]['revenue'].mean()\n",
        "        - 1\n",
        "    )\n",
        ") \n",
        "\n",
        "print(\n",
        "    'P-value: {0:.5f}'.format(\n",
        "        stats.mannwhitneyu(\n",
        "            orders[\n",
        "                np.logical_and(\n",
        "                    orders['group'] == 'A',\n",
        "                    np.logical_not(orders['visitor_id'].isin(abnormalUsers)),\n",
        "                )\n",
        "            ]['revenue'],\n",
        "            orders[\n",
        "                np.logical_and(\n",
        "                    orders['group'] == 'B',\n",
        "                    np.logical_not(orders['visitor_id'].isin(abnormalUsers)),\n",
        "                )\n",
        "            ]['revenue'],alternative = 'two-sided'\n",
        "        )[1]\n",
        "    )\n",
        ")\n",
        "\n",
        "if (stats.mannwhitneyu(\n",
        "            orders[\n",
        "                np.logical_and(\n",
        "                    orders['group'] == 'A',\n",
        "                    np.logical_not(orders['visitor_id'].isin(abnormalUsers)),\n",
        "                )\n",
        "            ]['revenue'],\n",
        "            orders[\n",
        "                np.logical_and(\n",
        "                    orders['group'] == 'B',\n",
        "                    np.logical_not(orders['visitor_id'].isin(abnormalUsers)),\n",
        "                )\n",
        "            ]['revenue'],alternative = 'two-sided'\n",
        "        )[1] < alpha):\n",
        "    print(\"Отвергаем нулевую гипотезу\")\n",
        "else:\n",
        "    print(\"Не получилось отвергнуть нулевую гипотезу\")"
      ],
      "execution_count": null,
      "outputs": [
        {
          "name": "stdout",
          "output_type": "stream",
          "text": [
            "Относительный прирост среднего чека группы B по отношению к группе A по очищенным данным: -0.034\n",
            "P-value: 0.72713\n",
            "Не получилось отвергнуть нулевую гипотезу\n"
          ]
        }
      ]
    },
    {
      "cell_type": "markdown",
      "metadata": {
        "id": "agBxmi1X_ot3"
      },
      "source": [
        "В обоих случаях, как при проверке статистической значимости по \"сырым данным\", так и при проверке по очищенным данным, не можем отвергнуть нулевую гипотезу об отсутствии статистически значимых различий в среднем чеке заказа между группами по сырым данным."
      ]
    },
    {
      "cell_type": "markdown",
      "metadata": {
        "id": "N4nU2wZW_ot3"
      },
      "source": [
        "### Примите решение по результатам теста и объясните его. Варианты решений: 1. Остановить тест, зафиксировать победу одной из групп. 2. Остановить тест, зафиксировать отсутствие различий между группами. 3. Продолжить тест."
      ]
    },
    {
      "cell_type": "markdown",
      "metadata": {
        "id": "wbNV1pyd_ot3"
      },
      "source": [
        "Кумулятивные выручка, конверсия и средний чек лидируют в группе B. Сомнения вызывали лишь резкие скачки на графиках.<br>Поэтому определили аномальных пользователей и проверили гипотезы по \"cырым\" и очищенным данным. Как до, так и после очистки данных от выбросов, определили, что различия в конверсии между группами статистически значимы, несмотря на отсутствие статистически значимых различий в среднем чеке заказа между группами. \n",
        "\n",
        "Таким образом, тест можно остановить и зафиксировать победу группы B."
      ]
    },
    {
      "cell_type": "markdown",
      "metadata": {
        "id": "NGnyGWiN_ot3"
      },
      "source": [
        "## Выводы"
      ]
    },
    {
      "cell_type": "markdown",
      "metadata": {
        "id": "iM2PQhen_ot3"
      },
      "source": [
        "- Данные загружены и проанализированы\n",
        "- Ознакомившись с данными, не выявили наличие пропусков и дубликатов\n",
        "- Столбцы, содержащие в себе дату, приведены к типу данных datetime\n",
        "- Определены пользователи, попавшие в обе группы, исходная таблица отфильтрована\n",
        "<br><br>\n",
        "- Приоритезировали гипотезы, применив фреймворки ICE и RICE. Отметили, что так как фреймворк RICE учитывает параметр охвата пользователей Reach, приоритеты гипотез, полученные по ICE, изменились. \n",
        "- Проанализировав график кумулятивной выручки, делаем вывод, что несмотря на то, что в начале теста кумулятивная выручка по обоим сегментам практически равна, группа B в дальнейшем вырывается вперед, причем с 18-19 августа у группы B происходит резкий скачок, и до конца теста группа B продолжает лидировать.\n",
        "- Проанализировав график кумулятивного среднего чека по группам, делаем вывод, что средний чек группы B почти все время был выше, чем средний чек группы A, лишь 13 августа группа A немного вырывается вперед. Опять же с 18-19 августа наблюдаем резкий скачок у группы B, как на графике кумулятивной выручки.\n",
        "- Проанализировав график относительного изменения кумулятивного среднего чека группы B к группе A, делаем вывод, что большая часть графика все-таки находится выше горизонтальной оси, что может значит, что средний чек группы B выше, чем средний чек группы A. Однако, результаты теста значительно резко менялись в нескольких точках.\n",
        "- Изучив графики кумулятивной конверсии по группам и относительного изменения кумулятивной конверсии группы B к группе A, делаем вывод, что конверсия группы B стабильно выше конверсии группы A.\n",
        "- Определили границы аномальных пользователей для дальнейшего подсчета статистической значимости по очищенным данным. В качестве границ определили значение в 2 заказа на пользователя, значение стоимости заказа в 27570 рублей.\n",
        "<br><br>\n",
        "Кумулятивные выручка, конверсия и средний чек по результатам анализа лидируют в группе B. Сомнения вызывали лишь резкие скачки на графиках. Определили аномальных пользователей и проверили гипотезы по \"cырым\" и очищенным данным. Как до, так и после очистки данных от выбросов, определили, что различия в конверсии между группами статистически значимы, несмотря на отсутствие статистически значимых различий в среднем чеке заказа между группами. \n",
        "<br><br>\n",
        "Таким образом, тест остановили и зафиксировать победу группы B."
      ]
    }
  ]
}