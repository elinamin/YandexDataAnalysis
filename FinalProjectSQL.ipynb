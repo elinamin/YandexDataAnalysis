{
  "nbformat": 4,
  "nbformat_minor": 0,
  "metadata": {
    "ExecuteTimeLog": [
      {
        "duration": 4,
        "start_time": "2021-09-23T20:34:05.149Z"
      },
      {
        "duration": 3,
        "start_time": "2021-09-23T20:35:33.622Z"
      },
      {
        "duration": 321,
        "start_time": "2021-09-23T20:36:17.268Z"
      },
      {
        "duration": 812,
        "start_time": "2021-09-23T20:36:30.077Z"
      },
      {
        "duration": 45,
        "start_time": "2021-09-23T20:36:31.596Z"
      },
      {
        "duration": 4,
        "start_time": "2021-09-23T20:36:41.127Z"
      },
      {
        "duration": 3,
        "start_time": "2021-09-23T20:37:11.498Z"
      },
      {
        "duration": 282,
        "start_time": "2021-09-23T20:37:26.115Z"
      },
      {
        "duration": 81,
        "start_time": "2021-09-23T20:37:35.460Z"
      },
      {
        "duration": 71,
        "start_time": "2021-09-23T20:37:44.263Z"
      },
      {
        "duration": 125,
        "start_time": "2021-09-23T20:37:52.130Z"
      },
      {
        "duration": 118,
        "start_time": "2021-09-23T20:37:59.998Z"
      },
      {
        "duration": 77,
        "start_time": "2021-09-23T20:38:52.057Z"
      },
      {
        "duration": 83,
        "start_time": "2021-09-23T20:39:43.905Z"
      },
      {
        "duration": 73,
        "start_time": "2021-09-23T20:43:16.212Z"
      },
      {
        "duration": 74,
        "start_time": "2021-09-23T20:44:45.639Z"
      },
      {
        "duration": 71,
        "start_time": "2021-09-23T20:45:49.018Z"
      },
      {
        "duration": 652,
        "start_time": "2021-09-24T16:22:01.948Z"
      },
      {
        "duration": 28,
        "start_time": "2021-09-24T16:22:02.603Z"
      },
      {
        "duration": 13,
        "start_time": "2021-09-24T16:22:02.634Z"
      },
      {
        "duration": 278,
        "start_time": "2021-09-24T16:22:02.649Z"
      },
      {
        "duration": 68,
        "start_time": "2021-09-24T16:22:02.929Z"
      },
      {
        "duration": 69,
        "start_time": "2021-09-24T16:22:02.999Z"
      },
      {
        "duration": 89,
        "start_time": "2021-09-24T16:22:03.069Z"
      },
      {
        "duration": 83,
        "start_time": "2021-09-24T16:22:03.160Z"
      },
      {
        "duration": 68,
        "start_time": "2021-09-24T16:22:03.245Z"
      },
      {
        "duration": 82,
        "start_time": "2021-09-24T16:22:03.314Z"
      },
      {
        "duration": 71,
        "start_time": "2021-09-24T16:22:03.397Z"
      },
      {
        "duration": 72,
        "start_time": "2021-09-24T16:22:03.469Z"
      },
      {
        "duration": 69,
        "start_time": "2021-09-24T16:22:03.543Z"
      }
    ],
    "kernelspec": {
      "display_name": "Python 3",
      "language": "python",
      "name": "python3"
    },
    "language_info": {
      "codemirror_mode": {
        "name": "ipython",
        "version": 3
      },
      "file_extension": ".py",
      "mimetype": "text/x-python",
      "name": "python",
      "nbconvert_exporter": "python",
      "pygments_lexer": "ipython3",
      "version": "3.7.8"
    },
    "toc": {
      "base_numbering": 1,
      "nav_menu": {},
      "number_sections": true,
      "sideBar": true,
      "skip_h1_title": true,
      "title_cell": "Table of Contents",
      "title_sidebar": "Contents",
      "toc_cell": false,
      "toc_position": {},
      "toc_section_display": true,
      "toc_window_display": false
    },
    "colab": {
      "name": "FinalProjectSQL.ipynb",
      "provenance": [],
      "collapsed_sections": []
    }
  },
  "cells": [
    {
      "cell_type": "markdown",
      "metadata": {
        "id": "fQjEBkfTOTNm"
      },
      "source": [
        "# Проект по SQL"
      ]
    },
    {
      "cell_type": "markdown",
      "metadata": {
        "id": "1HigYDDPOTNm"
      },
      "source": [
        "Коронавирус застал мир врасплох, изменив привычный порядок вещей. В свободное время жители городов больше не выходят на улицу, не посещают кафе и торговые центры. Зато стало больше времени для книг. Это заметили стартаперы — и бросились создавать приложения для тех, кто любит читать.\n",
        "\n",
        "Ваша компания решила быть на волне и купила крупный сервис для чтения книг по подписке. Ваша первая задача как аналитика — проанализировать базу данных.\n",
        "В ней — информация о книгах, издательствах, авторах, а также пользовательские обзоры книг. Эти данные помогут сформулировать ценностное предложение для нового продукта."
      ]
    },
    {
      "cell_type": "markdown",
      "metadata": {
        "id": "lRLVy2fpOTNn"
      },
      "source": [
        "# Описание даннных"
      ]
    },
    {
      "cell_type": "markdown",
      "metadata": {
        "id": "VNJVFO9uOTNo"
      },
      "source": [
        "**Таблица `books`**\n",
        "\n",
        "Содержит данные о книгах:\n",
        "\n",
        "- `book_id` — идентификатор книги;\n",
        "- `author_id` — идентификатор автора;\n",
        "- `title` — название книги;\n",
        "- `num_pages` — количество страниц;\n",
        "- `publication_date` — дата публикации книги;\n",
        "- `publisher_id` — идентификатор издателя.\n",
        "\n",
        "**Таблица `authors`**\n",
        "\n",
        "Содержит данные об авторах:\n",
        "\n",
        "- `author_id` — идентификатор автора;\n",
        "- `author` — имя автора.\n",
        "\n",
        "**Таблица `publishers`**\n",
        "\n",
        "Содержит данные об издательствах:\n",
        "\n",
        "- `publisher_id` — идентификатор издательства;\n",
        "- `publisher` — название издательства;\n",
        "\n",
        "**Таблица `ratings`**\n",
        "\n",
        "Содержит данные о пользовательских оценках книг:\n",
        "\n",
        "- `rating_id` — идентификатор оценки;\n",
        "- `book_id` — идентификатор книги;\n",
        "- `username` — имя пользователя, оставившего оценку;\n",
        "- `rating` — оценка книги.\n",
        "\n",
        "**Таблица `reviews`**\n",
        "\n",
        "Содержит данные о пользовательских обзорах на книги:\n",
        "\n",
        "- `review_id` — идентификатор обзора;\n",
        "- `book_id` — идентификатор книги;\n",
        "- `username` — имя пользователя, написавшего обзор;\n",
        "- `text` — текст обзора."
      ]
    },
    {
      "cell_type": "markdown",
      "metadata": {
        "id": "ZIUKufUKOTNo"
      },
      "source": [
        "# Задания\n",
        "\n",
        "- Посчитайте, сколько книг вышло после 1 января 2000 года;\n",
        "- Для каждой книги посчитайте количество обзоров и среднюю оценку;\n",
        "- Определите издательство, которое выпустило наибольшее число книг толще 50 страниц — так вы исключите из анализа брошюры;\n",
        "- Определите автора с самой высокой средней оценкой книг — учитывайте только книги с 50 и более оценками;\n",
        "- Посчитайте среднее количество обзоров от пользователей, которые поставили больше 50 оценок."
      ]
    },
    {
      "cell_type": "markdown",
      "metadata": {
        "id": "8QYKcbfHOTNp"
      },
      "source": [
        "## Подключение к базе данных"
      ]
    },
    {
      "cell_type": "code",
      "metadata": {
        "id": "t9qLIUhpOTNq"
      },
      "source": [
        "import pandas as pd\n",
        "from sqlalchemy import create_engine "
      ],
      "execution_count": null,
      "outputs": []
    },
    {
      "cell_type": "code",
      "metadata": {
        "id": "FBr7lX3MOTNs"
      },
      "source": [
        "db_config = {'user': 'praktikum_student',\n",
        " 'pwd': 'Sdf4$2;d-d30pp',\n",
        " 'host': 'rc1b-wcoijxj3yxfsf3fs.mdb.yandexcloud.net',\n",
        " 'port': 6432,\n",
        " 'db': 'data-analyst-final-project-db'}\n",
        "\n",
        "connection_string = 'postgresql://{}:{}@{}:{}/{}'.format(db_config['user'],\n",
        " db_config['pwd'],\n",
        " db_config['host'],\n",
        " db_config['port'],\n",
        " db_config['db']) \n",
        "\n",
        "engine = create_engine(connection_string, connect_args={'sslmode':'require'})"
      ],
      "execution_count": null,
      "outputs": []
    },
    {
      "cell_type": "code",
      "metadata": {
        "id": "RrQtLb_3OTNt"
      },
      "source": [
        "def select(sql):\n",
        "  return pd.read_sql(sql,con=engine)"
      ],
      "execution_count": null,
      "outputs": []
    },
    {
      "cell_type": "markdown",
      "metadata": {
        "id": "ElUt5EXJOTNu"
      },
      "source": [
        "## Вывод первых строк таблиц"
      ]
    },
    {
      "cell_type": "code",
      "metadata": {
        "id": "ovr8wrcNOTNu",
        "outputId": "4920d68c-eed9-4e4c-9e3e-04fd6b323223"
      },
      "source": [
        "books_sql = '''\n",
        "SELECT *\n",
        "FROM books\n",
        "'''\n",
        "books = select(books_sql)\n",
        "books.head()"
      ],
      "execution_count": null,
      "outputs": [
        {
          "data": {
            "text/html": [
              "<div>\n",
              "<style scoped>\n",
              "    .dataframe tbody tr th:only-of-type {\n",
              "        vertical-align: middle;\n",
              "    }\n",
              "\n",
              "    .dataframe tbody tr th {\n",
              "        vertical-align: top;\n",
              "    }\n",
              "\n",
              "    .dataframe thead th {\n",
              "        text-align: right;\n",
              "    }\n",
              "</style>\n",
              "<table border=\"1\" class=\"dataframe\">\n",
              "  <thead>\n",
              "    <tr style=\"text-align: right;\">\n",
              "      <th></th>\n",
              "      <th>book_id</th>\n",
              "      <th>author_id</th>\n",
              "      <th>title</th>\n",
              "      <th>num_pages</th>\n",
              "      <th>publication_date</th>\n",
              "      <th>publisher_id</th>\n",
              "    </tr>\n",
              "  </thead>\n",
              "  <tbody>\n",
              "    <tr>\n",
              "      <td>0</td>\n",
              "      <td>1</td>\n",
              "      <td>546</td>\n",
              "      <td>'Salem's Lot</td>\n",
              "      <td>594</td>\n",
              "      <td>2005-11-01</td>\n",
              "      <td>93</td>\n",
              "    </tr>\n",
              "    <tr>\n",
              "      <td>1</td>\n",
              "      <td>2</td>\n",
              "      <td>465</td>\n",
              "      <td>1 000 Places to See Before You Die</td>\n",
              "      <td>992</td>\n",
              "      <td>2003-05-22</td>\n",
              "      <td>336</td>\n",
              "    </tr>\n",
              "    <tr>\n",
              "      <td>2</td>\n",
              "      <td>3</td>\n",
              "      <td>407</td>\n",
              "      <td>13 Little Blue Envelopes (Little Blue Envelope...</td>\n",
              "      <td>322</td>\n",
              "      <td>2010-12-21</td>\n",
              "      <td>135</td>\n",
              "    </tr>\n",
              "    <tr>\n",
              "      <td>3</td>\n",
              "      <td>4</td>\n",
              "      <td>82</td>\n",
              "      <td>1491: New Revelations of the Americas Before C...</td>\n",
              "      <td>541</td>\n",
              "      <td>2006-10-10</td>\n",
              "      <td>309</td>\n",
              "    </tr>\n",
              "    <tr>\n",
              "      <td>4</td>\n",
              "      <td>5</td>\n",
              "      <td>125</td>\n",
              "      <td>1776</td>\n",
              "      <td>386</td>\n",
              "      <td>2006-07-04</td>\n",
              "      <td>268</td>\n",
              "    </tr>\n",
              "  </tbody>\n",
              "</table>\n",
              "</div>"
            ],
            "text/plain": [
              "   book_id  author_id                                              title  \\\n",
              "0        1        546                                       'Salem's Lot   \n",
              "1        2        465                 1 000 Places to See Before You Die   \n",
              "2        3        407  13 Little Blue Envelopes (Little Blue Envelope...   \n",
              "3        4         82  1491: New Revelations of the Americas Before C...   \n",
              "4        5        125                                               1776   \n",
              "\n",
              "   num_pages publication_date  publisher_id  \n",
              "0        594       2005-11-01            93  \n",
              "1        992       2003-05-22           336  \n",
              "2        322       2010-12-21           135  \n",
              "3        541       2006-10-10           309  \n",
              "4        386       2006-07-04           268  "
            ]
          },
          "execution_count": 4,
          "metadata": {},
          "output_type": "execute_result"
        }
      ]
    },
    {
      "cell_type": "code",
      "metadata": {
        "id": "HrsE0owLOTNw",
        "outputId": "e07fdb30-4153-4d52-8dbb-724e8d6aad87"
      },
      "source": [
        "authors_sql = '''\n",
        "SELECT *\n",
        "FROM authors\n",
        "'''\n",
        "authors = select(authors_sql)\n",
        "authors.head()"
      ],
      "execution_count": null,
      "outputs": [
        {
          "data": {
            "text/html": [
              "<div>\n",
              "<style scoped>\n",
              "    .dataframe tbody tr th:only-of-type {\n",
              "        vertical-align: middle;\n",
              "    }\n",
              "\n",
              "    .dataframe tbody tr th {\n",
              "        vertical-align: top;\n",
              "    }\n",
              "\n",
              "    .dataframe thead th {\n",
              "        text-align: right;\n",
              "    }\n",
              "</style>\n",
              "<table border=\"1\" class=\"dataframe\">\n",
              "  <thead>\n",
              "    <tr style=\"text-align: right;\">\n",
              "      <th></th>\n",
              "      <th>author_id</th>\n",
              "      <th>author</th>\n",
              "    </tr>\n",
              "  </thead>\n",
              "  <tbody>\n",
              "    <tr>\n",
              "      <td>0</td>\n",
              "      <td>1</td>\n",
              "      <td>A.S. Byatt</td>\n",
              "    </tr>\n",
              "    <tr>\n",
              "      <td>1</td>\n",
              "      <td>2</td>\n",
              "      <td>Aesop/Laura Harris/Laura Gibbs</td>\n",
              "    </tr>\n",
              "    <tr>\n",
              "      <td>2</td>\n",
              "      <td>3</td>\n",
              "      <td>Agatha Christie</td>\n",
              "    </tr>\n",
              "    <tr>\n",
              "      <td>3</td>\n",
              "      <td>4</td>\n",
              "      <td>Alan Brennert</td>\n",
              "    </tr>\n",
              "    <tr>\n",
              "      <td>4</td>\n",
              "      <td>5</td>\n",
              "      <td>Alan Moore/David   Lloyd</td>\n",
              "    </tr>\n",
              "  </tbody>\n",
              "</table>\n",
              "</div>"
            ],
            "text/plain": [
              "   author_id                          author\n",
              "0          1                      A.S. Byatt\n",
              "1          2  Aesop/Laura Harris/Laura Gibbs\n",
              "2          3                 Agatha Christie\n",
              "3          4                   Alan Brennert\n",
              "4          5        Alan Moore/David   Lloyd"
            ]
          },
          "execution_count": 5,
          "metadata": {},
          "output_type": "execute_result"
        }
      ]
    },
    {
      "cell_type": "code",
      "metadata": {
        "id": "OpeSDa7aOTNx",
        "outputId": "c9d0de00-4def-41dd-ed79-ab492f45a8a5"
      },
      "source": [
        "publishers_sql = '''\n",
        "SELECT *\n",
        "FROM publishers\n",
        "'''\n",
        "publishers = select(publishers_sql)\n",
        "publishers.head()"
      ],
      "execution_count": null,
      "outputs": [
        {
          "data": {
            "text/html": [
              "<div>\n",
              "<style scoped>\n",
              "    .dataframe tbody tr th:only-of-type {\n",
              "        vertical-align: middle;\n",
              "    }\n",
              "\n",
              "    .dataframe tbody tr th {\n",
              "        vertical-align: top;\n",
              "    }\n",
              "\n",
              "    .dataframe thead th {\n",
              "        text-align: right;\n",
              "    }\n",
              "</style>\n",
              "<table border=\"1\" class=\"dataframe\">\n",
              "  <thead>\n",
              "    <tr style=\"text-align: right;\">\n",
              "      <th></th>\n",
              "      <th>publisher_id</th>\n",
              "      <th>publisher</th>\n",
              "    </tr>\n",
              "  </thead>\n",
              "  <tbody>\n",
              "    <tr>\n",
              "      <td>0</td>\n",
              "      <td>1</td>\n",
              "      <td>Ace</td>\n",
              "    </tr>\n",
              "    <tr>\n",
              "      <td>1</td>\n",
              "      <td>2</td>\n",
              "      <td>Ace Book</td>\n",
              "    </tr>\n",
              "    <tr>\n",
              "      <td>2</td>\n",
              "      <td>3</td>\n",
              "      <td>Ace Books</td>\n",
              "    </tr>\n",
              "    <tr>\n",
              "      <td>3</td>\n",
              "      <td>4</td>\n",
              "      <td>Ace Hardcover</td>\n",
              "    </tr>\n",
              "    <tr>\n",
              "      <td>4</td>\n",
              "      <td>5</td>\n",
              "      <td>Addison Wesley Publishing Company</td>\n",
              "    </tr>\n",
              "  </tbody>\n",
              "</table>\n",
              "</div>"
            ],
            "text/plain": [
              "   publisher_id                          publisher\n",
              "0             1                                Ace\n",
              "1             2                           Ace Book\n",
              "2             3                          Ace Books\n",
              "3             4                      Ace Hardcover\n",
              "4             5  Addison Wesley Publishing Company"
            ]
          },
          "execution_count": 6,
          "metadata": {},
          "output_type": "execute_result"
        }
      ]
    },
    {
      "cell_type": "code",
      "metadata": {
        "id": "NdXjRomHOTNx",
        "outputId": "168c03af-7dfb-4057-884b-39486f19ef0a"
      },
      "source": [
        "ratings_sql = '''\n",
        "SELECT *\n",
        "FROM ratings\n",
        "'''\n",
        "ratings = select(ratings_sql)\n",
        "ratings.head()"
      ],
      "execution_count": null,
      "outputs": [
        {
          "data": {
            "text/html": [
              "<div>\n",
              "<style scoped>\n",
              "    .dataframe tbody tr th:only-of-type {\n",
              "        vertical-align: middle;\n",
              "    }\n",
              "\n",
              "    .dataframe tbody tr th {\n",
              "        vertical-align: top;\n",
              "    }\n",
              "\n",
              "    .dataframe thead th {\n",
              "        text-align: right;\n",
              "    }\n",
              "</style>\n",
              "<table border=\"1\" class=\"dataframe\">\n",
              "  <thead>\n",
              "    <tr style=\"text-align: right;\">\n",
              "      <th></th>\n",
              "      <th>rating_id</th>\n",
              "      <th>book_id</th>\n",
              "      <th>username</th>\n",
              "      <th>rating</th>\n",
              "    </tr>\n",
              "  </thead>\n",
              "  <tbody>\n",
              "    <tr>\n",
              "      <td>0</td>\n",
              "      <td>1</td>\n",
              "      <td>1</td>\n",
              "      <td>ryanfranco</td>\n",
              "      <td>4</td>\n",
              "    </tr>\n",
              "    <tr>\n",
              "      <td>1</td>\n",
              "      <td>2</td>\n",
              "      <td>1</td>\n",
              "      <td>grantpatricia</td>\n",
              "      <td>2</td>\n",
              "    </tr>\n",
              "    <tr>\n",
              "      <td>2</td>\n",
              "      <td>3</td>\n",
              "      <td>1</td>\n",
              "      <td>brandtandrea</td>\n",
              "      <td>5</td>\n",
              "    </tr>\n",
              "    <tr>\n",
              "      <td>3</td>\n",
              "      <td>4</td>\n",
              "      <td>2</td>\n",
              "      <td>lorichen</td>\n",
              "      <td>3</td>\n",
              "    </tr>\n",
              "    <tr>\n",
              "      <td>4</td>\n",
              "      <td>5</td>\n",
              "      <td>2</td>\n",
              "      <td>mariokeller</td>\n",
              "      <td>2</td>\n",
              "    </tr>\n",
              "  </tbody>\n",
              "</table>\n",
              "</div>"
            ],
            "text/plain": [
              "   rating_id  book_id       username  rating\n",
              "0          1        1     ryanfranco       4\n",
              "1          2        1  grantpatricia       2\n",
              "2          3        1   brandtandrea       5\n",
              "3          4        2       lorichen       3\n",
              "4          5        2    mariokeller       2"
            ]
          },
          "execution_count": 7,
          "metadata": {},
          "output_type": "execute_result"
        }
      ]
    },
    {
      "cell_type": "code",
      "metadata": {
        "id": "eoX7e6HLOTN0",
        "outputId": "ccfe299f-1593-4a78-d565-dbe4a13c7c88"
      },
      "source": [
        "reviews_sql = '''\n",
        "SELECT *\n",
        "FROM reviews\n",
        "'''\n",
        "reviews = select(reviews_sql)\n",
        "reviews.head()"
      ],
      "execution_count": null,
      "outputs": [
        {
          "data": {
            "text/html": [
              "<div>\n",
              "<style scoped>\n",
              "    .dataframe tbody tr th:only-of-type {\n",
              "        vertical-align: middle;\n",
              "    }\n",
              "\n",
              "    .dataframe tbody tr th {\n",
              "        vertical-align: top;\n",
              "    }\n",
              "\n",
              "    .dataframe thead th {\n",
              "        text-align: right;\n",
              "    }\n",
              "</style>\n",
              "<table border=\"1\" class=\"dataframe\">\n",
              "  <thead>\n",
              "    <tr style=\"text-align: right;\">\n",
              "      <th></th>\n",
              "      <th>review_id</th>\n",
              "      <th>book_id</th>\n",
              "      <th>username</th>\n",
              "      <th>text</th>\n",
              "    </tr>\n",
              "  </thead>\n",
              "  <tbody>\n",
              "    <tr>\n",
              "      <td>0</td>\n",
              "      <td>1</td>\n",
              "      <td>1</td>\n",
              "      <td>brandtandrea</td>\n",
              "      <td>Mention society tell send professor analysis. ...</td>\n",
              "    </tr>\n",
              "    <tr>\n",
              "      <td>1</td>\n",
              "      <td>2</td>\n",
              "      <td>1</td>\n",
              "      <td>ryanfranco</td>\n",
              "      <td>Foot glass pretty audience hit themselves. Amo...</td>\n",
              "    </tr>\n",
              "    <tr>\n",
              "      <td>2</td>\n",
              "      <td>3</td>\n",
              "      <td>2</td>\n",
              "      <td>lorichen</td>\n",
              "      <td>Listen treat keep worry. Miss husband tax but ...</td>\n",
              "    </tr>\n",
              "    <tr>\n",
              "      <td>3</td>\n",
              "      <td>4</td>\n",
              "      <td>3</td>\n",
              "      <td>johnsonamanda</td>\n",
              "      <td>Finally month interesting blue could nature cu...</td>\n",
              "    </tr>\n",
              "    <tr>\n",
              "      <td>4</td>\n",
              "      <td>5</td>\n",
              "      <td>3</td>\n",
              "      <td>scotttamara</td>\n",
              "      <td>Nation purpose heavy give wait song will. List...</td>\n",
              "    </tr>\n",
              "  </tbody>\n",
              "</table>\n",
              "</div>"
            ],
            "text/plain": [
              "   review_id  book_id       username  \\\n",
              "0          1        1   brandtandrea   \n",
              "1          2        1     ryanfranco   \n",
              "2          3        2       lorichen   \n",
              "3          4        3  johnsonamanda   \n",
              "4          5        3    scotttamara   \n",
              "\n",
              "                                                text  \n",
              "0  Mention society tell send professor analysis. ...  \n",
              "1  Foot glass pretty audience hit themselves. Amo...  \n",
              "2  Listen treat keep worry. Miss husband tax but ...  \n",
              "3  Finally month interesting blue could nature cu...  \n",
              "4  Nation purpose heavy give wait song will. List...  "
            ]
          },
          "execution_count": 8,
          "metadata": {},
          "output_type": "execute_result"
        }
      ]
    },
    {
      "cell_type": "markdown",
      "metadata": {
        "id": "dpqQ36-kOTN2"
      },
      "source": [
        "## Посчитаем, сколько книг вышло после 1 января 2000 года"
      ]
    },
    {
      "cell_type": "code",
      "metadata": {
        "id": "ECGhsVz_OTN2",
        "outputId": "0c153561-e50d-45b8-c163-a89bf0f57412"
      },
      "source": [
        "query = '''\n",
        "SELECT COUNT(DISTINCT book_id) AS books_count\n",
        "FROM books\n",
        "WHERE publication_date >= '2000-01-01'\n",
        "'''\n",
        "select(query)"
      ],
      "execution_count": null,
      "outputs": [
        {
          "data": {
            "text/html": [
              "<div>\n",
              "<style scoped>\n",
              "    .dataframe tbody tr th:only-of-type {\n",
              "        vertical-align: middle;\n",
              "    }\n",
              "\n",
              "    .dataframe tbody tr th {\n",
              "        vertical-align: top;\n",
              "    }\n",
              "\n",
              "    .dataframe thead th {\n",
              "        text-align: right;\n",
              "    }\n",
              "</style>\n",
              "<table border=\"1\" class=\"dataframe\">\n",
              "  <thead>\n",
              "    <tr style=\"text-align: right;\">\n",
              "      <th></th>\n",
              "      <th>books_count</th>\n",
              "    </tr>\n",
              "  </thead>\n",
              "  <tbody>\n",
              "    <tr>\n",
              "      <td>0</td>\n",
              "      <td>819</td>\n",
              "    </tr>\n",
              "  </tbody>\n",
              "</table>\n",
              "</div>"
            ],
            "text/plain": [
              "   books_count\n",
              "0          819"
            ]
          },
          "execution_count": 9,
          "metadata": {},
          "output_type": "execute_result"
        }
      ]
    },
    {
      "cell_type": "markdown",
      "metadata": {
        "id": "jzK5L5ZxOTN3"
      },
      "source": [
        "819 книг было выпущено после 1 января 2000 года."
      ]
    },
    {
      "cell_type": "markdown",
      "metadata": {
        "id": "aTfqKTcTOTN5"
      },
      "source": [
        "## Для каждой книги посчитаем количество обзоров и среднюю оценку"
      ]
    },
    {
      "cell_type": "code",
      "metadata": {
        "id": "Np7jOe_bOTN5",
        "outputId": "2edae43e-9370-40d5-ac7c-060150ad20e0"
      },
      "source": [
        "query = '''\n",
        "SELECT\n",
        " books.book_id AS id,\n",
        " books.title AS book_title,\n",
        " AVG(ratings.rating) AS AVG_rating,\n",
        " COUNT(DISTINCT reviews.review_id) AS number_of_reviews\n",
        "FROM books\n",
        " INNER JOIN reviews ON reviews.book_id = books.book_id\n",
        " INNER JOIN ratings ON ratings.book_id = books.book_id\n",
        "GROUP BY\n",
        " id,\n",
        " book_title\n",
        "ORDER BY\n",
        " number_of_reviews DESC\n",
        "LIMIT 10\n",
        "'''\n",
        "select(query)"
      ],
      "execution_count": null,
      "outputs": [
        {
          "data": {
            "text/html": [
              "<div>\n",
              "<style scoped>\n",
              "    .dataframe tbody tr th:only-of-type {\n",
              "        vertical-align: middle;\n",
              "    }\n",
              "\n",
              "    .dataframe tbody tr th {\n",
              "        vertical-align: top;\n",
              "    }\n",
              "\n",
              "    .dataframe thead th {\n",
              "        text-align: right;\n",
              "    }\n",
              "</style>\n",
              "<table border=\"1\" class=\"dataframe\">\n",
              "  <thead>\n",
              "    <tr style=\"text-align: right;\">\n",
              "      <th></th>\n",
              "      <th>id</th>\n",
              "      <th>book_title</th>\n",
              "      <th>avg_rating</th>\n",
              "      <th>number_of_reviews</th>\n",
              "    </tr>\n",
              "  </thead>\n",
              "  <tbody>\n",
              "    <tr>\n",
              "      <td>0</td>\n",
              "      <td>948</td>\n",
              "      <td>Twilight (Twilight  #1)</td>\n",
              "      <td>3.662500</td>\n",
              "      <td>7</td>\n",
              "    </tr>\n",
              "    <tr>\n",
              "      <td>1</td>\n",
              "      <td>696</td>\n",
              "      <td>The Da Vinci Code (Robert Langdon  #2)</td>\n",
              "      <td>3.830508</td>\n",
              "      <td>6</td>\n",
              "    </tr>\n",
              "    <tr>\n",
              "      <td>2</td>\n",
              "      <td>207</td>\n",
              "      <td>Eat  Pray  Love</td>\n",
              "      <td>3.395833</td>\n",
              "      <td>6</td>\n",
              "    </tr>\n",
              "    <tr>\n",
              "      <td>3</td>\n",
              "      <td>627</td>\n",
              "      <td>The Alchemist</td>\n",
              "      <td>3.789474</td>\n",
              "      <td>6</td>\n",
              "    </tr>\n",
              "    <tr>\n",
              "      <td>4</td>\n",
              "      <td>673</td>\n",
              "      <td>The Catcher in the Rye</td>\n",
              "      <td>3.825581</td>\n",
              "      <td>6</td>\n",
              "    </tr>\n",
              "    <tr>\n",
              "      <td>5</td>\n",
              "      <td>695</td>\n",
              "      <td>The Curious Incident of the Dog in the Night-Time</td>\n",
              "      <td>4.081081</td>\n",
              "      <td>6</td>\n",
              "    </tr>\n",
              "    <tr>\n",
              "      <td>6</td>\n",
              "      <td>302</td>\n",
              "      <td>Harry Potter and the Prisoner of Azkaban (Harr...</td>\n",
              "      <td>4.414634</td>\n",
              "      <td>6</td>\n",
              "    </tr>\n",
              "    <tr>\n",
              "      <td>7</td>\n",
              "      <td>299</td>\n",
              "      <td>Harry Potter and the Chamber of Secrets (Harry...</td>\n",
              "      <td>4.287500</td>\n",
              "      <td>6</td>\n",
              "    </tr>\n",
              "    <tr>\n",
              "      <td>8</td>\n",
              "      <td>497</td>\n",
              "      <td>Outlander (Outlander  #1)</td>\n",
              "      <td>4.125000</td>\n",
              "      <td>6</td>\n",
              "    </tr>\n",
              "    <tr>\n",
              "      <td>9</td>\n",
              "      <td>656</td>\n",
              "      <td>The Book Thief</td>\n",
              "      <td>4.264151</td>\n",
              "      <td>6</td>\n",
              "    </tr>\n",
              "  </tbody>\n",
              "</table>\n",
              "</div>"
            ],
            "text/plain": [
              "    id                                         book_title  avg_rating  \\\n",
              "0  948                            Twilight (Twilight  #1)    3.662500   \n",
              "1  696             The Da Vinci Code (Robert Langdon  #2)    3.830508   \n",
              "2  207                                    Eat  Pray  Love    3.395833   \n",
              "3  627                                      The Alchemist    3.789474   \n",
              "4  673                             The Catcher in the Rye    3.825581   \n",
              "5  695  The Curious Incident of the Dog in the Night-Time    4.081081   \n",
              "6  302  Harry Potter and the Prisoner of Azkaban (Harr...    4.414634   \n",
              "7  299  Harry Potter and the Chamber of Secrets (Harry...    4.287500   \n",
              "8  497                          Outlander (Outlander  #1)    4.125000   \n",
              "9  656                                     The Book Thief    4.264151   \n",
              "\n",
              "   number_of_reviews  \n",
              "0                  7  \n",
              "1                  6  \n",
              "2                  6  \n",
              "3                  6  \n",
              "4                  6  \n",
              "5                  6  \n",
              "6                  6  \n",
              "7                  6  \n",
              "8                  6  \n",
              "9                  6  "
            ]
          },
          "execution_count": 10,
          "metadata": {},
          "output_type": "execute_result"
        }
      ]
    },
    {
      "cell_type": "markdown",
      "metadata": {
        "id": "1Gn-Vp1LOTN6"
      },
      "source": [
        "Вывели топ-10 книг по количеству обзоров. На первом месте книга \"Twilight (Twilight #1)\" со средним рейтингом 3.6. В топе нет книг с рейтингом 5."
      ]
    },
    {
      "cell_type": "markdown",
      "metadata": {
        "id": "uch9hAGaOTN7"
      },
      "source": [
        "## Определим издательство, которое выпустило наибольшее число книг толще 50 страниц — так исключим из анализа брошюры"
      ]
    },
    {
      "cell_type": "code",
      "metadata": {
        "id": "MI5aepW1OTN8",
        "outputId": "5533dcc5-5785-437a-bcf1-a23a2b7888d8"
      },
      "source": [
        "query = '''\n",
        "SELECT\n",
        " publishers.publisher_id AS id,\n",
        " publishers.publisher AS publisher,\n",
        " COUNT(DISTINCT books.book_id) AS number_of_books\n",
        "FROM publishers\n",
        " LEFT JOIN books ON books.publisher_id = publishers.publisher_id\n",
        "WHERE \n",
        " books.num_pages > 50\n",
        "GROUP BY\n",
        " id,\n",
        " publisher\n",
        "ORDER BY\n",
        " number_of_books DESC\n",
        "LIMIT 10\n",
        "'''\n",
        "select(query)"
      ],
      "execution_count": null,
      "outputs": [
        {
          "data": {
            "text/html": [
              "<div>\n",
              "<style scoped>\n",
              "    .dataframe tbody tr th:only-of-type {\n",
              "        vertical-align: middle;\n",
              "    }\n",
              "\n",
              "    .dataframe tbody tr th {\n",
              "        vertical-align: top;\n",
              "    }\n",
              "\n",
              "    .dataframe thead th {\n",
              "        text-align: right;\n",
              "    }\n",
              "</style>\n",
              "<table border=\"1\" class=\"dataframe\">\n",
              "  <thead>\n",
              "    <tr style=\"text-align: right;\">\n",
              "      <th></th>\n",
              "      <th>id</th>\n",
              "      <th>publisher</th>\n",
              "      <th>number_of_books</th>\n",
              "    </tr>\n",
              "  </thead>\n",
              "  <tbody>\n",
              "    <tr>\n",
              "      <td>0</td>\n",
              "      <td>212</td>\n",
              "      <td>Penguin Books</td>\n",
              "      <td>42</td>\n",
              "    </tr>\n",
              "    <tr>\n",
              "      <td>1</td>\n",
              "      <td>309</td>\n",
              "      <td>Vintage</td>\n",
              "      <td>31</td>\n",
              "    </tr>\n",
              "    <tr>\n",
              "      <td>2</td>\n",
              "      <td>116</td>\n",
              "      <td>Grand Central Publishing</td>\n",
              "      <td>25</td>\n",
              "    </tr>\n",
              "    <tr>\n",
              "      <td>3</td>\n",
              "      <td>217</td>\n",
              "      <td>Penguin Classics</td>\n",
              "      <td>24</td>\n",
              "    </tr>\n",
              "    <tr>\n",
              "      <td>4</td>\n",
              "      <td>33</td>\n",
              "      <td>Ballantine Books</td>\n",
              "      <td>19</td>\n",
              "    </tr>\n",
              "    <tr>\n",
              "      <td>5</td>\n",
              "      <td>35</td>\n",
              "      <td>Bantam</td>\n",
              "      <td>19</td>\n",
              "    </tr>\n",
              "    <tr>\n",
              "      <td>6</td>\n",
              "      <td>45</td>\n",
              "      <td>Berkley</td>\n",
              "      <td>17</td>\n",
              "    </tr>\n",
              "    <tr>\n",
              "      <td>7</td>\n",
              "      <td>46</td>\n",
              "      <td>Berkley Books</td>\n",
              "      <td>14</td>\n",
              "    </tr>\n",
              "    <tr>\n",
              "      <td>8</td>\n",
              "      <td>284</td>\n",
              "      <td>St. Martin's Press</td>\n",
              "      <td>14</td>\n",
              "    </tr>\n",
              "    <tr>\n",
              "      <td>9</td>\n",
              "      <td>83</td>\n",
              "      <td>Delta</td>\n",
              "      <td>13</td>\n",
              "    </tr>\n",
              "  </tbody>\n",
              "</table>\n",
              "</div>"
            ],
            "text/plain": [
              "    id                 publisher  number_of_books\n",
              "0  212             Penguin Books               42\n",
              "1  309                   Vintage               31\n",
              "2  116  Grand Central Publishing               25\n",
              "3  217          Penguin Classics               24\n",
              "4   33          Ballantine Books               19\n",
              "5   35                    Bantam               19\n",
              "6   45                   Berkley               17\n",
              "7   46             Berkley Books               14\n",
              "8  284        St. Martin's Press               14\n",
              "9   83                     Delta               13"
            ]
          },
          "execution_count": 11,
          "metadata": {},
          "output_type": "execute_result"
        }
      ]
    },
    {
      "cell_type": "markdown",
      "metadata": {
        "id": "ig_bZ4sEOTN8"
      },
      "source": [
        "Издательство, выпустившее наибольшее количество книг, - издательство \"Penguin Books\"."
      ]
    },
    {
      "cell_type": "markdown",
      "metadata": {
        "id": "Ga8rG6wlOTN9"
      },
      "source": [
        "## Определим автора с самой высокой средней оценкой книг — учитываем только книги с 50 и более оценками"
      ]
    },
    {
      "cell_type": "code",
      "metadata": {
        "id": "7PqMUscGOTN9",
        "outputId": "8ae183c7-5968-4dbd-cf45-faad1723258d"
      },
      "source": [
        "query = '''\n",
        "SELECT\n",
        "   authors.author_id AS id,\n",
        "   authors.author AS author,\n",
        "   AVG(ratings.rating) AS AVG_books_rating\n",
        "FROM\n",
        "   authors\n",
        "INNER JOIN books ON books.author_id = authors.author_id\n",
        "INNER JOIN ratings ON ratings.book_id = books.book_id\n",
        "GROUP BY\n",
        "   id,\n",
        "   author\n",
        "HAVING \n",
        "   COUNT(ratings.rating) > 50\n",
        "ORDER BY\n",
        " AVG_books_rating DESC\n",
        "LIMIT 10\n",
        "'''\n",
        "\n",
        "select(query)"
      ],
      "execution_count": null,
      "outputs": [
        {
          "data": {
            "text/html": [
              "<div>\n",
              "<style scoped>\n",
              "    .dataframe tbody tr th:only-of-type {\n",
              "        vertical-align: middle;\n",
              "    }\n",
              "\n",
              "    .dataframe tbody tr th {\n",
              "        vertical-align: top;\n",
              "    }\n",
              "\n",
              "    .dataframe thead th {\n",
              "        text-align: right;\n",
              "    }\n",
              "</style>\n",
              "<table border=\"1\" class=\"dataframe\">\n",
              "  <thead>\n",
              "    <tr style=\"text-align: right;\">\n",
              "      <th></th>\n",
              "      <th>id</th>\n",
              "      <th>author</th>\n",
              "      <th>avg_books_rating</th>\n",
              "    </tr>\n",
              "  </thead>\n",
              "  <tbody>\n",
              "    <tr>\n",
              "      <td>0</td>\n",
              "      <td>236</td>\n",
              "      <td>J.K. Rowling/Mary GrandPré</td>\n",
              "      <td>4.288462</td>\n",
              "    </tr>\n",
              "    <tr>\n",
              "      <td>1</td>\n",
              "      <td>3</td>\n",
              "      <td>Agatha Christie</td>\n",
              "      <td>4.283019</td>\n",
              "    </tr>\n",
              "    <tr>\n",
              "      <td>2</td>\n",
              "      <td>402</td>\n",
              "      <td>Markus Zusak/Cao Xuân Việt Khương</td>\n",
              "      <td>4.264151</td>\n",
              "    </tr>\n",
              "    <tr>\n",
              "      <td>3</td>\n",
              "      <td>240</td>\n",
              "      <td>J.R.R. Tolkien</td>\n",
              "      <td>4.240964</td>\n",
              "    </tr>\n",
              "    <tr>\n",
              "      <td>4</td>\n",
              "      <td>499</td>\n",
              "      <td>Roald Dahl/Quentin Blake</td>\n",
              "      <td>4.209677</td>\n",
              "    </tr>\n",
              "    <tr>\n",
              "      <td>5</td>\n",
              "      <td>376</td>\n",
              "      <td>Louisa May Alcott</td>\n",
              "      <td>4.203704</td>\n",
              "    </tr>\n",
              "    <tr>\n",
              "      <td>6</td>\n",
              "      <td>498</td>\n",
              "      <td>Rick Riordan</td>\n",
              "      <td>4.130952</td>\n",
              "    </tr>\n",
              "    <tr>\n",
              "      <td>7</td>\n",
              "      <td>39</td>\n",
              "      <td>Arthur Golden</td>\n",
              "      <td>4.107143</td>\n",
              "    </tr>\n",
              "    <tr>\n",
              "      <td>8</td>\n",
              "      <td>542</td>\n",
              "      <td>Stephen King</td>\n",
              "      <td>4.009434</td>\n",
              "    </tr>\n",
              "    <tr>\n",
              "      <td>9</td>\n",
              "      <td>302</td>\n",
              "      <td>John Grisham</td>\n",
              "      <td>3.971429</td>\n",
              "    </tr>\n",
              "  </tbody>\n",
              "</table>\n",
              "</div>"
            ],
            "text/plain": [
              "    id                             author  avg_books_rating\n",
              "0  236         J.K. Rowling/Mary GrandPré          4.288462\n",
              "1    3                    Agatha Christie          4.283019\n",
              "2  402  Markus Zusak/Cao Xuân Việt Khương          4.264151\n",
              "3  240                     J.R.R. Tolkien          4.240964\n",
              "4  499           Roald Dahl/Quentin Blake          4.209677\n",
              "5  376                  Louisa May Alcott          4.203704\n",
              "6  498                       Rick Riordan          4.130952\n",
              "7   39                      Arthur Golden          4.107143\n",
              "8  542                       Stephen King          4.009434\n",
              "9  302                       John Grisham          3.971429"
            ]
          },
          "execution_count": 12,
          "metadata": {},
          "output_type": "execute_result"
        }
      ]
    },
    {
      "cell_type": "markdown",
      "metadata": {
        "id": "9dxZeIPrOTN-"
      },
      "source": [
        "Автор с самой высокой средней оценкой книг - J.K. Rowling/Mary GrandPré."
      ]
    },
    {
      "cell_type": "markdown",
      "metadata": {
        "id": "UNUPKzT1OTOB"
      },
      "source": [
        "## Посчитаем среднее количество обзоров от пользователей, которые поставили больше 50 оценок"
      ]
    },
    {
      "cell_type": "code",
      "metadata": {
        "id": "St_CJyu9OTOD",
        "outputId": "c51ff758-2cfd-4878-cfea-7e7fb5f66fe8"
      },
      "source": [
        "query = '''\n",
        "SELECT\n",
        " AVG (number_of_reviews) AS AVG_count\n",
        " FROM\n",
        " (\n",
        "   SELECT\n",
        "    COUNT (review_id) AS number_of_reviews\n",
        "   FROM\n",
        "    reviews\n",
        "   INNER JOIN\n",
        "   (SELECT\n",
        "     username,\n",
        "     COUNT (rating_id) AS number_of_ratings\n",
        "    FROM\n",
        "     ratings\n",
        "    GROUP BY\n",
        "     username\n",
        "    HAVING COUNT (rating_id) > 50 ) AS ratings_users ON ratings_users.username = reviews.username\n",
        "    GROUP BY\n",
        "    reviews.username\n",
        " ) AS number_of_reviews\n",
        "'''\n",
        "select(query)"
      ],
      "execution_count": null,
      "outputs": [
        {
          "data": {
            "text/html": [
              "<div>\n",
              "<style scoped>\n",
              "    .dataframe tbody tr th:only-of-type {\n",
              "        vertical-align: middle;\n",
              "    }\n",
              "\n",
              "    .dataframe tbody tr th {\n",
              "        vertical-align: top;\n",
              "    }\n",
              "\n",
              "    .dataframe thead th {\n",
              "        text-align: right;\n",
              "    }\n",
              "</style>\n",
              "<table border=\"1\" class=\"dataframe\">\n",
              "  <thead>\n",
              "    <tr style=\"text-align: right;\">\n",
              "      <th></th>\n",
              "      <th>avg_count</th>\n",
              "    </tr>\n",
              "  </thead>\n",
              "  <tbody>\n",
              "    <tr>\n",
              "      <td>0</td>\n",
              "      <td>24.333333</td>\n",
              "    </tr>\n",
              "  </tbody>\n",
              "</table>\n",
              "</div>"
            ],
            "text/plain": [
              "   avg_count\n",
              "0  24.333333"
            ]
          },
          "execution_count": 13,
          "metadata": {},
          "output_type": "execute_result"
        }
      ]
    },
    {
      "cell_type": "markdown",
      "metadata": {
        "id": "nxeROs6EOTOF"
      },
      "source": [
        "Среднее количество обзоров от пользователей, поставивших более 50 оценок, - 24."
      ]
    },
    {
      "cell_type": "markdown",
      "metadata": {
        "id": "Ti8qkkuSOTOG"
      },
      "source": [
        "## Общий вывод"
      ]
    },
    {
      "cell_type": "markdown",
      "metadata": {
        "id": "O0QOGRt2OTOG"
      },
      "source": [
        "- После 1 января 2000 года было выпущено 819 книг.\n",
        "- В топе- 10 книг по количеству обзоров на первом месте книга \"Twilight (Twilight #1)\" со средним рейтингом 3.6.\n",
        "- Издательство, выпустившее наибольшее количество книг, - издательство \"Penguin Books\".\n",
        "- Автор с самой высокой средней оценкой книг - J.K. Rowling/Mary GrandPré.\n",
        "- Среднее количество обзоров от пользователей, поставивших более 50 оценок, - 24."
      ]
    },
    {
      "cell_type": "code",
      "metadata": {
        "id": "8RL--amiOTOG"
      },
      "source": [
        ""
      ],
      "execution_count": null,
      "outputs": []
    }
  ]
}