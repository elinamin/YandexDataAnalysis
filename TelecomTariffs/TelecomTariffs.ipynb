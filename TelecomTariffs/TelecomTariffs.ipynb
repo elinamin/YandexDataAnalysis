{
  "nbformat": 4,
  "nbformat_minor": 0,
  "metadata": {
    "ExecuteTimeLog": [
      {
        "duration": 1070,
        "start_time": "2021-09-13T06:46:47.810Z"
      },
      {
        "duration": 164,
        "start_time": "2021-09-13T06:46:48.882Z"
      },
      {
        "duration": 137,
        "start_time": "2021-09-13T06:46:49.049Z"
      },
      {
        "duration": 93,
        "start_time": "2021-09-13T06:46:49.189Z"
      },
      {
        "duration": 24,
        "start_time": "2021-09-13T06:46:49.284Z"
      },
      {
        "duration": 37,
        "start_time": "2021-09-13T06:46:49.310Z"
      },
      {
        "duration": 52,
        "start_time": "2021-09-13T06:46:49.350Z"
      },
      {
        "duration": 68,
        "start_time": "2021-09-13T06:46:49.406Z"
      },
      {
        "duration": 15,
        "start_time": "2021-09-13T06:46:49.476Z"
      },
      {
        "duration": 10,
        "start_time": "2021-09-13T06:46:49.494Z"
      },
      {
        "duration": 12,
        "start_time": "2021-09-13T06:46:49.506Z"
      },
      {
        "duration": 71,
        "start_time": "2021-09-13T06:46:49.520Z"
      },
      {
        "duration": 25,
        "start_time": "2021-09-13T06:46:49.594Z"
      },
      {
        "duration": 39,
        "start_time": "2021-09-13T06:46:49.621Z"
      },
      {
        "duration": 71,
        "start_time": "2021-09-13T06:46:49.661Z"
      },
      {
        "duration": 30,
        "start_time": "2021-09-13T06:46:49.734Z"
      },
      {
        "duration": 51,
        "start_time": "2021-09-13T06:46:49.766Z"
      },
      {
        "duration": 30,
        "start_time": "2021-09-13T06:46:49.818Z"
      },
      {
        "duration": 11,
        "start_time": "2021-09-13T06:46:49.849Z"
      },
      {
        "duration": 23,
        "start_time": "2021-09-13T06:46:49.862Z"
      },
      {
        "duration": 15,
        "start_time": "2021-09-13T06:46:49.886Z"
      },
      {
        "duration": 20,
        "start_time": "2021-09-13T06:46:49.903Z"
      },
      {
        "duration": 30,
        "start_time": "2021-09-13T06:46:49.926Z"
      },
      {
        "duration": 21,
        "start_time": "2021-09-13T06:46:49.958Z"
      },
      {
        "duration": 20,
        "start_time": "2021-09-13T06:46:49.981Z"
      },
      {
        "duration": 7,
        "start_time": "2021-09-13T06:46:50.003Z"
      },
      {
        "duration": 16,
        "start_time": "2021-09-13T06:46:50.012Z"
      },
      {
        "duration": 24,
        "start_time": "2021-09-13T06:46:50.030Z"
      },
      {
        "duration": 17,
        "start_time": "2021-09-13T06:46:50.056Z"
      },
      {
        "duration": 6,
        "start_time": "2021-09-13T06:46:50.074Z"
      },
      {
        "duration": 19,
        "start_time": "2021-09-13T06:46:50.082Z"
      },
      {
        "duration": 13,
        "start_time": "2021-09-13T06:46:50.103Z"
      },
      {
        "duration": 37,
        "start_time": "2021-09-13T06:46:50.118Z"
      },
      {
        "duration": 4,
        "start_time": "2021-09-13T06:46:50.157Z"
      },
      {
        "duration": 30,
        "start_time": "2021-09-13T06:46:50.163Z"
      },
      {
        "duration": 7,
        "start_time": "2021-09-13T06:46:50.195Z"
      },
      {
        "duration": 26,
        "start_time": "2021-09-13T06:46:50.204Z"
      },
      {
        "duration": 16,
        "start_time": "2021-09-13T06:46:50.232Z"
      },
      {
        "duration": 329,
        "start_time": "2021-09-13T06:46:50.250Z"
      },
      {
        "duration": 38,
        "start_time": "2021-09-13T06:46:50.580Z"
      },
      {
        "duration": 2,
        "start_time": "2021-09-13T06:46:50.619Z"
      },
      {
        "duration": 13,
        "start_time": "2021-09-13T06:46:50.623Z"
      },
      {
        "duration": 510,
        "start_time": "2021-09-13T06:46:50.638Z"
      },
      {
        "duration": 504,
        "start_time": "2021-09-13T06:46:51.150Z"
      },
      {
        "duration": 3,
        "start_time": "2021-09-13T06:46:51.656Z"
      },
      {
        "duration": 19,
        "start_time": "2021-09-13T06:46:51.660Z"
      },
      {
        "duration": 490,
        "start_time": "2021-09-13T06:46:51.681Z"
      },
      {
        "duration": 65,
        "start_time": "2021-09-13T06:46:52.172Z"
      },
      {
        "duration": 8,
        "start_time": "2021-09-13T06:46:52.239Z"
      },
      {
        "duration": 32,
        "start_time": "2021-09-13T06:46:52.249Z"
      },
      {
        "duration": 17,
        "start_time": "2021-09-13T06:46:52.283Z"
      },
      {
        "duration": 17,
        "start_time": "2021-09-13T06:46:52.302Z"
      },
      {
        "duration": 11,
        "start_time": "2021-09-13T06:46:52.321Z"
      },
      {
        "duration": 7,
        "start_time": "2021-09-13T06:46:52.334Z"
      },
      {
        "duration": 6,
        "start_time": "2021-09-13T06:46:52.343Z"
      },
      {
        "duration": 6,
        "start_time": "2021-09-13T06:46:52.351Z"
      },
      {
        "duration": 6,
        "start_time": "2021-09-13T06:49:32.006Z"
      },
      {
        "duration": 5,
        "start_time": "2021-09-13T06:49:44.791Z"
      },
      {
        "duration": 1171,
        "start_time": "2021-09-13T09:01:01.015Z"
      },
      {
        "duration": 179,
        "start_time": "2021-09-13T09:01:02.191Z"
      },
      {
        "duration": 150,
        "start_time": "2021-09-13T09:01:02.372Z"
      },
      {
        "duration": 188,
        "start_time": "2021-09-13T09:01:02.524Z"
      },
      {
        "duration": 24,
        "start_time": "2021-09-13T09:01:02.714Z"
      },
      {
        "duration": 63,
        "start_time": "2021-09-13T09:01:02.739Z"
      },
      {
        "duration": 106,
        "start_time": "2021-09-13T09:01:02.804Z"
      },
      {
        "duration": 127,
        "start_time": "2021-09-13T09:01:02.913Z"
      },
      {
        "duration": 7,
        "start_time": "2021-09-13T09:01:03.042Z"
      },
      {
        "duration": 12,
        "start_time": "2021-09-13T09:01:03.091Z"
      },
      {
        "duration": 11,
        "start_time": "2021-09-13T09:01:03.105Z"
      },
      {
        "duration": 41,
        "start_time": "2021-09-13T09:01:03.118Z"
      },
      {
        "duration": 46,
        "start_time": "2021-09-13T09:01:03.161Z"
      },
      {
        "duration": 41,
        "start_time": "2021-09-13T09:01:03.209Z"
      },
      {
        "duration": 77,
        "start_time": "2021-09-13T09:01:03.252Z"
      },
      {
        "duration": 35,
        "start_time": "2021-09-13T09:01:03.330Z"
      },
      {
        "duration": 60,
        "start_time": "2021-09-13T09:01:03.366Z"
      },
      {
        "duration": 35,
        "start_time": "2021-09-13T09:01:03.427Z"
      },
      {
        "duration": 4,
        "start_time": "2021-09-13T09:01:03.464Z"
      },
      {
        "duration": 25,
        "start_time": "2021-09-13T09:01:03.469Z"
      },
      {
        "duration": 12,
        "start_time": "2021-09-13T09:01:03.496Z"
      },
      {
        "duration": 20,
        "start_time": "2021-09-13T09:01:03.510Z"
      },
      {
        "duration": 27,
        "start_time": "2021-09-13T09:01:03.534Z"
      },
      {
        "duration": 28,
        "start_time": "2021-09-13T09:01:03.564Z"
      },
      {
        "duration": 11,
        "start_time": "2021-09-13T09:01:03.595Z"
      },
      {
        "duration": 16,
        "start_time": "2021-09-13T09:01:03.608Z"
      },
      {
        "duration": 27,
        "start_time": "2021-09-13T09:01:03.626Z"
      },
      {
        "duration": 11,
        "start_time": "2021-09-13T09:01:03.656Z"
      },
      {
        "duration": 31,
        "start_time": "2021-09-13T09:01:03.669Z"
      },
      {
        "duration": 9,
        "start_time": "2021-09-13T09:01:03.702Z"
      },
      {
        "duration": 8,
        "start_time": "2021-09-13T09:01:03.713Z"
      },
      {
        "duration": 10,
        "start_time": "2021-09-13T09:01:03.723Z"
      },
      {
        "duration": 42,
        "start_time": "2021-09-13T09:01:03.735Z"
      },
      {
        "duration": 12,
        "start_time": "2021-09-13T09:01:03.780Z"
      },
      {
        "duration": 23,
        "start_time": "2021-09-13T09:01:03.794Z"
      },
      {
        "duration": 9,
        "start_time": "2021-09-13T09:01:03.819Z"
      },
      {
        "duration": 18,
        "start_time": "2021-09-13T09:01:03.830Z"
      },
      {
        "duration": 16,
        "start_time": "2021-09-13T09:01:03.850Z"
      },
      {
        "duration": 354,
        "start_time": "2021-09-13T09:01:03.868Z"
      },
      {
        "duration": 36,
        "start_time": "2021-09-13T09:01:04.224Z"
      },
      {
        "duration": 3,
        "start_time": "2021-09-13T09:01:04.262Z"
      },
      {
        "duration": 27,
        "start_time": "2021-09-13T09:01:04.266Z"
      },
      {
        "duration": 541,
        "start_time": "2021-09-13T09:01:04.295Z"
      },
      {
        "duration": 515,
        "start_time": "2021-09-13T09:01:04.838Z"
      },
      {
        "duration": 4,
        "start_time": "2021-09-13T09:01:05.355Z"
      },
      {
        "duration": 11,
        "start_time": "2021-09-13T09:01:05.361Z"
      },
      {
        "duration": 522,
        "start_time": "2021-09-13T09:01:05.374Z"
      },
      {
        "duration": 60,
        "start_time": "2021-09-13T09:01:05.898Z"
      },
      {
        "duration": 8,
        "start_time": "2021-09-13T09:01:05.960Z"
      },
      {
        "duration": 19,
        "start_time": "2021-09-13T09:01:05.992Z"
      },
      {
        "duration": 5,
        "start_time": "2021-09-13T09:01:06.013Z"
      },
      {
        "duration": 9,
        "start_time": "2021-09-13T09:01:06.020Z"
      },
      {
        "duration": 5,
        "start_time": "2021-09-13T09:01:06.031Z"
      },
      {
        "duration": 13,
        "start_time": "2021-09-13T09:01:06.038Z"
      },
      {
        "duration": 6,
        "start_time": "2021-09-13T09:01:06.053Z"
      },
      {
        "duration": 33,
        "start_time": "2021-09-13T09:01:06.060Z"
      },
      {
        "duration": 5,
        "start_time": "2021-09-13T09:01:18.568Z"
      }
    ],
    "kernelspec": {
      "display_name": "Python 3",
      "language": "python",
      "name": "python3"
    },
    "language_info": {
      "codemirror_mode": {
        "name": "ipython",
        "version": 3
      },
      "file_extension": ".py",
      "mimetype": "text/x-python",
      "name": "python",
      "nbconvert_exporter": "python",
      "pygments_lexer": "ipython3",
      "version": "3.7.8"
    },
    "toc": {
      "base_numbering": 1,
      "nav_menu": {},
      "number_sections": true,
      "sideBar": true,
      "skip_h1_title": true,
      "title_cell": "Содержание",
      "title_sidebar": "Contents",
      "toc_cell": true,
      "toc_position": {
        "height": "47px",
        "left": "1192.64px",
        "top": "719px",
        "width": "250px"
      },
      "toc_section_display": true,
      "toc_window_display": true
    },
    "colab": {
      "name": "TelecomTariffs.ipynb",
      "provenance": [],
      "collapsed_sections": []
    }
  },
  "cells": [
    {
      "cell_type": "markdown",
      "metadata": {
        "id": "QS1criiw1SBR"
      },
      "source": [
        "# Определение перспективного тарифа для телеком компании\n",
        "\n",
        "Вы аналитик компании «Мегалайн» — федерального оператора сотовой связи. Клиентам предлагают два тарифных плана: «Смарт» и «Ультра». Чтобы скорректировать рекламный бюджет, коммерческий департамент хочет понять, какой тариф приносит больше денег.\n",
        "Вам предстоит сделать предварительный анализ тарифов на небольшой выборке клиентов. В вашем распоряжении данные 500 пользователей «Мегалайна»: кто они, откуда, каким тарифом пользуются, сколько звонков и сообщений каждый отправил за 2018 год. Нужно проанализировать поведение клиентов и сделать вывод — какой тариф лучше."
      ]
    },
    {
      "cell_type": "markdown",
      "metadata": {
        "id": "sE0FojO71SBS"
      },
      "source": [
        "## Получение данных из файла и изучение общей информации"
      ]
    },
    {
      "cell_type": "code",
      "metadata": {
        "id": "Wu5sDzo51SBS"
      },
      "source": [
        "import pandas as pd\n",
        "import matplotlib.pyplot as plt\n",
        "from scipy import stats as st\n",
        "import numpy as np\n",
        "from functools import reduce"
      ],
      "execution_count": null,
      "outputs": []
    },
    {
      "cell_type": "markdown",
      "metadata": {
        "id": "b28YpHgH1SBT"
      },
      "source": [
        "Прочитаем каждую таблицу файла и сохраним ее в отдельную переменную."
      ]
    },
    {
      "cell_type": "code",
      "metadata": {
        "id": "3MfKwObx1SBT",
        "outputId": "41949f96-d13d-4c75-882d-8486667b93c9"
      },
      "source": [
        "df_calls = pd.read_csv('/datasets/calls.csv')\n",
        "df_calls.head()"
      ],
      "execution_count": null,
      "outputs": [
        {
          "data": {
            "text/html": [
              "<div>\n",
              "<style scoped>\n",
              "    .dataframe tbody tr th:only-of-type {\n",
              "        vertical-align: middle;\n",
              "    }\n",
              "\n",
              "    .dataframe tbody tr th {\n",
              "        vertical-align: top;\n",
              "    }\n",
              "\n",
              "    .dataframe thead th {\n",
              "        text-align: right;\n",
              "    }\n",
              "</style>\n",
              "<table border=\"1\" class=\"dataframe\">\n",
              "  <thead>\n",
              "    <tr style=\"text-align: right;\">\n",
              "      <th></th>\n",
              "      <th>id</th>\n",
              "      <th>call_date</th>\n",
              "      <th>duration</th>\n",
              "      <th>user_id</th>\n",
              "    </tr>\n",
              "  </thead>\n",
              "  <tbody>\n",
              "    <tr>\n",
              "      <td>0</td>\n",
              "      <td>1000_0</td>\n",
              "      <td>2018-07-25</td>\n",
              "      <td>0.00</td>\n",
              "      <td>1000</td>\n",
              "    </tr>\n",
              "    <tr>\n",
              "      <td>1</td>\n",
              "      <td>1000_1</td>\n",
              "      <td>2018-08-17</td>\n",
              "      <td>0.00</td>\n",
              "      <td>1000</td>\n",
              "    </tr>\n",
              "    <tr>\n",
              "      <td>2</td>\n",
              "      <td>1000_2</td>\n",
              "      <td>2018-06-11</td>\n",
              "      <td>2.85</td>\n",
              "      <td>1000</td>\n",
              "    </tr>\n",
              "    <tr>\n",
              "      <td>3</td>\n",
              "      <td>1000_3</td>\n",
              "      <td>2018-09-21</td>\n",
              "      <td>13.80</td>\n",
              "      <td>1000</td>\n",
              "    </tr>\n",
              "    <tr>\n",
              "      <td>4</td>\n",
              "      <td>1000_4</td>\n",
              "      <td>2018-12-15</td>\n",
              "      <td>5.18</td>\n",
              "      <td>1000</td>\n",
              "    </tr>\n",
              "  </tbody>\n",
              "</table>\n",
              "</div>"
            ],
            "text/plain": [
              "       id   call_date  duration  user_id\n",
              "0  1000_0  2018-07-25      0.00     1000\n",
              "1  1000_1  2018-08-17      0.00     1000\n",
              "2  1000_2  2018-06-11      2.85     1000\n",
              "3  1000_3  2018-09-21     13.80     1000\n",
              "4  1000_4  2018-12-15      5.18     1000"
            ]
          },
          "execution_count": 2,
          "metadata": {},
          "output_type": "execute_result"
        }
      ]
    },
    {
      "cell_type": "code",
      "metadata": {
        "id": "G0-wHbhu1SBU",
        "outputId": "59a045f1-8c2c-4592-fdbd-92abcc7eeccc"
      },
      "source": [
        "df_internet = pd.read_csv('/datasets/internet.csv')\n",
        "df_internet.head()"
      ],
      "execution_count": null,
      "outputs": [
        {
          "data": {
            "text/html": [
              "<div>\n",
              "<style scoped>\n",
              "    .dataframe tbody tr th:only-of-type {\n",
              "        vertical-align: middle;\n",
              "    }\n",
              "\n",
              "    .dataframe tbody tr th {\n",
              "        vertical-align: top;\n",
              "    }\n",
              "\n",
              "    .dataframe thead th {\n",
              "        text-align: right;\n",
              "    }\n",
              "</style>\n",
              "<table border=\"1\" class=\"dataframe\">\n",
              "  <thead>\n",
              "    <tr style=\"text-align: right;\">\n",
              "      <th></th>\n",
              "      <th>Unnamed: 0</th>\n",
              "      <th>id</th>\n",
              "      <th>mb_used</th>\n",
              "      <th>session_date</th>\n",
              "      <th>user_id</th>\n",
              "    </tr>\n",
              "  </thead>\n",
              "  <tbody>\n",
              "    <tr>\n",
              "      <td>0</td>\n",
              "      <td>0</td>\n",
              "      <td>1000_0</td>\n",
              "      <td>112.95</td>\n",
              "      <td>2018-11-25</td>\n",
              "      <td>1000</td>\n",
              "    </tr>\n",
              "    <tr>\n",
              "      <td>1</td>\n",
              "      <td>1</td>\n",
              "      <td>1000_1</td>\n",
              "      <td>1052.81</td>\n",
              "      <td>2018-09-07</td>\n",
              "      <td>1000</td>\n",
              "    </tr>\n",
              "    <tr>\n",
              "      <td>2</td>\n",
              "      <td>2</td>\n",
              "      <td>1000_2</td>\n",
              "      <td>1197.26</td>\n",
              "      <td>2018-06-25</td>\n",
              "      <td>1000</td>\n",
              "    </tr>\n",
              "    <tr>\n",
              "      <td>3</td>\n",
              "      <td>3</td>\n",
              "      <td>1000_3</td>\n",
              "      <td>550.27</td>\n",
              "      <td>2018-08-22</td>\n",
              "      <td>1000</td>\n",
              "    </tr>\n",
              "    <tr>\n",
              "      <td>4</td>\n",
              "      <td>4</td>\n",
              "      <td>1000_4</td>\n",
              "      <td>302.56</td>\n",
              "      <td>2018-09-24</td>\n",
              "      <td>1000</td>\n",
              "    </tr>\n",
              "  </tbody>\n",
              "</table>\n",
              "</div>"
            ],
            "text/plain": [
              "   Unnamed: 0      id  mb_used session_date  user_id\n",
              "0           0  1000_0   112.95   2018-11-25     1000\n",
              "1           1  1000_1  1052.81   2018-09-07     1000\n",
              "2           2  1000_2  1197.26   2018-06-25     1000\n",
              "3           3  1000_3   550.27   2018-08-22     1000\n",
              "4           4  1000_4   302.56   2018-09-24     1000"
            ]
          },
          "execution_count": 3,
          "metadata": {},
          "output_type": "execute_result"
        }
      ]
    },
    {
      "cell_type": "code",
      "metadata": {
        "id": "RwFddr5A1SBU",
        "outputId": "92968f21-184b-4e05-974c-35316579cb32"
      },
      "source": [
        "df_messages = pd.read_csv('/datasets/messages.csv')\n",
        "df_messages.head()"
      ],
      "execution_count": null,
      "outputs": [
        {
          "data": {
            "text/html": [
              "<div>\n",
              "<style scoped>\n",
              "    .dataframe tbody tr th:only-of-type {\n",
              "        vertical-align: middle;\n",
              "    }\n",
              "\n",
              "    .dataframe tbody tr th {\n",
              "        vertical-align: top;\n",
              "    }\n",
              "\n",
              "    .dataframe thead th {\n",
              "        text-align: right;\n",
              "    }\n",
              "</style>\n",
              "<table border=\"1\" class=\"dataframe\">\n",
              "  <thead>\n",
              "    <tr style=\"text-align: right;\">\n",
              "      <th></th>\n",
              "      <th>id</th>\n",
              "      <th>message_date</th>\n",
              "      <th>user_id</th>\n",
              "    </tr>\n",
              "  </thead>\n",
              "  <tbody>\n",
              "    <tr>\n",
              "      <td>0</td>\n",
              "      <td>1000_0</td>\n",
              "      <td>2018-06-27</td>\n",
              "      <td>1000</td>\n",
              "    </tr>\n",
              "    <tr>\n",
              "      <td>1</td>\n",
              "      <td>1000_1</td>\n",
              "      <td>2018-10-08</td>\n",
              "      <td>1000</td>\n",
              "    </tr>\n",
              "    <tr>\n",
              "      <td>2</td>\n",
              "      <td>1000_2</td>\n",
              "      <td>2018-08-04</td>\n",
              "      <td>1000</td>\n",
              "    </tr>\n",
              "    <tr>\n",
              "      <td>3</td>\n",
              "      <td>1000_3</td>\n",
              "      <td>2018-06-16</td>\n",
              "      <td>1000</td>\n",
              "    </tr>\n",
              "    <tr>\n",
              "      <td>4</td>\n",
              "      <td>1000_4</td>\n",
              "      <td>2018-12-05</td>\n",
              "      <td>1000</td>\n",
              "    </tr>\n",
              "  </tbody>\n",
              "</table>\n",
              "</div>"
            ],
            "text/plain": [
              "       id message_date  user_id\n",
              "0  1000_0   2018-06-27     1000\n",
              "1  1000_1   2018-10-08     1000\n",
              "2  1000_2   2018-08-04     1000\n",
              "3  1000_3   2018-06-16     1000\n",
              "4  1000_4   2018-12-05     1000"
            ]
          },
          "execution_count": 4,
          "metadata": {},
          "output_type": "execute_result"
        }
      ]
    },
    {
      "cell_type": "code",
      "metadata": {
        "id": "ab5bpQvQ1SBV",
        "outputId": "27c03d7e-eb16-4d31-c57f-90dce7bbaeed"
      },
      "source": [
        "df_tariffs = pd.read_csv('/datasets/tariffs.csv')\n",
        "df_tariffs"
      ],
      "execution_count": null,
      "outputs": [
        {
          "data": {
            "text/html": [
              "<div>\n",
              "<style scoped>\n",
              "    .dataframe tbody tr th:only-of-type {\n",
              "        vertical-align: middle;\n",
              "    }\n",
              "\n",
              "    .dataframe tbody tr th {\n",
              "        vertical-align: top;\n",
              "    }\n",
              "\n",
              "    .dataframe thead th {\n",
              "        text-align: right;\n",
              "    }\n",
              "</style>\n",
              "<table border=\"1\" class=\"dataframe\">\n",
              "  <thead>\n",
              "    <tr style=\"text-align: right;\">\n",
              "      <th></th>\n",
              "      <th>messages_included</th>\n",
              "      <th>mb_per_month_included</th>\n",
              "      <th>minutes_included</th>\n",
              "      <th>rub_monthly_fee</th>\n",
              "      <th>rub_per_gb</th>\n",
              "      <th>rub_per_message</th>\n",
              "      <th>rub_per_minute</th>\n",
              "      <th>tariff_name</th>\n",
              "    </tr>\n",
              "  </thead>\n",
              "  <tbody>\n",
              "    <tr>\n",
              "      <td>0</td>\n",
              "      <td>50</td>\n",
              "      <td>15360</td>\n",
              "      <td>500</td>\n",
              "      <td>550</td>\n",
              "      <td>200</td>\n",
              "      <td>3</td>\n",
              "      <td>3</td>\n",
              "      <td>smart</td>\n",
              "    </tr>\n",
              "    <tr>\n",
              "      <td>1</td>\n",
              "      <td>1000</td>\n",
              "      <td>30720</td>\n",
              "      <td>3000</td>\n",
              "      <td>1950</td>\n",
              "      <td>150</td>\n",
              "      <td>1</td>\n",
              "      <td>1</td>\n",
              "      <td>ultra</td>\n",
              "    </tr>\n",
              "  </tbody>\n",
              "</table>\n",
              "</div>"
            ],
            "text/plain": [
              "   messages_included  mb_per_month_included  minutes_included  \\\n",
              "0                 50                  15360               500   \n",
              "1               1000                  30720              3000   \n",
              "\n",
              "   rub_monthly_fee  rub_per_gb  rub_per_message  rub_per_minute tariff_name  \n",
              "0              550         200                3               3       smart  \n",
              "1             1950         150                1               1       ultra  "
            ]
          },
          "execution_count": 5,
          "metadata": {},
          "output_type": "execute_result"
        }
      ]
    },
    {
      "cell_type": "code",
      "metadata": {
        "id": "4FrgfkPB1SBV",
        "outputId": "8e56b8cc-5ee9-46c4-eb08-cf0b53de52f2"
      },
      "source": [
        "df_users = pd.read_csv('/datasets/users.csv')\n",
        "df_users.head()"
      ],
      "execution_count": null,
      "outputs": [
        {
          "data": {
            "text/html": [
              "<div>\n",
              "<style scoped>\n",
              "    .dataframe tbody tr th:only-of-type {\n",
              "        vertical-align: middle;\n",
              "    }\n",
              "\n",
              "    .dataframe tbody tr th {\n",
              "        vertical-align: top;\n",
              "    }\n",
              "\n",
              "    .dataframe thead th {\n",
              "        text-align: right;\n",
              "    }\n",
              "</style>\n",
              "<table border=\"1\" class=\"dataframe\">\n",
              "  <thead>\n",
              "    <tr style=\"text-align: right;\">\n",
              "      <th></th>\n",
              "      <th>user_id</th>\n",
              "      <th>age</th>\n",
              "      <th>churn_date</th>\n",
              "      <th>city</th>\n",
              "      <th>first_name</th>\n",
              "      <th>last_name</th>\n",
              "      <th>reg_date</th>\n",
              "      <th>tariff</th>\n",
              "    </tr>\n",
              "  </thead>\n",
              "  <tbody>\n",
              "    <tr>\n",
              "      <td>0</td>\n",
              "      <td>1000</td>\n",
              "      <td>52</td>\n",
              "      <td>NaN</td>\n",
              "      <td>Краснодар</td>\n",
              "      <td>Рафаил</td>\n",
              "      <td>Верещагин</td>\n",
              "      <td>2018-05-25</td>\n",
              "      <td>ultra</td>\n",
              "    </tr>\n",
              "    <tr>\n",
              "      <td>1</td>\n",
              "      <td>1001</td>\n",
              "      <td>41</td>\n",
              "      <td>NaN</td>\n",
              "      <td>Москва</td>\n",
              "      <td>Иван</td>\n",
              "      <td>Ежов</td>\n",
              "      <td>2018-11-01</td>\n",
              "      <td>smart</td>\n",
              "    </tr>\n",
              "    <tr>\n",
              "      <td>2</td>\n",
              "      <td>1002</td>\n",
              "      <td>59</td>\n",
              "      <td>NaN</td>\n",
              "      <td>Стерлитамак</td>\n",
              "      <td>Евгений</td>\n",
              "      <td>Абрамович</td>\n",
              "      <td>2018-06-17</td>\n",
              "      <td>smart</td>\n",
              "    </tr>\n",
              "    <tr>\n",
              "      <td>3</td>\n",
              "      <td>1003</td>\n",
              "      <td>23</td>\n",
              "      <td>NaN</td>\n",
              "      <td>Москва</td>\n",
              "      <td>Белла</td>\n",
              "      <td>Белякова</td>\n",
              "      <td>2018-08-17</td>\n",
              "      <td>ultra</td>\n",
              "    </tr>\n",
              "    <tr>\n",
              "      <td>4</td>\n",
              "      <td>1004</td>\n",
              "      <td>68</td>\n",
              "      <td>NaN</td>\n",
              "      <td>Новокузнецк</td>\n",
              "      <td>Татьяна</td>\n",
              "      <td>Авдеенко</td>\n",
              "      <td>2018-05-14</td>\n",
              "      <td>ultra</td>\n",
              "    </tr>\n",
              "  </tbody>\n",
              "</table>\n",
              "</div>"
            ],
            "text/plain": [
              "   user_id  age churn_date         city first_name  last_name    reg_date  \\\n",
              "0     1000   52        NaN    Краснодар     Рафаил  Верещагин  2018-05-25   \n",
              "1     1001   41        NaN       Москва       Иван       Ежов  2018-11-01   \n",
              "2     1002   59        NaN  Стерлитамак    Евгений  Абрамович  2018-06-17   \n",
              "3     1003   23        NaN       Москва      Белла   Белякова  2018-08-17   \n",
              "4     1004   68        NaN  Новокузнецк    Татьяна   Авдеенко  2018-05-14   \n",
              "\n",
              "  tariff  \n",
              "0  ultra  \n",
              "1  smart  \n",
              "2  smart  \n",
              "3  ultra  \n",
              "4  ultra  "
            ]
          },
          "execution_count": 6,
          "metadata": {},
          "output_type": "execute_result"
        }
      ]
    },
    {
      "cell_type": "code",
      "metadata": {
        "id": "rT_18CCX1SBW",
        "outputId": "5862dc07-0fa7-45f0-c6cb-bcbd5357dd89"
      },
      "source": [
        "for df in [df_calls, df_internet, df_messages, df_tariffs, df_users]:\n",
        "    print(df.info(), end='\\n\\n')"
      ],
      "execution_count": null,
      "outputs": [
        {
          "name": "stdout",
          "output_type": "stream",
          "text": [
            "<class 'pandas.core.frame.DataFrame'>\n",
            "RangeIndex: 202607 entries, 0 to 202606\n",
            "Data columns (total 4 columns):\n",
            "id           202607 non-null object\n",
            "call_date    202607 non-null object\n",
            "duration     202607 non-null float64\n",
            "user_id      202607 non-null int64\n",
            "dtypes: float64(1), int64(1), object(2)\n",
            "memory usage: 6.2+ MB\n",
            "None\n",
            "\n",
            "<class 'pandas.core.frame.DataFrame'>\n",
            "RangeIndex: 149396 entries, 0 to 149395\n",
            "Data columns (total 5 columns):\n",
            "Unnamed: 0      149396 non-null int64\n",
            "id              149396 non-null object\n",
            "mb_used         149396 non-null float64\n",
            "session_date    149396 non-null object\n",
            "user_id         149396 non-null int64\n",
            "dtypes: float64(1), int64(2), object(2)\n",
            "memory usage: 5.7+ MB\n",
            "None\n",
            "\n",
            "<class 'pandas.core.frame.DataFrame'>\n",
            "RangeIndex: 123036 entries, 0 to 123035\n",
            "Data columns (total 3 columns):\n",
            "id              123036 non-null object\n",
            "message_date    123036 non-null object\n",
            "user_id         123036 non-null int64\n",
            "dtypes: int64(1), object(2)\n",
            "memory usage: 2.8+ MB\n",
            "None\n",
            "\n",
            "<class 'pandas.core.frame.DataFrame'>\n",
            "RangeIndex: 2 entries, 0 to 1\n",
            "Data columns (total 8 columns):\n",
            "messages_included        2 non-null int64\n",
            "mb_per_month_included    2 non-null int64\n",
            "minutes_included         2 non-null int64\n",
            "rub_monthly_fee          2 non-null int64\n",
            "rub_per_gb               2 non-null int64\n",
            "rub_per_message          2 non-null int64\n",
            "rub_per_minute           2 non-null int64\n",
            "tariff_name              2 non-null object\n",
            "dtypes: int64(7), object(1)\n",
            "memory usage: 256.0+ bytes\n",
            "None\n",
            "\n",
            "<class 'pandas.core.frame.DataFrame'>\n",
            "RangeIndex: 500 entries, 0 to 499\n",
            "Data columns (total 8 columns):\n",
            "user_id       500 non-null int64\n",
            "age           500 non-null int64\n",
            "churn_date    38 non-null object\n",
            "city          500 non-null object\n",
            "first_name    500 non-null object\n",
            "last_name     500 non-null object\n",
            "reg_date      500 non-null object\n",
            "tariff        500 non-null object\n",
            "dtypes: int64(2), object(6)\n",
            "memory usage: 31.4+ KB\n",
            "None\n",
            "\n"
          ]
        }
      ]
    },
    {
      "cell_type": "markdown",
      "metadata": {
        "id": "F8Yn61_t1SBW"
      },
      "source": [
        "### Вывод"
      ]
    },
    {
      "cell_type": "markdown",
      "metadata": {
        "id": "I9cxzdr_1SBX"
      },
      "source": [
        "- Необходимо заменить тип данных для столбцов, содержащих дату, в каждой таблице, в которой они присутствуют, с object на datetime\n",
        "   - столбец call_date в df_calls\n",
        "   - столбец session_date в df_internet\n",
        "   - столбец message_date в df_messages\n",
        "   - столбец churn_date и reg_date в df_users\n",
        "- Есть NaN в столбце churn_date у 38 пользователей из 500, значит у них еще действует выбранный ими тариф. Пропуски в этом столбце оставим как есть.\n",
        "- В таблице df_calls длительность некоторой части звонков равна 0, в таблице df_internet объем интернет-трафика тоже где-то равен 0, нужно подсчитать количество таких значений, а также округлить все нецелые значения длительности в большую сторону, так как «Мегалайн» всегда округляет вверх значения минут и мегабайтов."
      ]
    },
    {
      "cell_type": "markdown",
      "metadata": {
        "id": "FtDxbg8G1SBY"
      },
      "source": [
        "## Подготовка данных"
      ]
    },
    {
      "cell_type": "markdown",
      "metadata": {
        "id": "fJ7mvS7W1SBY"
      },
      "source": [
        "### Замена типа данных"
      ]
    },
    {
      "cell_type": "code",
      "metadata": {
        "id": "qClrwPyI1SBZ"
      },
      "source": [
        "df_calls['call_date'] = pd.to_datetime(df_calls['call_date'], format = '%Y-%m-%d')\n",
        "df_internet['session_date'] = pd.to_datetime(df_internet['session_date'], format = '%Y-%m-%d')\n",
        "df_messages['message_date'] = pd.to_datetime(df_messages['message_date'], format = '%Y-%m-%d')\n",
        "df_users['churn_date'] = pd.to_datetime(df_users['churn_date'], format = '%Y-%m-%d')\n",
        "df_users['reg_date'] = pd.to_datetime(df_users['reg_date'], format = '%Y-%m-%d')"
      ],
      "execution_count": null,
      "outputs": []
    },
    {
      "cell_type": "markdown",
      "metadata": {
        "id": "m8-uhzFG1SBZ"
      },
      "source": [
        "### Замена нулевых значений"
      ]
    },
    {
      "cell_type": "markdown",
      "metadata": {
        "id": "mN-Q8YZ-1SBZ"
      },
      "source": [
        "Подсчитаем количество нулевых строк в столбцах duration в df_calls и mb_used в df_internet, а также округлим все значения в большую сторону."
      ]
    },
    {
      "cell_type": "code",
      "metadata": {
        "id": "6SsKUZ3q1SBZ"
      },
      "source": [
        "df_calls['duration'] = np.ceil(df_calls['duration'])\n",
        "df_internet['mb_used'] = np.ceil(df_internet['mb_used'])"
      ],
      "execution_count": null,
      "outputs": []
    },
    {
      "cell_type": "code",
      "metadata": {
        "id": "XrMAYJau1SBa",
        "outputId": "73b59fc5-70fc-40aa-fab7-2b21a0e19726"
      },
      "source": [
        "(len(df_internet[df_internet['mb_used'] == 0]) / len(df_internet))*100"
      ],
      "execution_count": null,
      "outputs": [
        {
          "data": {
            "text/plain": [
              "13.118155773916303"
            ]
          },
          "execution_count": 10,
          "metadata": {},
          "output_type": "execute_result"
        }
      ]
    },
    {
      "cell_type": "code",
      "metadata": {
        "id": "fZ3kzoKK1SBb",
        "outputId": "cb6dbbb2-4eb2-4e00-9ff3-e85c90446f19"
      },
      "source": [
        "(len(df_calls[df_calls['duration'] == 0]) / len(df_calls))*100"
      ],
      "execution_count": null,
      "outputs": [
        {
          "data": {
            "text/plain": [
              "19.551644316336553"
            ]
          },
          "execution_count": 11,
          "metadata": {},
          "output_type": "execute_result"
        }
      ]
    },
    {
      "cell_type": "markdown",
      "metadata": {
        "id": "r7b4I__A1SBb"
      },
      "source": [
        "Процент нулей достаточно большой в обеих таблицах -  13% и 20% соответственно. Округлять эти значения в сторону единицы кажется нелогичным, так как скорее всего, \"нулевые\" звонки - это пропущенные звонки, а \"нулевой\" объем интернет-трафика - это случаи подключения к интернету, но отсутствие обмена какой-либо информацией. Исключим эти строки из таблиц, так как они не расходуют лимиты тарифы и не формируют выручку."
      ]
    },
    {
      "cell_type": "code",
      "metadata": {
        "id": "FqyBEHw01SBb"
      },
      "source": [
        "df_calls['duration'] = df_calls['duration'].replace(0, np.NaN)\n",
        "df_calls.dropna(subset = ['duration'], inplace = True)\n",
        "\n",
        "df_internet['mb_used'] = df_internet['mb_used'].replace(0, np.NaN)\n",
        "df_internet.dropna(subset = ['mb_used'], inplace = True)"
      ],
      "execution_count": null,
      "outputs": []
    },
    {
      "cell_type": "code",
      "metadata": {
        "scrolled": true,
        "id": "-SqZJ4Q91SBb",
        "outputId": "13dd27f2-b589-4a5c-9e2e-c0d162977f17"
      },
      "source": [
        "for df in [df_calls, df_internet]:\n",
        "    print(df.info(), end='\\n\\n')"
      ],
      "execution_count": null,
      "outputs": [
        {
          "name": "stdout",
          "output_type": "stream",
          "text": [
            "<class 'pandas.core.frame.DataFrame'>\n",
            "Int64Index: 162994 entries, 2 to 202606\n",
            "Data columns (total 4 columns):\n",
            "id           162994 non-null object\n",
            "call_date    162994 non-null datetime64[ns]\n",
            "duration     162994 non-null float64\n",
            "user_id      162994 non-null int64\n",
            "dtypes: datetime64[ns](1), float64(1), int64(1), object(1)\n",
            "memory usage: 6.2+ MB\n",
            "None\n",
            "\n",
            "<class 'pandas.core.frame.DataFrame'>\n",
            "Int64Index: 129798 entries, 0 to 149395\n",
            "Data columns (total 5 columns):\n",
            "Unnamed: 0      129798 non-null int64\n",
            "id              129798 non-null object\n",
            "mb_used         129798 non-null float64\n",
            "session_date    129798 non-null datetime64[ns]\n",
            "user_id         129798 non-null int64\n",
            "dtypes: datetime64[ns](1), float64(1), int64(2), object(1)\n",
            "memory usage: 5.9+ MB\n",
            "None\n",
            "\n"
          ]
        }
      ]
    },
    {
      "cell_type": "markdown",
      "metadata": {
        "id": "uM8fh6Sg1SBc"
      },
      "source": [
        "### Расчёты и добавление результатов в таблицу"
      ]
    },
    {
      "cell_type": "markdown",
      "metadata": {
        "id": "nHap7bYE1SBc"
      },
      "source": [
        "#### Расчёт значения количества звонков, длительности звонков, количества сообщений и объема интернет-трафика за месяц для каждого пользователя"
      ]
    },
    {
      "cell_type": "markdown",
      "metadata": {
        "id": "Gxdt_c3-1SBd"
      },
      "source": [
        "Определим месяц для каждого расчетного значения."
      ]
    },
    {
      "cell_type": "code",
      "metadata": {
        "id": "mQAnrS8A1SBd"
      },
      "source": [
        "df_calls['month'] = df_calls['call_date'].values.astype('datetime64[M]')\n",
        "df_messages['month'] = df_messages['message_date'].values.astype('datetime64[M]')\n",
        "df_internet['month'] = df_internet['session_date'].values.astype('datetime64[M]')"
      ],
      "execution_count": null,
      "outputs": []
    },
    {
      "cell_type": "markdown",
      "metadata": {
        "id": "OfC2SWLn1SBd"
      },
      "source": [
        "Сгруппируем данные для каждого расчетного значения по user_id и месяцу и сохраним в отдельную таблицу."
      ]
    },
    {
      "cell_type": "code",
      "metadata": {
        "id": "pJZIlfZF1SBd",
        "outputId": "c794ba07-5ca0-4690-9323-a98b1057bdc4"
      },
      "source": [
        "df_calls_count = df_calls.groupby(['user_id','month'])[['id']].agg(['count']).reset_index()\n",
        "df_calls_count.columns = ['user_id','month','calls_count']\n",
        "df_calls_count.head(15)"
      ],
      "execution_count": null,
      "outputs": [
        {
          "data": {
            "text/html": [
              "<div>\n",
              "<style scoped>\n",
              "    .dataframe tbody tr th:only-of-type {\n",
              "        vertical-align: middle;\n",
              "    }\n",
              "\n",
              "    .dataframe tbody tr th {\n",
              "        vertical-align: top;\n",
              "    }\n",
              "\n",
              "    .dataframe thead th {\n",
              "        text-align: right;\n",
              "    }\n",
              "</style>\n",
              "<table border=\"1\" class=\"dataframe\">\n",
              "  <thead>\n",
              "    <tr style=\"text-align: right;\">\n",
              "      <th></th>\n",
              "      <th>user_id</th>\n",
              "      <th>month</th>\n",
              "      <th>calls_count</th>\n",
              "    </tr>\n",
              "  </thead>\n",
              "  <tbody>\n",
              "    <tr>\n",
              "      <td>0</td>\n",
              "      <td>1000</td>\n",
              "      <td>2018-05-01</td>\n",
              "      <td>17</td>\n",
              "    </tr>\n",
              "    <tr>\n",
              "      <td>1</td>\n",
              "      <td>1000</td>\n",
              "      <td>2018-06-01</td>\n",
              "      <td>28</td>\n",
              "    </tr>\n",
              "    <tr>\n",
              "      <td>2</td>\n",
              "      <td>1000</td>\n",
              "      <td>2018-07-01</td>\n",
              "      <td>41</td>\n",
              "    </tr>\n",
              "    <tr>\n",
              "      <td>3</td>\n",
              "      <td>1000</td>\n",
              "      <td>2018-08-01</td>\n",
              "      <td>42</td>\n",
              "    </tr>\n",
              "    <tr>\n",
              "      <td>4</td>\n",
              "      <td>1000</td>\n",
              "      <td>2018-09-01</td>\n",
              "      <td>46</td>\n",
              "    </tr>\n",
              "    <tr>\n",
              "      <td>5</td>\n",
              "      <td>1000</td>\n",
              "      <td>2018-10-01</td>\n",
              "      <td>44</td>\n",
              "    </tr>\n",
              "    <tr>\n",
              "      <td>6</td>\n",
              "      <td>1000</td>\n",
              "      <td>2018-11-01</td>\n",
              "      <td>37</td>\n",
              "    </tr>\n",
              "    <tr>\n",
              "      <td>7</td>\n",
              "      <td>1000</td>\n",
              "      <td>2018-12-01</td>\n",
              "      <td>38</td>\n",
              "    </tr>\n",
              "    <tr>\n",
              "      <td>8</td>\n",
              "      <td>1001</td>\n",
              "      <td>2018-11-01</td>\n",
              "      <td>45</td>\n",
              "    </tr>\n",
              "    <tr>\n",
              "      <td>9</td>\n",
              "      <td>1001</td>\n",
              "      <td>2018-12-01</td>\n",
              "      <td>47</td>\n",
              "    </tr>\n",
              "    <tr>\n",
              "      <td>10</td>\n",
              "      <td>1002</td>\n",
              "      <td>2018-06-01</td>\n",
              "      <td>14</td>\n",
              "    </tr>\n",
              "    <tr>\n",
              "      <td>11</td>\n",
              "      <td>1002</td>\n",
              "      <td>2018-07-01</td>\n",
              "      <td>21</td>\n",
              "    </tr>\n",
              "    <tr>\n",
              "      <td>12</td>\n",
              "      <td>1002</td>\n",
              "      <td>2018-08-01</td>\n",
              "      <td>37</td>\n",
              "    </tr>\n",
              "    <tr>\n",
              "      <td>13</td>\n",
              "      <td>1002</td>\n",
              "      <td>2018-09-01</td>\n",
              "      <td>25</td>\n",
              "    </tr>\n",
              "    <tr>\n",
              "      <td>14</td>\n",
              "      <td>1002</td>\n",
              "      <td>2018-10-01</td>\n",
              "      <td>24</td>\n",
              "    </tr>\n",
              "  </tbody>\n",
              "</table>\n",
              "</div>"
            ],
            "text/plain": [
              "    user_id      month  calls_count\n",
              "0      1000 2018-05-01           17\n",
              "1      1000 2018-06-01           28\n",
              "2      1000 2018-07-01           41\n",
              "3      1000 2018-08-01           42\n",
              "4      1000 2018-09-01           46\n",
              "5      1000 2018-10-01           44\n",
              "6      1000 2018-11-01           37\n",
              "7      1000 2018-12-01           38\n",
              "8      1001 2018-11-01           45\n",
              "9      1001 2018-12-01           47\n",
              "10     1002 2018-06-01           14\n",
              "11     1002 2018-07-01           21\n",
              "12     1002 2018-08-01           37\n",
              "13     1002 2018-09-01           25\n",
              "14     1002 2018-10-01           24"
            ]
          },
          "execution_count": 15,
          "metadata": {},
          "output_type": "execute_result"
        }
      ]
    },
    {
      "cell_type": "code",
      "metadata": {
        "id": "T6g6r-LV1SBe",
        "outputId": "130f8a8e-de57-4743-91e6-2ea64384a8b9"
      },
      "source": [
        "df_calls_duration = df_calls.groupby(['user_id','month'])[['duration']].agg(['sum']).reset_index()\n",
        "df_calls_duration.columns = ['user_id','month','calls_duration']\n",
        "df_calls_duration.head()"
      ],
      "execution_count": null,
      "outputs": [
        {
          "data": {
            "text/html": [
              "<div>\n",
              "<style scoped>\n",
              "    .dataframe tbody tr th:only-of-type {\n",
              "        vertical-align: middle;\n",
              "    }\n",
              "\n",
              "    .dataframe tbody tr th {\n",
              "        vertical-align: top;\n",
              "    }\n",
              "\n",
              "    .dataframe thead th {\n",
              "        text-align: right;\n",
              "    }\n",
              "</style>\n",
              "<table border=\"1\" class=\"dataframe\">\n",
              "  <thead>\n",
              "    <tr style=\"text-align: right;\">\n",
              "      <th></th>\n",
              "      <th>user_id</th>\n",
              "      <th>month</th>\n",
              "      <th>calls_duration</th>\n",
              "    </tr>\n",
              "  </thead>\n",
              "  <tbody>\n",
              "    <tr>\n",
              "      <td>0</td>\n",
              "      <td>1000</td>\n",
              "      <td>2018-05-01</td>\n",
              "      <td>159.0</td>\n",
              "    </tr>\n",
              "    <tr>\n",
              "      <td>1</td>\n",
              "      <td>1000</td>\n",
              "      <td>2018-06-01</td>\n",
              "      <td>172.0</td>\n",
              "    </tr>\n",
              "    <tr>\n",
              "      <td>2</td>\n",
              "      <td>1000</td>\n",
              "      <td>2018-07-01</td>\n",
              "      <td>340.0</td>\n",
              "    </tr>\n",
              "    <tr>\n",
              "      <td>3</td>\n",
              "      <td>1000</td>\n",
              "      <td>2018-08-01</td>\n",
              "      <td>408.0</td>\n",
              "    </tr>\n",
              "    <tr>\n",
              "      <td>4</td>\n",
              "      <td>1000</td>\n",
              "      <td>2018-09-01</td>\n",
              "      <td>466.0</td>\n",
              "    </tr>\n",
              "  </tbody>\n",
              "</table>\n",
              "</div>"
            ],
            "text/plain": [
              "   user_id      month  calls_duration\n",
              "0     1000 2018-05-01           159.0\n",
              "1     1000 2018-06-01           172.0\n",
              "2     1000 2018-07-01           340.0\n",
              "3     1000 2018-08-01           408.0\n",
              "4     1000 2018-09-01           466.0"
            ]
          },
          "execution_count": 16,
          "metadata": {},
          "output_type": "execute_result"
        }
      ]
    },
    {
      "cell_type": "code",
      "metadata": {
        "id": "tzuJcWPP1SBe",
        "outputId": "217b3cd4-7802-404e-fe1f-f069254746bf"
      },
      "source": [
        "df_messages_count = df_messages.groupby(['user_id','month'])[['id']].agg(['count']).reset_index()\n",
        "df_messages_count.columns = ['user_id','month','messages_count']\n",
        "df_messages_count.head()"
      ],
      "execution_count": null,
      "outputs": [
        {
          "data": {
            "text/html": [
              "<div>\n",
              "<style scoped>\n",
              "    .dataframe tbody tr th:only-of-type {\n",
              "        vertical-align: middle;\n",
              "    }\n",
              "\n",
              "    .dataframe tbody tr th {\n",
              "        vertical-align: top;\n",
              "    }\n",
              "\n",
              "    .dataframe thead th {\n",
              "        text-align: right;\n",
              "    }\n",
              "</style>\n",
              "<table border=\"1\" class=\"dataframe\">\n",
              "  <thead>\n",
              "    <tr style=\"text-align: right;\">\n",
              "      <th></th>\n",
              "      <th>user_id</th>\n",
              "      <th>month</th>\n",
              "      <th>messages_count</th>\n",
              "    </tr>\n",
              "  </thead>\n",
              "  <tbody>\n",
              "    <tr>\n",
              "      <td>0</td>\n",
              "      <td>1000</td>\n",
              "      <td>2018-05-01</td>\n",
              "      <td>22</td>\n",
              "    </tr>\n",
              "    <tr>\n",
              "      <td>1</td>\n",
              "      <td>1000</td>\n",
              "      <td>2018-06-01</td>\n",
              "      <td>60</td>\n",
              "    </tr>\n",
              "    <tr>\n",
              "      <td>2</td>\n",
              "      <td>1000</td>\n",
              "      <td>2018-07-01</td>\n",
              "      <td>75</td>\n",
              "    </tr>\n",
              "    <tr>\n",
              "      <td>3</td>\n",
              "      <td>1000</td>\n",
              "      <td>2018-08-01</td>\n",
              "      <td>81</td>\n",
              "    </tr>\n",
              "    <tr>\n",
              "      <td>4</td>\n",
              "      <td>1000</td>\n",
              "      <td>2018-09-01</td>\n",
              "      <td>57</td>\n",
              "    </tr>\n",
              "  </tbody>\n",
              "</table>\n",
              "</div>"
            ],
            "text/plain": [
              "   user_id      month  messages_count\n",
              "0     1000 2018-05-01              22\n",
              "1     1000 2018-06-01              60\n",
              "2     1000 2018-07-01              75\n",
              "3     1000 2018-08-01              81\n",
              "4     1000 2018-09-01              57"
            ]
          },
          "execution_count": 17,
          "metadata": {},
          "output_type": "execute_result"
        }
      ]
    },
    {
      "cell_type": "code",
      "metadata": {
        "id": "UCcVxEsR1SBe",
        "outputId": "58a3f915-d74d-45e2-93d8-f9cf4462d2a3"
      },
      "source": [
        "df_internet_mb_used = df_internet.groupby(['user_id','month'])[['mb_used']].agg(['sum']).reset_index()\n",
        "df_internet_mb_used.columns = ['user_id','month','mb_used_month']\n",
        "df_internet_mb_used.head()"
      ],
      "execution_count": null,
      "outputs": [
        {
          "data": {
            "text/html": [
              "<div>\n",
              "<style scoped>\n",
              "    .dataframe tbody tr th:only-of-type {\n",
              "        vertical-align: middle;\n",
              "    }\n",
              "\n",
              "    .dataframe tbody tr th {\n",
              "        vertical-align: top;\n",
              "    }\n",
              "\n",
              "    .dataframe thead th {\n",
              "        text-align: right;\n",
              "    }\n",
              "</style>\n",
              "<table border=\"1\" class=\"dataframe\">\n",
              "  <thead>\n",
              "    <tr style=\"text-align: right;\">\n",
              "      <th></th>\n",
              "      <th>user_id</th>\n",
              "      <th>month</th>\n",
              "      <th>mb_used_month</th>\n",
              "    </tr>\n",
              "  </thead>\n",
              "  <tbody>\n",
              "    <tr>\n",
              "      <td>0</td>\n",
              "      <td>1000</td>\n",
              "      <td>2018-05-01</td>\n",
              "      <td>2256.0</td>\n",
              "    </tr>\n",
              "    <tr>\n",
              "      <td>1</td>\n",
              "      <td>1000</td>\n",
              "      <td>2018-06-01</td>\n",
              "      <td>23257.0</td>\n",
              "    </tr>\n",
              "    <tr>\n",
              "      <td>2</td>\n",
              "      <td>1000</td>\n",
              "      <td>2018-07-01</td>\n",
              "      <td>14016.0</td>\n",
              "    </tr>\n",
              "    <tr>\n",
              "      <td>3</td>\n",
              "      <td>1000</td>\n",
              "      <td>2018-08-01</td>\n",
              "      <td>14070.0</td>\n",
              "    </tr>\n",
              "    <tr>\n",
              "      <td>4</td>\n",
              "      <td>1000</td>\n",
              "      <td>2018-09-01</td>\n",
              "      <td>14581.0</td>\n",
              "    </tr>\n",
              "  </tbody>\n",
              "</table>\n",
              "</div>"
            ],
            "text/plain": [
              "   user_id      month  mb_used_month\n",
              "0     1000 2018-05-01         2256.0\n",
              "1     1000 2018-06-01        23257.0\n",
              "2     1000 2018-07-01        14016.0\n",
              "3     1000 2018-08-01        14070.0\n",
              "4     1000 2018-09-01        14581.0"
            ]
          },
          "execution_count": 18,
          "metadata": {},
          "output_type": "execute_result"
        }
      ]
    },
    {
      "cell_type": "markdown",
      "metadata": {
        "id": "BoOSRZWs1SBf"
      },
      "source": [
        " #### Объединение таблиц"
      ]
    },
    {
      "cell_type": "markdown",
      "metadata": {
        "id": "yOARwK471SBf"
      },
      "source": [
        "Определим для каждого пользователя месяц подключения тарифа."
      ]
    },
    {
      "cell_type": "code",
      "metadata": {
        "id": "8cBq_vwY1SBf"
      },
      "source": [
        "df_users['reg_month'] = df_users['reg_date'].values.astype('datetime64[M]')"
      ],
      "execution_count": null,
      "outputs": []
    },
    {
      "cell_type": "markdown",
      "metadata": {
        "id": "VlJOQ0Z01SBf"
      },
      "source": [
        "Определим временной промежуток: от самого раннего месяца подключения рассматриваемых тарифов у пользователей до самого позднего."
      ]
    },
    {
      "cell_type": "code",
      "metadata": {
        "id": "4-wfCC2l1SBg",
        "outputId": "c7cbf370-07a6-4f71-8755-611e22c37f43"
      },
      "source": [
        "df_users['reg_month'].min()"
      ],
      "execution_count": null,
      "outputs": [
        {
          "data": {
            "text/plain": [
              "Timestamp('2018-01-01 00:00:00')"
            ]
          },
          "execution_count": 20,
          "metadata": {},
          "output_type": "execute_result"
        }
      ]
    },
    {
      "cell_type": "code",
      "metadata": {
        "id": "jjx5Exc21SBg",
        "outputId": "d0a7b9c7-cb3d-491e-a6d1-a72211c647fd"
      },
      "source": [
        "df_users['reg_month'].max()"
      ],
      "execution_count": null,
      "outputs": [
        {
          "data": {
            "text/plain": [
              "Timestamp('2018-12-01 00:00:00')"
            ]
          },
          "execution_count": 21,
          "metadata": {},
          "output_type": "execute_result"
        }
      ]
    },
    {
      "cell_type": "markdown",
      "metadata": {
        "id": "O-7WoO2C1SBg"
      },
      "source": [
        "Создадим таблицу, где для каждого пользователя будет каждый месяц этого временного промежутка."
      ]
    },
    {
      "cell_type": "code",
      "metadata": {
        "id": "mPuylbph1SBh",
        "outputId": "ae960dce-9058-4c4c-ecb7-1ad36a69aec2"
      },
      "source": [
        "df_time_period = pd.DataFrame(pd.date_range(df_users['reg_month'].min(),df_users['reg_month'].max(),freq='MS'))\n",
        "df_time_period.columns = ['month']\n",
        "df_time_period"
      ],
      "execution_count": null,
      "outputs": [
        {
          "data": {
            "text/html": [
              "<div>\n",
              "<style scoped>\n",
              "    .dataframe tbody tr th:only-of-type {\n",
              "        vertical-align: middle;\n",
              "    }\n",
              "\n",
              "    .dataframe tbody tr th {\n",
              "        vertical-align: top;\n",
              "    }\n",
              "\n",
              "    .dataframe thead th {\n",
              "        text-align: right;\n",
              "    }\n",
              "</style>\n",
              "<table border=\"1\" class=\"dataframe\">\n",
              "  <thead>\n",
              "    <tr style=\"text-align: right;\">\n",
              "      <th></th>\n",
              "      <th>month</th>\n",
              "    </tr>\n",
              "  </thead>\n",
              "  <tbody>\n",
              "    <tr>\n",
              "      <td>0</td>\n",
              "      <td>2018-01-01</td>\n",
              "    </tr>\n",
              "    <tr>\n",
              "      <td>1</td>\n",
              "      <td>2018-02-01</td>\n",
              "    </tr>\n",
              "    <tr>\n",
              "      <td>2</td>\n",
              "      <td>2018-03-01</td>\n",
              "    </tr>\n",
              "    <tr>\n",
              "      <td>3</td>\n",
              "      <td>2018-04-01</td>\n",
              "    </tr>\n",
              "    <tr>\n",
              "      <td>4</td>\n",
              "      <td>2018-05-01</td>\n",
              "    </tr>\n",
              "    <tr>\n",
              "      <td>5</td>\n",
              "      <td>2018-06-01</td>\n",
              "    </tr>\n",
              "    <tr>\n",
              "      <td>6</td>\n",
              "      <td>2018-07-01</td>\n",
              "    </tr>\n",
              "    <tr>\n",
              "      <td>7</td>\n",
              "      <td>2018-08-01</td>\n",
              "    </tr>\n",
              "    <tr>\n",
              "      <td>8</td>\n",
              "      <td>2018-09-01</td>\n",
              "    </tr>\n",
              "    <tr>\n",
              "      <td>9</td>\n",
              "      <td>2018-10-01</td>\n",
              "    </tr>\n",
              "    <tr>\n",
              "      <td>10</td>\n",
              "      <td>2018-11-01</td>\n",
              "    </tr>\n",
              "    <tr>\n",
              "      <td>11</td>\n",
              "      <td>2018-12-01</td>\n",
              "    </tr>\n",
              "  </tbody>\n",
              "</table>\n",
              "</div>"
            ],
            "text/plain": [
              "        month\n",
              "0  2018-01-01\n",
              "1  2018-02-01\n",
              "2  2018-03-01\n",
              "3  2018-04-01\n",
              "4  2018-05-01\n",
              "5  2018-06-01\n",
              "6  2018-07-01\n",
              "7  2018-08-01\n",
              "8  2018-09-01\n",
              "9  2018-10-01\n",
              "10 2018-11-01\n",
              "11 2018-12-01"
            ]
          },
          "execution_count": 22,
          "metadata": {},
          "output_type": "execute_result"
        }
      ]
    },
    {
      "cell_type": "code",
      "metadata": {
        "id": "zthX9OHG1SBh",
        "outputId": "b6682f1c-e83d-45d4-9135-1225e4c08a97"
      },
      "source": [
        "df_time_period['key'] = 1\n",
        "df_users['key'] = 1\n",
        "report = df_time_period.merge(df_users,on='key')\n",
        "report.head()"
      ],
      "execution_count": null,
      "outputs": [
        {
          "data": {
            "text/html": [
              "<div>\n",
              "<style scoped>\n",
              "    .dataframe tbody tr th:only-of-type {\n",
              "        vertical-align: middle;\n",
              "    }\n",
              "\n",
              "    .dataframe tbody tr th {\n",
              "        vertical-align: top;\n",
              "    }\n",
              "\n",
              "    .dataframe thead th {\n",
              "        text-align: right;\n",
              "    }\n",
              "</style>\n",
              "<table border=\"1\" class=\"dataframe\">\n",
              "  <thead>\n",
              "    <tr style=\"text-align: right;\">\n",
              "      <th></th>\n",
              "      <th>month</th>\n",
              "      <th>key</th>\n",
              "      <th>user_id</th>\n",
              "      <th>age</th>\n",
              "      <th>churn_date</th>\n",
              "      <th>city</th>\n",
              "      <th>first_name</th>\n",
              "      <th>last_name</th>\n",
              "      <th>reg_date</th>\n",
              "      <th>tariff</th>\n",
              "      <th>reg_month</th>\n",
              "    </tr>\n",
              "  </thead>\n",
              "  <tbody>\n",
              "    <tr>\n",
              "      <td>0</td>\n",
              "      <td>2018-01-01</td>\n",
              "      <td>1</td>\n",
              "      <td>1000</td>\n",
              "      <td>52</td>\n",
              "      <td>NaT</td>\n",
              "      <td>Краснодар</td>\n",
              "      <td>Рафаил</td>\n",
              "      <td>Верещагин</td>\n",
              "      <td>2018-05-25</td>\n",
              "      <td>ultra</td>\n",
              "      <td>2018-05-01</td>\n",
              "    </tr>\n",
              "    <tr>\n",
              "      <td>1</td>\n",
              "      <td>2018-01-01</td>\n",
              "      <td>1</td>\n",
              "      <td>1001</td>\n",
              "      <td>41</td>\n",
              "      <td>NaT</td>\n",
              "      <td>Москва</td>\n",
              "      <td>Иван</td>\n",
              "      <td>Ежов</td>\n",
              "      <td>2018-11-01</td>\n",
              "      <td>smart</td>\n",
              "      <td>2018-11-01</td>\n",
              "    </tr>\n",
              "    <tr>\n",
              "      <td>2</td>\n",
              "      <td>2018-01-01</td>\n",
              "      <td>1</td>\n",
              "      <td>1002</td>\n",
              "      <td>59</td>\n",
              "      <td>NaT</td>\n",
              "      <td>Стерлитамак</td>\n",
              "      <td>Евгений</td>\n",
              "      <td>Абрамович</td>\n",
              "      <td>2018-06-17</td>\n",
              "      <td>smart</td>\n",
              "      <td>2018-06-01</td>\n",
              "    </tr>\n",
              "    <tr>\n",
              "      <td>3</td>\n",
              "      <td>2018-01-01</td>\n",
              "      <td>1</td>\n",
              "      <td>1003</td>\n",
              "      <td>23</td>\n",
              "      <td>NaT</td>\n",
              "      <td>Москва</td>\n",
              "      <td>Белла</td>\n",
              "      <td>Белякова</td>\n",
              "      <td>2018-08-17</td>\n",
              "      <td>ultra</td>\n",
              "      <td>2018-08-01</td>\n",
              "    </tr>\n",
              "    <tr>\n",
              "      <td>4</td>\n",
              "      <td>2018-01-01</td>\n",
              "      <td>1</td>\n",
              "      <td>1004</td>\n",
              "      <td>68</td>\n",
              "      <td>NaT</td>\n",
              "      <td>Новокузнецк</td>\n",
              "      <td>Татьяна</td>\n",
              "      <td>Авдеенко</td>\n",
              "      <td>2018-05-14</td>\n",
              "      <td>ultra</td>\n",
              "      <td>2018-05-01</td>\n",
              "    </tr>\n",
              "  </tbody>\n",
              "</table>\n",
              "</div>"
            ],
            "text/plain": [
              "       month  key  user_id  age churn_date         city first_name  last_name  \\\n",
              "0 2018-01-01    1     1000   52        NaT    Краснодар     Рафаил  Верещагин   \n",
              "1 2018-01-01    1     1001   41        NaT       Москва       Иван       Ежов   \n",
              "2 2018-01-01    1     1002   59        NaT  Стерлитамак    Евгений  Абрамович   \n",
              "3 2018-01-01    1     1003   23        NaT       Москва      Белла   Белякова   \n",
              "4 2018-01-01    1     1004   68        NaT  Новокузнецк    Татьяна   Авдеенко   \n",
              "\n",
              "    reg_date tariff  reg_month  \n",
              "0 2018-05-25  ultra 2018-05-01  \n",
              "1 2018-11-01  smart 2018-11-01  \n",
              "2 2018-06-17  smart 2018-06-01  \n",
              "3 2018-08-17  ultra 2018-08-01  \n",
              "4 2018-05-14  ultra 2018-05-01  "
            ]
          },
          "execution_count": 23,
          "metadata": {},
          "output_type": "execute_result"
        }
      ]
    },
    {
      "cell_type": "markdown",
      "metadata": {
        "id": "sKOab6c31SBh"
      },
      "source": [
        "Для пользователей, которые подключили тарифы после минимального месяца временного промежутка, уберем ненужные строчки."
      ]
    },
    {
      "cell_type": "code",
      "metadata": {
        "id": "DGWY3vxF1SBi",
        "outputId": "67b8260e-d346-43ba-d520-1af8a8f7d5da"
      },
      "source": [
        "report = report[report['month']>=report['reg_month']].sort_values(by=['user_id', 'month'], ascending=True)\n",
        "report.head()"
      ],
      "execution_count": null,
      "outputs": [
        {
          "data": {
            "text/html": [
              "<div>\n",
              "<style scoped>\n",
              "    .dataframe tbody tr th:only-of-type {\n",
              "        vertical-align: middle;\n",
              "    }\n",
              "\n",
              "    .dataframe tbody tr th {\n",
              "        vertical-align: top;\n",
              "    }\n",
              "\n",
              "    .dataframe thead th {\n",
              "        text-align: right;\n",
              "    }\n",
              "</style>\n",
              "<table border=\"1\" class=\"dataframe\">\n",
              "  <thead>\n",
              "    <tr style=\"text-align: right;\">\n",
              "      <th></th>\n",
              "      <th>month</th>\n",
              "      <th>key</th>\n",
              "      <th>user_id</th>\n",
              "      <th>age</th>\n",
              "      <th>churn_date</th>\n",
              "      <th>city</th>\n",
              "      <th>first_name</th>\n",
              "      <th>last_name</th>\n",
              "      <th>reg_date</th>\n",
              "      <th>tariff</th>\n",
              "      <th>reg_month</th>\n",
              "    </tr>\n",
              "  </thead>\n",
              "  <tbody>\n",
              "    <tr>\n",
              "      <td>2000</td>\n",
              "      <td>2018-05-01</td>\n",
              "      <td>1</td>\n",
              "      <td>1000</td>\n",
              "      <td>52</td>\n",
              "      <td>NaT</td>\n",
              "      <td>Краснодар</td>\n",
              "      <td>Рафаил</td>\n",
              "      <td>Верещагин</td>\n",
              "      <td>2018-05-25</td>\n",
              "      <td>ultra</td>\n",
              "      <td>2018-05-01</td>\n",
              "    </tr>\n",
              "    <tr>\n",
              "      <td>2500</td>\n",
              "      <td>2018-06-01</td>\n",
              "      <td>1</td>\n",
              "      <td>1000</td>\n",
              "      <td>52</td>\n",
              "      <td>NaT</td>\n",
              "      <td>Краснодар</td>\n",
              "      <td>Рафаил</td>\n",
              "      <td>Верещагин</td>\n",
              "      <td>2018-05-25</td>\n",
              "      <td>ultra</td>\n",
              "      <td>2018-05-01</td>\n",
              "    </tr>\n",
              "    <tr>\n",
              "      <td>3000</td>\n",
              "      <td>2018-07-01</td>\n",
              "      <td>1</td>\n",
              "      <td>1000</td>\n",
              "      <td>52</td>\n",
              "      <td>NaT</td>\n",
              "      <td>Краснодар</td>\n",
              "      <td>Рафаил</td>\n",
              "      <td>Верещагин</td>\n",
              "      <td>2018-05-25</td>\n",
              "      <td>ultra</td>\n",
              "      <td>2018-05-01</td>\n",
              "    </tr>\n",
              "    <tr>\n",
              "      <td>3500</td>\n",
              "      <td>2018-08-01</td>\n",
              "      <td>1</td>\n",
              "      <td>1000</td>\n",
              "      <td>52</td>\n",
              "      <td>NaT</td>\n",
              "      <td>Краснодар</td>\n",
              "      <td>Рафаил</td>\n",
              "      <td>Верещагин</td>\n",
              "      <td>2018-05-25</td>\n",
              "      <td>ultra</td>\n",
              "      <td>2018-05-01</td>\n",
              "    </tr>\n",
              "    <tr>\n",
              "      <td>4000</td>\n",
              "      <td>2018-09-01</td>\n",
              "      <td>1</td>\n",
              "      <td>1000</td>\n",
              "      <td>52</td>\n",
              "      <td>NaT</td>\n",
              "      <td>Краснодар</td>\n",
              "      <td>Рафаил</td>\n",
              "      <td>Верещагин</td>\n",
              "      <td>2018-05-25</td>\n",
              "      <td>ultra</td>\n",
              "      <td>2018-05-01</td>\n",
              "    </tr>\n",
              "  </tbody>\n",
              "</table>\n",
              "</div>"
            ],
            "text/plain": [
              "          month  key  user_id  age churn_date       city first_name  \\\n",
              "2000 2018-05-01    1     1000   52        NaT  Краснодар     Рафаил   \n",
              "2500 2018-06-01    1     1000   52        NaT  Краснодар     Рафаил   \n",
              "3000 2018-07-01    1     1000   52        NaT  Краснодар     Рафаил   \n",
              "3500 2018-08-01    1     1000   52        NaT  Краснодар     Рафаил   \n",
              "4000 2018-09-01    1     1000   52        NaT  Краснодар     Рафаил   \n",
              "\n",
              "      last_name   reg_date tariff  reg_month  \n",
              "2000  Верещагин 2018-05-25  ultra 2018-05-01  \n",
              "2500  Верещагин 2018-05-25  ultra 2018-05-01  \n",
              "3000  Верещагин 2018-05-25  ultra 2018-05-01  \n",
              "3500  Верещагин 2018-05-25  ultra 2018-05-01  \n",
              "4000  Верещагин 2018-05-25  ultra 2018-05-01  "
            ]
          },
          "execution_count": 24,
          "metadata": {},
          "output_type": "execute_result"
        }
      ]
    },
    {
      "cell_type": "markdown",
      "metadata": {
        "id": "cHpjl6tV1SBi"
      },
      "source": [
        "Объединим все таблицы в одну."
      ]
    },
    {
      "cell_type": "code",
      "metadata": {
        "id": "IMo5AWZO1SBi"
      },
      "source": [
        "report = report.merge(df_calls_count,how='left',on=['user_id', 'month'])"
      ],
      "execution_count": null,
      "outputs": []
    },
    {
      "cell_type": "code",
      "metadata": {
        "id": "2aZJMFvJ1SBj"
      },
      "source": [
        "report = report.merge(df_calls_duration,how='left',on=['user_id', 'month'])"
      ],
      "execution_count": null,
      "outputs": []
    },
    {
      "cell_type": "code",
      "metadata": {
        "id": "lbHayBEr1SBj"
      },
      "source": [
        "report = report.merge(df_messages_count,how='left',on=['user_id', 'month'])"
      ],
      "execution_count": null,
      "outputs": []
    },
    {
      "cell_type": "code",
      "metadata": {
        "id": "kK7bef8M1SBj"
      },
      "source": [
        "report = report.merge(df_internet_mb_used,how='left',on=['user_id', 'month'])"
      ],
      "execution_count": null,
      "outputs": []
    },
    {
      "cell_type": "markdown",
      "metadata": {
        "id": "sE5h28_j1SBk"
      },
      "source": [
        "Оставим в таблице только столбцы, необходимые для дальнейшего анализа."
      ]
    },
    {
      "cell_type": "code",
      "metadata": {
        "id": "VeED3ZKD1SBk",
        "outputId": "8c0ed22d-cdda-4fd2-9e84-0892b6aa718e"
      },
      "source": [
        "cols = ['age', 'churn_date', 'first_name', 'last_name', 'reg_date', 'reg_month']\n",
        "report.drop(cols, inplace=True, axis=1)\n",
        "report.head(15)"
      ],
      "execution_count": null,
      "outputs": [
        {
          "data": {
            "text/html": [
              "<div>\n",
              "<style scoped>\n",
              "    .dataframe tbody tr th:only-of-type {\n",
              "        vertical-align: middle;\n",
              "    }\n",
              "\n",
              "    .dataframe tbody tr th {\n",
              "        vertical-align: top;\n",
              "    }\n",
              "\n",
              "    .dataframe thead th {\n",
              "        text-align: right;\n",
              "    }\n",
              "</style>\n",
              "<table border=\"1\" class=\"dataframe\">\n",
              "  <thead>\n",
              "    <tr style=\"text-align: right;\">\n",
              "      <th></th>\n",
              "      <th>month</th>\n",
              "      <th>key</th>\n",
              "      <th>user_id</th>\n",
              "      <th>city</th>\n",
              "      <th>tariff</th>\n",
              "      <th>calls_count</th>\n",
              "      <th>calls_duration</th>\n",
              "      <th>messages_count</th>\n",
              "      <th>mb_used_month</th>\n",
              "    </tr>\n",
              "  </thead>\n",
              "  <tbody>\n",
              "    <tr>\n",
              "      <td>0</td>\n",
              "      <td>2018-05-01</td>\n",
              "      <td>1</td>\n",
              "      <td>1000</td>\n",
              "      <td>Краснодар</td>\n",
              "      <td>ultra</td>\n",
              "      <td>17.0</td>\n",
              "      <td>159.0</td>\n",
              "      <td>22.0</td>\n",
              "      <td>2256.0</td>\n",
              "    </tr>\n",
              "    <tr>\n",
              "      <td>1</td>\n",
              "      <td>2018-06-01</td>\n",
              "      <td>1</td>\n",
              "      <td>1000</td>\n",
              "      <td>Краснодар</td>\n",
              "      <td>ultra</td>\n",
              "      <td>28.0</td>\n",
              "      <td>172.0</td>\n",
              "      <td>60.0</td>\n",
              "      <td>23257.0</td>\n",
              "    </tr>\n",
              "    <tr>\n",
              "      <td>2</td>\n",
              "      <td>2018-07-01</td>\n",
              "      <td>1</td>\n",
              "      <td>1000</td>\n",
              "      <td>Краснодар</td>\n",
              "      <td>ultra</td>\n",
              "      <td>41.0</td>\n",
              "      <td>340.0</td>\n",
              "      <td>75.0</td>\n",
              "      <td>14016.0</td>\n",
              "    </tr>\n",
              "    <tr>\n",
              "      <td>3</td>\n",
              "      <td>2018-08-01</td>\n",
              "      <td>1</td>\n",
              "      <td>1000</td>\n",
              "      <td>Краснодар</td>\n",
              "      <td>ultra</td>\n",
              "      <td>42.0</td>\n",
              "      <td>408.0</td>\n",
              "      <td>81.0</td>\n",
              "      <td>14070.0</td>\n",
              "    </tr>\n",
              "    <tr>\n",
              "      <td>4</td>\n",
              "      <td>2018-09-01</td>\n",
              "      <td>1</td>\n",
              "      <td>1000</td>\n",
              "      <td>Краснодар</td>\n",
              "      <td>ultra</td>\n",
              "      <td>46.0</td>\n",
              "      <td>466.0</td>\n",
              "      <td>57.0</td>\n",
              "      <td>14581.0</td>\n",
              "    </tr>\n",
              "    <tr>\n",
              "      <td>5</td>\n",
              "      <td>2018-10-01</td>\n",
              "      <td>1</td>\n",
              "      <td>1000</td>\n",
              "      <td>Краснодар</td>\n",
              "      <td>ultra</td>\n",
              "      <td>44.0</td>\n",
              "      <td>350.0</td>\n",
              "      <td>73.0</td>\n",
              "      <td>14717.0</td>\n",
              "    </tr>\n",
              "    <tr>\n",
              "      <td>6</td>\n",
              "      <td>2018-11-01</td>\n",
              "      <td>1</td>\n",
              "      <td>1000</td>\n",
              "      <td>Краснодар</td>\n",
              "      <td>ultra</td>\n",
              "      <td>37.0</td>\n",
              "      <td>338.0</td>\n",
              "      <td>58.0</td>\n",
              "      <td>14768.0</td>\n",
              "    </tr>\n",
              "    <tr>\n",
              "      <td>7</td>\n",
              "      <td>2018-12-01</td>\n",
              "      <td>1</td>\n",
              "      <td>1000</td>\n",
              "      <td>Краснодар</td>\n",
              "      <td>ultra</td>\n",
              "      <td>38.0</td>\n",
              "      <td>333.0</td>\n",
              "      <td>70.0</td>\n",
              "      <td>9827.0</td>\n",
              "    </tr>\n",
              "    <tr>\n",
              "      <td>8</td>\n",
              "      <td>2018-11-01</td>\n",
              "      <td>1</td>\n",
              "      <td>1001</td>\n",
              "      <td>Москва</td>\n",
              "      <td>smart</td>\n",
              "      <td>45.0</td>\n",
              "      <td>430.0</td>\n",
              "      <td>NaN</td>\n",
              "      <td>18452.0</td>\n",
              "    </tr>\n",
              "    <tr>\n",
              "      <td>9</td>\n",
              "      <td>2018-12-01</td>\n",
              "      <td>1</td>\n",
              "      <td>1001</td>\n",
              "      <td>Москва</td>\n",
              "      <td>smart</td>\n",
              "      <td>47.0</td>\n",
              "      <td>414.0</td>\n",
              "      <td>NaN</td>\n",
              "      <td>14053.0</td>\n",
              "    </tr>\n",
              "    <tr>\n",
              "      <td>10</td>\n",
              "      <td>2018-06-01</td>\n",
              "      <td>1</td>\n",
              "      <td>1002</td>\n",
              "      <td>Стерлитамак</td>\n",
              "      <td>smart</td>\n",
              "      <td>14.0</td>\n",
              "      <td>117.0</td>\n",
              "      <td>4.0</td>\n",
              "      <td>10871.0</td>\n",
              "    </tr>\n",
              "    <tr>\n",
              "      <td>11</td>\n",
              "      <td>2018-07-01</td>\n",
              "      <td>1</td>\n",
              "      <td>1002</td>\n",
              "      <td>Стерлитамак</td>\n",
              "      <td>smart</td>\n",
              "      <td>21.0</td>\n",
              "      <td>214.0</td>\n",
              "      <td>11.0</td>\n",
              "      <td>17601.0</td>\n",
              "    </tr>\n",
              "    <tr>\n",
              "      <td>12</td>\n",
              "      <td>2018-08-01</td>\n",
              "      <td>1</td>\n",
              "      <td>1002</td>\n",
              "      <td>Стерлитамак</td>\n",
              "      <td>smart</td>\n",
              "      <td>37.0</td>\n",
              "      <td>289.0</td>\n",
              "      <td>13.0</td>\n",
              "      <td>20347.0</td>\n",
              "    </tr>\n",
              "    <tr>\n",
              "      <td>13</td>\n",
              "      <td>2018-09-01</td>\n",
              "      <td>1</td>\n",
              "      <td>1002</td>\n",
              "      <td>Стерлитамак</td>\n",
              "      <td>smart</td>\n",
              "      <td>25.0</td>\n",
              "      <td>206.0</td>\n",
              "      <td>4.0</td>\n",
              "      <td>16712.0</td>\n",
              "    </tr>\n",
              "    <tr>\n",
              "      <td>14</td>\n",
              "      <td>2018-10-01</td>\n",
              "      <td>1</td>\n",
              "      <td>1002</td>\n",
              "      <td>Стерлитамак</td>\n",
              "      <td>smart</td>\n",
              "      <td>24.0</td>\n",
              "      <td>212.0</td>\n",
              "      <td>10.0</td>\n",
              "      <td>13905.0</td>\n",
              "    </tr>\n",
              "  </tbody>\n",
              "</table>\n",
              "</div>"
            ],
            "text/plain": [
              "        month  key  user_id         city tariff  calls_count  calls_duration  \\\n",
              "0  2018-05-01    1     1000    Краснодар  ultra         17.0           159.0   \n",
              "1  2018-06-01    1     1000    Краснодар  ultra         28.0           172.0   \n",
              "2  2018-07-01    1     1000    Краснодар  ultra         41.0           340.0   \n",
              "3  2018-08-01    1     1000    Краснодар  ultra         42.0           408.0   \n",
              "4  2018-09-01    1     1000    Краснодар  ultra         46.0           466.0   \n",
              "5  2018-10-01    1     1000    Краснодар  ultra         44.0           350.0   \n",
              "6  2018-11-01    1     1000    Краснодар  ultra         37.0           338.0   \n",
              "7  2018-12-01    1     1000    Краснодар  ultra         38.0           333.0   \n",
              "8  2018-11-01    1     1001       Москва  smart         45.0           430.0   \n",
              "9  2018-12-01    1     1001       Москва  smart         47.0           414.0   \n",
              "10 2018-06-01    1     1002  Стерлитамак  smart         14.0           117.0   \n",
              "11 2018-07-01    1     1002  Стерлитамак  smart         21.0           214.0   \n",
              "12 2018-08-01    1     1002  Стерлитамак  smart         37.0           289.0   \n",
              "13 2018-09-01    1     1002  Стерлитамак  smart         25.0           206.0   \n",
              "14 2018-10-01    1     1002  Стерлитамак  smart         24.0           212.0   \n",
              "\n",
              "    messages_count  mb_used_month  \n",
              "0             22.0         2256.0  \n",
              "1             60.0        23257.0  \n",
              "2             75.0        14016.0  \n",
              "3             81.0        14070.0  \n",
              "4             57.0        14581.0  \n",
              "5             73.0        14717.0  \n",
              "6             58.0        14768.0  \n",
              "7             70.0         9827.0  \n",
              "8              NaN        18452.0  \n",
              "9              NaN        14053.0  \n",
              "10             4.0        10871.0  \n",
              "11            11.0        17601.0  \n",
              "12            13.0        20347.0  \n",
              "13             4.0        16712.0  \n",
              "14            10.0        13905.0  "
            ]
          },
          "execution_count": 29,
          "metadata": {},
          "output_type": "execute_result"
        }
      ]
    },
    {
      "cell_type": "markdown",
      "metadata": {
        "id": "Y17oXlrM1SBk"
      },
      "source": [
        "Посмотрим на пропуски и заменим найденные на 0."
      ]
    },
    {
      "cell_type": "code",
      "metadata": {
        "id": "aGq8mGf51SBk",
        "outputId": "16c328a3-3339-45a7-dd6c-53174d5342fd"
      },
      "source": [
        "report.isnull().sum().sort_values()"
      ],
      "execution_count": null,
      "outputs": [
        {
          "data": {
            "text/plain": [
              "month               0\n",
              "key                 0\n",
              "user_id             0\n",
              "city                0\n",
              "tariff              0\n",
              "mb_used_month      58\n",
              "calls_count        91\n",
              "calls_duration     91\n",
              "messages_count    542\n",
              "dtype: int64"
            ]
          },
          "execution_count": 30,
          "metadata": {},
          "output_type": "execute_result"
        }
      ]
    },
    {
      "cell_type": "code",
      "metadata": {
        "id": "3DGqY3Ed1SBl"
      },
      "source": [
        "for col in ['calls_duration','mb_used_month', 'calls_count', 'messages_count']:\n",
        "    report[col] = report[col].fillna(0)"
      ],
      "execution_count": null,
      "outputs": []
    },
    {
      "cell_type": "code",
      "metadata": {
        "id": "Rc2lvgRW1SBl",
        "outputId": "763801d7-ace3-4eb0-d890-54fcac39c860"
      },
      "source": [
        "report.isnull().sum().sort_values()"
      ],
      "execution_count": null,
      "outputs": [
        {
          "data": {
            "text/plain": [
              "month             0\n",
              "key               0\n",
              "user_id           0\n",
              "city              0\n",
              "tariff            0\n",
              "calls_count       0\n",
              "calls_duration    0\n",
              "messages_count    0\n",
              "mb_used_month     0\n",
              "dtype: int64"
            ]
          },
          "execution_count": 32,
          "metadata": {},
          "output_type": "execute_result"
        }
      ]
    },
    {
      "cell_type": "markdown",
      "metadata": {
        "id": "_S668eVu1SBm"
      },
      "source": [
        " <div style=\"background: #FFA07A;color: #fff;padding: 10px;border-radius: 5px\">Перед расчетом месячной выручки для каждого пользователя посмотрим, присутствуют ли в выборке пользователи, которые совсем не пользуются сотовой связью. Заказчик не предоставлял нам такую информацию, но вероятнее всего, в таком случае абонентская плата взиматься не будет. Избавимся от этих строк, так как для анализа, целью которого является определение более прибыльного тарифа, они не представляют ценности.</div>"
      ]
    },
    {
      "cell_type": "code",
      "metadata": {
        "id": "KdS6a9lp1SBm",
        "outputId": "c99d48eb-fc91-447f-f665-edbc34be3848"
      },
      "source": [
        "len(report)"
      ],
      "execution_count": null,
      "outputs": [
        {
          "data": {
            "text/plain": [
              "3259"
            ]
          },
          "execution_count": 34,
          "metadata": {},
          "output_type": "execute_result"
        }
      ]
    },
    {
      "cell_type": "code",
      "metadata": {
        "id": "LjB0SuvR1SBn",
        "outputId": "f7a35bcd-dbbc-4902-a88b-3b8294e3294f"
      },
      "source": [
        "report[(report['calls_duration'] == 0) & (report['messages_count'] == 0)& (report['mb_used_month'] == 0)]"
      ],
      "execution_count": null,
      "outputs": [
        {
          "data": {
            "text/html": [
              "<div>\n",
              "<style scoped>\n",
              "    .dataframe tbody tr th:only-of-type {\n",
              "        vertical-align: middle;\n",
              "    }\n",
              "\n",
              "    .dataframe tbody tr th {\n",
              "        vertical-align: top;\n",
              "    }\n",
              "\n",
              "    .dataframe thead th {\n",
              "        text-align: right;\n",
              "    }\n",
              "</style>\n",
              "<table border=\"1\" class=\"dataframe\">\n",
              "  <thead>\n",
              "    <tr style=\"text-align: right;\">\n",
              "      <th></th>\n",
              "      <th>month</th>\n",
              "      <th>key</th>\n",
              "      <th>user_id</th>\n",
              "      <th>city</th>\n",
              "      <th>tariff</th>\n",
              "      <th>calls_count</th>\n",
              "      <th>calls_duration</th>\n",
              "      <th>messages_count</th>\n",
              "      <th>mb_used_month</th>\n",
              "    </tr>\n",
              "  </thead>\n",
              "  <tbody>\n",
              "    <tr>\n",
              "      <td>142</td>\n",
              "      <td>2018-11-01</td>\n",
              "      <td>1</td>\n",
              "      <td>1019</td>\n",
              "      <td>Томск</td>\n",
              "      <td>ultra</td>\n",
              "      <td>0.0</td>\n",
              "      <td>0.0</td>\n",
              "      <td>0.0</td>\n",
              "      <td>0.0</td>\n",
              "    </tr>\n",
              "    <tr>\n",
              "      <td>143</td>\n",
              "      <td>2018-12-01</td>\n",
              "      <td>1</td>\n",
              "      <td>1019</td>\n",
              "      <td>Томск</td>\n",
              "      <td>ultra</td>\n",
              "      <td>0.0</td>\n",
              "      <td>0.0</td>\n",
              "      <td>0.0</td>\n",
              "      <td>0.0</td>\n",
              "    </tr>\n",
              "    <tr>\n",
              "      <td>224</td>\n",
              "      <td>2018-12-01</td>\n",
              "      <td>1</td>\n",
              "      <td>1034</td>\n",
              "      <td>Вологда</td>\n",
              "      <td>smart</td>\n",
              "      <td>0.0</td>\n",
              "      <td>0.0</td>\n",
              "      <td>0.0</td>\n",
              "      <td>0.0</td>\n",
              "    </tr>\n",
              "    <tr>\n",
              "      <td>318</td>\n",
              "      <td>2018-11-01</td>\n",
              "      <td>1</td>\n",
              "      <td>1050</td>\n",
              "      <td>Тюмень</td>\n",
              "      <td>ultra</td>\n",
              "      <td>0.0</td>\n",
              "      <td>0.0</td>\n",
              "      <td>0.0</td>\n",
              "      <td>0.0</td>\n",
              "    </tr>\n",
              "    <tr>\n",
              "      <td>319</td>\n",
              "      <td>2018-12-01</td>\n",
              "      <td>1</td>\n",
              "      <td>1050</td>\n",
              "      <td>Тюмень</td>\n",
              "      <td>ultra</td>\n",
              "      <td>0.0</td>\n",
              "      <td>0.0</td>\n",
              "      <td>0.0</td>\n",
              "      <td>0.0</td>\n",
              "    </tr>\n",
              "    <tr>\n",
              "      <td>326</td>\n",
              "      <td>2018-11-01</td>\n",
              "      <td>1</td>\n",
              "      <td>1051</td>\n",
              "      <td>Москва</td>\n",
              "      <td>smart</td>\n",
              "      <td>0.0</td>\n",
              "      <td>0.0</td>\n",
              "      <td>0.0</td>\n",
              "      <td>0.0</td>\n",
              "    </tr>\n",
              "    <tr>\n",
              "      <td>327</td>\n",
              "      <td>2018-12-01</td>\n",
              "      <td>1</td>\n",
              "      <td>1051</td>\n",
              "      <td>Москва</td>\n",
              "      <td>smart</td>\n",
              "      <td>0.0</td>\n",
              "      <td>0.0</td>\n",
              "      <td>0.0</td>\n",
              "      <td>0.0</td>\n",
              "    </tr>\n",
              "    <tr>\n",
              "      <td>367</td>\n",
              "      <td>2018-11-01</td>\n",
              "      <td>1</td>\n",
              "      <td>1056</td>\n",
              "      <td>Иркутск</td>\n",
              "      <td>smart</td>\n",
              "      <td>0.0</td>\n",
              "      <td>0.0</td>\n",
              "      <td>0.0</td>\n",
              "      <td>0.0</td>\n",
              "    </tr>\n",
              "    <tr>\n",
              "      <td>368</td>\n",
              "      <td>2018-12-01</td>\n",
              "      <td>1</td>\n",
              "      <td>1056</td>\n",
              "      <td>Иркутск</td>\n",
              "      <td>smart</td>\n",
              "      <td>0.0</td>\n",
              "      <td>0.0</td>\n",
              "      <td>0.0</td>\n",
              "      <td>0.0</td>\n",
              "    </tr>\n",
              "    <tr>\n",
              "      <td>466</td>\n",
              "      <td>2018-09-01</td>\n",
              "      <td>1</td>\n",
              "      <td>1071</td>\n",
              "      <td>Омск</td>\n",
              "      <td>smart</td>\n",
              "      <td>0.0</td>\n",
              "      <td>0.0</td>\n",
              "      <td>0.0</td>\n",
              "      <td>0.0</td>\n",
              "    </tr>\n",
              "    <tr>\n",
              "      <td>467</td>\n",
              "      <td>2018-10-01</td>\n",
              "      <td>1</td>\n",
              "      <td>1071</td>\n",
              "      <td>Омск</td>\n",
              "      <td>smart</td>\n",
              "      <td>0.0</td>\n",
              "      <td>0.0</td>\n",
              "      <td>0.0</td>\n",
              "      <td>0.0</td>\n",
              "    </tr>\n",
              "    <tr>\n",
              "      <td>468</td>\n",
              "      <td>2018-11-01</td>\n",
              "      <td>1</td>\n",
              "      <td>1071</td>\n",
              "      <td>Омск</td>\n",
              "      <td>smart</td>\n",
              "      <td>0.0</td>\n",
              "      <td>0.0</td>\n",
              "      <td>0.0</td>\n",
              "      <td>0.0</td>\n",
              "    </tr>\n",
              "    <tr>\n",
              "      <td>469</td>\n",
              "      <td>2018-12-01</td>\n",
              "      <td>1</td>\n",
              "      <td>1071</td>\n",
              "      <td>Омск</td>\n",
              "      <td>smart</td>\n",
              "      <td>0.0</td>\n",
              "      <td>0.0</td>\n",
              "      <td>0.0</td>\n",
              "      <td>0.0</td>\n",
              "    </tr>\n",
              "    <tr>\n",
              "      <td>840</td>\n",
              "      <td>2018-12-01</td>\n",
              "      <td>1</td>\n",
              "      <td>1128</td>\n",
              "      <td>Волжский</td>\n",
              "      <td>ultra</td>\n",
              "      <td>0.0</td>\n",
              "      <td>0.0</td>\n",
              "      <td>0.0</td>\n",
              "      <td>0.0</td>\n",
              "    </tr>\n",
              "    <tr>\n",
              "      <td>1043</td>\n",
              "      <td>2018-12-01</td>\n",
              "      <td>1</td>\n",
              "      <td>1161</td>\n",
              "      <td>Набережные Челны</td>\n",
              "      <td>smart</td>\n",
              "      <td>0.0</td>\n",
              "      <td>0.0</td>\n",
              "      <td>0.0</td>\n",
              "      <td>0.0</td>\n",
              "    </tr>\n",
              "    <tr>\n",
              "      <td>1251</td>\n",
              "      <td>2018-11-01</td>\n",
              "      <td>1</td>\n",
              "      <td>1191</td>\n",
              "      <td>Набережные Челны</td>\n",
              "      <td>smart</td>\n",
              "      <td>0.0</td>\n",
              "      <td>0.0</td>\n",
              "      <td>0.0</td>\n",
              "      <td>0.0</td>\n",
              "    </tr>\n",
              "    <tr>\n",
              "      <td>1252</td>\n",
              "      <td>2018-12-01</td>\n",
              "      <td>1</td>\n",
              "      <td>1191</td>\n",
              "      <td>Набережные Челны</td>\n",
              "      <td>smart</td>\n",
              "      <td>0.0</td>\n",
              "      <td>0.0</td>\n",
              "      <td>0.0</td>\n",
              "      <td>0.0</td>\n",
              "    </tr>\n",
              "    <tr>\n",
              "      <td>1501</td>\n",
              "      <td>2018-12-01</td>\n",
              "      <td>1</td>\n",
              "      <td>1232</td>\n",
              "      <td>Томск</td>\n",
              "      <td>smart</td>\n",
              "      <td>0.0</td>\n",
              "      <td>0.0</td>\n",
              "      <td>0.0</td>\n",
              "      <td>0.0</td>\n",
              "    </tr>\n",
              "    <tr>\n",
              "      <td>1635</td>\n",
              "      <td>2018-09-01</td>\n",
              "      <td>1</td>\n",
              "      <td>1254</td>\n",
              "      <td>Москва</td>\n",
              "      <td>ultra</td>\n",
              "      <td>0.0</td>\n",
              "      <td>0.0</td>\n",
              "      <td>0.0</td>\n",
              "      <td>0.0</td>\n",
              "    </tr>\n",
              "    <tr>\n",
              "      <td>1636</td>\n",
              "      <td>2018-10-01</td>\n",
              "      <td>1</td>\n",
              "      <td>1254</td>\n",
              "      <td>Москва</td>\n",
              "      <td>ultra</td>\n",
              "      <td>0.0</td>\n",
              "      <td>0.0</td>\n",
              "      <td>0.0</td>\n",
              "      <td>0.0</td>\n",
              "    </tr>\n",
              "    <tr>\n",
              "      <td>1637</td>\n",
              "      <td>2018-11-01</td>\n",
              "      <td>1</td>\n",
              "      <td>1254</td>\n",
              "      <td>Москва</td>\n",
              "      <td>ultra</td>\n",
              "      <td>0.0</td>\n",
              "      <td>0.0</td>\n",
              "      <td>0.0</td>\n",
              "      <td>0.0</td>\n",
              "    </tr>\n",
              "    <tr>\n",
              "      <td>1638</td>\n",
              "      <td>2018-12-01</td>\n",
              "      <td>1</td>\n",
              "      <td>1254</td>\n",
              "      <td>Москва</td>\n",
              "      <td>ultra</td>\n",
              "      <td>0.0</td>\n",
              "      <td>0.0</td>\n",
              "      <td>0.0</td>\n",
              "      <td>0.0</td>\n",
              "    </tr>\n",
              "    <tr>\n",
              "      <td>1647</td>\n",
              "      <td>2018-10-01</td>\n",
              "      <td>1</td>\n",
              "      <td>1255</td>\n",
              "      <td>Саранск</td>\n",
              "      <td>ultra</td>\n",
              "      <td>0.0</td>\n",
              "      <td>0.0</td>\n",
              "      <td>0.0</td>\n",
              "      <td>0.0</td>\n",
              "    </tr>\n",
              "    <tr>\n",
              "      <td>1648</td>\n",
              "      <td>2018-11-01</td>\n",
              "      <td>1</td>\n",
              "      <td>1255</td>\n",
              "      <td>Саранск</td>\n",
              "      <td>ultra</td>\n",
              "      <td>0.0</td>\n",
              "      <td>0.0</td>\n",
              "      <td>0.0</td>\n",
              "      <td>0.0</td>\n",
              "    </tr>\n",
              "    <tr>\n",
              "      <td>1649</td>\n",
              "      <td>2018-12-01</td>\n",
              "      <td>1</td>\n",
              "      <td>1255</td>\n",
              "      <td>Саранск</td>\n",
              "      <td>ultra</td>\n",
              "      <td>0.0</td>\n",
              "      <td>0.0</td>\n",
              "      <td>0.0</td>\n",
              "      <td>0.0</td>\n",
              "    </tr>\n",
              "    <tr>\n",
              "      <td>1706</td>\n",
              "      <td>2018-11-01</td>\n",
              "      <td>1</td>\n",
              "      <td>1265</td>\n",
              "      <td>Омск</td>\n",
              "      <td>ultra</td>\n",
              "      <td>0.0</td>\n",
              "      <td>0.0</td>\n",
              "      <td>0.0</td>\n",
              "      <td>0.0</td>\n",
              "    </tr>\n",
              "    <tr>\n",
              "      <td>1707</td>\n",
              "      <td>2018-12-01</td>\n",
              "      <td>1</td>\n",
              "      <td>1265</td>\n",
              "      <td>Омск</td>\n",
              "      <td>ultra</td>\n",
              "      <td>0.0</td>\n",
              "      <td>0.0</td>\n",
              "      <td>0.0</td>\n",
              "      <td>0.0</td>\n",
              "    </tr>\n",
              "    <tr>\n",
              "      <td>1744</td>\n",
              "      <td>2018-12-01</td>\n",
              "      <td>1</td>\n",
              "      <td>1271</td>\n",
              "      <td>Челябинск</td>\n",
              "      <td>ultra</td>\n",
              "      <td>0.0</td>\n",
              "      <td>0.0</td>\n",
              "      <td>0.0</td>\n",
              "      <td>0.0</td>\n",
              "    </tr>\n",
              "    <tr>\n",
              "      <td>1892</td>\n",
              "      <td>2018-12-01</td>\n",
              "      <td>1</td>\n",
              "      <td>1293</td>\n",
              "      <td>Санкт-Петербург</td>\n",
              "      <td>smart</td>\n",
              "      <td>0.0</td>\n",
              "      <td>0.0</td>\n",
              "      <td>0.0</td>\n",
              "      <td>0.0</td>\n",
              "    </tr>\n",
              "    <tr>\n",
              "      <td>2209</td>\n",
              "      <td>2018-11-01</td>\n",
              "      <td>1</td>\n",
              "      <td>1343</td>\n",
              "      <td>Кострома</td>\n",
              "      <td>ultra</td>\n",
              "      <td>0.0</td>\n",
              "      <td>0.0</td>\n",
              "      <td>0.0</td>\n",
              "      <td>0.0</td>\n",
              "    </tr>\n",
              "    <tr>\n",
              "      <td>2210</td>\n",
              "      <td>2018-12-01</td>\n",
              "      <td>1</td>\n",
              "      <td>1343</td>\n",
              "      <td>Кострома</td>\n",
              "      <td>ultra</td>\n",
              "      <td>0.0</td>\n",
              "      <td>0.0</td>\n",
              "      <td>0.0</td>\n",
              "      <td>0.0</td>\n",
              "    </tr>\n",
              "    <tr>\n",
              "      <td>2263</td>\n",
              "      <td>2018-12-01</td>\n",
              "      <td>1</td>\n",
              "      <td>1353</td>\n",
              "      <td>Санкт-Петербург</td>\n",
              "      <td>smart</td>\n",
              "      <td>0.0</td>\n",
              "      <td>0.0</td>\n",
              "      <td>0.0</td>\n",
              "      <td>0.0</td>\n",
              "    </tr>\n",
              "    <tr>\n",
              "      <td>2274</td>\n",
              "      <td>2018-12-01</td>\n",
              "      <td>1</td>\n",
              "      <td>1355</td>\n",
              "      <td>Киров</td>\n",
              "      <td>smart</td>\n",
              "      <td>0.0</td>\n",
              "      <td>0.0</td>\n",
              "      <td>0.0</td>\n",
              "      <td>0.0</td>\n",
              "    </tr>\n",
              "    <tr>\n",
              "      <td>2352</td>\n",
              "      <td>2018-12-01</td>\n",
              "      <td>1</td>\n",
              "      <td>1367</td>\n",
              "      <td>Москва</td>\n",
              "      <td>ultra</td>\n",
              "      <td>0.0</td>\n",
              "      <td>0.0</td>\n",
              "      <td>0.0</td>\n",
              "      <td>0.0</td>\n",
              "    </tr>\n",
              "    <tr>\n",
              "      <td>2368</td>\n",
              "      <td>2018-11-01</td>\n",
              "      <td>1</td>\n",
              "      <td>1370</td>\n",
              "      <td>Новороссийск</td>\n",
              "      <td>smart</td>\n",
              "      <td>0.0</td>\n",
              "      <td>0.0</td>\n",
              "      <td>0.0</td>\n",
              "      <td>0.0</td>\n",
              "    </tr>\n",
              "    <tr>\n",
              "      <td>2369</td>\n",
              "      <td>2018-12-01</td>\n",
              "      <td>1</td>\n",
              "      <td>1370</td>\n",
              "      <td>Новороссийск</td>\n",
              "      <td>smart</td>\n",
              "      <td>0.0</td>\n",
              "      <td>0.0</td>\n",
              "      <td>0.0</td>\n",
              "      <td>0.0</td>\n",
              "    </tr>\n",
              "    <tr>\n",
              "      <td>2370</td>\n",
              "      <td>2018-12-01</td>\n",
              "      <td>1</td>\n",
              "      <td>1371</td>\n",
              "      <td>Омск</td>\n",
              "      <td>smart</td>\n",
              "      <td>0.0</td>\n",
              "      <td>0.0</td>\n",
              "      <td>0.0</td>\n",
              "      <td>0.0</td>\n",
              "    </tr>\n",
              "    <tr>\n",
              "      <td>2545</td>\n",
              "      <td>2018-10-01</td>\n",
              "      <td>1</td>\n",
              "      <td>1392</td>\n",
              "      <td>Челябинск</td>\n",
              "      <td>ultra</td>\n",
              "      <td>0.0</td>\n",
              "      <td>0.0</td>\n",
              "      <td>0.0</td>\n",
              "      <td>0.0</td>\n",
              "    </tr>\n",
              "    <tr>\n",
              "      <td>2546</td>\n",
              "      <td>2018-11-01</td>\n",
              "      <td>1</td>\n",
              "      <td>1392</td>\n",
              "      <td>Челябинск</td>\n",
              "      <td>ultra</td>\n",
              "      <td>0.0</td>\n",
              "      <td>0.0</td>\n",
              "      <td>0.0</td>\n",
              "      <td>0.0</td>\n",
              "    </tr>\n",
              "    <tr>\n",
              "      <td>2547</td>\n",
              "      <td>2018-12-01</td>\n",
              "      <td>1</td>\n",
              "      <td>1392</td>\n",
              "      <td>Челябинск</td>\n",
              "      <td>ultra</td>\n",
              "      <td>0.0</td>\n",
              "      <td>0.0</td>\n",
              "      <td>0.0</td>\n",
              "      <td>0.0</td>\n",
              "    </tr>\n",
              "    <tr>\n",
              "      <td>3142</td>\n",
              "      <td>2018-10-01</td>\n",
              "      <td>1</td>\n",
              "      <td>1480</td>\n",
              "      <td>Новокузнецк</td>\n",
              "      <td>smart</td>\n",
              "      <td>0.0</td>\n",
              "      <td>0.0</td>\n",
              "      <td>0.0</td>\n",
              "      <td>0.0</td>\n",
              "    </tr>\n",
              "    <tr>\n",
              "      <td>3143</td>\n",
              "      <td>2018-11-01</td>\n",
              "      <td>1</td>\n",
              "      <td>1480</td>\n",
              "      <td>Новокузнецк</td>\n",
              "      <td>smart</td>\n",
              "      <td>0.0</td>\n",
              "      <td>0.0</td>\n",
              "      <td>0.0</td>\n",
              "      <td>0.0</td>\n",
              "    </tr>\n",
              "    <tr>\n",
              "      <td>3144</td>\n",
              "      <td>2018-12-01</td>\n",
              "      <td>1</td>\n",
              "      <td>1480</td>\n",
              "      <td>Новокузнецк</td>\n",
              "      <td>smart</td>\n",
              "      <td>0.0</td>\n",
              "      <td>0.0</td>\n",
              "      <td>0.0</td>\n",
              "      <td>0.0</td>\n",
              "    </tr>\n",
              "    <tr>\n",
              "      <td>3253</td>\n",
              "      <td>2018-11-01</td>\n",
              "      <td>1</td>\n",
              "      <td>1498</td>\n",
              "      <td>Владикавказ</td>\n",
              "      <td>smart</td>\n",
              "      <td>0.0</td>\n",
              "      <td>0.0</td>\n",
              "      <td>0.0</td>\n",
              "      <td>0.0</td>\n",
              "    </tr>\n",
              "    <tr>\n",
              "      <td>3254</td>\n",
              "      <td>2018-12-01</td>\n",
              "      <td>1</td>\n",
              "      <td>1498</td>\n",
              "      <td>Владикавказ</td>\n",
              "      <td>smart</td>\n",
              "      <td>0.0</td>\n",
              "      <td>0.0</td>\n",
              "      <td>0.0</td>\n",
              "      <td>0.0</td>\n",
              "    </tr>\n",
              "  </tbody>\n",
              "</table>\n",
              "</div>"
            ],
            "text/plain": [
              "          month  key  user_id              city tariff  calls_count  \\\n",
              "142  2018-11-01    1     1019             Томск  ultra          0.0   \n",
              "143  2018-12-01    1     1019             Томск  ultra          0.0   \n",
              "224  2018-12-01    1     1034           Вологда  smart          0.0   \n",
              "318  2018-11-01    1     1050            Тюмень  ultra          0.0   \n",
              "319  2018-12-01    1     1050            Тюмень  ultra          0.0   \n",
              "326  2018-11-01    1     1051            Москва  smart          0.0   \n",
              "327  2018-12-01    1     1051            Москва  smart          0.0   \n",
              "367  2018-11-01    1     1056           Иркутск  smart          0.0   \n",
              "368  2018-12-01    1     1056           Иркутск  smart          0.0   \n",
              "466  2018-09-01    1     1071              Омск  smart          0.0   \n",
              "467  2018-10-01    1     1071              Омск  smart          0.0   \n",
              "468  2018-11-01    1     1071              Омск  smart          0.0   \n",
              "469  2018-12-01    1     1071              Омск  smart          0.0   \n",
              "840  2018-12-01    1     1128          Волжский  ultra          0.0   \n",
              "1043 2018-12-01    1     1161  Набережные Челны  smart          0.0   \n",
              "1251 2018-11-01    1     1191  Набережные Челны  smart          0.0   \n",
              "1252 2018-12-01    1     1191  Набережные Челны  smart          0.0   \n",
              "1501 2018-12-01    1     1232             Томск  smart          0.0   \n",
              "1635 2018-09-01    1     1254            Москва  ultra          0.0   \n",
              "1636 2018-10-01    1     1254            Москва  ultra          0.0   \n",
              "1637 2018-11-01    1     1254            Москва  ultra          0.0   \n",
              "1638 2018-12-01    1     1254            Москва  ultra          0.0   \n",
              "1647 2018-10-01    1     1255           Саранск  ultra          0.0   \n",
              "1648 2018-11-01    1     1255           Саранск  ultra          0.0   \n",
              "1649 2018-12-01    1     1255           Саранск  ultra          0.0   \n",
              "1706 2018-11-01    1     1265              Омск  ultra          0.0   \n",
              "1707 2018-12-01    1     1265              Омск  ultra          0.0   \n",
              "1744 2018-12-01    1     1271         Челябинск  ultra          0.0   \n",
              "1892 2018-12-01    1     1293   Санкт-Петербург  smart          0.0   \n",
              "2209 2018-11-01    1     1343          Кострома  ultra          0.0   \n",
              "2210 2018-12-01    1     1343          Кострома  ultra          0.0   \n",
              "2263 2018-12-01    1     1353   Санкт-Петербург  smart          0.0   \n",
              "2274 2018-12-01    1     1355             Киров  smart          0.0   \n",
              "2352 2018-12-01    1     1367            Москва  ultra          0.0   \n",
              "2368 2018-11-01    1     1370      Новороссийск  smart          0.0   \n",
              "2369 2018-12-01    1     1370      Новороссийск  smart          0.0   \n",
              "2370 2018-12-01    1     1371              Омск  smart          0.0   \n",
              "2545 2018-10-01    1     1392         Челябинск  ultra          0.0   \n",
              "2546 2018-11-01    1     1392         Челябинск  ultra          0.0   \n",
              "2547 2018-12-01    1     1392         Челябинск  ultra          0.0   \n",
              "3142 2018-10-01    1     1480       Новокузнецк  smart          0.0   \n",
              "3143 2018-11-01    1     1480       Новокузнецк  smart          0.0   \n",
              "3144 2018-12-01    1     1480       Новокузнецк  smart          0.0   \n",
              "3253 2018-11-01    1     1498       Владикавказ  smart          0.0   \n",
              "3254 2018-12-01    1     1498       Владикавказ  smart          0.0   \n",
              "\n",
              "      calls_duration  messages_count  mb_used_month  \n",
              "142              0.0             0.0            0.0  \n",
              "143              0.0             0.0            0.0  \n",
              "224              0.0             0.0            0.0  \n",
              "318              0.0             0.0            0.0  \n",
              "319              0.0             0.0            0.0  \n",
              "326              0.0             0.0            0.0  \n",
              "327              0.0             0.0            0.0  \n",
              "367              0.0             0.0            0.0  \n",
              "368              0.0             0.0            0.0  \n",
              "466              0.0             0.0            0.0  \n",
              "467              0.0             0.0            0.0  \n",
              "468              0.0             0.0            0.0  \n",
              "469              0.0             0.0            0.0  \n",
              "840              0.0             0.0            0.0  \n",
              "1043             0.0             0.0            0.0  \n",
              "1251             0.0             0.0            0.0  \n",
              "1252             0.0             0.0            0.0  \n",
              "1501             0.0             0.0            0.0  \n",
              "1635             0.0             0.0            0.0  \n",
              "1636             0.0             0.0            0.0  \n",
              "1637             0.0             0.0            0.0  \n",
              "1638             0.0             0.0            0.0  \n",
              "1647             0.0             0.0            0.0  \n",
              "1648             0.0             0.0            0.0  \n",
              "1649             0.0             0.0            0.0  \n",
              "1706             0.0             0.0            0.0  \n",
              "1707             0.0             0.0            0.0  \n",
              "1744             0.0             0.0            0.0  \n",
              "1892             0.0             0.0            0.0  \n",
              "2209             0.0             0.0            0.0  \n",
              "2210             0.0             0.0            0.0  \n",
              "2263             0.0             0.0            0.0  \n",
              "2274             0.0             0.0            0.0  \n",
              "2352             0.0             0.0            0.0  \n",
              "2368             0.0             0.0            0.0  \n",
              "2369             0.0             0.0            0.0  \n",
              "2370             0.0             0.0            0.0  \n",
              "2545             0.0             0.0            0.0  \n",
              "2546             0.0             0.0            0.0  \n",
              "2547             0.0             0.0            0.0  \n",
              "3142             0.0             0.0            0.0  \n",
              "3143             0.0             0.0            0.0  \n",
              "3144             0.0             0.0            0.0  \n",
              "3253             0.0             0.0            0.0  \n",
              "3254             0.0             0.0            0.0  "
            ]
          },
          "execution_count": 35,
          "metadata": {},
          "output_type": "execute_result"
        }
      ]
    },
    {
      "cell_type": "code",
      "metadata": {
        "id": "OKY4PeT61SBn",
        "outputId": "f9ca1237-86d6-42ae-e05d-012fd56d775e"
      },
      "source": [
        "len(report) - len(report[(report['calls_duration'] == 0) & (report['messages_count'] == 0)& (report['mb_used_month'] == 0)])"
      ],
      "execution_count": null,
      "outputs": [
        {
          "data": {
            "text/plain": [
              "3214"
            ]
          },
          "execution_count": 36,
          "metadata": {},
          "output_type": "execute_result"
        }
      ]
    },
    {
      "cell_type": "code",
      "metadata": {
        "id": "94G-KKef1SBo"
      },
      "source": [
        "report.drop(report[(report['calls_duration'] == 0) & (report['messages_count'] == 0)& (report['mb_used_month'] == 0)].index, inplace=True)"
      ],
      "execution_count": null,
      "outputs": []
    },
    {
      "cell_type": "code",
      "metadata": {
        "id": "4gAAu28h1SBo",
        "outputId": "c0e31643-ff14-408c-961f-34faf7e95fe0"
      },
      "source": [
        "len(report)"
      ],
      "execution_count": null,
      "outputs": [
        {
          "data": {
            "text/plain": [
              "3214"
            ]
          },
          "execution_count": 38,
          "metadata": {},
          "output_type": "execute_result"
        }
      ]
    },
    {
      "cell_type": "markdown",
      "metadata": {
        "id": "48mKH4PV1SBo"
      },
      "source": [
        "#### Расчёт помесячной выручки для каждого пользователя."
      ]
    },
    {
      "cell_type": "code",
      "metadata": {
        "id": "lDWjUELw1SBo",
        "outputId": "9dfd8932-a14f-409b-8563-075c9b2b6bc0"
      },
      "source": [
        "def revenue_sum(row):\n",
        "    calls_duration = row['calls_count']\n",
        "    messages_count = row['messages_count']\n",
        "    mb_used_month = row['mb_used_month']\n",
        "    tariff = row['tariff']\n",
        "    \n",
        "    if tariff == 'ultra':\n",
        "        extra_messages = messages_count - df_tariffs.loc[1, 'messages_included']\n",
        "        extra_mb = mb_used_month - df_tariffs.loc[1, 'mb_per_month_included']\n",
        "        extra_minutes = calls_duration - df_tariffs.loc[1, 'minutes_included']\n",
        "        \n",
        "        if extra_messages < 0:\n",
        "            extra_messages = 0\n",
        "        if extra_mb < 0:\n",
        "            extra_mb = 0\n",
        "        if extra_minutes < 0:\n",
        "            extra_minutes = 0\n",
        "            \n",
        "        return(\n",
        "            extra_messages * df_tariffs.loc[1, 'rub_per_message'] + extra_mb*(df_tariffs.loc[1, 'rub_per_gb'] / 1024) +\n",
        "            extra_minutes * df_tariffs.loc[1, 'rub_per_minute'] + df_tariffs.loc[1, 'rub_monthly_fee']\n",
        "              )\n",
        "    else:\n",
        "        extra_messages = messages_count - df_tariffs.loc[0, 'messages_included']\n",
        "        extra_mb = mb_used_month - df_tariffs.loc[0, 'mb_per_month_included']\n",
        "        extra_minutes = calls_duration - df_tariffs.loc[0, 'minutes_included']\n",
        "        \n",
        "        if extra_messages < 0:\n",
        "            extra_messages = 0\n",
        "        if extra_mb < 0:\n",
        "            extra_mb = 0\n",
        "        if extra_minutes < 0:\n",
        "            extra_minutes = 0\n",
        "            \n",
        "        return(\n",
        "            extra_messages * df_tariffs.loc[0, 'rub_per_message'] + extra_mb*(df_tariffs.loc[0, 'rub_per_gb'] / 1024) +\n",
        "            extra_minutes * df_tariffs.loc[0, 'rub_per_minute'] + df_tariffs.loc[0, 'rub_monthly_fee']\n",
        "              )\n",
        "            \n",
        "        \n",
        "    \n",
        "\n",
        "\n",
        "    \n",
        "report['month_revenue'] = report.apply(revenue_sum, axis=1)\n",
        "report.head(15)"
      ],
      "execution_count": null,
      "outputs": [
        {
          "data": {
            "text/html": [
              "<div>\n",
              "<style scoped>\n",
              "    .dataframe tbody tr th:only-of-type {\n",
              "        vertical-align: middle;\n",
              "    }\n",
              "\n",
              "    .dataframe tbody tr th {\n",
              "        vertical-align: top;\n",
              "    }\n",
              "\n",
              "    .dataframe thead th {\n",
              "        text-align: right;\n",
              "    }\n",
              "</style>\n",
              "<table border=\"1\" class=\"dataframe\">\n",
              "  <thead>\n",
              "    <tr style=\"text-align: right;\">\n",
              "      <th></th>\n",
              "      <th>month</th>\n",
              "      <th>key</th>\n",
              "      <th>user_id</th>\n",
              "      <th>city</th>\n",
              "      <th>tariff</th>\n",
              "      <th>calls_count</th>\n",
              "      <th>calls_duration</th>\n",
              "      <th>messages_count</th>\n",
              "      <th>mb_used_month</th>\n",
              "      <th>month_revenue</th>\n",
              "    </tr>\n",
              "  </thead>\n",
              "  <tbody>\n",
              "    <tr>\n",
              "      <td>0</td>\n",
              "      <td>2018-05-01</td>\n",
              "      <td>1</td>\n",
              "      <td>1000</td>\n",
              "      <td>Краснодар</td>\n",
              "      <td>ultra</td>\n",
              "      <td>17.0</td>\n",
              "      <td>159.0</td>\n",
              "      <td>22.0</td>\n",
              "      <td>2256.0</td>\n",
              "      <td>1950.000000</td>\n",
              "    </tr>\n",
              "    <tr>\n",
              "      <td>1</td>\n",
              "      <td>2018-06-01</td>\n",
              "      <td>1</td>\n",
              "      <td>1000</td>\n",
              "      <td>Краснодар</td>\n",
              "      <td>ultra</td>\n",
              "      <td>28.0</td>\n",
              "      <td>172.0</td>\n",
              "      <td>60.0</td>\n",
              "      <td>23257.0</td>\n",
              "      <td>1950.000000</td>\n",
              "    </tr>\n",
              "    <tr>\n",
              "      <td>2</td>\n",
              "      <td>2018-07-01</td>\n",
              "      <td>1</td>\n",
              "      <td>1000</td>\n",
              "      <td>Краснодар</td>\n",
              "      <td>ultra</td>\n",
              "      <td>41.0</td>\n",
              "      <td>340.0</td>\n",
              "      <td>75.0</td>\n",
              "      <td>14016.0</td>\n",
              "      <td>1950.000000</td>\n",
              "    </tr>\n",
              "    <tr>\n",
              "      <td>3</td>\n",
              "      <td>2018-08-01</td>\n",
              "      <td>1</td>\n",
              "      <td>1000</td>\n",
              "      <td>Краснодар</td>\n",
              "      <td>ultra</td>\n",
              "      <td>42.0</td>\n",
              "      <td>408.0</td>\n",
              "      <td>81.0</td>\n",
              "      <td>14070.0</td>\n",
              "      <td>1950.000000</td>\n",
              "    </tr>\n",
              "    <tr>\n",
              "      <td>4</td>\n",
              "      <td>2018-09-01</td>\n",
              "      <td>1</td>\n",
              "      <td>1000</td>\n",
              "      <td>Краснодар</td>\n",
              "      <td>ultra</td>\n",
              "      <td>46.0</td>\n",
              "      <td>466.0</td>\n",
              "      <td>57.0</td>\n",
              "      <td>14581.0</td>\n",
              "      <td>1950.000000</td>\n",
              "    </tr>\n",
              "    <tr>\n",
              "      <td>5</td>\n",
              "      <td>2018-10-01</td>\n",
              "      <td>1</td>\n",
              "      <td>1000</td>\n",
              "      <td>Краснодар</td>\n",
              "      <td>ultra</td>\n",
              "      <td>44.0</td>\n",
              "      <td>350.0</td>\n",
              "      <td>73.0</td>\n",
              "      <td>14717.0</td>\n",
              "      <td>1950.000000</td>\n",
              "    </tr>\n",
              "    <tr>\n",
              "      <td>6</td>\n",
              "      <td>2018-11-01</td>\n",
              "      <td>1</td>\n",
              "      <td>1000</td>\n",
              "      <td>Краснодар</td>\n",
              "      <td>ultra</td>\n",
              "      <td>37.0</td>\n",
              "      <td>338.0</td>\n",
              "      <td>58.0</td>\n",
              "      <td>14768.0</td>\n",
              "      <td>1950.000000</td>\n",
              "    </tr>\n",
              "    <tr>\n",
              "      <td>7</td>\n",
              "      <td>2018-12-01</td>\n",
              "      <td>1</td>\n",
              "      <td>1000</td>\n",
              "      <td>Краснодар</td>\n",
              "      <td>ultra</td>\n",
              "      <td>38.0</td>\n",
              "      <td>333.0</td>\n",
              "      <td>70.0</td>\n",
              "      <td>9827.0</td>\n",
              "      <td>1950.000000</td>\n",
              "    </tr>\n",
              "    <tr>\n",
              "      <td>8</td>\n",
              "      <td>2018-11-01</td>\n",
              "      <td>1</td>\n",
              "      <td>1001</td>\n",
              "      <td>Москва</td>\n",
              "      <td>smart</td>\n",
              "      <td>45.0</td>\n",
              "      <td>430.0</td>\n",
              "      <td>0.0</td>\n",
              "      <td>18452.0</td>\n",
              "      <td>1153.906250</td>\n",
              "    </tr>\n",
              "    <tr>\n",
              "      <td>9</td>\n",
              "      <td>2018-12-01</td>\n",
              "      <td>1</td>\n",
              "      <td>1001</td>\n",
              "      <td>Москва</td>\n",
              "      <td>smart</td>\n",
              "      <td>47.0</td>\n",
              "      <td>414.0</td>\n",
              "      <td>0.0</td>\n",
              "      <td>14053.0</td>\n",
              "      <td>550.000000</td>\n",
              "    </tr>\n",
              "    <tr>\n",
              "      <td>10</td>\n",
              "      <td>2018-06-01</td>\n",
              "      <td>1</td>\n",
              "      <td>1002</td>\n",
              "      <td>Стерлитамак</td>\n",
              "      <td>smart</td>\n",
              "      <td>14.0</td>\n",
              "      <td>117.0</td>\n",
              "      <td>4.0</td>\n",
              "      <td>10871.0</td>\n",
              "      <td>550.000000</td>\n",
              "    </tr>\n",
              "    <tr>\n",
              "      <td>11</td>\n",
              "      <td>2018-07-01</td>\n",
              "      <td>1</td>\n",
              "      <td>1002</td>\n",
              "      <td>Стерлитамак</td>\n",
              "      <td>smart</td>\n",
              "      <td>21.0</td>\n",
              "      <td>214.0</td>\n",
              "      <td>11.0</td>\n",
              "      <td>17601.0</td>\n",
              "      <td>987.695312</td>\n",
              "    </tr>\n",
              "    <tr>\n",
              "      <td>12</td>\n",
              "      <td>2018-08-01</td>\n",
              "      <td>1</td>\n",
              "      <td>1002</td>\n",
              "      <td>Стерлитамак</td>\n",
              "      <td>smart</td>\n",
              "      <td>37.0</td>\n",
              "      <td>289.0</td>\n",
              "      <td>13.0</td>\n",
              "      <td>20347.0</td>\n",
              "      <td>1524.023438</td>\n",
              "    </tr>\n",
              "    <tr>\n",
              "      <td>13</td>\n",
              "      <td>2018-09-01</td>\n",
              "      <td>1</td>\n",
              "      <td>1002</td>\n",
              "      <td>Стерлитамак</td>\n",
              "      <td>smart</td>\n",
              "      <td>25.0</td>\n",
              "      <td>206.0</td>\n",
              "      <td>4.0</td>\n",
              "      <td>16712.0</td>\n",
              "      <td>814.062500</td>\n",
              "    </tr>\n",
              "    <tr>\n",
              "      <td>14</td>\n",
              "      <td>2018-10-01</td>\n",
              "      <td>1</td>\n",
              "      <td>1002</td>\n",
              "      <td>Стерлитамак</td>\n",
              "      <td>smart</td>\n",
              "      <td>24.0</td>\n",
              "      <td>212.0</td>\n",
              "      <td>10.0</td>\n",
              "      <td>13905.0</td>\n",
              "      <td>550.000000</td>\n",
              "    </tr>\n",
              "  </tbody>\n",
              "</table>\n",
              "</div>"
            ],
            "text/plain": [
              "        month  key  user_id         city tariff  calls_count  calls_duration  \\\n",
              "0  2018-05-01    1     1000    Краснодар  ultra         17.0           159.0   \n",
              "1  2018-06-01    1     1000    Краснодар  ultra         28.0           172.0   \n",
              "2  2018-07-01    1     1000    Краснодар  ultra         41.0           340.0   \n",
              "3  2018-08-01    1     1000    Краснодар  ultra         42.0           408.0   \n",
              "4  2018-09-01    1     1000    Краснодар  ultra         46.0           466.0   \n",
              "5  2018-10-01    1     1000    Краснодар  ultra         44.0           350.0   \n",
              "6  2018-11-01    1     1000    Краснодар  ultra         37.0           338.0   \n",
              "7  2018-12-01    1     1000    Краснодар  ultra         38.0           333.0   \n",
              "8  2018-11-01    1     1001       Москва  smart         45.0           430.0   \n",
              "9  2018-12-01    1     1001       Москва  smart         47.0           414.0   \n",
              "10 2018-06-01    1     1002  Стерлитамак  smart         14.0           117.0   \n",
              "11 2018-07-01    1     1002  Стерлитамак  smart         21.0           214.0   \n",
              "12 2018-08-01    1     1002  Стерлитамак  smart         37.0           289.0   \n",
              "13 2018-09-01    1     1002  Стерлитамак  smart         25.0           206.0   \n",
              "14 2018-10-01    1     1002  Стерлитамак  smart         24.0           212.0   \n",
              "\n",
              "    messages_count  mb_used_month  month_revenue  \n",
              "0             22.0         2256.0    1950.000000  \n",
              "1             60.0        23257.0    1950.000000  \n",
              "2             75.0        14016.0    1950.000000  \n",
              "3             81.0        14070.0    1950.000000  \n",
              "4             57.0        14581.0    1950.000000  \n",
              "5             73.0        14717.0    1950.000000  \n",
              "6             58.0        14768.0    1950.000000  \n",
              "7             70.0         9827.0    1950.000000  \n",
              "8              0.0        18452.0    1153.906250  \n",
              "9              0.0        14053.0     550.000000  \n",
              "10             4.0        10871.0     550.000000  \n",
              "11            11.0        17601.0     987.695312  \n",
              "12            13.0        20347.0    1524.023438  \n",
              "13             4.0        16712.0     814.062500  \n",
              "14            10.0        13905.0     550.000000  "
            ]
          },
          "execution_count": 39,
          "metadata": {},
          "output_type": "execute_result"
        }
      ]
    },
    {
      "cell_type": "markdown",
      "metadata": {
        "id": "zwP7jsOq1SBp"
      },
      "source": [
        "### Вывод"
      ]
    },
    {
      "cell_type": "markdown",
      "metadata": {
        "id": "A7u6xFWc1SBp"
      },
      "source": [
        "Данные были приведены к нужным типам.<br>Для каждого пользователя были рассчитаны значения количества звонков, длительности звонков, количества сообщений и объема интернет-трафика за месяц и объединены в одну таблицу.<br>Для каждого пользователя также были рассчитана помесячная выручка."
      ]
    },
    {
      "cell_type": "markdown",
      "metadata": {
        "id": "6FXhRifl1SBp"
      },
      "source": [
        "## Анализ данных"
      ]
    },
    {
      "cell_type": "markdown",
      "metadata": {
        "id": "jpkbXyRT1SBq"
      },
      "source": [
        "Для каждого из тарифов посчитаем среднее, медиану, дисперсию и стандартное отклонение расчетных значений."
      ]
    },
    {
      "cell_type": "code",
      "metadata": {
        "id": "vyyqAysd1SBq",
        "outputId": "dacd6d93-c723-45b4-8157-84ad892e7ea0"
      },
      "source": [
        "report_stat = report.pivot_table(index = ['tariff'],\n",
        "                                  values = ['calls_duration', 'messages_count', 'mb_used_month', 'month_revenue'],\n",
        "                                  aggfunc = {'calls_duration': [np.mean, np.median, np.var, np.std],\n",
        "                                             'messages_count': [np.mean, np.median, np.var, np.std],\n",
        "                                             'mb_used_month': [np.mean, np.median, np.var, np.std],\n",
        "                                             'month_revenue': [np.mean, np.median, np.var, np.std]})\n",
        "report_stat"
      ],
      "execution_count": null,
      "outputs": [
        {
          "data": {
            "text/html": [
              "<div>\n",
              "<style scoped>\n",
              "    .dataframe tbody tr th:only-of-type {\n",
              "        vertical-align: middle;\n",
              "    }\n",
              "\n",
              "    .dataframe tbody tr th {\n",
              "        vertical-align: top;\n",
              "    }\n",
              "\n",
              "    .dataframe thead tr th {\n",
              "        text-align: left;\n",
              "    }\n",
              "\n",
              "    .dataframe thead tr:last-of-type th {\n",
              "        text-align: right;\n",
              "    }\n",
              "</style>\n",
              "<table border=\"1\" class=\"dataframe\">\n",
              "  <thead>\n",
              "    <tr>\n",
              "      <th></th>\n",
              "      <th colspan=\"4\" halign=\"left\">calls_duration</th>\n",
              "      <th colspan=\"4\" halign=\"left\">mb_used_month</th>\n",
              "      <th colspan=\"4\" halign=\"left\">messages_count</th>\n",
              "      <th colspan=\"4\" halign=\"left\">month_revenue</th>\n",
              "    </tr>\n",
              "    <tr>\n",
              "      <th></th>\n",
              "      <th>mean</th>\n",
              "      <th>median</th>\n",
              "      <th>std</th>\n",
              "      <th>var</th>\n",
              "      <th>mean</th>\n",
              "      <th>median</th>\n",
              "      <th>std</th>\n",
              "      <th>var</th>\n",
              "      <th>mean</th>\n",
              "      <th>median</th>\n",
              "      <th>std</th>\n",
              "      <th>var</th>\n",
              "      <th>mean</th>\n",
              "      <th>median</th>\n",
              "      <th>std</th>\n",
              "      <th>var</th>\n",
              "    </tr>\n",
              "    <tr>\n",
              "      <th>tariff</th>\n",
              "      <th></th>\n",
              "      <th></th>\n",
              "      <th></th>\n",
              "      <th></th>\n",
              "      <th></th>\n",
              "      <th></th>\n",
              "      <th></th>\n",
              "      <th></th>\n",
              "      <th></th>\n",
              "      <th></th>\n",
              "      <th></th>\n",
              "      <th></th>\n",
              "      <th></th>\n",
              "      <th></th>\n",
              "      <th></th>\n",
              "      <th></th>\n",
              "    </tr>\n",
              "  </thead>\n",
              "  <tbody>\n",
              "    <tr>\n",
              "      <td>smart</td>\n",
              "      <td>417.934948</td>\n",
              "      <td>422.0</td>\n",
              "      <td>190.313730</td>\n",
              "      <td>36219.315784</td>\n",
              "      <td>16229.188425</td>\n",
              "      <td>16531.0</td>\n",
              "      <td>5877.576978</td>\n",
              "      <td>3.454591e+07</td>\n",
              "      <td>33.384029</td>\n",
              "      <td>28.0</td>\n",
              "      <td>28.227876</td>\n",
              "      <td>796.812958</td>\n",
              "      <td>1108.532508</td>\n",
              "      <td>796.726562</td>\n",
              "      <td>707.933508</td>\n",
              "      <td>501169.852273</td>\n",
              "    </tr>\n",
              "    <tr>\n",
              "      <td>ultra</td>\n",
              "      <td>526.623350</td>\n",
              "      <td>518.0</td>\n",
              "      <td>317.606098</td>\n",
              "      <td>100873.633397</td>\n",
              "      <td>19486.901523</td>\n",
              "      <td>19324.0</td>\n",
              "      <td>10096.317202</td>\n",
              "      <td>1.019356e+08</td>\n",
              "      <td>49.363452</td>\n",
              "      <td>38.0</td>\n",
              "      <td>47.804457</td>\n",
              "      <td>2285.266143</td>\n",
              "      <td>2060.529971</td>\n",
              "      <td>1950.000000</td>\n",
              "      <td>356.305046</td>\n",
              "      <td>126953.285460</td>\n",
              "    </tr>\n",
              "  </tbody>\n",
              "</table>\n",
              "</div>"
            ],
            "text/plain": [
              "       calls_duration                                   mb_used_month  \\\n",
              "                 mean median         std            var          mean   \n",
              "tariff                                                                  \n",
              "smart      417.934948  422.0  190.313730   36219.315784  16229.188425   \n",
              "ultra      526.623350  518.0  317.606098  100873.633397  19486.901523   \n",
              "\n",
              "                                            messages_count                    \\\n",
              "         median           std           var           mean median        std   \n",
              "tariff                                                                         \n",
              "smart   16531.0   5877.576978  3.454591e+07      33.384029   28.0  28.227876   \n",
              "ultra   19324.0  10096.317202  1.019356e+08      49.363452   38.0  47.804457   \n",
              "\n",
              "                    month_revenue                                          \n",
              "                var          mean       median         std            var  \n",
              "tariff                                                                     \n",
              "smart    796.812958   1108.532508   796.726562  707.933508  501169.852273  \n",
              "ultra   2285.266143   2060.529971  1950.000000  356.305046  126953.285460  "
            ]
          },
          "execution_count": 40,
          "metadata": {},
          "output_type": "execute_result"
        }
      ]
    },
    {
      "cell_type": "markdown",
      "metadata": {
        "id": "ElHV1XCw1SBq"
      },
      "source": [
        "- Длительность звонков в месяц: <br>Медиана длительности звонков у пользователей обоих тарифов в месяц примерно одинакова, однако дисперсия и стандартное отклонение у пользователей тарифа \"Ультра\" больше, то есть значения более разнообразны относительно среднего.<br><br>\n",
        "- Объем интернет-трафика в месяц: <br>Пользователи тарифа \"Ультра\" в среднем расходут больше мегабайт интернет-трафика, чем пользователи тарифа \"Смарт\", опять же дисперсия и стандартное отклонение у пользователей тарифа \"Ультра\" больше, разброс значений больше.<br><br>\n",
        "- Количество отправленных сообщений в месяц: <br>Медиана отправленных сообщений в месяц у пользователей тарифа \"Ультра\" смещена в большую сторону по сравнению с медианой у пользователей тарифа \"Смарт\", как и у других расчетных значений дисперсия и стандартное отклонение у пользователей тарифа \"Ультра\" больше<br><br>\n",
        "- Месячная выручка: <br>Здесь все отличается. Медианная выручка у пользователей тарифа \"Ультра\" больше, чем медианная выручка пользователей тарифа \"Смарт\", и равна ежемесячной плате по тарифу. Медианная выручка пользователей тарифа \"Смарт\" больше, чем ежемесячная плата по тарифу примерно на 250 рублей, при этом дисперсия и стандартное отклонение у пользователей тарифа \"Смарт\" в этом случае больше. Предположительно пользователи тарифа \"Смарт\" чаще переплачиват по тарифу, чем те, кто пользуется \"Ультра\"<br>"
      ]
    },
    {
      "cell_type": "code",
      "metadata": {
        "id": "1f5VZKJ71SBr"
      },
      "source": [
        "def my_hist(col):\n",
        "    \n",
        "    if col == 'calls_duration':\n",
        "        title = 'Длительность звонков в месяц, мин.'\n",
        "    elif col == 'mb_used_month':\n",
        "        title = 'Объём потраченного за месяц интернет-трафика, Мб.'\n",
        "    else:\n",
        "        title = 'Количество отправленных сообщений в месяц, шт.'\n",
        "    \n",
        "    \n",
        "        \n",
        "    filtered_smart_data = report[(report['tariff'] == 'smart')][col]\n",
        "    filtered_ultra_data = report[(report['tariff'] == 'ultra')][col]\n",
        "    \n",
        "    #Избавимся от выбросов, оставим только нормальные значений\n",
        "    for df in [filtered_smart_data, filtered_ultra_data]:\n",
        "        q1 = df.quantile(0.25)\n",
        "        q3 = df.quantile(0.75)\n",
        "        iqr = q3 - q1\n",
        "        df = df[(df >= (q1 - 1.5*iqr)) & (df <= (q3 + 1.5*iqr))]\n",
        "\n",
        "    \n",
        "        \n",
        "    filtered_smart_data.plot(kind='hist', bins= 30, figsize=(12,6), ec='black', color='#87CEEB', title = title)\n",
        "    filtered_ultra_data.plot(kind='hist', bins = 40, figsize=(12,6), ec='black', color='#90EE90', title = title, alpha = 0.8)\n",
        "    \n",
        "    plt.axvline(x=filtered_smart_data.median(),linewidth=3, color='#87CEEB', linestyle='--')\n",
        "    plt.axvline(x=filtered_ultra_data.median(),linewidth=3, color='#90EE90', linestyle='--')\n",
        "    \n",
        "    plt.legend(['Медиана Смарт', 'Медиана Ультра', 'Смарт', 'Ультра'], prop={'size':12})\n",
        "    plt.xlabel('Значение')\n",
        "    plt.ylabel('Частота')\n",
        "    plt.grid()\n",
        "    plt.show()"
      ],
      "execution_count": null,
      "outputs": []
    },
    {
      "cell_type": "code",
      "metadata": {
        "id": "JFSn1H991SBs",
        "outputId": "25f548c1-9055-472d-a76f-ad88516a812d"
      },
      "source": [
        "my_hist('calls_duration')"
      ],
      "execution_count": null,
      "outputs": [
        {
          "data": {
            "image/png": "[encoded data removed]",
            "text/plain": [
              "<Figure size 864x432 with 1 Axes>"
            ]
          },
          "metadata": {
            "needs_background": "light"
          },
          "output_type": "display_data"
        }
      ]
    },
    {
      "cell_type": "markdown",
      "metadata": {
        "id": "H-tKHXHU1SBs"
      },
      "source": [
        "Большинство пользователей тарифа «Смарт» в месяц тратят от 200 до 750 минут разговора. Медиана равна 422 минутам, что очень близко к лимиту минут разговора в месяц (500 минут) <br> Распределение - нормальное.<br><br>\n",
        "У пользователй тарифа \"Ультра\" поведение более разнообразное, чем у тех, кто пользуется тарифом «Смарт»: много пользователей, кто вообще практически не разговаривает по телефону (пик у 0 минут), но при этом практически столько же пользователей тратят в месяц и 200 минут, и 400 минут и 700.<br>Распределение - нормальное."
      ]
    },
    {
      "cell_type": "code",
      "metadata": {
        "id": "NMX1ITFo1SBs",
        "outputId": "d44ddd80-9780-43fa-f268-630b2c45866c"
      },
      "source": [
        "my_hist('mb_used_month')"
      ],
      "execution_count": null,
      "outputs": [
        {
          "data": {
            "image/png": "[encoded data removed]",
            "text/plain": [
              "<Figure size 864x432 with 1 Axes>"
            ]
          },
          "metadata": {
            "needs_background": "light"
          },
          "output_type": "display_data"
        }
      ]
    },
    {
      "cell_type": "code",
      "metadata": {
        "id": "h2A5-uS21SBt",
        "outputId": "b764de27-4b48-4fa8-b340-1d202addc86a"
      },
      "source": [
        "15*1024"
      ],
      "execution_count": null,
      "outputs": [
        {
          "data": {
            "text/plain": [
              "15360"
            ]
          },
          "execution_count": 45,
          "metadata": {},
          "output_type": "execute_result"
        }
      ]
    },
    {
      "cell_type": "code",
      "metadata": {
        "id": "DnovTAXL1SBt",
        "outputId": "ebd82bae-55f4-4917-d97e-6c9d6a34e242"
      },
      "source": [
        "30*1024"
      ],
      "execution_count": null,
      "outputs": [
        {
          "data": {
            "text/plain": [
              "30720"
            ]
          },
          "execution_count": 46,
          "metadata": {},
          "output_type": "execute_result"
        }
      ]
    },
    {
      "cell_type": "markdown",
      "metadata": {
        "id": "XPvYi8d41SBt"
      },
      "source": [
        "Пользователи тарифа «Смарт» в среднем в месяц используют от 10 до 20 Гб интернет-трафика. Медиана равна 16 Гб, что больше, чем установленный тарифом лимит. Больше, чем половине пользователей тарифа «Смарт» не хватает лимита интернет-трафика и они дозаказывают дополнительные пакеты интернет-трафика. <br> Распределение - нормальное.<br><br>\n",
        "У пользователей тарифа \"Ультра\" разброс значений использованного трафика гораздо шире. Однако, лимит интернет-трафика у них гораздо больше, вследствие этого очень малое количество пользователей пользуются дополнительными пакетами.<br>Распределение - нормальное."
      ]
    },
    {
      "cell_type": "code",
      "metadata": {
        "id": "WDBoQ1r31SBt",
        "outputId": "3177759f-e565-4f63-e90e-abfdf1e014d7"
      },
      "source": [
        "my_hist('messages_count')"
      ],
      "execution_count": null,
      "outputs": [
        {
          "data": {
            "image/png": "[encoded data removed]",
            "text/plain": [
              "<Figure size 864x432 with 1 Axes>"
            ]
          },
          "metadata": {
            "needs_background": "light"
          },
          "output_type": "display_data"
        }
      ]
    },
    {
      "cell_type": "markdown",
      "metadata": {
        "id": "fRhrb5Rw1SBu"
      },
      "source": [
        "Пользователи обоих тарифов схожи по своему поведению - большинство не отправляет сообщения.<br>\n",
        "Пользователи тарифа «Смарт», кто отправляет сообщения, отправляют до 100 сообщений в месяц. Учитывая то, что лимит по тарифу установлен в 50 сообщений, есть группа пользователей, превышающая лимит. Опять же поведение пользователей тарифа \"Ультра\" более разнообразно, есть такие, кто отправляет и по 175 сообщений в месяц и по 25.\n",
        "<br>Распределение - нормальное со смещением влево."
      ]
    },
    {
      "cell_type": "markdown",
      "metadata": {
        "id": "po42uQR81SBu"
      },
      "source": [
        "### Вывод"
      ]
    },
    {
      "cell_type": "markdown",
      "metadata": {
        "id": "pLnTkjcP1SBv"
      },
      "source": [
        "Проанализиров таблицу статистических показателей и гистограммы расчетных значений, отметим, что:\n",
        "- Пользователи обоих тарифов практически не отправляют СМС-сообщения.\n",
        "- Больше, чем половине пользователей тарифа «Смарт» не хватает лимита интернет-трафика и они дозаказывают дополнительные пакеты интернет-трафика. У пользователей тарифа \"Ультра\" разброс значений использованного трафика гораздо шире. Однако, лимит интернет-трафика у них больше, вследствие этого очень малое количество пользователей пользуются дополнительными пакетами трафика сверх тарифного пакета.\n",
        "- Пользователи тарифа \"Смарт\" в большинстве случаев переходят границу установленого тарифом лимита минут разговора: больше половины значений минут разговора либо очень близко к лимиту, либо его превышает. У пользователей тарифа \"Ультра\" поведение более разнообразное, чем у тех, кто пользуется тарифом «Смарт»: много пользователей, кто вообще практически не разговаривает по телефону (пик у 0 минут), но при этом практически столько же пользователей тратят в месяц и 200 минут, и 400 минут и 700 минут."
      ]
    },
    {
      "cell_type": "markdown",
      "metadata": {
        "id": "DEkVX7VI1SBv"
      },
      "source": [
        "## Проверка гипотез"
      ]
    },
    {
      "cell_type": "markdown",
      "metadata": {
        "id": "QG5STa1V1SBv"
      },
      "source": [
        "### Гипотеза 1. Cредняя выручка пользователей тарифов «Ультра» и «Смарт» различается"
      ]
    },
    {
      "cell_type": "markdown",
      "metadata": {
        "id": "G-QFA5fY1SBv"
      },
      "source": [
        "Нулевая гипотеза:  Средние выручки пользователей тарифов «Ультра» и «Смарт» равны. <br>\n",
        "Альтернативная гипотеза: Средние выручки пользователей тарифов «Ультра» и «Смарт» различаются."
      ]
    },
    {
      "cell_type": "code",
      "metadata": {
        "id": "58eHO9ax1SBv",
        "outputId": "50c041c1-5c50-401c-9e88-9caeb78839d2"
      },
      "source": [
        "ultra = report[(report['tariff'] == 'ultra')]['month_revenue']\n",
        "smart = report[(report['tariff'] == 'smart')]['month_revenue']\n",
        "\n",
        "alpha = .05\n",
        "\n",
        "results = st.ttest_ind(ultra, smart)\n",
        "\n",
        "print('p-значение:', results.pvalue)\n",
        "\n",
        "if (results.pvalue < alpha):\n",
        "    print(\"Отвергаем нулевую гипотезу\")\n",
        "else:\n",
        "    print(\"Не получилось отвергнуть нулевую гипотезу\")"
      ],
      "execution_count": null,
      "outputs": [
        {
          "name": "stdout",
          "output_type": "stream",
          "text": [
            "p-значение: 1.5930187141643347e-284\n",
            "Отвергаем нулевую гипотезу\n"
          ]
        }
      ]
    },
    {
      "cell_type": "code",
      "metadata": {
        "id": "bl5s4noF1SBw",
        "outputId": "de6485b3-a6a2-44d5-d24f-47f7a2041153"
      },
      "source": [
        "tariff_month_revenue_stat = report.pivot_table(index = ['tariff'],\n",
        "                                  values = ['month_revenue'],\n",
        "                                  aggfunc = {'month_revenue': ['count', 'mean', 'median']})\n",
        "tariff_month_revenue_stat"
      ],
      "execution_count": null,
      "outputs": [
        {
          "data": {
            "text/html": [
              "<div>\n",
              "<style scoped>\n",
              "    .dataframe tbody tr th:only-of-type {\n",
              "        vertical-align: middle;\n",
              "    }\n",
              "\n",
              "    .dataframe tbody tr th {\n",
              "        vertical-align: top;\n",
              "    }\n",
              "\n",
              "    .dataframe thead tr th {\n",
              "        text-align: left;\n",
              "    }\n",
              "\n",
              "    .dataframe thead tr:last-of-type th {\n",
              "        text-align: right;\n",
              "    }\n",
              "</style>\n",
              "<table border=\"1\" class=\"dataframe\">\n",
              "  <thead>\n",
              "    <tr>\n",
              "      <th></th>\n",
              "      <th colspan=\"3\" halign=\"left\">month_revenue</th>\n",
              "    </tr>\n",
              "    <tr>\n",
              "      <th></th>\n",
              "      <th>count</th>\n",
              "      <th>mean</th>\n",
              "      <th>median</th>\n",
              "    </tr>\n",
              "    <tr>\n",
              "      <th>tariff</th>\n",
              "      <th></th>\n",
              "      <th></th>\n",
              "      <th></th>\n",
              "    </tr>\n",
              "  </thead>\n",
              "  <tbody>\n",
              "    <tr>\n",
              "      <td>smart</td>\n",
              "      <td>2229</td>\n",
              "      <td>1108.532508</td>\n",
              "      <td>796.726562</td>\n",
              "    </tr>\n",
              "    <tr>\n",
              "      <td>ultra</td>\n",
              "      <td>985</td>\n",
              "      <td>2060.529971</td>\n",
              "      <td>1950.000000</td>\n",
              "    </tr>\n",
              "  </tbody>\n",
              "</table>\n",
              "</div>"
            ],
            "text/plain": [
              "       month_revenue                          \n",
              "               count         mean       median\n",
              "tariff                                        \n",
              "smart           2229  1108.532508   796.726562\n",
              "ultra            985  2060.529971  1950.000000"
            ]
          },
          "execution_count": 50,
          "metadata": {},
          "output_type": "execute_result"
        }
      ]
    },
    {
      "cell_type": "markdown",
      "metadata": {
        "id": "Y8McJQFx1SBw"
      },
      "source": [
        " <div style=\"background: #FFA07A;color: #fff;padding: 10px;border-radius: 5px\"></div><br>Нулевая гипотеза отвергнута. Сводная таблица подтверждает альтернативную гипотезу, что средние выручки совсем не равны. Средние значения ежемесячной выручки по тарифам различаются практически в 2,5 раза.<br>\n",
        " Пользователи тарифа \"Ультра\" в среднем приносят большую выручку, так как ежемесячная плата в 3,5 раза больше ежемесячной платы пользователей тарифа \"Смарт\". Пользователи тарифа \"Смарт\" в среднем переплачивают на 250 рублей в месяц, но все равно не приносят такой доход."
      ]
    },
    {
      "cell_type": "markdown",
      "metadata": {
        "id": "6ouZVgF21SBx"
      },
      "source": [
        "### Гипотеза 2. Cредняя выручка пользователей из Москвы отличается от выручки пользователей из других регионов"
      ]
    },
    {
      "cell_type": "markdown",
      "metadata": {
        "id": "p6xuT3tP1SBx"
      },
      "source": [
        "Нулевая гипотеза:  Cредняя выручка пользователей из Москвы равна средней выручке пользователей из других регионов. <br>\n",
        "Альтернативная гипотеза: Cредняя выручка пользователей из Москвы отличается от выручки пользователей из других регионов."
      ]
    },
    {
      "cell_type": "code",
      "metadata": {
        "id": "0TR98a7b1SBx",
        "outputId": "188f70c2-d98b-4230-fba8-7dcd4cf84798"
      },
      "source": [
        "moscow = report[(report['city'] == 'Москва')]['month_revenue']\n",
        "len(moscow)"
      ],
      "execution_count": null,
      "outputs": [
        {
          "data": {
            "text/plain": [
              "611"
            ]
          },
          "execution_count": 51,
          "metadata": {},
          "output_type": "execute_result"
        }
      ]
    },
    {
      "cell_type": "code",
      "metadata": {
        "id": "bwPzsCNY1SBx",
        "outputId": "0c6abd0f-ae31-4536-a3e8-d583b3f937e5"
      },
      "source": [
        "n_moscow = report[(report['city'] != 'Москва')]['month_revenue']\n",
        "len(n_moscow)"
      ],
      "execution_count": null,
      "outputs": [
        {
          "data": {
            "text/plain": [
              "2603"
            ]
          },
          "execution_count": 52,
          "metadata": {},
          "output_type": "execute_result"
        }
      ]
    },
    {
      "cell_type": "code",
      "metadata": {
        "id": "DSdec5Za1SBy",
        "outputId": "3233ef66-f74a-430b-9762-c23ae78adff6"
      },
      "source": [
        "alpha = .05\n",
        "\n",
        "results = st.ttest_ind(moscow, n_moscow)\n",
        "\n",
        "print('p-значение:', results.pvalue)\n",
        "\n",
        "if (results.pvalue < alpha):\n",
        "    print(\"Отвергаем нулевую гипотезу\")\n",
        "else:\n",
        "    print(\"Не получилось отвергнуть нулевую гипотезу\")"
      ],
      "execution_count": null,
      "outputs": [
        {
          "name": "stdout",
          "output_type": "stream",
          "text": [
            "p-значение: 0.24506493275719932\n",
            "Не получилось отвергнуть нулевую гипотезу\n"
          ]
        }
      ]
    },
    {
      "cell_type": "code",
      "metadata": {
        "id": "Jk2bi-xp1SBy",
        "outputId": "678675fa-ac8b-4499-d0c7-28f9f39bdc42"
      },
      "source": [
        "moscow.mean()"
      ],
      "execution_count": null,
      "outputs": [
        {
          "data": {
            "text/plain": [
              "1432.5026212152209"
            ]
          },
          "execution_count": 54,
          "metadata": {},
          "output_type": "execute_result"
        }
      ]
    },
    {
      "cell_type": "code",
      "metadata": {
        "id": "aNZS-zxD1SBy",
        "outputId": "32510319-377a-49f2-b3ac-bbed663bbe04"
      },
      "source": [
        "n_moscow.mean()"
      ],
      "execution_count": null,
      "outputs": [
        {
          "data": {
            "text/plain": [
              "1392.7321862694487"
            ]
          },
          "execution_count": 55,
          "metadata": {},
          "output_type": "execute_result"
        }
      ]
    },
    {
      "cell_type": "code",
      "metadata": {
        "id": "oIWbXl7h1SBy",
        "outputId": "145269ab-9cb5-4852-f544-f1a732dcd04a"
      },
      "source": [
        "moscow.mean() - n_moscow.mean()"
      ],
      "execution_count": null,
      "outputs": [
        {
          "data": {
            "text/plain": [
              "39.770434945772195"
            ]
          },
          "execution_count": 56,
          "metadata": {},
          "output_type": "execute_result"
        }
      ]
    },
    {
      "cell_type": "markdown",
      "metadata": {
        "id": "-AXZgIv_1SBz"
      },
      "source": [
        "Нулевую гипотезу отвергнуть не получилось. Средняя выручка в Москве и в регионах действительно практически не отличается: в Москве переплачивают всего лишь 40 рублей."
      ]
    },
    {
      "cell_type": "markdown",
      "metadata": {
        "id": "gKYL35RY1SBz"
      },
      "source": [
        "### Вывод"
      ]
    },
    {
      "cell_type": "markdown",
      "metadata": {
        "id": "qroJqPJS1SBz"
      },
      "source": [
        "В результате проведнных статистических тестов определили:\n",
        "- доходы от тарифа «Ультра» больше, чем от тарифа «Смарт»: в среднем «Мегалайн» от одного пользователя в месяц получает 1950 рублей и 796 рублей соответственно.\n",
        "- доходы в Москве и регионах не отличаются"
      ]
    },
    {
      "cell_type": "markdown",
      "metadata": {
        "id": "kiTFNqXc1SBz"
      },
      "source": [
        "## Общий вывод"
      ]
    },
    {
      "cell_type": "markdown",
      "metadata": {
        "id": "r6HOJ64Q1SBz"
      },
      "source": [
        "По результатам анализа делаем вывод, что выручка от тарифа «Ультра» больше, чем от тарифа «Смарт»: за одного пользователя тарифа «Ультра» компания получает 1950 рублей в месяц, а за одного пользователя тарифа «Смарт» - 797 рублей в месяц.\n",
        "\n",
        "- Пользователям бюджетного тарифа «Смарт» не хватает услуг в рамках тарифного пакета, а конкретно минут разговора и объема интернет-трафика: ежемесячная доплата в среднем составляет 250 рублей.\n",
        "- Доходы от тарифов не зависят от географического фактора: в Москве и в регионах практически не различаются.\n",
        "- Пользователи тарифа «Ультра», платят 3,5 раза больше, но не используют возможности тарифа в полном объеме."
      ]
    }
  ]
}