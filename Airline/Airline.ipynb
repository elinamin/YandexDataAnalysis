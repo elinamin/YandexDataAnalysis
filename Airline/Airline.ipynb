{
  "nbformat": 4,
  "nbformat_minor": 0,
  "metadata": {
    "kernelspec": {
      "display_name": "Python 3",
      "language": "python",
      "name": "python3"
    },
    "language_info": {
      "codemirror_mode": {
        "name": "ipython",
        "version": 3
      },
      "file_extension": ".py",
      "mimetype": "text/x-python",
      "name": "python",
      "nbconvert_exporter": "python",
      "pygments_lexer": "ipython3",
      "version": "3.7.8"
    },
    "toc": {
      "base_numbering": 1,
      "nav_menu": {},
      "number_sections": true,
      "sideBar": true,
      "skip_h1_title": true,
      "title_cell": "Table of Contents",
      "title_sidebar": "Contents",
      "toc_cell": false,
      "toc_position": {
        "height": "calc(100% - 180px)",
        "left": "10px",
        "top": "150px",
        "width": "270.391px"
      },
      "toc_section_display": true,
      "toc_window_display": false
    },
    "colab": {
      "name": "Airline.ipynb",
      "provenance": [],
      "collapsed_sections": []
    }
  },
  "cells": [
    {
      "cell_type": "markdown",
      "metadata": {
        "id": "r3lne02r8KOS"
      },
      "source": [
        "# Аналитика в авиакомпании"
      ]
    },
    {
      "cell_type": "markdown",
      "metadata": {
        "id": "VtJW2l0J8KOT"
      },
      "source": [
        "Компания «F9» — это российская авиакомпания, выполняющая внутренние пассажирские авиаперевозки. Сотни перелётов каждый день. Важно понять предпочтения пользователей, покупающих билеты на те или иные направления.\n",
        "Необходимо изучить базу данных и проанализировать спрос пассажиров на рейсы в города, где проходят крупнейшие фестивали."
      ]
    },
    {
      "cell_type": "markdown",
      "metadata": {
        "id": "gW4PHkwH8KOT"
      },
      "source": [
        "Основные задачи, которые необходимо будет решить в рамках проекта:\n",
        "- Открытие файлов с данными, изучение общей информации, проверка данных на корректность;\n",
        "- Определение топ-10 городов по количеству рейсов;\n",
        "- Построение графиков: моделей самолетов и количества рейсов, городов и количество рейсов, топ-10 городов и количество рейсов, и формулировка выводов."
      ]
    },
    {
      "cell_type": "markdown",
      "metadata": {
        "id": "6KuvJ_I-8KOU"
      },
      "source": [
        "## Получение данных из файла и изучение общей информации"
      ]
    },
    {
      "cell_type": "code",
      "metadata": {
        "id": "lI5Csa508KOU"
      },
      "source": [
        "import pandas as pd\n",
        "import matplotlib.pyplot as plt\n",
        "import seaborn as sns"
      ],
      "execution_count": null,
      "outputs": []
    },
    {
      "cell_type": "code",
      "metadata": {
        "id": "t9nXbFZH8KOV",
        "outputId": "96b2787c-8643-4b78-9797-a254f3cbb4d8"
      },
      "source": [
        "model_flights = pd.read_csv('/datasets/query_1.csv')\n",
        "model_flights"
      ],
      "execution_count": null,
      "outputs": [
        {
          "data": {
            "text/html": [
              "<div>\n",
              "<style scoped>\n",
              "    .dataframe tbody tr th:only-of-type {\n",
              "        vertical-align: middle;\n",
              "    }\n",
              "\n",
              "    .dataframe tbody tr th {\n",
              "        vertical-align: top;\n",
              "    }\n",
              "\n",
              "    .dataframe thead th {\n",
              "        text-align: right;\n",
              "    }\n",
              "</style>\n",
              "<table border=\"1\" class=\"dataframe\">\n",
              "  <thead>\n",
              "    <tr style=\"text-align: right;\">\n",
              "      <th></th>\n",
              "      <th>model</th>\n",
              "      <th>flights_amount</th>\n",
              "    </tr>\n",
              "  </thead>\n",
              "  <tbody>\n",
              "    <tr>\n",
              "      <td>0</td>\n",
              "      <td>Airbus A319-100</td>\n",
              "      <td>607</td>\n",
              "    </tr>\n",
              "    <tr>\n",
              "      <td>1</td>\n",
              "      <td>Airbus A321-200</td>\n",
              "      <td>960</td>\n",
              "    </tr>\n",
              "    <tr>\n",
              "      <td>2</td>\n",
              "      <td>Boeing 737-300</td>\n",
              "      <td>630</td>\n",
              "    </tr>\n",
              "    <tr>\n",
              "      <td>3</td>\n",
              "      <td>Boeing 767-300</td>\n",
              "      <td>600</td>\n",
              "    </tr>\n",
              "    <tr>\n",
              "      <td>4</td>\n",
              "      <td>Boeing 777-300</td>\n",
              "      <td>300</td>\n",
              "    </tr>\n",
              "    <tr>\n",
              "      <td>5</td>\n",
              "      <td>Bombardier CRJ-200</td>\n",
              "      <td>4446</td>\n",
              "    </tr>\n",
              "    <tr>\n",
              "      <td>6</td>\n",
              "      <td>Cessna 208 Caravan</td>\n",
              "      <td>4557</td>\n",
              "    </tr>\n",
              "    <tr>\n",
              "      <td>7</td>\n",
              "      <td>Sukhoi SuperJet-100</td>\n",
              "      <td>4185</td>\n",
              "    </tr>\n",
              "  </tbody>\n",
              "</table>\n",
              "</div>"
            ],
            "text/plain": [
              "                 model  flights_amount\n",
              "0      Airbus A319-100             607\n",
              "1      Airbus A321-200             960\n",
              "2       Boeing 737-300             630\n",
              "3       Boeing 767-300             600\n",
              "4       Boeing 777-300             300\n",
              "5   Bombardier CRJ-200            4446\n",
              "6   Cessna 208 Caravan            4557\n",
              "7  Sukhoi SuperJet-100            4185"
            ]
          },
          "execution_count": 2,
          "metadata": {},
          "output_type": "execute_result"
        }
      ]
    },
    {
      "cell_type": "code",
      "metadata": {
        "id": "BKzyyqN48KOW",
        "outputId": "13705b82-6875-4fdf-a726-bc7b60b27fbd"
      },
      "source": [
        "model_flights.info()"
      ],
      "execution_count": null,
      "outputs": [
        {
          "name": "stdout",
          "output_type": "stream",
          "text": [
            "<class 'pandas.core.frame.DataFrame'>\n",
            "RangeIndex: 8 entries, 0 to 7\n",
            "Data columns (total 2 columns):\n",
            "model             8 non-null object\n",
            "flights_amount    8 non-null int64\n",
            "dtypes: int64(1), object(1)\n",
            "memory usage: 256.0+ bytes\n"
          ]
        }
      ]
    },
    {
      "cell_type": "code",
      "metadata": {
        "id": "8voK1tcA8KOX",
        "outputId": "52d2ec98-d153-41ff-befb-eb40c1eb173e"
      },
      "source": [
        "city_flights = pd.read_csv('/datasets/query_3.csv')\n",
        "city_flights"
      ],
      "execution_count": null,
      "outputs": [
        {
          "data": {
            "text/html": [
              "<div>\n",
              "<style scoped>\n",
              "    .dataframe tbody tr th:only-of-type {\n",
              "        vertical-align: middle;\n",
              "    }\n",
              "\n",
              "    .dataframe tbody tr th {\n",
              "        vertical-align: top;\n",
              "    }\n",
              "\n",
              "    .dataframe thead th {\n",
              "        text-align: right;\n",
              "    }\n",
              "</style>\n",
              "<table border=\"1\" class=\"dataframe\">\n",
              "  <thead>\n",
              "    <tr style=\"text-align: right;\">\n",
              "      <th></th>\n",
              "      <th>city</th>\n",
              "      <th>average_flights</th>\n",
              "    </tr>\n",
              "  </thead>\n",
              "  <tbody>\n",
              "    <tr>\n",
              "      <td>0</td>\n",
              "      <td>Абакан</td>\n",
              "      <td>3.870968</td>\n",
              "    </tr>\n",
              "    <tr>\n",
              "      <td>1</td>\n",
              "      <td>Анадырь</td>\n",
              "      <td>1.000000</td>\n",
              "    </tr>\n",
              "    <tr>\n",
              "      <td>2</td>\n",
              "      <td>Анапа</td>\n",
              "      <td>2.161290</td>\n",
              "    </tr>\n",
              "    <tr>\n",
              "      <td>3</td>\n",
              "      <td>Архангельск</td>\n",
              "      <td>5.354839</td>\n",
              "    </tr>\n",
              "    <tr>\n",
              "      <td>4</td>\n",
              "      <td>Астрахань</td>\n",
              "      <td>2.451613</td>\n",
              "    </tr>\n",
              "    <tr>\n",
              "      <td>...</td>\n",
              "      <td>...</td>\n",
              "      <td>...</td>\n",
              "    </tr>\n",
              "    <tr>\n",
              "      <td>96</td>\n",
              "      <td>Чита</td>\n",
              "      <td>1.580645</td>\n",
              "    </tr>\n",
              "    <tr>\n",
              "      <td>97</td>\n",
              "      <td>Элиста</td>\n",
              "      <td>4.870968</td>\n",
              "    </tr>\n",
              "    <tr>\n",
              "      <td>98</td>\n",
              "      <td>Южно-Сахалинск</td>\n",
              "      <td>4.290323</td>\n",
              "    </tr>\n",
              "    <tr>\n",
              "      <td>99</td>\n",
              "      <td>Якутск</td>\n",
              "      <td>2.741935</td>\n",
              "    </tr>\n",
              "    <tr>\n",
              "      <td>100</td>\n",
              "      <td>Ярославль</td>\n",
              "      <td>1.322581</td>\n",
              "    </tr>\n",
              "  </tbody>\n",
              "</table>\n",
              "<p>101 rows × 2 columns</p>\n",
              "</div>"
            ],
            "text/plain": [
              "               city  average_flights\n",
              "0            Абакан         3.870968\n",
              "1           Анадырь         1.000000\n",
              "2             Анапа         2.161290\n",
              "3       Архангельск         5.354839\n",
              "4         Астрахань         2.451613\n",
              "..              ...              ...\n",
              "96             Чита         1.580645\n",
              "97           Элиста         4.870968\n",
              "98   Южно-Сахалинск         4.290323\n",
              "99           Якутск         2.741935\n",
              "100       Ярославль         1.322581\n",
              "\n",
              "[101 rows x 2 columns]"
            ]
          },
          "execution_count": 4,
          "metadata": {},
          "output_type": "execute_result"
        }
      ]
    },
    {
      "cell_type": "code",
      "metadata": {
        "id": "cX_mvV988KOX",
        "outputId": "fd03d9de-001a-4f37-bcf8-274f89f9d0ca"
      },
      "source": [
        "city_flights.info()"
      ],
      "execution_count": null,
      "outputs": [
        {
          "name": "stdout",
          "output_type": "stream",
          "text": [
            "<class 'pandas.core.frame.DataFrame'>\n",
            "RangeIndex: 101 entries, 0 to 100\n",
            "Data columns (total 2 columns):\n",
            "city               101 non-null object\n",
            "average_flights    101 non-null float64\n",
            "dtypes: float64(1), object(1)\n",
            "memory usage: 1.7+ KB\n"
          ]
        }
      ]
    },
    {
      "cell_type": "markdown",
      "metadata": {
        "id": "7fxgJjWn8KOY"
      },
      "source": [
        "Проверим данные на дубликаты."
      ]
    },
    {
      "cell_type": "code",
      "metadata": {
        "id": "1zaWU42F8KOY",
        "outputId": "b989018a-a424-4326-f704-4af53f1ac106"
      },
      "source": [
        "city_flights.duplicated().sum()"
      ],
      "execution_count": null,
      "outputs": [
        {
          "data": {
            "text/plain": [
              "0"
            ]
          },
          "execution_count": 6,
          "metadata": {},
          "output_type": "execute_result"
        }
      ]
    },
    {
      "cell_type": "code",
      "metadata": {
        "id": "aDrFdbXf8KOY",
        "outputId": "4a3063f9-bb85-4476-9ad2-c2045f56232a"
      },
      "source": [
        "city_flights['city'].duplicated().sum()"
      ],
      "execution_count": null,
      "outputs": [
        {
          "data": {
            "text/plain": [
              "0"
            ]
          },
          "execution_count": 7,
          "metadata": {},
          "output_type": "execute_result"
        }
      ]
    },
    {
      "cell_type": "markdown",
      "metadata": {
        "id": "kTPXgwC08KOZ"
      },
      "source": [
        "- Типы данных столбцов в обеих таблицах корректны: наименования моделей самолетов и городов - строковой тип данных, количество рейов - целочисленный, среднее количество рейсов - вещественный.\n",
        "- Пропуски в данных отсутствуют.\n",
        "- Дубликаты отсутствуют."
      ]
    },
    {
      "cell_type": "markdown",
      "metadata": {
        "id": "v2lRvw818KOa"
      },
      "source": [
        "## Анализ данных"
      ]
    },
    {
      "cell_type": "markdown",
      "metadata": {
        "id": "zKj_2zsG8KOb"
      },
      "source": [
        "### Графики"
      ]
    },
    {
      "cell_type": "code",
      "metadata": {
        "id": "gkMTXqZr8KOb",
        "outputId": "cecd46aa-7aff-4e2b-f325-c8841b65b8b8"
      },
      "source": [
        "f, ax = plt.subplots(figsize=(15, 6))\n",
        "\n",
        "sns.barplot(data=model_flights.sort_values('flights_amount',ascending = False), x='model', y='flights_amount').set(title='Модели самолетов и среднее количество рейсов',\n",
        "                                                                                                                   xlabel= 'Модель самолетов',\n",
        "                                                                                                                   ylabel= 'Cреднее количество рейсов')\n",
        "ax.yaxis.grid(True)\n",
        "sns.despine(left=True, bottom=False)"
      ],
      "execution_count": null,
      "outputs": [
        {
          "data": {
            "image/png": "[encoded data removed]",
            "text/plain": [
              "<Figure size 1080x432 with 1 Axes>"
            ]
          },
          "metadata": {
            "needs_background": "light"
          },
          "output_type": "display_data"
        }
      ]
    },
    {
      "cell_type": "markdown",
      "metadata": {
        "id": "he3BYp0I8KOc"
      },
      "source": [
        "- Самые используемые модели самолетов в сентябре 2018 года (более 4000 рейсов):\n",
        " - Cessna 208 Caravan\n",
        " - Bombardier CRJ-200\n",
        " - Sukhoi SuperJet-100<br><br>\n",
        "- Остальные модели: \n",
        "Airbus A319-100, Airbus A321-200, Boeing 737-300, Boeing 767-300, Boeing 777-300, не преодолевают отметку в 1000 рейсов в месяц. Самый близкий к отметке в 1000 рейсов самолет из крупных лайнеров - Airbus A319-100, в сентябре 2018 года совершивший 960 рейсов."
      ]
    },
    {
      "cell_type": "markdown",
      "metadata": {
        "id": "eNWD8DtS8KOc"
      },
      "source": [
        "Самые используемые модели Cessna 208 Caravan (пассажировместимость 9-13 мест), Bombardier CRJ-200 (пассажировместимость 50 мест) - это маломестные, небольшие самолеты, использующиеся на малых расстояниях. У самолета Sukhoi SuperJet-100 - пассажировместимость также меньше, чем у оставшихся моделей (98-108 мест)<br>\n",
        "Остальные же модели самолетов - это пассажирские самолеты с высокой вместимостью."
      ]
    },
    {
      "cell_type": "markdown",
      "metadata": {
        "id": "l7cp2ZV68KOe"
      },
      "source": [
        "Таким образом, региональные самолеты с меньшей пассажировместимостью, предназначенные для полетов на небольшие расстояние, совершают большее количество рейсов, чем среднемагистральные лайнеры."
      ]
    },
    {
      "cell_type": "code",
      "metadata": {
        "id": "62vsHBZL8KOe",
        "outputId": "6a669dec-5b80-401d-e76c-1c6d1ba59007"
      },
      "source": [
        "f, ax = plt.subplots(figsize=(17, 6))\n",
        "sns.barplot(data=city_flights.sort_values('average_flights',ascending = False), x='city', y='average_flights').set(title='Города и среднее количество прибывающих рейсов за день в августе 2018 года',\n",
        "                                                                                                                   xlabel= 'Город',\n",
        "                                                                                                                   ylabel='Среднее количество рейсов')\n",
        "sns.despine(left=True, bottom=False)\n",
        "ax.yaxis.grid(True)\n",
        "plt.xticks(rotation=90, fontsize = 8)"
      ],
      "execution_count": null,
      "outputs": [
        {
          "data": {
            "text/plain": [
              "(array([  0,   1,   2,   3,   4,   5,   6,   7,   8,   9,  10,  11,  12,\n",
              "         13,  14,  15,  16,  17,  18,  19,  20,  21,  22,  23,  24,  25,\n",
              "         26,  27,  28,  29,  30,  31,  32,  33,  34,  35,  36,  37,  38,\n",
              "         39,  40,  41,  42,  43,  44,  45,  46,  47,  48,  49,  50,  51,\n",
              "         52,  53,  54,  55,  56,  57,  58,  59,  60,  61,  62,  63,  64,\n",
              "         65,  66,  67,  68,  69,  70,  71,  72,  73,  74,  75,  76,  77,\n",
              "         78,  79,  80,  81,  82,  83,  84,  85,  86,  87,  88,  89,  90,\n",
              "         91,  92,  93,  94,  95,  96,  97,  98,  99, 100]),\n",
              " <a list of 101 Text xticklabel objects>)"
            ]
          },
          "execution_count": 9,
          "metadata": {},
          "output_type": "execute_result"
        },
        {
          "data": {
            "image/png": "[encoded data removed]",
            "text/plain": [
              "<Figure size 1224x432 with 1 Axes>"
            ]
          },
          "metadata": {
            "needs_background": "light"
          },
          "output_type": "display_data"
        }
      ]
    },
    {
      "cell_type": "markdown",
      "metadata": {
        "id": "VucddwUa8KOe"
      },
      "source": [
        "Столица вырывается вперед - в августе 2018 в день в Москву прибывает наибольшее количество рейсов из всех городов России.<br>В топе по среднему количеству рейсов в день - крупнонаселенные города России, в хвосте - самые малонаселенные. В качестве примера, население Нефтеюганска на 1 января 2020 - 127 255 чел. Комсомольск-на Амуре - 244 768 чел, в топе - города-миллионники, например, Екатеринбург (1 493 749 чел.), в середине списка, например, Махачкала - 606 561\tчел."
      ]
    },
    {
      "cell_type": "markdown",
      "metadata": {
        "id": "nRptHI8P8KOf"
      },
      "source": [
        "Выберем топ-10 городов с наибольшим средним количеством рейсов в день и построим график."
      ]
    },
    {
      "cell_type": "code",
      "metadata": {
        "id": "X099XTIY8KOg",
        "outputId": "217faa15-cea3-4dea-9a45-19b79ebbae6b"
      },
      "source": [
        "city_flights.nlargest(10,'average_flights')"
      ],
      "execution_count": null,
      "outputs": [
        {
          "data": {
            "text/html": [
              "<div>\n",
              "<style scoped>\n",
              "    .dataframe tbody tr th:only-of-type {\n",
              "        vertical-align: middle;\n",
              "    }\n",
              "\n",
              "    .dataframe tbody tr th {\n",
              "        vertical-align: top;\n",
              "    }\n",
              "\n",
              "    .dataframe thead th {\n",
              "        text-align: right;\n",
              "    }\n",
              "</style>\n",
              "<table border=\"1\" class=\"dataframe\">\n",
              "  <thead>\n",
              "    <tr style=\"text-align: right;\">\n",
              "      <th></th>\n",
              "      <th>city</th>\n",
              "      <th>average_flights</th>\n",
              "    </tr>\n",
              "  </thead>\n",
              "  <tbody>\n",
              "    <tr>\n",
              "      <td>43</td>\n",
              "      <td>Москва</td>\n",
              "      <td>129.774194</td>\n",
              "    </tr>\n",
              "    <tr>\n",
              "      <td>70</td>\n",
              "      <td>Санкт-Петербург</td>\n",
              "      <td>31.161290</td>\n",
              "    </tr>\n",
              "    <tr>\n",
              "      <td>54</td>\n",
              "      <td>Новосибирск</td>\n",
              "      <td>17.322581</td>\n",
              "    </tr>\n",
              "    <tr>\n",
              "      <td>33</td>\n",
              "      <td>Красноярск</td>\n",
              "      <td>11.580645</td>\n",
              "    </tr>\n",
              "    <tr>\n",
              "      <td>20</td>\n",
              "      <td>Екатеринбург</td>\n",
              "      <td>11.322581</td>\n",
              "    </tr>\n",
              "    <tr>\n",
              "      <td>67</td>\n",
              "      <td>Ростов-на-Дону</td>\n",
              "      <td>10.193548</td>\n",
              "    </tr>\n",
              "    <tr>\n",
              "      <td>63</td>\n",
              "      <td>Пермь</td>\n",
              "      <td>10.129032</td>\n",
              "    </tr>\n",
              "    <tr>\n",
              "      <td>10</td>\n",
              "      <td>Брянск</td>\n",
              "      <td>10.000000</td>\n",
              "    </tr>\n",
              "    <tr>\n",
              "      <td>74</td>\n",
              "      <td>Сочи</td>\n",
              "      <td>9.612903</td>\n",
              "    </tr>\n",
              "    <tr>\n",
              "      <td>84</td>\n",
              "      <td>Ульяновск</td>\n",
              "      <td>9.580645</td>\n",
              "    </tr>\n",
              "  </tbody>\n",
              "</table>\n",
              "</div>"
            ],
            "text/plain": [
              "               city  average_flights\n",
              "43           Москва       129.774194\n",
              "70  Санкт-Петербург        31.161290\n",
              "54      Новосибирск        17.322581\n",
              "33       Красноярск        11.580645\n",
              "20     Екатеринбург        11.322581\n",
              "67   Ростов-на-Дону        10.193548\n",
              "63            Пермь        10.129032\n",
              "10           Брянск        10.000000\n",
              "74             Сочи         9.612903\n",
              "84        Ульяновск         9.580645"
            ]
          },
          "execution_count": 10,
          "metadata": {},
          "output_type": "execute_result"
        }
      ]
    },
    {
      "cell_type": "code",
      "metadata": {
        "id": "uy4sUth38KOh",
        "outputId": "10fbc91a-8bc5-4b79-b8ed-0cb1eed10223"
      },
      "source": [
        "f, ax = plt.subplots(figsize=(15, 6))\n",
        "\n",
        "sns.barplot(data=city_flights.nlargest(10,'average_flights'), x='city', y='average_flights').set(title='Топ-10 городов по количеству рейсов',\n",
        "                                                                                                                   xlabel= 'Среднее количество рейсов',\n",
        "                                                                                                                   ylabel='Город')\n",
        "ax.yaxis.grid(True)\n",
        "sns.despine(left=True, bottom=False)\n"
      ],
      "execution_count": null,
      "outputs": [
        {
          "data": {
            "image/png": "[encoded data removed]",
            "text/plain": [
              "<Figure size 1080x432 with 1 Axes>"
            ]
          },
          "metadata": {
            "needs_background": "light"
          },
          "output_type": "display_data"
        }
      ]
    },
    {
      "cell_type": "markdown",
      "metadata": {
        "id": "Pu4O-Cgu8KOh"
      },
      "source": [
        "Самые популярные внутренние авианаправления - Москва и Санкт-Петербург, 2 столицы, у них показатель среднего количества прибывающих рейсов в день самый высокий - больше 20 рейсов в день. Следом за ними - Новосибирск, в среднем 17 рейсов в день.<br>\n",
        "Во всех остальных городах среднее количество прибывающих рейсов в день примерно одинаковое - 9-11 рейсов в день: крупнейшие города России: Красноярск - 1 093 771 чел, Екатеринбург - 1 493 749 чел, Ростов-на-Дону - 1 137 904, Пермь - 1 055 397 чел, Брянск, Сочи и Ульяновск замыкают топ-10.<br>Выборка взята на период августа 2018, разгар курортного сезона, странно, что в Брянске и Ульяновске среднее количество прибывающих рейсов примерно такое же как в Сочи, одном из главных курортных городов России."
      ]
    },
    {
      "cell_type": "markdown",
      "metadata": {
        "id": "78BQrPiX8KOi"
      },
      "source": [
        "## Вывод"
      ]
    },
    {
      "cell_type": "markdown",
      "metadata": {
        "id": "Y8Fu52dC8KOi"
      },
      "source": [
        "- Данные были получены и изучены, типы данных корректны, пропуски отсутствуют\n",
        "- В ходе анализа были построены и изучены графики моделей самолетов и количества рейсов, городов и количество рейсов, топ-10 городов и количество рейсов и получены следующие выводы:\n",
        " - региональные самолеты с меньшей пассажировместимостью, предназначенные для полетов на небольшие расстояние, совершают большее количество рейсов, чем среднемагистральные лайнеры с большей пассажировместимостью\n",
        " - наибольшее количество рейсов в день совершается в самые крупнонаселенные города России, наименьшее - в самие малонаселенные\n",
        " - в топ-10 городов входят в основном города-миллионики, с самым большим населением, остальные города в топ-10 скорее всего меняются в зависимости от сезона и других факторов"
      ]
    },
    {
      "cell_type": "code",
      "metadata": {
        "id": "eT0ywBBt8KOj"
      },
      "source": [
        ""
      ],
      "execution_count": null,
      "outputs": []
    }
  ]
}