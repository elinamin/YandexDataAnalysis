{
 "cells": [
  {
   "cell_type": "markdown",
   "metadata": {
    "toc": true
   },
   "source": [
    "<h1>Содержание<span class=\"tocSkip\"></span></h1>\n",
    "<div class=\"toc\"><ul class=\"toc-item\"><li><span><a href=\"#Изучение-данных-из-файла\" data-toc-modified-id=\"Изучение-данных-из-файла-1\"><span class=\"toc-item-num\">1&nbsp;&nbsp;</span>Изучение данных из файла</a></span><ul class=\"toc-item\"><li><span><a href=\"#Вывод\" data-toc-modified-id=\"Вывод-1.1\"><span class=\"toc-item-num\">1.1&nbsp;&nbsp;</span>Вывод</a></span></li></ul></li><li><span><a href=\"#Предобработка-данных\" data-toc-modified-id=\"Предобработка-данных-2\"><span class=\"toc-item-num\">2&nbsp;&nbsp;</span>Предобработка данных</a></span><ul class=\"toc-item\"><li><span><a href=\"#Обработка-пропусков\" data-toc-modified-id=\"Обработка-пропусков-2.1\"><span class=\"toc-item-num\">2.1&nbsp;&nbsp;</span>Обработка пропусков</a></span><ul class=\"toc-item\"><li><span><a href=\"#Cтолбец-is_apartment\" data-toc-modified-id=\"Cтолбец-is_apartment-2.1.1\"><span class=\"toc-item-num\">2.1.1&nbsp;&nbsp;</span>Cтолбец is_apartment</a></span></li><li><span><a href=\"#Cтолбец-balcony\" data-toc-modified-id=\"Cтолбец-balcony-2.1.2\"><span class=\"toc-item-num\">2.1.2&nbsp;&nbsp;</span>Cтолбец balcony</a></span></li><li><span><a href=\"#Cтолбец-locality_name-и-floors_total\" data-toc-modified-id=\"Cтолбец-locality_name-и-floors_total-2.1.3\"><span class=\"toc-item-num\">2.1.3&nbsp;&nbsp;</span>Cтолбец locality_name и floors_total</a></span></li><li><span><a href=\"#Cтолбцы-parks_around3000,-ponds_around3000,-ponds_nearest,-parks_nearest,-airports_nearest,-cityCenters_nearest\" data-toc-modified-id=\"Cтолбцы-parks_around3000,-ponds_around3000,-ponds_nearest,-parks_nearest,-airports_nearest,-cityCenters_nearest-2.1.4\"><span class=\"toc-item-num\">2.1.4&nbsp;&nbsp;</span>Cтолбцы parks_around3000, ponds_around3000, ponds_nearest, parks_nearest, airports_nearest, cityCenters_nearest</a></span></li><li><span><a href=\"#Cтолбец-ceiling_height\" data-toc-modified-id=\"Cтолбец-ceiling_height-2.1.5\"><span class=\"toc-item-num\">2.1.5&nbsp;&nbsp;</span>Cтолбец ceiling_height</a></span></li><li><span><a href=\"#Cтолбец-days_exposition\" data-toc-modified-id=\"Cтолбец-days_exposition-2.1.6\"><span class=\"toc-item-num\">2.1.6&nbsp;&nbsp;</span>Cтолбец days_exposition</a></span></li><li><span><a href=\"#Cтолбцы-living_area-и-kitchen_area\" data-toc-modified-id=\"Cтолбцы-living_area-и-kitchen_area-2.1.7\"><span class=\"toc-item-num\">2.1.7&nbsp;&nbsp;</span>Cтолбцы living_area и kitchen_area</a></span></li></ul></li><li><span><a href=\"#Замена-типа-данных\" data-toc-modified-id=\"Замена-типа-данных-2.2\"><span class=\"toc-item-num\">2.2&nbsp;&nbsp;</span>Замена типа данных</a></span></li><li><span><a href=\"#Вывод\" data-toc-modified-id=\"Вывод-2.3\"><span class=\"toc-item-num\">2.3&nbsp;&nbsp;</span>Вывод</a></span></li></ul></li><li><span><a href=\"#Расчёты-и-добавление-результатов-в-таблицу\" data-toc-modified-id=\"Расчёты-и-добавление-результатов-в-таблицу-3\"><span class=\"toc-item-num\">3&nbsp;&nbsp;</span>Расчёты и добавление результатов в таблицу</a></span><ul class=\"toc-item\"><li><span><a href=\"#Подсчет-и-добавление-цены-квадратного-метра\" data-toc-modified-id=\"Подсчет-и-добавление-цены-квадратного-метра-3.1\"><span class=\"toc-item-num\">3.1&nbsp;&nbsp;</span>Подсчет и добавление цены квадратного метра</a></span></li><li><span><a href=\"#Подсчет-и-добавление-дня-недели,-месяца-и-года-публикации-объявления\" data-toc-modified-id=\"Подсчет-и-добавление-дня-недели,-месяца-и-года-публикации-объявления-3.2\"><span class=\"toc-item-num\">3.2&nbsp;&nbsp;</span>Подсчет и добавление дня недели, месяца и года публикации объявления</a></span></li><li><span><a href=\"#Подсчет-и-добавление-этажа-квартиры-из-вариантов:-первый,-последний,-другой\" data-toc-modified-id=\"Подсчет-и-добавление-этажа-квартиры-из-вариантов:-первый,-последний,-другой-3.3\"><span class=\"toc-item-num\">3.3&nbsp;&nbsp;</span>Подсчет и добавление этажа квартиры из вариантов: первый, последний, другой</a></span></li><li><span><a href=\"#Подсчет-и-добавление-соотношения-жилой-и-общей-площади,-а-также-отношение-площади-кухни-к-общей\" data-toc-modified-id=\"Подсчет-и-добавление-соотношения-жилой-и-общей-площади,-а-также-отношение-площади-кухни-к-общей-3.4\"><span class=\"toc-item-num\">3.4&nbsp;&nbsp;</span>Подсчет и добавление соотношения жилой и общей площади, а также отношение площади кухни к общей</a></span></li><li><span><a href=\"#Вывод\" data-toc-modified-id=\"Вывод-3.5\"><span class=\"toc-item-num\">3.5&nbsp;&nbsp;</span>Вывод</a></span></li></ul></li><li><span><a href=\"#Исследовательский-анализ-данных\" data-toc-modified-id=\"Исследовательский-анализ-данных-4\"><span class=\"toc-item-num\">4&nbsp;&nbsp;</span>Исследовательский анализ данных</a></span><ul class=\"toc-item\"><li><span><a href=\"#Изучение-параметров:-площадь,-цена,-число-комнат,-высота-потолков.-Построение-гистограмм-для-каждого-параметра.\" data-toc-modified-id=\"Изучение-параметров:-площадь,-цена,-число-комнат,-высота-потолков.-Построение-гистограмм-для-каждого-параметра.-4.1\"><span class=\"toc-item-num\">4.1&nbsp;&nbsp;</span>Изучение параметров: площадь, цена, число комнат, высота потолков. Построение гистограмм для каждого параметра.</a></span><ul class=\"toc-item\"><li><span><a href=\"#Площадь\" data-toc-modified-id=\"Площадь-4.1.1\"><span class=\"toc-item-num\">4.1.1&nbsp;&nbsp;</span>Площадь</a></span></li><li><span><a href=\"#Цена\" data-toc-modified-id=\"Цена-4.1.2\"><span class=\"toc-item-num\">4.1.2&nbsp;&nbsp;</span>Цена</a></span></li><li><span><a href=\"#Количество-комнат\" data-toc-modified-id=\"Количество-комнат-4.1.3\"><span class=\"toc-item-num\">4.1.3&nbsp;&nbsp;</span>Количество комнат</a></span></li><li><span><a href=\"#Высота-потолков\" data-toc-modified-id=\"Высота-потолков-4.1.4\"><span class=\"toc-item-num\">4.1.4&nbsp;&nbsp;</span>Высота потолков</a></span></li></ul></li><li><span><a href=\"#Изучение-времени-продажи-квартиры.-Построение-гистограммы.-Подсчет-среднего-и-медианы.\" data-toc-modified-id=\"Изучение-времени-продажи-квартиры.-Построение-гистограммы.-Подсчет-среднего-и-медианы.-4.2\"><span class=\"toc-item-num\">4.2&nbsp;&nbsp;</span>Изучение времени продажи квартиры. Построение гистограммы. Подсчет среднего и медианы.</a></span></li><li><span><a href=\"#Очистка-от-редких-и-выбивающихся-значений.\" data-toc-modified-id=\"Очистка-от-редких-и-выбивающихся-значений.-4.3\"><span class=\"toc-item-num\">4.3&nbsp;&nbsp;</span>Очистка от редких и выбивающихся значений.</a></span></li><li><span><a href=\"#Какие-факторы-больше-всего-влияют-на-стоимость-квартиры?-Изучение-зависимости-цены-от-площади,-числа-комнат,-удалённости-от-центра.-Изучение-зависимости-цены-от-того,-на-каком-этаже-расположена-квартира:-первом,-последнем-или-другом.-Изучение-зависимости-от-даты-размещения:-дня-недели,-месяца-и-года.\" data-toc-modified-id=\"Какие-факторы-больше-всего-влияют-на-стоимость-квартиры?-Изучение-зависимости-цены-от-площади,-числа-комнат,-удалённости-от-центра.-Изучение-зависимости-цены-от-того,-на-каком-этаже-расположена-квартира:-первом,-последнем-или-другом.-Изучение-зависимости-от-даты-размещения:-дня-недели,-месяца-и-года.-4.4\"><span class=\"toc-item-num\">4.4&nbsp;&nbsp;</span>Какие факторы больше всего влияют на стоимость квартиры? Изучение зависимости цены от площади, числа комнат, удалённости от центра. Изучение зависимости цены от того, на каком этаже расположена квартира: первом, последнем или другом. Изучение зависимости от даты размещения: дня недели, месяца и года.</a></span></li><li><span><a href=\"#Выборка-10-населённых-пунктов-с-наибольшим-числом-объявлений.-Подсчет-средней-цены-квадратного-метра-в-этих-населённых-пунктах.-Определение-среди-них-населённых-пунктов-с-самой-высокой-и-низкой-стоимостью-жилья.\" data-toc-modified-id=\"Выборка-10-населённых-пунктов-с-наибольшим-числом-объявлений.-Подсчет-средней-цены-квадратного-метра-в-этих-населённых-пунктах.-Определение-среди-них-населённых-пунктов-с-самой-высокой-и-низкой-стоимостью-жилья.-4.5\"><span class=\"toc-item-num\">4.5&nbsp;&nbsp;</span>Выборка 10 населённых пунктов с наибольшим числом объявлений. Подсчет средней цены квадратного метра в этих населённых пунктах. Определение среди них населённых пунктов с самой высокой и низкой стоимостью жилья.</a></span></li><li><span><a href=\"#Изучите-предложения-квартир:-для-каждой-квартиры-есть-информация-о-расстоянии-до-центра.-Выделите-квартиры-в-Санкт-Петербурге-('locality_name').-Ваша-задача-—-выяснить,-какая-область-входит-в-центр.-Создайте-столбец-с-расстоянием-до-центра-в-километрах:-округлите-до-целых-значений.-После-этого-посчитайте-среднюю-цену-для-каждого-километра.-Постройте-график:-он-должен-показывать,-как-цена-зависит-от-удалённости-от-центра.-Определите-границу,-где-график-сильно-меняется-—-это-и-будет-центральная-зона.\" data-toc-modified-id=\"Изучите-предложения-квартир:-для-каждой-квартиры-есть-информация-о-расстоянии-до-центра.-Выделите-квартиры-в-Санкт-Петербурге-('locality_name').-Ваша-задача-—-выяснить,-какая-область-входит-в-центр.-Создайте-столбец-с-расстоянием-до-центра-в-километрах:-округлите-до-целых-значений.-После-этого-посчитайте-среднюю-цену-для-каждого-километра.-Постройте-график:-он-должен-показывать,-как-цена-зависит-от-удалённости-от-центра.-Определите-границу,-где-график-сильно-меняется-—-это-и-будет-центральная-зона.-4.6\"><span class=\"toc-item-num\">4.6&nbsp;&nbsp;</span>Изучите предложения квартир: для каждой квартиры есть информация о расстоянии до центра. Выделите квартиры в Санкт-Петербурге ('locality_name'). Ваша задача — выяснить, какая область входит в центр. Создайте столбец с расстоянием до центра в километрах: округлите до целых значений. После этого посчитайте среднюю цену для каждого километра. Постройте график: он должен показывать, как цена зависит от удалённости от центра. Определите границу, где график сильно меняется — это и будет центральная зона.</a></span></li><li><span><a href=\"#Выделите-сегмент-квартир-в-центре.-Проанализируйте-эту-территорию-и-изучите-следующие-параметры:-площадь,-цена,-число-комнат,-высота-потолков.-Также-выделите-факторы,-которые-влияют-на-стоимость-квартиры-(число-комнат,-этаж,-удалённость-от-центра,-дата-размещения-объявления).-Сделайте-выводы.-Отличаются-ли-они-от-общих-выводов-по-всему-городу?\" data-toc-modified-id=\"Выделите-сегмент-квартир-в-центре.-Проанализируйте-эту-территорию-и-изучите-следующие-параметры:-площадь,-цена,-число-комнат,-высота-потолков.-Также-выделите-факторы,-которые-влияют-на-стоимость-квартиры-(число-комнат,-этаж,-удалённость-от-центра,-дата-размещения-объявления).-Сделайте-выводы.-Отличаются-ли-они-от-общих-выводов-по-всему-городу?-4.7\"><span class=\"toc-item-num\">4.7&nbsp;&nbsp;</span>Выделите сегмент квартир в центре. Проанализируйте эту территорию и изучите следующие параметры: площадь, цена, число комнат, высота потолков. Также выделите факторы, которые влияют на стоимость квартиры (число комнат, этаж, удалённость от центра, дата размещения объявления). Сделайте выводы. Отличаются ли они от общих выводов по всему городу?</a></span></li><li><span><a href=\"#Вывод\" data-toc-modified-id=\"Вывод-4.8\"><span class=\"toc-item-num\">4.8&nbsp;&nbsp;</span>Вывод</a></span></li></ul></li><li><span><a href=\"#Общий-вывод\" data-toc-modified-id=\"Общий-вывод-5\"><span class=\"toc-item-num\">5&nbsp;&nbsp;</span>Общий вывод</a></span></li><li><span><a href=\"#Чек-лист-готовности-проекта\" data-toc-modified-id=\"Чек-лист-готовности-проекта-6\"><span class=\"toc-item-num\">6&nbsp;&nbsp;</span>Чек-лист готовности проекта</a></span></li><li><span><a href=\"#-Комментарий-ревьюера\" data-toc-modified-id=\"-Комментарий-ревьюера-7\"><span class=\"toc-item-num\">7&nbsp;&nbsp;</span> Комментарий ревьюера</a></span></li></ul></div>"
   ]
  },
  {
   "cell_type": "markdown",
   "metadata": {},
   "source": [
    "<div class=\"alert alert-info\">\n",
    "Привет! Меня зовут Никита Мишин и я буду твоим ревьюером по этому проекты.\n",
    "Для простоты предлагаю общение на 'ты'. Буду предполагать, что ты не против:) \n",
    "Если более предпочтительно обращение на 'Вы', пиши, не стесняйся.\n",
    "Также если будут возникать вопросы, аналогично, пиши:)\n",
    "\n",
    "Предлагаю работать в известном тебе итеративном формате.\n",
    "Итерация состоит в моей проверке твоего решения. \n",
    "После решения могут остаться какие-то недочеты, которые я попрошу тебя устранить, ты их исправляешь и я проверяю твои решения.\n",
    "    Оставленные мною комментарии могут быть разного вида:\n",
    "   \n",
    "    - зеленый: элегантные решения, которые тебе стоит запомнит и в дальнейшем взять на вооружение:) \n",
    "    \n",
    "    - желтый: сигнал о том, что есть некритичная вещь(не всегда ошибка), что нужно точно поправить в следующей работе, даже желательно в этой (полезно, в первую очередь, для тебя:) ).Также это рекомендации на будущее    \n",
    "\n",
    "    - красный: недочет, который нужно исправить в этой работе, для того, чтобы она была принята\n",
    "    \n",
    "    - синий: полезная информация, доп ресурсы, \"вопросы на подумать\"\n",
    "\n",
    "Также попрошу не удалять мои комментарии:) <a class=\"tocSkip\">\n",
    "</div>"
   ]
  },
  {
   "cell_type": "markdown",
   "metadata": {},
   "source": [
    "# Исследование объявлений о продаже квартир\n",
    "\n",
    "В вашем распоряжении данные сервиса Яндекс.Недвижимость — архив объявлений о продаже квартир в Санкт-Петербурге и соседних населённых пунктах за несколько лет. Нужно научиться определять рыночную стоимость объектов недвижимости. Ваша задача — установить параметры. Это позволит построить автоматизированную систему: она отследит аномалии и мошенническую деятельность. \n",
    "\n",
    "По каждой квартире на продажу доступны два вида данных. Первые вписаны пользователем, вторые получены автоматически на основе картографических данных. Например, расстояние до центра, аэропорта, ближайшего парка и водоёма. "
   ]
  },
  {
   "cell_type": "markdown",
   "metadata": {},
   "source": [
    "## Изучение данных из файла"
   ]
  },
  {
   "cell_type": "markdown",
   "metadata": {},
   "source": [
    "Прочитаем файл real_estate_data.csv и сохраним его в переменную data. Получим первые 10 строк. Получим общую информацию о таблице, а также проверим наличие пропусков."
   ]
  },
  {
   "cell_type": "code",
   "execution_count": 1,
   "metadata": {},
   "outputs": [
    {
     "data": {
      "text/html": [
       "<div>\n",
       "<style scoped>\n",
       "    .dataframe tbody tr th:only-of-type {\n",
       "        vertical-align: middle;\n",
       "    }\n",
       "\n",
       "    .dataframe tbody tr th {\n",
       "        vertical-align: top;\n",
       "    }\n",
       "\n",
       "    .dataframe thead th {\n",
       "        text-align: right;\n",
       "    }\n",
       "</style>\n",
       "<table border=\"1\" class=\"dataframe\">\n",
       "  <thead>\n",
       "    <tr style=\"text-align: right;\">\n",
       "      <th></th>\n",
       "      <th>total_images</th>\n",
       "      <th>last_price</th>\n",
       "      <th>total_area</th>\n",
       "      <th>first_day_exposition</th>\n",
       "      <th>rooms</th>\n",
       "      <th>ceiling_height</th>\n",
       "      <th>floors_total</th>\n",
       "      <th>living_area</th>\n",
       "      <th>floor</th>\n",
       "      <th>is_apartment</th>\n",
       "      <th>...</th>\n",
       "      <th>kitchen_area</th>\n",
       "      <th>balcony</th>\n",
       "      <th>locality_name</th>\n",
       "      <th>airports_nearest</th>\n",
       "      <th>cityCenters_nearest</th>\n",
       "      <th>parks_around3000</th>\n",
       "      <th>parks_nearest</th>\n",
       "      <th>ponds_around3000</th>\n",
       "      <th>ponds_nearest</th>\n",
       "      <th>days_exposition</th>\n",
       "    </tr>\n",
       "  </thead>\n",
       "  <tbody>\n",
       "    <tr>\n",
       "      <td>0</td>\n",
       "      <td>20</td>\n",
       "      <td>13000000.0</td>\n",
       "      <td>108.0</td>\n",
       "      <td>2019-03-07T00:00:00</td>\n",
       "      <td>3</td>\n",
       "      <td>2.70</td>\n",
       "      <td>16.0</td>\n",
       "      <td>51.0</td>\n",
       "      <td>8</td>\n",
       "      <td>NaN</td>\n",
       "      <td>...</td>\n",
       "      <td>25.0</td>\n",
       "      <td>NaN</td>\n",
       "      <td>Санкт-Петербург</td>\n",
       "      <td>18863.0</td>\n",
       "      <td>16028.0</td>\n",
       "      <td>1.0</td>\n",
       "      <td>482.0</td>\n",
       "      <td>2.0</td>\n",
       "      <td>755.0</td>\n",
       "      <td>NaN</td>\n",
       "    </tr>\n",
       "    <tr>\n",
       "      <td>1</td>\n",
       "      <td>7</td>\n",
       "      <td>3350000.0</td>\n",
       "      <td>40.4</td>\n",
       "      <td>2018-12-04T00:00:00</td>\n",
       "      <td>1</td>\n",
       "      <td>NaN</td>\n",
       "      <td>11.0</td>\n",
       "      <td>18.6</td>\n",
       "      <td>1</td>\n",
       "      <td>NaN</td>\n",
       "      <td>...</td>\n",
       "      <td>11.0</td>\n",
       "      <td>2.0</td>\n",
       "      <td>посёлок Шушары</td>\n",
       "      <td>12817.0</td>\n",
       "      <td>18603.0</td>\n",
       "      <td>0.0</td>\n",
       "      <td>NaN</td>\n",
       "      <td>0.0</td>\n",
       "      <td>NaN</td>\n",
       "      <td>81.0</td>\n",
       "    </tr>\n",
       "    <tr>\n",
       "      <td>2</td>\n",
       "      <td>10</td>\n",
       "      <td>5196000.0</td>\n",
       "      <td>56.0</td>\n",
       "      <td>2015-08-20T00:00:00</td>\n",
       "      <td>2</td>\n",
       "      <td>NaN</td>\n",
       "      <td>5.0</td>\n",
       "      <td>34.3</td>\n",
       "      <td>4</td>\n",
       "      <td>NaN</td>\n",
       "      <td>...</td>\n",
       "      <td>8.3</td>\n",
       "      <td>0.0</td>\n",
       "      <td>Санкт-Петербург</td>\n",
       "      <td>21741.0</td>\n",
       "      <td>13933.0</td>\n",
       "      <td>1.0</td>\n",
       "      <td>90.0</td>\n",
       "      <td>2.0</td>\n",
       "      <td>574.0</td>\n",
       "      <td>558.0</td>\n",
       "    </tr>\n",
       "    <tr>\n",
       "      <td>3</td>\n",
       "      <td>0</td>\n",
       "      <td>64900000.0</td>\n",
       "      <td>159.0</td>\n",
       "      <td>2015-07-24T00:00:00</td>\n",
       "      <td>3</td>\n",
       "      <td>NaN</td>\n",
       "      <td>14.0</td>\n",
       "      <td>NaN</td>\n",
       "      <td>9</td>\n",
       "      <td>NaN</td>\n",
       "      <td>...</td>\n",
       "      <td>NaN</td>\n",
       "      <td>0.0</td>\n",
       "      <td>Санкт-Петербург</td>\n",
       "      <td>28098.0</td>\n",
       "      <td>6800.0</td>\n",
       "      <td>2.0</td>\n",
       "      <td>84.0</td>\n",
       "      <td>3.0</td>\n",
       "      <td>234.0</td>\n",
       "      <td>424.0</td>\n",
       "    </tr>\n",
       "    <tr>\n",
       "      <td>4</td>\n",
       "      <td>2</td>\n",
       "      <td>10000000.0</td>\n",
       "      <td>100.0</td>\n",
       "      <td>2018-06-19T00:00:00</td>\n",
       "      <td>2</td>\n",
       "      <td>3.03</td>\n",
       "      <td>14.0</td>\n",
       "      <td>32.0</td>\n",
       "      <td>13</td>\n",
       "      <td>NaN</td>\n",
       "      <td>...</td>\n",
       "      <td>41.0</td>\n",
       "      <td>NaN</td>\n",
       "      <td>Санкт-Петербург</td>\n",
       "      <td>31856.0</td>\n",
       "      <td>8098.0</td>\n",
       "      <td>2.0</td>\n",
       "      <td>112.0</td>\n",
       "      <td>1.0</td>\n",
       "      <td>48.0</td>\n",
       "      <td>121.0</td>\n",
       "    </tr>\n",
       "  </tbody>\n",
       "</table>\n",
       "<p>5 rows × 22 columns</p>\n",
       "</div>"
      ],
      "text/plain": [
       "   total_images  last_price  total_area first_day_exposition  rooms  \\\n",
       "0            20  13000000.0       108.0  2019-03-07T00:00:00      3   \n",
       "1             7   3350000.0        40.4  2018-12-04T00:00:00      1   \n",
       "2            10   5196000.0        56.0  2015-08-20T00:00:00      2   \n",
       "3             0  64900000.0       159.0  2015-07-24T00:00:00      3   \n",
       "4             2  10000000.0       100.0  2018-06-19T00:00:00      2   \n",
       "\n",
       "   ceiling_height  floors_total  living_area  floor is_apartment  ...  \\\n",
       "0            2.70          16.0         51.0      8          NaN  ...   \n",
       "1             NaN          11.0         18.6      1          NaN  ...   \n",
       "2             NaN           5.0         34.3      4          NaN  ...   \n",
       "3             NaN          14.0          NaN      9          NaN  ...   \n",
       "4            3.03          14.0         32.0     13          NaN  ...   \n",
       "\n",
       "   kitchen_area  balcony    locality_name  airports_nearest  \\\n",
       "0          25.0      NaN  Санкт-Петербург           18863.0   \n",
       "1          11.0      2.0   посёлок Шушары           12817.0   \n",
       "2           8.3      0.0  Санкт-Петербург           21741.0   \n",
       "3           NaN      0.0  Санкт-Петербург           28098.0   \n",
       "4          41.0      NaN  Санкт-Петербург           31856.0   \n",
       "\n",
       "  cityCenters_nearest  parks_around3000  parks_nearest  ponds_around3000  \\\n",
       "0             16028.0               1.0          482.0               2.0   \n",
       "1             18603.0               0.0            NaN               0.0   \n",
       "2             13933.0               1.0           90.0               2.0   \n",
       "3              6800.0               2.0           84.0               3.0   \n",
       "4              8098.0               2.0          112.0               1.0   \n",
       "\n",
       "   ponds_nearest  days_exposition  \n",
       "0          755.0              NaN  \n",
       "1            NaN             81.0  \n",
       "2          574.0            558.0  \n",
       "3          234.0            424.0  \n",
       "4           48.0            121.0  \n",
       "\n",
       "[5 rows x 22 columns]"
      ]
     },
     "execution_count": 1,
     "metadata": {},
     "output_type": "execute_result"
    }
   ],
   "source": [
    "import pandas as pd\n",
    "import matplotlib.pyplot as plt\n",
    "pd.options.mode.chained_assignment = None\n",
    "pd.options.display.max_rows = 100\n",
    "\n",
    "\n",
    "df = pd.read_csv('/datasets/real_estate_data.csv', sep ='\\t')\n",
    "df.head()"
   ]
  },
  {
   "cell_type": "code",
   "execution_count": 2,
   "metadata": {},
   "outputs": [
    {
     "name": "stdout",
     "output_type": "stream",
     "text": [
      "<class 'pandas.core.frame.DataFrame'>\n",
      "RangeIndex: 23699 entries, 0 to 23698\n",
      "Data columns (total 22 columns):\n",
      "total_images            23699 non-null int64\n",
      "last_price              23699 non-null float64\n",
      "total_area              23699 non-null float64\n",
      "first_day_exposition    23699 non-null object\n",
      "rooms                   23699 non-null int64\n",
      "ceiling_height          14504 non-null float64\n",
      "floors_total            23613 non-null float64\n",
      "living_area             21796 non-null float64\n",
      "floor                   23699 non-null int64\n",
      "is_apartment            2775 non-null object\n",
      "studio                  23699 non-null bool\n",
      "open_plan               23699 non-null bool\n",
      "kitchen_area            21421 non-null float64\n",
      "balcony                 12180 non-null float64\n",
      "locality_name           23650 non-null object\n",
      "airports_nearest        18157 non-null float64\n",
      "cityCenters_nearest     18180 non-null float64\n",
      "parks_around3000        18181 non-null float64\n",
      "parks_nearest           8079 non-null float64\n",
      "ponds_around3000        18181 non-null float64\n",
      "ponds_nearest           9110 non-null float64\n",
      "days_exposition         20518 non-null float64\n",
      "dtypes: bool(2), float64(14), int64(3), object(3)\n",
      "memory usage: 3.7+ MB\n"
     ]
    }
   ],
   "source": [
    "df.info()"
   ]
  },
  {
   "cell_type": "code",
   "execution_count": 3,
   "metadata": {},
   "outputs": [
    {
     "data": {
      "text/plain": [
       "total_images                0\n",
       "open_plan                   0\n",
       "floor                       0\n",
       "rooms                       0\n",
       "studio                      0\n",
       "total_area                  0\n",
       "last_price                  0\n",
       "first_day_exposition        0\n",
       "locality_name              49\n",
       "floors_total               86\n",
       "living_area              1903\n",
       "kitchen_area             2278\n",
       "days_exposition          3181\n",
       "ponds_around3000         5518\n",
       "parks_around3000         5518\n",
       "cityCenters_nearest      5519\n",
       "airports_nearest         5542\n",
       "ceiling_height           9195\n",
       "balcony                 11519\n",
       "ponds_nearest           14589\n",
       "parks_nearest           15620\n",
       "is_apartment            20924\n",
       "dtype: int64"
      ]
     },
     "execution_count": 3,
     "metadata": {},
     "output_type": "execute_result"
    }
   ],
   "source": [
    "df.isnull().sum().sort_values()"
   ]
  },
  {
   "cell_type": "code",
   "execution_count": 4,
   "metadata": {
    "scrolled": true
   },
   "outputs": [
    {
     "data": {
      "text/plain": [
       "total_images             0.00\n",
       "open_plan                0.00\n",
       "floor                    0.00\n",
       "rooms                    0.00\n",
       "studio                   0.00\n",
       "total_area               0.00\n",
       "last_price               0.00\n",
       "first_day_exposition     0.00\n",
       "locality_name            0.21\n",
       "floors_total             0.36\n",
       "living_area              8.03\n",
       "kitchen_area             9.61\n",
       "days_exposition         13.42\n",
       "ponds_around3000        23.28\n",
       "parks_around3000        23.28\n",
       "cityCenters_nearest     23.29\n",
       "airports_nearest        23.38\n",
       "ceiling_height          38.80\n",
       "balcony                 48.61\n",
       "ponds_nearest           61.56\n",
       "parks_nearest           65.91\n",
       "is_apartment            88.29\n",
       "dtype: float64"
      ]
     },
     "execution_count": 4,
     "metadata": {},
     "output_type": "execute_result"
    }
   ],
   "source": [
    "round((df.isna().mean()*100).sort_values(), 2)"
   ]
  },
  {
   "cell_type": "markdown",
   "metadata": {},
   "source": [
    "<div class=\"alert alert-info\">\n",
    "\n",
    "<h1>Комментарий ревьюера <a class=\"tocSkip\"></a></h1>\n",
    "Стоило еще вывести основные статистики с помощью метода describe\n",
    "</div>"
   ]
  },
  {
   "cell_type": "markdown",
   "metadata": {},
   "source": [
    "### Вывод"
   ]
  },
  {
   "cell_type": "markdown",
   "metadata": {},
   "source": [
    "- Большой процент пропущенных значений во многих столбцах:\n",
    " - много пропущенных значений в столбцах, значения в которых рассчитываются автоматически (parks_nearest, ponds_nearest, airports_nearest, cityCenters_nearest, parks_around3000, ponds_around3000, days_exposition).\n",
    " - пропущенные значения в остальных столбцах скорее всего вызваны человеческим фактором(locality_name, floors_total, living_area, kitchen_area, ceiling_height, balcony, is_apartment).\n",
    "<br><br>\n",
    "- Некорректный тип данных у следующих столбцов:\n",
    " - first_day_exposition object надо заменить на datetime\n",
    " - floors_total float64 на int64\n",
    " - is_apartment object на bool\n",
    " - balcony float64 на int64\n",
    " - days_exposition float64 на int64"
   ]
  },
  {
   "cell_type": "markdown",
   "metadata": {},
   "source": [
    "<div class=\"alert alert-success\">\n",
    "\n",
    "<h1>Комментарий ревьюера <a class=\"tocSkip\"></a></h1>\n",
    "Основные проблемы локализованы, движемся дальше!\n",
    "</div>"
   ]
  },
  {
   "cell_type": "markdown",
   "metadata": {},
   "source": [
    "## Предобработка данных"
   ]
  },
  {
   "cell_type": "markdown",
   "metadata": {},
   "source": [
    "### Обработка пропусков"
   ]
  },
  {
   "cell_type": "markdown",
   "metadata": {},
   "source": [
    "#### Cтолбец is_apartment"
   ]
  },
  {
   "cell_type": "markdown",
   "metadata": {},
   "source": [
    "Самое большое количество пропусков содержит столбец 'is_apartment'. Просмотрим его на уникальные значения."
   ]
  },
  {
   "cell_type": "code",
   "execution_count": 5,
   "metadata": {},
   "outputs": [
    {
     "data": {
      "text/plain": [
       "array([nan, False, True], dtype=object)"
      ]
     },
     "execution_count": 5,
     "metadata": {},
     "output_type": "execute_result"
    }
   ],
   "source": [
    "df['is_apartment'].unique()"
   ]
  },
  {
   "cell_type": "markdown",
   "metadata": {},
   "source": [
    "Значения в столбце пропущены, вероятно, потому, что при ручном вводе информации об объектах жилого фонда, а не апартаментах, это поле не считали нужным отмечать. Заменим пропуски на False, так как столбец имеет булев тип."
   ]
  },
  {
   "cell_type": "code",
   "execution_count": 6,
   "metadata": {},
   "outputs": [],
   "source": [
    "df['is_apartment'] = df['is_apartment'].fillna(False)"
   ]
  },
  {
   "cell_type": "markdown",
   "metadata": {},
   "source": [
    "<div class=\"alert alert-success\">\n",
    "\n",
    "<h1>Комментарий ревьюера <a class=\"tocSkip\"></a></h1>\n",
    "Да, верная логика\n",
    "</div>"
   ]
  },
  {
   "cell_type": "code",
   "execution_count": 7,
   "metadata": {},
   "outputs": [
    {
     "data": {
      "text/plain": [
       "array([False,  True])"
      ]
     },
     "execution_count": 7,
     "metadata": {},
     "output_type": "execute_result"
    }
   ],
   "source": [
    "df['is_apartment'].unique()"
   ]
  },
  {
   "cell_type": "markdown",
   "metadata": {},
   "source": [
    "#### Cтолбец balcony"
   ]
  },
  {
   "cell_type": "markdown",
   "metadata": {},
   "source": [
    "Пропущенные значения в столбце 'balcony' заполним нулями. Предположим, что если значения не были указаны, скорее всего балконов нет."
   ]
  },
  {
   "cell_type": "markdown",
   "metadata": {},
   "source": [
    "<div class=\"alert alert-success\">\n",
    "\n",
    "<h1>Комментарий ревьюера <a class=\"tocSkip\"></a></h1>\n",
    "Верная логика!</div>"
   ]
  },
  {
   "cell_type": "code",
   "execution_count": 8,
   "metadata": {},
   "outputs": [
    {
     "data": {
      "text/plain": [
       "array([nan,  2.,  0.,  1.,  5.,  4.,  3.])"
      ]
     },
     "execution_count": 8,
     "metadata": {},
     "output_type": "execute_result"
    }
   ],
   "source": [
    "df['balcony'].unique()"
   ]
  },
  {
   "cell_type": "code",
   "execution_count": 9,
   "metadata": {},
   "outputs": [],
   "source": [
    "df['balcony'] = df['balcony'].fillna(0)"
   ]
  },
  {
   "cell_type": "code",
   "execution_count": 10,
   "metadata": {},
   "outputs": [
    {
     "data": {
      "text/plain": [
       "array([0., 2., 1., 5., 4., 3.])"
      ]
     },
     "execution_count": 10,
     "metadata": {},
     "output_type": "execute_result"
    }
   ],
   "source": [
    "df['balcony'].unique()"
   ]
  },
  {
   "cell_type": "markdown",
   "metadata": {},
   "source": [
    "#### Cтолбец locality_name и floors_total "
   ]
  },
  {
   "cell_type": "markdown",
   "metadata": {},
   "source": [
    "Самое маленькое количество пропусков в столбцах 'locality_name' и 'floors_total'. Подсчитаем процент от общего количество строк в массиве. Процент пропусков в обоих столбцах меньше 1% от общего количества строк массива. Удалим эти данные."
   ]
  },
  {
   "cell_type": "markdown",
   "metadata": {},
   "source": [
    "<div class=\"alert alert-success\">\n",
    "\n",
    "<h1>Комментарий ревьюера <a class=\"tocSkip\"></a></h1>\n",
    "Допустимое решение\n",
    "</div>"
   ]
  },
  {
   "cell_type": "code",
   "execution_count": 11,
   "metadata": {},
   "outputs": [],
   "source": [
    "df.dropna(subset = ['locality_name', 'floors_total'], inplace = True)"
   ]
  },
  {
   "cell_type": "markdown",
   "metadata": {},
   "source": [
    "#### Cтолбцы parks_around3000, ponds_around3000, ponds_nearest, parks_nearest, airports_nearest, cityCenters_nearest"
   ]
  },
  {
   "cell_type": "markdown",
   "metadata": {},
   "source": [
    "Значения в этих столбцах рассчитываются автоматически. Наличие пропусков можно объяснить вероятными ошибками в привязке адресов к данным карт или ошибками в алгоритмах расчета расстояний между объектами. Пропуски трогать не будем. Значения в этих столбцах, кроме столбца cityCenters_nearest, в дальнейшем исследовании использоваться не будут."
   ]
  },
  {
   "cell_type": "markdown",
   "metadata": {},
   "source": [
    "#### Cтолбец ceiling_height"
   ]
  },
  {
   "cell_type": "code",
   "execution_count": 12,
   "metadata": {},
   "outputs": [],
   "source": [
    "df['ceiling_height'] = df['ceiling_height'].fillna(df['ceiling_height'].median())"
   ]
  },
  {
   "cell_type": "markdown",
   "metadata": {},
   "source": [
    "Большое количество пропусков в этом столбце объясняется скорее всего тем, что пользователями сервиса это поле считается необязательным для заполнения или они просто не считают нужным измерить высоту потолков. Заполним пропуски медианой значений."
   ]
  },
  {
   "cell_type": "markdown",
   "metadata": {},
   "source": [
    "#### Cтолбец days_exposition"
   ]
  },
  {
   "cell_type": "markdown",
   "metadata": {},
   "source": [
    "Не заполняем пропуски. Это не могут быть незаконченные сделки о продаже, так как в столбце last_price пропусков нет, но скорее всего по завершении сделки, объявление о продаже просто не было закрыто. Заполнять пропуски средними значениями не совсем корректно."
   ]
  },
  {
   "cell_type": "markdown",
   "metadata": {},
   "source": [
    "#### Cтолбцы living_area и kitchen_area"
   ]
  },
  {
   "cell_type": "markdown",
   "metadata": {},
   "source": [
    "Важные столбцы с большим количеством пропусков. Можно сгруппировать объекты недвижимости по количествам комнат или по общей площади квартиры и подсчитать медианные значения жилой площади и площади кухни, но не хотелось бы искажать данные. Форматы квартир могут быть самыми разными. "
   ]
  },
  {
   "cell_type": "markdown",
   "metadata": {},
   "source": [
    "### Замена типа данных"
   ]
  },
  {
   "cell_type": "markdown",
   "metadata": {},
   "source": [
    "Тип данных в столбце first_day_exposition меняем со строчного на datetime."
   ]
  },
  {
   "cell_type": "code",
   "execution_count": 13,
   "metadata": {},
   "outputs": [],
   "source": [
    "df['first_day_exposition'] = pd.to_datetime(df['first_day_exposition'], format = '%Y-%m-%dT%H:%M:%S')"
   ]
  },
  {
   "cell_type": "markdown",
   "metadata": {},
   "source": [
    "Тип данных в столбцах floors_total и balcony приводим к целочисленному."
   ]
  },
  {
   "cell_type": "code",
   "execution_count": 14,
   "metadata": {},
   "outputs": [],
   "source": [
    "df['floors_total'] = df['floors_total'].astype('int')"
   ]
  },
  {
   "cell_type": "code",
   "execution_count": 15,
   "metadata": {},
   "outputs": [],
   "source": [
    "df['balcony'] = df['floors_total'].astype('int')"
   ]
  },
  {
   "cell_type": "markdown",
   "metadata": {},
   "source": [
    "В столбце days_exposition оставили пропуски, поэтому переводить в целочисленный тип не будем, так как возникнет ошибка."
   ]
  },
  {
   "cell_type": "code",
   "execution_count": 16,
   "metadata": {},
   "outputs": [],
   "source": [
    "#df['days_exposition'] = df['days_exposition'].astype('int')"
   ]
  },
  {
   "cell_type": "code",
   "execution_count": 17,
   "metadata": {},
   "outputs": [
    {
     "name": "stdout",
     "output_type": "stream",
     "text": [
      "<class 'pandas.core.frame.DataFrame'>\n",
      "Int64Index: 23565 entries, 0 to 23698\n",
      "Data columns (total 22 columns):\n",
      "total_images            23565 non-null int64\n",
      "last_price              23565 non-null float64\n",
      "total_area              23565 non-null float64\n",
      "first_day_exposition    23565 non-null datetime64[ns]\n",
      "rooms                   23565 non-null int64\n",
      "ceiling_height          23565 non-null float64\n",
      "floors_total            23565 non-null int64\n",
      "living_area             21700 non-null float64\n",
      "floor                   23565 non-null int64\n",
      "is_apartment            23565 non-null bool\n",
      "studio                  23565 non-null bool\n",
      "open_plan               23565 non-null bool\n",
      "kitchen_area            21343 non-null float64\n",
      "balcony                 23565 non-null int64\n",
      "locality_name           23565 non-null object\n",
      "airports_nearest        18041 non-null float64\n",
      "cityCenters_nearest     18064 non-null float64\n",
      "parks_around3000        18065 non-null float64\n",
      "parks_nearest           8030 non-null float64\n",
      "ponds_around3000        18065 non-null float64\n",
      "ponds_nearest           9036 non-null float64\n",
      "days_exposition         20394 non-null float64\n",
      "dtypes: bool(3), datetime64[ns](1), float64(12), int64(5), object(1)\n",
      "memory usage: 3.7+ MB\n"
     ]
    }
   ],
   "source": [
    "df.info()"
   ]
  },
  {
   "cell_type": "markdown",
   "metadata": {},
   "source": [
    "### Вывод"
   ]
  },
  {
   "cell_type": "markdown",
   "metadata": {},
   "source": [
    "Были устранены пропуски, где это было возможно, и приведены типы данных к корректным.\n",
    "- Для того, чтобы избежать при следующих выгрузках такого большого количества пропусков, причем в важных для анализа столбцах, можно порекомендовать специалистам, поддерживающим систему, пометить в форме объявления обязательные для заполнения поля. Так при отправке формы в случае, если обязательное поле пустое, выводилось бы предупреждающее сообщение, а форма бы не была отправлена."
   ]
  },
  {
   "cell_type": "markdown",
   "metadata": {},
   "source": [
    "## Расчёты и добавление результатов в таблицу"
   ]
  },
  {
   "cell_type": "markdown",
   "metadata": {},
   "source": [
    "### Подсчет и добавление цены квадратного метра"
   ]
  },
  {
   "cell_type": "code",
   "execution_count": 18,
   "metadata": {},
   "outputs": [],
   "source": [
    "df['m2_price'] = df['last_price'] / df['total_area']"
   ]
  },
  {
   "cell_type": "markdown",
   "metadata": {},
   "source": [
    "### Подсчет и добавление дня недели, месяца и года публикации объявления"
   ]
  },
  {
   "cell_type": "code",
   "execution_count": 19,
   "metadata": {},
   "outputs": [
    {
     "data": {
      "text/html": [
       "<div>\n",
       "<style scoped>\n",
       "    .dataframe tbody tr th:only-of-type {\n",
       "        vertical-align: middle;\n",
       "    }\n",
       "\n",
       "    .dataframe tbody tr th {\n",
       "        vertical-align: top;\n",
       "    }\n",
       "\n",
       "    .dataframe thead th {\n",
       "        text-align: right;\n",
       "    }\n",
       "</style>\n",
       "<table border=\"1\" class=\"dataframe\">\n",
       "  <thead>\n",
       "    <tr style=\"text-align: right;\">\n",
       "      <th></th>\n",
       "      <th>total_images</th>\n",
       "      <th>last_price</th>\n",
       "      <th>total_area</th>\n",
       "      <th>first_day_exposition</th>\n",
       "      <th>rooms</th>\n",
       "      <th>ceiling_height</th>\n",
       "      <th>floors_total</th>\n",
       "      <th>living_area</th>\n",
       "      <th>floor</th>\n",
       "      <th>is_apartment</th>\n",
       "      <th>...</th>\n",
       "      <th>cityCenters_nearest</th>\n",
       "      <th>parks_around3000</th>\n",
       "      <th>parks_nearest</th>\n",
       "      <th>ponds_around3000</th>\n",
       "      <th>ponds_nearest</th>\n",
       "      <th>days_exposition</th>\n",
       "      <th>m2_price</th>\n",
       "      <th>day_of_week_exp</th>\n",
       "      <th>month_exp</th>\n",
       "      <th>year_exp</th>\n",
       "    </tr>\n",
       "  </thead>\n",
       "  <tbody>\n",
       "    <tr>\n",
       "      <td>0</td>\n",
       "      <td>20</td>\n",
       "      <td>13000000.0</td>\n",
       "      <td>108.0</td>\n",
       "      <td>2019-03-07</td>\n",
       "      <td>3</td>\n",
       "      <td>2.70</td>\n",
       "      <td>16</td>\n",
       "      <td>51.0</td>\n",
       "      <td>8</td>\n",
       "      <td>False</td>\n",
       "      <td>...</td>\n",
       "      <td>16028.0</td>\n",
       "      <td>1.0</td>\n",
       "      <td>482.0</td>\n",
       "      <td>2.0</td>\n",
       "      <td>755.0</td>\n",
       "      <td>NaN</td>\n",
       "      <td>120370.370370</td>\n",
       "      <td>Thursday</td>\n",
       "      <td>March</td>\n",
       "      <td>2019</td>\n",
       "    </tr>\n",
       "    <tr>\n",
       "      <td>1</td>\n",
       "      <td>7</td>\n",
       "      <td>3350000.0</td>\n",
       "      <td>40.4</td>\n",
       "      <td>2018-12-04</td>\n",
       "      <td>1</td>\n",
       "      <td>2.65</td>\n",
       "      <td>11</td>\n",
       "      <td>18.6</td>\n",
       "      <td>1</td>\n",
       "      <td>False</td>\n",
       "      <td>...</td>\n",
       "      <td>18603.0</td>\n",
       "      <td>0.0</td>\n",
       "      <td>NaN</td>\n",
       "      <td>0.0</td>\n",
       "      <td>NaN</td>\n",
       "      <td>81.0</td>\n",
       "      <td>82920.792079</td>\n",
       "      <td>Tuesday</td>\n",
       "      <td>December</td>\n",
       "      <td>2018</td>\n",
       "    </tr>\n",
       "    <tr>\n",
       "      <td>2</td>\n",
       "      <td>10</td>\n",
       "      <td>5196000.0</td>\n",
       "      <td>56.0</td>\n",
       "      <td>2015-08-20</td>\n",
       "      <td>2</td>\n",
       "      <td>2.65</td>\n",
       "      <td>5</td>\n",
       "      <td>34.3</td>\n",
       "      <td>4</td>\n",
       "      <td>False</td>\n",
       "      <td>...</td>\n",
       "      <td>13933.0</td>\n",
       "      <td>1.0</td>\n",
       "      <td>90.0</td>\n",
       "      <td>2.0</td>\n",
       "      <td>574.0</td>\n",
       "      <td>558.0</td>\n",
       "      <td>92785.714286</td>\n",
       "      <td>Thursday</td>\n",
       "      <td>August</td>\n",
       "      <td>2015</td>\n",
       "    </tr>\n",
       "    <tr>\n",
       "      <td>3</td>\n",
       "      <td>0</td>\n",
       "      <td>64900000.0</td>\n",
       "      <td>159.0</td>\n",
       "      <td>2015-07-24</td>\n",
       "      <td>3</td>\n",
       "      <td>2.65</td>\n",
       "      <td>14</td>\n",
       "      <td>NaN</td>\n",
       "      <td>9</td>\n",
       "      <td>False</td>\n",
       "      <td>...</td>\n",
       "      <td>6800.0</td>\n",
       "      <td>2.0</td>\n",
       "      <td>84.0</td>\n",
       "      <td>3.0</td>\n",
       "      <td>234.0</td>\n",
       "      <td>424.0</td>\n",
       "      <td>408176.100629</td>\n",
       "      <td>Friday</td>\n",
       "      <td>July</td>\n",
       "      <td>2015</td>\n",
       "    </tr>\n",
       "    <tr>\n",
       "      <td>4</td>\n",
       "      <td>2</td>\n",
       "      <td>10000000.0</td>\n",
       "      <td>100.0</td>\n",
       "      <td>2018-06-19</td>\n",
       "      <td>2</td>\n",
       "      <td>3.03</td>\n",
       "      <td>14</td>\n",
       "      <td>32.0</td>\n",
       "      <td>13</td>\n",
       "      <td>False</td>\n",
       "      <td>...</td>\n",
       "      <td>8098.0</td>\n",
       "      <td>2.0</td>\n",
       "      <td>112.0</td>\n",
       "      <td>1.0</td>\n",
       "      <td>48.0</td>\n",
       "      <td>121.0</td>\n",
       "      <td>100000.000000</td>\n",
       "      <td>Tuesday</td>\n",
       "      <td>June</td>\n",
       "      <td>2018</td>\n",
       "    </tr>\n",
       "  </tbody>\n",
       "</table>\n",
       "<p>5 rows × 26 columns</p>\n",
       "</div>"
      ],
      "text/plain": [
       "   total_images  last_price  total_area first_day_exposition  rooms  \\\n",
       "0            20  13000000.0       108.0           2019-03-07      3   \n",
       "1             7   3350000.0        40.4           2018-12-04      1   \n",
       "2            10   5196000.0        56.0           2015-08-20      2   \n",
       "3             0  64900000.0       159.0           2015-07-24      3   \n",
       "4             2  10000000.0       100.0           2018-06-19      2   \n",
       "\n",
       "   ceiling_height  floors_total  living_area  floor  is_apartment  ...  \\\n",
       "0            2.70            16         51.0      8         False  ...   \n",
       "1            2.65            11         18.6      1         False  ...   \n",
       "2            2.65             5         34.3      4         False  ...   \n",
       "3            2.65            14          NaN      9         False  ...   \n",
       "4            3.03            14         32.0     13         False  ...   \n",
       "\n",
       "   cityCenters_nearest  parks_around3000  parks_nearest  ponds_around3000  \\\n",
       "0              16028.0               1.0          482.0               2.0   \n",
       "1              18603.0               0.0            NaN               0.0   \n",
       "2              13933.0               1.0           90.0               2.0   \n",
       "3               6800.0               2.0           84.0               3.0   \n",
       "4               8098.0               2.0          112.0               1.0   \n",
       "\n",
       "  ponds_nearest  days_exposition       m2_price  day_of_week_exp  month_exp  \\\n",
       "0         755.0              NaN  120370.370370         Thursday      March   \n",
       "1           NaN             81.0   82920.792079          Tuesday   December   \n",
       "2         574.0            558.0   92785.714286         Thursday     August   \n",
       "3         234.0            424.0  408176.100629           Friday       July   \n",
       "4          48.0            121.0  100000.000000          Tuesday       June   \n",
       "\n",
       "   year_exp  \n",
       "0      2019  \n",
       "1      2018  \n",
       "2      2015  \n",
       "3      2015  \n",
       "4      2018  \n",
       "\n",
       "[5 rows x 26 columns]"
      ]
     },
     "execution_count": 19,
     "metadata": {},
     "output_type": "execute_result"
    }
   ],
   "source": [
    "df['day_of_week_exp'] = df['first_day_exposition'].dt.day_name()\n",
    "df['month_exp'] = df['first_day_exposition'].dt.month_name()\n",
    "df['year_exp'] = df['first_day_exposition'].dt.year\n",
    "df.head()"
   ]
  },
  {
   "cell_type": "markdown",
   "metadata": {},
   "source": [
    "### Подсчет и добавление этажа квартиры из вариантов: первый, последний, другой"
   ]
  },
  {
   "cell_type": "code",
   "execution_count": 20,
   "metadata": {},
   "outputs": [
    {
     "data": {
      "text/plain": [
       "другой       17326\n",
       "последний     3330\n",
       "первый        2909\n",
       "Name: set_floor_category, dtype: int64"
      ]
     },
     "execution_count": 20,
     "metadata": {},
     "output_type": "execute_result"
    }
   ],
   "source": [
    "def set_floor_category(row):\n",
    "    if row['floor'] == 1:\n",
    "        return 'первый'\n",
    "    if row['floor'] == row['floors_total']:\n",
    "        return 'последний'\n",
    "    return 'другой'\n",
    "    \n",
    "df['set_floor_category'] = df.apply(set_floor_category, axis=1)\n",
    "df['set_floor_category'].value_counts()"
   ]
  },
  {
   "cell_type": "markdown",
   "metadata": {},
   "source": [
    "<div class=\"alert alert-info\">\n",
    "\n",
    "<h1>Комментарий ревьюера <a class=\"tocSkip\"></a></h1>\n",
    "А куда  попадут квартиры из одноэтажек?)</div>"
   ]
  },
  {
   "cell_type": "markdown",
   "metadata": {},
   "source": [
    "### Подсчет и добавление соотношения жилой и общей площади, а также отношение площади кухни к общей"
   ]
  },
  {
   "cell_type": "code",
   "execution_count": 21,
   "metadata": {},
   "outputs": [
    {
     "data": {
      "text/html": [
       "<div>\n",
       "<style scoped>\n",
       "    .dataframe tbody tr th:only-of-type {\n",
       "        vertical-align: middle;\n",
       "    }\n",
       "\n",
       "    .dataframe tbody tr th {\n",
       "        vertical-align: top;\n",
       "    }\n",
       "\n",
       "    .dataframe thead th {\n",
       "        text-align: right;\n",
       "    }\n",
       "</style>\n",
       "<table border=\"1\" class=\"dataframe\">\n",
       "  <thead>\n",
       "    <tr style=\"text-align: right;\">\n",
       "      <th></th>\n",
       "      <th>total_images</th>\n",
       "      <th>last_price</th>\n",
       "      <th>total_area</th>\n",
       "      <th>first_day_exposition</th>\n",
       "      <th>rooms</th>\n",
       "      <th>ceiling_height</th>\n",
       "      <th>floors_total</th>\n",
       "      <th>living_area</th>\n",
       "      <th>floor</th>\n",
       "      <th>is_apartment</th>\n",
       "      <th>...</th>\n",
       "      <th>ponds_around3000</th>\n",
       "      <th>ponds_nearest</th>\n",
       "      <th>days_exposition</th>\n",
       "      <th>m2_price</th>\n",
       "      <th>day_of_week_exp</th>\n",
       "      <th>month_exp</th>\n",
       "      <th>year_exp</th>\n",
       "      <th>set_floor_category</th>\n",
       "      <th>ratio_living_to_total_area</th>\n",
       "      <th>ratio_kitchen_to_total_area</th>\n",
       "    </tr>\n",
       "  </thead>\n",
       "  <tbody>\n",
       "    <tr>\n",
       "      <td>0</td>\n",
       "      <td>20</td>\n",
       "      <td>13000000.0</td>\n",
       "      <td>108.0</td>\n",
       "      <td>2019-03-07</td>\n",
       "      <td>3</td>\n",
       "      <td>2.70</td>\n",
       "      <td>16</td>\n",
       "      <td>51.0</td>\n",
       "      <td>8</td>\n",
       "      <td>False</td>\n",
       "      <td>...</td>\n",
       "      <td>2.0</td>\n",
       "      <td>755.0</td>\n",
       "      <td>NaN</td>\n",
       "      <td>120370.370370</td>\n",
       "      <td>Thursday</td>\n",
       "      <td>March</td>\n",
       "      <td>2019</td>\n",
       "      <td>другой</td>\n",
       "      <td>0.472222</td>\n",
       "      <td>0.231481</td>\n",
       "    </tr>\n",
       "    <tr>\n",
       "      <td>1</td>\n",
       "      <td>7</td>\n",
       "      <td>3350000.0</td>\n",
       "      <td>40.4</td>\n",
       "      <td>2018-12-04</td>\n",
       "      <td>1</td>\n",
       "      <td>2.65</td>\n",
       "      <td>11</td>\n",
       "      <td>18.6</td>\n",
       "      <td>1</td>\n",
       "      <td>False</td>\n",
       "      <td>...</td>\n",
       "      <td>0.0</td>\n",
       "      <td>NaN</td>\n",
       "      <td>81.0</td>\n",
       "      <td>82920.792079</td>\n",
       "      <td>Tuesday</td>\n",
       "      <td>December</td>\n",
       "      <td>2018</td>\n",
       "      <td>первый</td>\n",
       "      <td>0.460396</td>\n",
       "      <td>0.272277</td>\n",
       "    </tr>\n",
       "    <tr>\n",
       "      <td>2</td>\n",
       "      <td>10</td>\n",
       "      <td>5196000.0</td>\n",
       "      <td>56.0</td>\n",
       "      <td>2015-08-20</td>\n",
       "      <td>2</td>\n",
       "      <td>2.65</td>\n",
       "      <td>5</td>\n",
       "      <td>34.3</td>\n",
       "      <td>4</td>\n",
       "      <td>False</td>\n",
       "      <td>...</td>\n",
       "      <td>2.0</td>\n",
       "      <td>574.0</td>\n",
       "      <td>558.0</td>\n",
       "      <td>92785.714286</td>\n",
       "      <td>Thursday</td>\n",
       "      <td>August</td>\n",
       "      <td>2015</td>\n",
       "      <td>другой</td>\n",
       "      <td>0.612500</td>\n",
       "      <td>0.148214</td>\n",
       "    </tr>\n",
       "    <tr>\n",
       "      <td>3</td>\n",
       "      <td>0</td>\n",
       "      <td>64900000.0</td>\n",
       "      <td>159.0</td>\n",
       "      <td>2015-07-24</td>\n",
       "      <td>3</td>\n",
       "      <td>2.65</td>\n",
       "      <td>14</td>\n",
       "      <td>NaN</td>\n",
       "      <td>9</td>\n",
       "      <td>False</td>\n",
       "      <td>...</td>\n",
       "      <td>3.0</td>\n",
       "      <td>234.0</td>\n",
       "      <td>424.0</td>\n",
       "      <td>408176.100629</td>\n",
       "      <td>Friday</td>\n",
       "      <td>July</td>\n",
       "      <td>2015</td>\n",
       "      <td>другой</td>\n",
       "      <td>NaN</td>\n",
       "      <td>NaN</td>\n",
       "    </tr>\n",
       "    <tr>\n",
       "      <td>4</td>\n",
       "      <td>2</td>\n",
       "      <td>10000000.0</td>\n",
       "      <td>100.0</td>\n",
       "      <td>2018-06-19</td>\n",
       "      <td>2</td>\n",
       "      <td>3.03</td>\n",
       "      <td>14</td>\n",
       "      <td>32.0</td>\n",
       "      <td>13</td>\n",
       "      <td>False</td>\n",
       "      <td>...</td>\n",
       "      <td>1.0</td>\n",
       "      <td>48.0</td>\n",
       "      <td>121.0</td>\n",
       "      <td>100000.000000</td>\n",
       "      <td>Tuesday</td>\n",
       "      <td>June</td>\n",
       "      <td>2018</td>\n",
       "      <td>другой</td>\n",
       "      <td>0.320000</td>\n",
       "      <td>0.410000</td>\n",
       "    </tr>\n",
       "  </tbody>\n",
       "</table>\n",
       "<p>5 rows × 29 columns</p>\n",
       "</div>"
      ],
      "text/plain": [
       "   total_images  last_price  total_area first_day_exposition  rooms  \\\n",
       "0            20  13000000.0       108.0           2019-03-07      3   \n",
       "1             7   3350000.0        40.4           2018-12-04      1   \n",
       "2            10   5196000.0        56.0           2015-08-20      2   \n",
       "3             0  64900000.0       159.0           2015-07-24      3   \n",
       "4             2  10000000.0       100.0           2018-06-19      2   \n",
       "\n",
       "   ceiling_height  floors_total  living_area  floor  is_apartment  ...  \\\n",
       "0            2.70            16         51.0      8         False  ...   \n",
       "1            2.65            11         18.6      1         False  ...   \n",
       "2            2.65             5         34.3      4         False  ...   \n",
       "3            2.65            14          NaN      9         False  ...   \n",
       "4            3.03            14         32.0     13         False  ...   \n",
       "\n",
       "   ponds_around3000  ponds_nearest  days_exposition       m2_price  \\\n",
       "0               2.0          755.0              NaN  120370.370370   \n",
       "1               0.0            NaN             81.0   82920.792079   \n",
       "2               2.0          574.0            558.0   92785.714286   \n",
       "3               3.0          234.0            424.0  408176.100629   \n",
       "4               1.0           48.0            121.0  100000.000000   \n",
       "\n",
       "  day_of_week_exp  month_exp  year_exp  set_floor_category  \\\n",
       "0        Thursday      March      2019              другой   \n",
       "1         Tuesday   December      2018              первый   \n",
       "2        Thursday     August      2015              другой   \n",
       "3          Friday       July      2015              другой   \n",
       "4         Tuesday       June      2018              другой   \n",
       "\n",
       "   ratio_living_to_total_area  ratio_kitchen_to_total_area  \n",
       "0                    0.472222                     0.231481  \n",
       "1                    0.460396                     0.272277  \n",
       "2                    0.612500                     0.148214  \n",
       "3                         NaN                          NaN  \n",
       "4                    0.320000                     0.410000  \n",
       "\n",
       "[5 rows x 29 columns]"
      ]
     },
     "execution_count": 21,
     "metadata": {},
     "output_type": "execute_result"
    }
   ],
   "source": [
    "df['ratio_living_to_total_area'] = df['living_area'] / df['total_area']\n",
    "df['ratio_kitchen_to_total_area'] = df['kitchen_area'] / df['total_area']\n",
    "df.head()"
   ]
  },
  {
   "cell_type": "markdown",
   "metadata": {},
   "source": [
    "Подсчитаем долю пропущенных значений в рассчитанных столбцах."
   ]
  },
  {
   "cell_type": "code",
   "execution_count": 22,
   "metadata": {},
   "outputs": [
    {
     "data": {
      "text/plain": [
       "7.91"
      ]
     },
     "execution_count": 22,
     "metadata": {},
     "output_type": "execute_result"
    }
   ],
   "source": [
    "round((df['ratio_living_to_total_area'].isna().mean()*100), 2)"
   ]
  },
  {
   "cell_type": "code",
   "execution_count": 23,
   "metadata": {},
   "outputs": [
    {
     "data": {
      "text/plain": [
       "9.43"
      ]
     },
     "execution_count": 23,
     "metadata": {},
     "output_type": "execute_result"
    }
   ],
   "source": [
    "round((df['ratio_kitchen_to_total_area'].isna().mean()*100), 2)"
   ]
  },
  {
   "cell_type": "markdown",
   "metadata": {},
   "source": [
    "### Вывод"
   ]
  },
  {
   "cell_type": "markdown",
   "metadata": {},
   "source": [
    "Производные величины посчитаны и добавлены в таблицу."
   ]
  },
  {
   "cell_type": "markdown",
   "metadata": {},
   "source": [
    "## Исследовательский анализ данных"
   ]
  },
  {
   "cell_type": "markdown",
   "metadata": {},
   "source": [
    "### Изучение параметров: площадь, цена, число комнат, высота потолков. Построение гистограмм для каждого параметра."
   ]
  },
  {
   "cell_type": "code",
   "execution_count": 24,
   "metadata": {},
   "outputs": [
    {
     "data": {
      "text/html": [
       "<div>\n",
       "<style scoped>\n",
       "    .dataframe tbody tr th:only-of-type {\n",
       "        vertical-align: middle;\n",
       "    }\n",
       "\n",
       "    .dataframe tbody tr th {\n",
       "        vertical-align: top;\n",
       "    }\n",
       "\n",
       "    .dataframe thead th {\n",
       "        text-align: right;\n",
       "    }\n",
       "</style>\n",
       "<table border=\"1\" class=\"dataframe\">\n",
       "  <thead>\n",
       "    <tr style=\"text-align: right;\">\n",
       "      <th></th>\n",
       "      <th>total_area</th>\n",
       "      <th>last_price</th>\n",
       "      <th>rooms</th>\n",
       "      <th>ceiling_height</th>\n",
       "    </tr>\n",
       "  </thead>\n",
       "  <tbody>\n",
       "    <tr>\n",
       "      <td>count</td>\n",
       "      <td>23565.000000</td>\n",
       "      <td>2.356500e+04</td>\n",
       "      <td>23565.000000</td>\n",
       "      <td>23565.000000</td>\n",
       "    </tr>\n",
       "    <tr>\n",
       "      <td>mean</td>\n",
       "      <td>60.322824</td>\n",
       "      <td>6.540058e+06</td>\n",
       "      <td>2.070656</td>\n",
       "      <td>2.724530</td>\n",
       "    </tr>\n",
       "    <tr>\n",
       "      <td>std</td>\n",
       "      <td>35.657060</td>\n",
       "      <td>1.091093e+07</td>\n",
       "      <td>1.078591</td>\n",
       "      <td>0.991026</td>\n",
       "    </tr>\n",
       "    <tr>\n",
       "      <td>min</td>\n",
       "      <td>12.000000</td>\n",
       "      <td>1.219000e+04</td>\n",
       "      <td>0.000000</td>\n",
       "      <td>1.000000</td>\n",
       "    </tr>\n",
       "    <tr>\n",
       "      <td>25%</td>\n",
       "      <td>40.000000</td>\n",
       "      <td>3.400000e+06</td>\n",
       "      <td>1.000000</td>\n",
       "      <td>2.600000</td>\n",
       "    </tr>\n",
       "    <tr>\n",
       "      <td>50%</td>\n",
       "      <td>52.000000</td>\n",
       "      <td>4.646000e+06</td>\n",
       "      <td>2.000000</td>\n",
       "      <td>2.650000</td>\n",
       "    </tr>\n",
       "    <tr>\n",
       "      <td>75%</td>\n",
       "      <td>69.700000</td>\n",
       "      <td>6.790000e+06</td>\n",
       "      <td>3.000000</td>\n",
       "      <td>2.700000</td>\n",
       "    </tr>\n",
       "    <tr>\n",
       "      <td>max</td>\n",
       "      <td>900.000000</td>\n",
       "      <td>7.630000e+08</td>\n",
       "      <td>19.000000</td>\n",
       "      <td>100.000000</td>\n",
       "    </tr>\n",
       "  </tbody>\n",
       "</table>\n",
       "</div>"
      ],
      "text/plain": [
       "         total_area    last_price         rooms  ceiling_height\n",
       "count  23565.000000  2.356500e+04  23565.000000    23565.000000\n",
       "mean      60.322824  6.540058e+06      2.070656        2.724530\n",
       "std       35.657060  1.091093e+07      1.078591        0.991026\n",
       "min       12.000000  1.219000e+04      0.000000        1.000000\n",
       "25%       40.000000  3.400000e+06      1.000000        2.600000\n",
       "50%       52.000000  4.646000e+06      2.000000        2.650000\n",
       "75%       69.700000  6.790000e+06      3.000000        2.700000\n",
       "max      900.000000  7.630000e+08     19.000000      100.000000"
      ]
     },
     "execution_count": 24,
     "metadata": {},
     "output_type": "execute_result"
    }
   ],
   "source": [
    "df[['total_area', 'last_price', 'rooms', 'ceiling_height']].describe()"
   ]
  },
  {
   "cell_type": "code",
   "execution_count": 25,
   "metadata": {},
   "outputs": [
    {
     "data": {
      "text/plain": [
       "12190.0"
      ]
     },
     "execution_count": 25,
     "metadata": {},
     "output_type": "execute_result"
    }
   ],
   "source": [
    "df['last_price'].min()"
   ]
  },
  {
   "cell_type": "markdown",
   "metadata": {},
   "source": [
    "Много достаточно необычных значений:\n",
    " - Максимальная площадь квартиры в 900 квадратных метров\n",
    " - Максимальная цена квартиры в 763 миллиона рублей и минимальная в всего лишь 12 тысяч рублей\n",
    " - Квартира с 19 комнатами\n",
    " - Потолки высотой в 1 метр ил 100 метров\n",
    "\n",
    "Для каждого параметра построим сначала диаграмму размаха, определив нормальные значения и оставив выбросы, а потом на основании нее построим гистаграмму."
   ]
  },
  {
   "cell_type": "markdown",
   "metadata": {},
   "source": [
    "#### Площадь"
   ]
  },
  {
   "cell_type": "code",
   "execution_count": 26,
   "metadata": {},
   "outputs": [
    {
     "data": {
      "text/plain": [
       "(0, 200)"
      ]
     },
     "execution_count": 26,
     "metadata": {},
     "output_type": "execute_result"
    },
    {
     "data": {
      "image/png": "[encoded data removed]",
      "text/plain": [
       "<Figure size 432x288 with 1 Axes>"
      ]
     },
     "metadata": {
      "needs_background": "light"
     },
     "output_type": "display_data"
    }
   ],
   "source": [
    "df.boxplot(column='total_area').set_ylim(0,200)"
   ]
  },
  {
   "cell_type": "markdown",
   "metadata": {},
   "source": [
    "Границы для 'total_area' определим по размаху 'усов' диаграммы размаха - от 10 до 130 кв.м."
   ]
  },
  {
   "cell_type": "code",
   "execution_count": 27,
   "metadata": {
    "scrolled": true
   },
   "outputs": [
    {
     "data": {
      "text/plain": [
       "<matplotlib.axes._subplots.AxesSubplot at 0x7fc56718e8d0>"
      ]
     },
     "execution_count": 27,
     "metadata": {},
     "output_type": "execute_result"
    },
    {
     "data": {
      "image/png": "[encoded data removed]",
      "text/plain": [
       "<Figure size 1080x360 with 1 Axes>"
      ]
     },
     "metadata": {
      "needs_background": "light"
     },
     "output_type": "display_data"
    }
   ],
   "source": [
    "df['total_area'].hist(bins=70, range = (10, 130), figsize=(15,5), alpha=0.5, ec='black', color='green')"
   ]
  },
  {
   "cell_type": "markdown",
   "metadata": {},
   "source": [
    "<div class=\"alert alert-warning\">\n",
    "\n",
    "<h1>Комментарий ревьюера <a class=\"tocSkip\"></a></h1>\n",
    "Забыла легенду у части графиков, нехорошо</div>"
   ]
  },
  {
   "cell_type": "markdown",
   "metadata": {},
   "source": [
    "Большая часть квартир имеет метраж от 30 до 80 кв.м., медиана приходится на 52 кв.м. "
   ]
  },
  {
   "cell_type": "markdown",
   "metadata": {},
   "source": [
    "#### Цена"
   ]
  },
  {
   "cell_type": "code",
   "execution_count": 28,
   "metadata": {},
   "outputs": [
    {
     "data": {
      "text/plain": [
       "(0, 20000000)"
      ]
     },
     "execution_count": 28,
     "metadata": {},
     "output_type": "execute_result"
    },
    {
     "data": {
      "image/png": "[encoded data removed]",
      "text/plain": [
       "<Figure size 432x288 with 1 Axes>"
      ]
     },
     "metadata": {
      "needs_background": "light"
     },
     "output_type": "display_data"
    }
   ],
   "source": [
    "df.boxplot(column='last_price').set_ylim(0,20000000)"
   ]
  },
  {
   "cell_type": "markdown",
   "metadata": {},
   "source": [
    "Границы для 'last_price' - от 0 до 12,5 миллионов рублей."
   ]
  },
  {
   "cell_type": "code",
   "execution_count": 29,
   "metadata": {},
   "outputs": [
    {
     "data": {
      "text/plain": [
       "<matplotlib.axes._subplots.AxesSubplot at 0x7fc56783b1d0>"
      ]
     },
     "execution_count": 29,
     "metadata": {},
     "output_type": "execute_result"
    },
    {
     "data": {
      "image/png": "[encoded data removed]",
      "text/plain": [
       "<Figure size 1080x360 with 1 Axes>"
      ]
     },
     "metadata": {
      "needs_background": "light"
     },
     "output_type": "display_data"
    }
   ],
   "source": [
    "df['last_price'].hist(bins=70, range = (0, 12500000), figsize=(15,5), alpha=0.5, ec='black', color='green')"
   ]
  },
  {
   "cell_type": "markdown",
   "metadata": {},
   "source": [
    "Большая часть квартир продается в промежутке цен от 2 до 6 миллионов рублей."
   ]
  },
  {
   "cell_type": "markdown",
   "metadata": {},
   "source": [
    "#### Количество комнат"
   ]
  },
  {
   "cell_type": "code",
   "execution_count": 30,
   "metadata": {},
   "outputs": [
    {
     "data": {
      "text/plain": [
       "<matplotlib.axes._subplots.AxesSubplot at 0x7fc5670bdc10>"
      ]
     },
     "execution_count": 30,
     "metadata": {},
     "output_type": "execute_result"
    },
    {
     "data": {
      "image/png": "[encoded data removed]",
      "text/plain": [
       "<Figure size 432x288 with 1 Axes>"
      ]
     },
     "metadata": {
      "needs_background": "light"
     },
     "output_type": "display_data"
    }
   ],
   "source": [
    "df.boxplot(column='rooms')"
   ]
  },
  {
   "cell_type": "markdown",
   "metadata": {},
   "source": [
    "Границы для 'rooms' - от 0 до 6 комнат."
   ]
  },
  {
   "cell_type": "code",
   "execution_count": 31,
   "metadata": {},
   "outputs": [
    {
     "data": {
      "text/plain": [
       "<matplotlib.axes._subplots.AxesSubplot at 0x7fc566e893d0>"
      ]
     },
     "execution_count": 31,
     "metadata": {},
     "output_type": "execute_result"
    },
    {
     "data": {
      "image/png": "[encoded data removed]",
      "text/plain": [
       "<Figure size 1080x360 with 1 Axes>"
      ]
     },
     "metadata": {
      "needs_background": "light"
     },
     "output_type": "display_data"
    }
   ],
   "source": [
    "df['rooms'].hist(bins=70, range = (0, 6), figsize=(15,5), alpha=0.5, ec='black', color='green')"
   ]
  },
  {
   "cell_type": "markdown",
   "metadata": {},
   "source": [
    "Большая часть квартир имеют 1 или 2 комнаты, чуть меньше квартир имеют 3 комнаты. Есть квартиры, имеющие больше комнат, но их количество существенно ниже."
   ]
  },
  {
   "cell_type": "markdown",
   "metadata": {},
   "source": [
    "#### Высота потолков"
   ]
  },
  {
   "cell_type": "code",
   "execution_count": 32,
   "metadata": {
    "scrolled": true
   },
   "outputs": [
    {
     "data": {
      "text/plain": [
       "(0, 4)"
      ]
     },
     "execution_count": 32,
     "metadata": {},
     "output_type": "execute_result"
    },
    {
     "data": {
      "image/png": "[encoded data removed]",
      "text/plain": [
       "<Figure size 432x288 with 1 Axes>"
      ]
     },
     "metadata": {
      "needs_background": "light"
     },
     "output_type": "display_data"
    }
   ],
   "source": [
    "df.boxplot(column='ceiling_height').set_ylim(0,4)"
   ]
  },
  {
   "cell_type": "markdown",
   "metadata": {},
   "source": [
    "Границы для 'ceiling_height' - от 2 до 3.5 м."
   ]
  },
  {
   "cell_type": "code",
   "execution_count": 33,
   "metadata": {},
   "outputs": [
    {
     "data": {
      "text/plain": [
       "100.00       1\n",
       "2.25         1\n",
       "14.00        1\n",
       "5.00         1\n",
       "3.93         1\n",
       "          ... \n",
       "3.00      1108\n",
       "2.70      1571\n",
       "2.60      1645\n",
       "2.50      3515\n",
       "2.65      9758\n",
       "Name: ceiling_height, Length: 183, dtype: int64"
      ]
     },
     "execution_count": 33,
     "metadata": {},
     "output_type": "execute_result"
    }
   ],
   "source": [
    "df['ceiling_height'].value_counts().sort_values()"
   ]
  },
  {
   "cell_type": "code",
   "execution_count": 34,
   "metadata": {},
   "outputs": [
    {
     "data": {
      "text/plain": [
       "<matplotlib.axes._subplots.AxesSubplot at 0x7fc566cba510>"
      ]
     },
     "execution_count": 34,
     "metadata": {},
     "output_type": "execute_result"
    },
    {
     "data": {
      "image/png": "[encoded data removed]",
      "text/plain": [
       "<Figure size 1080x360 with 1 Axes>"
      ]
     },
     "metadata": {
      "needs_background": "light"
     },
     "output_type": "display_data"
    }
   ],
   "source": [
    "df['ceiling_height'].hist(bins=70, range = (2, 3.5), figsize=(15,5), alpha=0.5, ec='black', color='green')"
   ]
  },
  {
   "cell_type": "markdown",
   "metadata": {},
   "source": [
    "В большинстве случаев квартиры имеют потолки от 2.5 м до 3.2 м. Самый популярный вариант - квартиры с потолками в 2.65 м."
   ]
  },
  {
   "cell_type": "markdown",
   "metadata": {},
   "source": [
    "### Изучение времени продажи квартиры. Построение гистограммы. Подсчет среднего и медианы."
   ]
  },
  {
   "cell_type": "code",
   "execution_count": 35,
   "metadata": {},
   "outputs": [
    {
     "data": {
      "text/plain": [
       "count    20394.000000\n",
       "mean       180.741395\n",
       "std        219.732782\n",
       "min          1.000000\n",
       "25%         45.000000\n",
       "50%         95.000000\n",
       "75%        231.000000\n",
       "max       1580.000000\n",
       "Name: days_exposition, dtype: float64"
      ]
     },
     "execution_count": 35,
     "metadata": {},
     "output_type": "execute_result"
    }
   ],
   "source": [
    "df['days_exposition'].describe()"
   ]
  },
  {
   "cell_type": "markdown",
   "metadata": {},
   "source": [
    "Среднее время продажи квартиры - 180 дней или полгода, медианное - 95 дней или три месяца."
   ]
  },
  {
   "cell_type": "markdown",
   "metadata": {},
   "source": [
    "Построим диаграмму размаха, чтобы при построении гистограммы не учитывать выбросы."
   ]
  },
  {
   "cell_type": "code",
   "execution_count": 36,
   "metadata": {},
   "outputs": [
    {
     "data": {
      "text/plain": [
       "<matplotlib.axes._subplots.AxesSubplot at 0x7fc55eb33110>"
      ]
     },
     "execution_count": 36,
     "metadata": {},
     "output_type": "execute_result"
    },
    {
     "data": {
      "image/png": "[encoded data removed]",
      "text/plain": [
       "<Figure size 432x288 with 1 Axes>"
      ]
     },
     "metadata": {
      "needs_background": "light"
     },
     "output_type": "display_data"
    }
   ],
   "source": [
    "df.boxplot(column='days_exposition')"
   ]
  },
  {
   "cell_type": "markdown",
   "metadata": {},
   "source": [
    "Ограничив значения 500 днями, построим гистрограмму."
   ]
  },
  {
   "cell_type": "code",
   "execution_count": 37,
   "metadata": {},
   "outputs": [
    {
     "data": {
      "text/plain": [
       "<matplotlib.axes._subplots.AxesSubplot at 0x7fc56709b750>"
      ]
     },
     "execution_count": 37,
     "metadata": {},
     "output_type": "execute_result"
    },
    {
     "data": {
      "image/png": "[encoded data removed]",
      "text/plain": [
       "<Figure size 1080x360 with 1 Axes>"
      ]
     },
     "metadata": {
      "needs_background": "light"
     },
     "output_type": "display_data"
    }
   ],
   "source": [
    "df['days_exposition'].hist(bins=100,  range = (0, 500), figsize=(15,5), alpha=0.5, ec='black', color='green')"
   ]
  },
  {
   "cell_type": "markdown",
   "metadata": {},
   "source": [
    "В среднем квартиры продаются в первые 100 дней, примерно в первые три месяца. Быстро проданными квартирами можно считать такие квартиры, которые продались за первые 45 дней с момента публикации объявления. Долго продаются квартиры, чьи объявления были опубликованы уже более 230 дней."
   ]
  },
  {
   "cell_type": "markdown",
   "metadata": {},
   "source": [
    "### Очистка от редких и выбивающихся значений."
   ]
  },
  {
   "cell_type": "markdown",
   "metadata": {},
   "source": [
    "Для очистки таблицы от выбросов будем использовать функцию, которая в каждом заданном столбце таблицы оставляет только нормальные значения. Диапазон нормальных значений определим с помощью квартилей и межквартильного размаха. Новый массив сохраним в df_good."
   ]
  },
  {
   "cell_type": "code",
   "execution_count": 38,
   "metadata": {},
   "outputs": [],
   "source": [
    "s = ['total_area', 'last_price', 'rooms', 'ceiling_height', 'days_exposition']\n",
    "df_good = df\n",
    "\n",
    "\n",
    "for ss in s:\n",
    "    q1 = df[ss].quantile(0.25)\n",
    "    q3 = df[ss].quantile(0.75)\n",
    "    iqr = q3 - q1\n",
    "    df_good = df_good.loc[(df_good[ss] >= (q1 - 1.5*iqr)) & (df_good[ss] <= (q3 + 1.5*iqr))]"
   ]
  },
  {
   "cell_type": "markdown",
   "metadata": {},
   "source": [
    "<div class=\"alert alert-success\">\n",
    "\n",
    "<h1>Комментарий ревьюера <a class=\"tocSkip\"></a></h1>\n",
    "Клаасно автоматизировала посредтсом цикла\n",
    "</div>"
   ]
  },
  {
   "cell_type": "markdown",
   "metadata": {},
   "source": [
    "Получили массив самых стандартизированных квартир."
   ]
  },
  {
   "cell_type": "code",
   "execution_count": 39,
   "metadata": {},
   "outputs": [
    {
     "name": "stdout",
     "output_type": "stream",
     "text": [
      "<class 'pandas.core.frame.DataFrame'>\n",
      "Int64Index: 15969 entries, 1 to 23695\n",
      "Data columns (total 29 columns):\n",
      "total_images                   15969 non-null int64\n",
      "last_price                     15969 non-null float64\n",
      "total_area                     15969 non-null float64\n",
      "first_day_exposition           15969 non-null datetime64[ns]\n",
      "rooms                          15969 non-null int64\n",
      "ceiling_height                 15969 non-null float64\n",
      "floors_total                   15969 non-null int64\n",
      "living_area                    14611 non-null float64\n",
      "floor                          15969 non-null int64\n",
      "is_apartment                   15969 non-null bool\n",
      "studio                         15969 non-null bool\n",
      "open_plan                      15969 non-null bool\n",
      "kitchen_area                   14306 non-null float64\n",
      "balcony                        15969 non-null int64\n",
      "locality_name                  15969 non-null object\n",
      "airports_nearest               11862 non-null float64\n",
      "cityCenters_nearest            11873 non-null float64\n",
      "parks_around3000               11873 non-null float64\n",
      "parks_nearest                  4528 non-null float64\n",
      "ponds_around3000               11873 non-null float64\n",
      "ponds_nearest                  5450 non-null float64\n",
      "days_exposition                15969 non-null float64\n",
      "m2_price                       15969 non-null float64\n",
      "day_of_week_exp                15969 non-null object\n",
      "month_exp                      15969 non-null object\n",
      "year_exp                       15969 non-null int64\n",
      "set_floor_category             15969 non-null object\n",
      "ratio_living_to_total_area     14611 non-null float64\n",
      "ratio_kitchen_to_total_area    14306 non-null float64\n",
      "dtypes: bool(3), datetime64[ns](1), float64(15), int64(6), object(4)\n",
      "memory usage: 3.3+ MB\n"
     ]
    }
   ],
   "source": [
    "df_good.info()"
   ]
  },
  {
   "cell_type": "markdown",
   "metadata": {},
   "source": [
    "### Какие факторы больше всего влияют на стоимость квартиры? Изучение зависимости цены от площади, числа комнат, удалённости от центра. Изучение зависимости цены от того, на каком этаже расположена квартира: первом, последнем или другом. Изучение зависимости от даты размещения: дня недели, месяца и года."
   ]
  },
  {
   "cell_type": "code",
   "execution_count": 40,
   "metadata": {},
   "outputs": [
    {
     "data": {
      "text/plain": [
       "0.68744221289352"
      ]
     },
     "execution_count": 40,
     "metadata": {},
     "output_type": "execute_result"
    }
   ],
   "source": [
    "df_good['total_area'].corr(df_good['last_price'])"
   ]
  },
  {
   "cell_type": "markdown",
   "metadata": {},
   "source": [
    "Положительный коэффициент корреляции показывает, что чем больше площадь квартиры, тем больше цена. Все логично."
   ]
  },
  {
   "cell_type": "code",
   "execution_count": 41,
   "metadata": {},
   "outputs": [
    {
     "data": {
      "text/plain": [
       "0.42108309720141024"
      ]
     },
     "execution_count": 41,
     "metadata": {},
     "output_type": "execute_result"
    }
   ],
   "source": [
    "df_good['rooms'].corr(df_good['last_price'])"
   ]
  },
  {
   "cell_type": "markdown",
   "metadata": {},
   "source": [
    "Чем больше комнат, тем дороже квартира. Корреляция между количеством комнат и стоимостью квартиры чуть-чуть меньше 0.5: связь чуть-чуть слабее, чем связь стоимости и площади. Можно объяснить тем, что одни и те же-комнатные квартиры могут различаться по площади."
   ]
  },
  {
   "cell_type": "code",
   "execution_count": 42,
   "metadata": {},
   "outputs": [
    {
     "data": {
      "text/plain": [
       "-0.3062388855249861"
      ]
     },
     "execution_count": 42,
     "metadata": {},
     "output_type": "execute_result"
    }
   ],
   "source": [
    "df_good['cityCenters_nearest'].corr(df_good['last_price'])"
   ]
  },
  {
   "cell_type": "markdown",
   "metadata": {},
   "source": [
    "Коэффициент корреляции отрицательный. С увеличением расстояния от центра, уменьшается стоимость квартиры."
   ]
  },
  {
   "cell_type": "code",
   "execution_count": 43,
   "metadata": {},
   "outputs": [
    {
     "data": {
      "text/plain": [
       "<matplotlib.axes._subplots.AxesSubplot at 0x7fc55e9f3b10>"
      ]
     },
     "execution_count": 43,
     "metadata": {},
     "output_type": "execute_result"
    },
    {
     "data": {
      "image/png": "[encoded data removed]",
      "text/plain": [
       "<Figure size 648x288 with 1 Axes>"
      ]
     },
     "metadata": {
      "needs_background": "light"
     },
     "output_type": "display_data"
    }
   ],
   "source": [
    "df_filtered_floor = df_good.groupby('set_floor_category')['last_price'].median()\n",
    "df_filtered_floor.plot(kind='bar', ec='black', figsize=(9,4))"
   ]
  },
  {
   "cell_type": "markdown",
   "metadata": {},
   "source": [
    "Цены на квартиры, расположенные на 1 этаже ниже, чем на те, которые расположены на других. На последнем этаже квартиры стоят подороже, чем на первом, но все равно дешевле, чем на других."
   ]
  },
  {
   "cell_type": "markdown",
   "metadata": {},
   "source": [
    "<div class=\"alert alert-success\">\n",
    "\n",
    "<h1>Комментарий ревьюера <a class=\"tocSkip\"></a></h1>\n",
    "Да, интересный результат\n",
    "</div>"
   ]
  },
  {
   "cell_type": "code",
   "execution_count": 44,
   "metadata": {},
   "outputs": [
    {
     "data": {
      "text/plain": [
       "<matplotlib.axes._subplots.AxesSubplot at 0x7fc55e9b3fd0>"
      ]
     },
     "execution_count": 44,
     "metadata": {},
     "output_type": "execute_result"
    },
    {
     "data": {
      "image/png": "[encoded data removed]",
      "text/plain": [
       "<Figure size 648x288 with 1 Axes>"
      ]
     },
     "metadata": {
      "needs_background": "light"
     },
     "output_type": "display_data"
    }
   ],
   "source": [
    "df_filtered_day = df_good.groupby('day_of_week_exp')['last_price'].median().sort_values()\n",
    "df_filtered_day.plot(kind='bar', ec='black', figsize=(9,4))"
   ]
  },
  {
   "cell_type": "markdown",
   "metadata": {},
   "source": [
    "Нет практически никакой зависимости цены квартиры от дня недели публикации объявления о продаже."
   ]
  },
  {
   "cell_type": "code",
   "execution_count": 45,
   "metadata": {},
   "outputs": [
    {
     "data": {
      "text/plain": [
       "<matplotlib.axes._subplots.AxesSubplot at 0x7fc55e9325d0>"
      ]
     },
     "execution_count": 45,
     "metadata": {},
     "output_type": "execute_result"
    },
    {
     "data": {
      "image/png": "[encoded data removed]",
      "text/plain": [
       "<Figure size 648x288 with 1 Axes>"
      ]
     },
     "metadata": {
      "needs_background": "light"
     },
     "output_type": "display_data"
    }
   ],
   "source": [
    "df_filtered_month = df_good.groupby('month_exp')['last_price'].median().sort_values()\n",
    "df_filtered_month.plot(kind='bar', ec='black', figsize=(9,4))"
   ]
  },
  {
   "cell_type": "markdown",
   "metadata": {},
   "source": [
    "Можно отметить , что наибольшую стоимость имели квартиры, чьи объявления были размещены в сентябре и ноябре, а наименьшую стоимость - те, чьи объявления были размещены в начале лета (июне и июле)."
   ]
  },
  {
   "cell_type": "code",
   "execution_count": 46,
   "metadata": {},
   "outputs": [
    {
     "data": {
      "text/plain": [
       "<matplotlib.axes._subplots.AxesSubplot at 0x7fc55e858bd0>"
      ]
     },
     "execution_count": 46,
     "metadata": {},
     "output_type": "execute_result"
    },
    {
     "data": {
      "image/png": "[encoded data removed]",
      "text/plain": [
       "<Figure size 648x288 with 1 Axes>"
      ]
     },
     "metadata": {
      "needs_background": "light"
     },
     "output_type": "display_data"
    }
   ],
   "source": [
    "df_filtered_year = df_good.groupby('year_exp')['last_price'].median().sort_values()\n",
    "df_filtered_year.plot(kind='bar', ec='black', figsize=(9,4))"
   ]
  },
  {
   "cell_type": "markdown",
   "metadata": {},
   "source": [
    "Из выборки выделяется 2019 и 2015 год - продающиеся в этом году квартиры имели наибольшую стоимость.\n",
    "Меньше всего из всей выборки стоят квартиры, объявление о продаже которых было опубликовано в 2017 году."
   ]
  },
  {
   "cell_type": "markdown",
   "metadata": {},
   "source": [
    "### Выборка 10 населённых пунктов с наибольшим числом объявлений. Подсчет средней цены квадратного метра в этих населённых пунктах. Определение среди них населённых пунктов с самой высокой и низкой стоимостью жилья. "
   ]
  },
  {
   "cell_type": "code",
   "execution_count": 47,
   "metadata": {},
   "outputs": [
    {
     "data": {
      "text/html": [
       "<div>\n",
       "<style scoped>\n",
       "    .dataframe tbody tr th:only-of-type {\n",
       "        vertical-align: middle;\n",
       "    }\n",
       "\n",
       "    .dataframe tbody tr th {\n",
       "        vertical-align: top;\n",
       "    }\n",
       "\n",
       "    .dataframe thead th {\n",
       "        text-align: right;\n",
       "    }\n",
       "</style>\n",
       "<table border=\"1\" class=\"dataframe\">\n",
       "  <thead>\n",
       "    <tr style=\"text-align: right;\">\n",
       "      <th></th>\n",
       "      <th>count</th>\n",
       "      <th>median</th>\n",
       "    </tr>\n",
       "    <tr>\n",
       "      <th>locality_name</th>\n",
       "      <th></th>\n",
       "      <th></th>\n",
       "    </tr>\n",
       "  </thead>\n",
       "  <tbody>\n",
       "    <tr>\n",
       "      <td>Санкт-Петербург</td>\n",
       "      <td>9995</td>\n",
       "      <td>100597.609562</td>\n",
       "    </tr>\n",
       "    <tr>\n",
       "      <td>посёлок Мурино</td>\n",
       "      <td>478</td>\n",
       "      <td>86270.673555</td>\n",
       "    </tr>\n",
       "    <tr>\n",
       "      <td>посёлок Шушары</td>\n",
       "      <td>381</td>\n",
       "      <td>75757.575758</td>\n",
       "    </tr>\n",
       "    <tr>\n",
       "      <td>Всеволожск</td>\n",
       "      <td>294</td>\n",
       "      <td>65538.631852</td>\n",
       "    </tr>\n",
       "    <tr>\n",
       "      <td>посёлок Парголово</td>\n",
       "      <td>287</td>\n",
       "      <td>91250.000000</td>\n",
       "    </tr>\n",
       "    <tr>\n",
       "      <td>Колпино</td>\n",
       "      <td>275</td>\n",
       "      <td>73913.043478</td>\n",
       "    </tr>\n",
       "    <tr>\n",
       "      <td>деревня Кудрово</td>\n",
       "      <td>265</td>\n",
       "      <td>92089.728453</td>\n",
       "    </tr>\n",
       "    <tr>\n",
       "      <td>Пушкин</td>\n",
       "      <td>232</td>\n",
       "      <td>97359.016822</td>\n",
       "    </tr>\n",
       "    <tr>\n",
       "      <td>Гатчина</td>\n",
       "      <td>227</td>\n",
       "      <td>66666.666667</td>\n",
       "    </tr>\n",
       "    <tr>\n",
       "      <td>Выборг</td>\n",
       "      <td>174</td>\n",
       "      <td>56559.139785</td>\n",
       "    </tr>\n",
       "  </tbody>\n",
       "</table>\n",
       "</div>"
      ],
      "text/plain": [
       "                   count         median\n",
       "locality_name                          \n",
       "Санкт-Петербург     9995  100597.609562\n",
       "посёлок Мурино       478   86270.673555\n",
       "посёлок Шушары       381   75757.575758\n",
       "Всеволожск           294   65538.631852\n",
       "посёлок Парголово    287   91250.000000\n",
       "Колпино              275   73913.043478\n",
       "деревня Кудрово      265   92089.728453\n",
       "Пушкин               232   97359.016822\n",
       "Гатчина              227   66666.666667\n",
       "Выборг               174   56559.139785"
      ]
     },
     "execution_count": 47,
     "metadata": {},
     "output_type": "execute_result"
    }
   ],
   "source": [
    "df_good_top10 = df_good.pivot_table(index='locality_name', values='m2_price', aggfunc=['count', 'median'])\n",
    "df_good_top10.columns = ['count', 'median']\n",
    "df_g_10 = df_good_top10.sort_values('count', ascending=False).head(10)\n",
    "df_g_10"
   ]
  },
  {
   "cell_type": "code",
   "execution_count": 48,
   "metadata": {},
   "outputs": [
    {
     "data": {
      "text/plain": [
       "<matplotlib.axes._subplots.AxesSubplot at 0x7fc55e7d8c10>"
      ]
     },
     "execution_count": 48,
     "metadata": {},
     "output_type": "execute_result"
    },
    {
     "data": {
      "image/png": "[encoded data removed]",
      "text/plain": [
       "<Figure size 648x288 with 1 Axes>"
      ]
     },
     "metadata": {
      "needs_background": "light"
     },
     "output_type": "display_data"
    }
   ],
   "source": [
    "df_g_10.sort_values('median', ascending=False).plot(y=\"median\", kind='bar', ec='black', figsize=(9,4))"
   ]
  },
  {
   "cell_type": "markdown",
   "metadata": {},
   "source": [
    "Из 10 населенных пунктов с наибольшим количеством объявлений о продаже в топ 3 c самой дорогой недвижимостью входят: сам Санкт-Петербург, Пушкин, а также деревня Кудрово."
   ]
  },
  {
   "cell_type": "markdown",
   "metadata": {},
   "source": [
    "<div class=\"alert alert-info\">\n",
    "\n",
    "<h1>Комментарий ревьюера <a class=\"tocSkip\"></a></h1>\n",
    "Как думаешь, почему в Пушкино такие дорогие квартиры?</div>"
   ]
  },
  {
   "cell_type": "markdown",
   "metadata": {},
   "source": [
    "### Изучите предложения квартир: для каждой квартиры есть информация о расстоянии до центра. Выделите квартиры в Санкт-Петербурге ('locality_name'). Ваша задача — выяснить, какая область входит в центр. Создайте столбец с расстоянием до центра в километрах: округлите до целых значений. После этого посчитайте среднюю цену для каждого километра. Постройте график: он должен показывать, как цена зависит от удалённости от центра. Определите границу, где график сильно меняется — это и будет центральная зона."
   ]
  },
  {
   "cell_type": "code",
   "execution_count": 49,
   "metadata": {},
   "outputs": [
    {
     "data": {
      "text/plain": [
       "<matplotlib.axes._subplots.AxesSubplot at 0x7fc55e761310>"
      ]
     },
     "execution_count": 49,
     "metadata": {},
     "output_type": "execute_result"
    },
    {
     "data": {
      "image/png": "[encoded data removed]",
      "text/plain": [
       "<Figure size 648x288 with 1 Axes>"
      ]
     },
     "metadata": {
      "needs_background": "light"
     },
     "output_type": "display_data"
    }
   ],
   "source": [
    "df_good_SP = df_good.loc[(df_good['locality_name'] == 'Санкт-Петербург')]\n",
    "df_good_SP['cityCenters_nearest_km'] = round(df_good_SP['cityCenters_nearest'] / 1000)\n",
    "df_good_SP_price = df_good_SP.pivot_table(index='cityCenters_nearest_km', values='last_price', aggfunc=['median'])\n",
    "df_good_SP_price.columns = ['median']\n",
    "df_good_SP_price.plot(kind='bar', ec='black', figsize=(9,4))"
   ]
  },
  {
   "cell_type": "markdown",
   "metadata": {},
   "source": [
    "<div class=\"alert alert-warning\">\n",
    "\n",
    "<h1>Комментарий ревьюера <a class=\"tocSkip\"></a></h1>\n",
    "В питоне принят snake_case для названий функий и переменных</div>"
   ]
  },
  {
   "cell_type": "markdown",
   "metadata": {},
   "source": [
    "Построили график медианной цены в зависимости удаленности от центра города. Видим, что наибольшую стоимость имеют квартиры в радиусе 1 или 2 км от центра города. Похожую стоимость имеют квартиры, удаленные от центра на 4 или 5 км, здесь большую роль может играть именно район города и его престижность. Заметный спад график имеет в районе 8 км, определим этот радиус как радиус, обозначающий центр города."
   ]
  },
  {
   "cell_type": "markdown",
   "metadata": {},
   "source": [
    "### Выделите сегмент квартир в центре. Проанализируйте эту территорию и изучите следующие параметры: площадь, цена, число комнат, высота потолков. Также выделите факторы, которые влияют на стоимость квартиры (число комнат, этаж, удалённость от центра, дата размещения объявления). Сделайте выводы. Отличаются ли они от общих выводов по всему городу?"
   ]
  },
  {
   "cell_type": "code",
   "execution_count": 50,
   "metadata": {},
   "outputs": [],
   "source": [
    "df_good_SP_center = df_good_SP.query('cityCenters_nearest_km <= 8')"
   ]
  },
  {
   "cell_type": "markdown",
   "metadata": {},
   "source": [
    "Количество квартир в центре Санкт-Петербурга - 1346"
   ]
  },
  {
   "cell_type": "code",
   "execution_count": 51,
   "metadata": {},
   "outputs": [
    {
     "data": {
      "text/plain": [
       "1346"
      ]
     },
     "execution_count": 51,
     "metadata": {},
     "output_type": "execute_result"
    }
   ],
   "source": [
    "len(df_good_SP_center)"
   ]
  },
  {
   "cell_type": "markdown",
   "metadata": {},
   "source": [
    "Количество квартир во всем Санкт-Петербурге - 9995"
   ]
  },
  {
   "cell_type": "code",
   "execution_count": 52,
   "metadata": {},
   "outputs": [
    {
     "data": {
      "text/plain": [
       "9995"
      ]
     },
     "execution_count": 52,
     "metadata": {},
     "output_type": "execute_result"
    }
   ],
   "source": [
    "len(df_good_SP)"
   ]
  },
  {
   "cell_type": "markdown",
   "metadata": {},
   "source": [
    "Построим гистограммы распределения параметров площади, цены, числа комнат, высоты потолков отдельно по массиву квартир в центре Петербурга и отдельно по всему Петербургу."
   ]
  },
  {
   "cell_type": "code",
   "execution_count": 53,
   "metadata": {},
   "outputs": [],
   "source": [
    "def my_hist(df, col):\n",
    "    x1 = df[col]\n",
    "    \n",
    "    plt.figure(figsize =(15, 5))\n",
    "    hist = x1.plot(\n",
    "                kind='hist', \n",
    "                bins=70, \n",
    "                alpha=0.5, \n",
    "                ec='black',\n",
    "                color='green',\n",
    "                )\n",
    "    plt.axvline(x=x1.median(),#линия медианы\n",
    "                linewidth=3, \n",
    "                color='red', \n",
    "                linestyle='--')\n",
    "    plt.axvline(x=x1.quantile(.25),#1 квартиль\n",
    "                linewidth=3, \n",
    "                color='y', \n",
    "                linestyle='--')\n",
    "    plt.axvline(x=x1.quantile(.75),#3 квартиль\n",
    "                linewidth=3, \n",
    "                color='y', \n",
    "                linestyle='--')\n",
    "    plt.title('Распределение по столбцу ' + col)\n",
    "    plt.xlabel('Значение')\n",
    "    plt.ylabel('Частота')\n",
    "    plt.grid()\n",
    "    plt.show()"
   ]
  },
  {
   "cell_type": "markdown",
   "metadata": {},
   "source": [
    "<div class=\"alert alert-success\">\n",
    "\n",
    "<h1>Комментарий ревьюера <a class=\"tocSkip\"></a></h1>\n",
    "Молодец, верная идея - реализовать функцию, чтобы не дублировать для разных столбцов\n",
    "</div>"
   ]
  },
  {
   "cell_type": "code",
   "execution_count": 54,
   "metadata": {},
   "outputs": [
    {
     "data": {
      "text/html": [
       "<div>\n",
       "<style scoped>\n",
       "    .dataframe tbody tr th:only-of-type {\n",
       "        vertical-align: middle;\n",
       "    }\n",
       "\n",
       "    .dataframe tbody tr th {\n",
       "        vertical-align: top;\n",
       "    }\n",
       "\n",
       "    .dataframe thead th {\n",
       "        text-align: right;\n",
       "    }\n",
       "</style>\n",
       "<table border=\"1\" class=\"dataframe\">\n",
       "  <thead>\n",
       "    <tr style=\"text-align: right;\">\n",
       "      <th></th>\n",
       "      <th>total_area</th>\n",
       "      <th>last_price</th>\n",
       "      <th>rooms</th>\n",
       "      <th>ceiling_height</th>\n",
       "    </tr>\n",
       "  </thead>\n",
       "  <tbody>\n",
       "    <tr>\n",
       "      <td>count</td>\n",
       "      <td>1346.000000</td>\n",
       "      <td>1.346000e+03</td>\n",
       "      <td>1346.000000</td>\n",
       "      <td>1346.000000</td>\n",
       "    </tr>\n",
       "    <tr>\n",
       "      <td>mean</td>\n",
       "      <td>58.864413</td>\n",
       "      <td>6.775360e+06</td>\n",
       "      <td>2.049777</td>\n",
       "      <td>2.654792</td>\n",
       "    </tr>\n",
       "    <tr>\n",
       "      <td>std</td>\n",
       "      <td>19.980933</td>\n",
       "      <td>2.225437e+06</td>\n",
       "      <td>0.892624</td>\n",
       "      <td>0.074974</td>\n",
       "    </tr>\n",
       "    <tr>\n",
       "      <td>min</td>\n",
       "      <td>12.000000</td>\n",
       "      <td>1.686000e+06</td>\n",
       "      <td>0.000000</td>\n",
       "      <td>2.460000</td>\n",
       "    </tr>\n",
       "    <tr>\n",
       "      <td>25%</td>\n",
       "      <td>43.400000</td>\n",
       "      <td>5.012500e+06</td>\n",
       "      <td>1.000000</td>\n",
       "      <td>2.650000</td>\n",
       "    </tr>\n",
       "    <tr>\n",
       "      <td>50%</td>\n",
       "      <td>57.000000</td>\n",
       "      <td>6.600000e+06</td>\n",
       "      <td>2.000000</td>\n",
       "      <td>2.650000</td>\n",
       "    </tr>\n",
       "    <tr>\n",
       "      <td>75%</td>\n",
       "      <td>72.000000</td>\n",
       "      <td>8.466250e+06</td>\n",
       "      <td>3.000000</td>\n",
       "      <td>2.650000</td>\n",
       "    </tr>\n",
       "    <tr>\n",
       "      <td>max</td>\n",
       "      <td>114.200000</td>\n",
       "      <td>1.186686e+07</td>\n",
       "      <td>6.000000</td>\n",
       "      <td>2.850000</td>\n",
       "    </tr>\n",
       "  </tbody>\n",
       "</table>\n",
       "</div>"
      ],
      "text/plain": [
       "        total_area    last_price        rooms  ceiling_height\n",
       "count  1346.000000  1.346000e+03  1346.000000     1346.000000\n",
       "mean     58.864413  6.775360e+06     2.049777        2.654792\n",
       "std      19.980933  2.225437e+06     0.892624        0.074974\n",
       "min      12.000000  1.686000e+06     0.000000        2.460000\n",
       "25%      43.400000  5.012500e+06     1.000000        2.650000\n",
       "50%      57.000000  6.600000e+06     2.000000        2.650000\n",
       "75%      72.000000  8.466250e+06     3.000000        2.650000\n",
       "max     114.200000  1.186686e+07     6.000000        2.850000"
      ]
     },
     "execution_count": 54,
     "metadata": {},
     "output_type": "execute_result"
    }
   ],
   "source": [
    "df_good_SP_center[['total_area', 'last_price', 'rooms', 'ceiling_height']].describe()"
   ]
  },
  {
   "cell_type": "code",
   "execution_count": 55,
   "metadata": {},
   "outputs": [
    {
     "data": {
      "image/png": "[encoded data removed]",
      "text/plain": [
       "<Figure size 1080x360 with 1 Axes>"
      ]
     },
     "metadata": {
      "needs_background": "light"
     },
     "output_type": "display_data"
    },
    {
     "data": {
      "image/png": "[encoded data removed]",
      "text/plain": [
       "<Figure size 1080x360 with 1 Axes>"
      ]
     },
     "metadata": {
      "needs_background": "light"
     },
     "output_type": "display_data"
    },
    {
     "data": {
      "image/png": "[encoded data removed]",
      "text/plain": [
       "<Figure size 1080x360 with 1 Axes>"
      ]
     },
     "metadata": {
      "needs_background": "light"
     },
     "output_type": "display_data"
    },
    {
     "data": {
      "image/png": "[encoded data removed]",
      "text/plain": [
       "<Figure size 1080x360 with 1 Axes>"
      ]
     },
     "metadata": {
      "needs_background": "light"
     },
     "output_type": "display_data"
    }
   ],
   "source": [
    "col_list = ['total_area', 'last_price', 'rooms', 'ceiling_height']\n",
    "\n",
    "for i in col_list:\n",
    "    my_hist(df_good_SP_center, i)  "
   ]
  },
  {
   "cell_type": "markdown",
   "metadata": {},
   "source": [
    "Распределение параметров по массиву квартир в центре Санкт-Петербурга\n",
    "\n",
    "1. Гистограмма \"Распределение площадей\": Большая часть квартир имеет метраж от 40 до 80 кв.м., пик - 45 кв.м. Медианная площадь квартиры в центре Санкт-Петербурга - 57 кв.м.\n",
    "2. Гистограмма \"Распределение цен\": цена на квартиры лежит, в основном, в промежутке от 3 до 12 млн р. Большая часть квартир продается за цену в промежутке между 5 и 8,5 млн р.\n",
    "3. Гистограмма \"Распределение по количеству комнат\": Больше всего 2х-комнатных квартир. Чуть меньше 1х-квартир, еще меньше трехкомнатных.\n",
    "4. Гистограмма \"Распределение по высоте потолков\": квартиры, в большинстве своем, имеют потолки 2,65м."
   ]
  },
  {
   "cell_type": "code",
   "execution_count": 56,
   "metadata": {},
   "outputs": [
    {
     "data": {
      "text/html": [
       "<div>\n",
       "<style scoped>\n",
       "    .dataframe tbody tr th:only-of-type {\n",
       "        vertical-align: middle;\n",
       "    }\n",
       "\n",
       "    .dataframe tbody tr th {\n",
       "        vertical-align: top;\n",
       "    }\n",
       "\n",
       "    .dataframe thead th {\n",
       "        text-align: right;\n",
       "    }\n",
       "</style>\n",
       "<table border=\"1\" class=\"dataframe\">\n",
       "  <thead>\n",
       "    <tr style=\"text-align: right;\">\n",
       "      <th></th>\n",
       "      <th>total_area</th>\n",
       "      <th>last_price</th>\n",
       "      <th>rooms</th>\n",
       "      <th>ceiling_height</th>\n",
       "    </tr>\n",
       "  </thead>\n",
       "  <tbody>\n",
       "    <tr>\n",
       "      <td>count</td>\n",
       "      <td>9995.000000</td>\n",
       "      <td>9.995000e+03</td>\n",
       "      <td>9995.000000</td>\n",
       "      <td>9995.000000</td>\n",
       "    </tr>\n",
       "    <tr>\n",
       "      <td>mean</td>\n",
       "      <td>51.687717</td>\n",
       "      <td>5.283431e+06</td>\n",
       "      <td>1.872636</td>\n",
       "      <td>2.631366</td>\n",
       "    </tr>\n",
       "    <tr>\n",
       "      <td>std</td>\n",
       "      <td>17.065157</td>\n",
       "      <td>1.903286e+06</td>\n",
       "      <td>0.874612</td>\n",
       "      <td>0.081548</td>\n",
       "    </tr>\n",
       "    <tr>\n",
       "      <td>min</td>\n",
       "      <td>12.000000</td>\n",
       "      <td>1.219000e+04</td>\n",
       "      <td>0.000000</td>\n",
       "      <td>2.450000</td>\n",
       "    </tr>\n",
       "    <tr>\n",
       "      <td>25%</td>\n",
       "      <td>39.000000</td>\n",
       "      <td>3.900000e+06</td>\n",
       "      <td>1.000000</td>\n",
       "      <td>2.600000</td>\n",
       "    </tr>\n",
       "    <tr>\n",
       "      <td>50%</td>\n",
       "      <td>47.200000</td>\n",
       "      <td>4.800000e+06</td>\n",
       "      <td>2.000000</td>\n",
       "      <td>2.650000</td>\n",
       "    </tr>\n",
       "    <tr>\n",
       "      <td>75%</td>\n",
       "      <td>62.000000</td>\n",
       "      <td>6.285240e+06</td>\n",
       "      <td>3.000000</td>\n",
       "      <td>2.650000</td>\n",
       "    </tr>\n",
       "    <tr>\n",
       "      <td>max</td>\n",
       "      <td>114.200000</td>\n",
       "      <td>1.186686e+07</td>\n",
       "      <td>6.000000</td>\n",
       "      <td>2.850000</td>\n",
       "    </tr>\n",
       "  </tbody>\n",
       "</table>\n",
       "</div>"
      ],
      "text/plain": [
       "        total_area    last_price        rooms  ceiling_height\n",
       "count  9995.000000  9.995000e+03  9995.000000     9995.000000\n",
       "mean     51.687717  5.283431e+06     1.872636        2.631366\n",
       "std      17.065157  1.903286e+06     0.874612        0.081548\n",
       "min      12.000000  1.219000e+04     0.000000        2.450000\n",
       "25%      39.000000  3.900000e+06     1.000000        2.600000\n",
       "50%      47.200000  4.800000e+06     2.000000        2.650000\n",
       "75%      62.000000  6.285240e+06     3.000000        2.650000\n",
       "max     114.200000  1.186686e+07     6.000000        2.850000"
      ]
     },
     "execution_count": 56,
     "metadata": {},
     "output_type": "execute_result"
    }
   ],
   "source": [
    "df_good_SP[['total_area', 'last_price', 'rooms', 'ceiling_height']].describe()"
   ]
  },
  {
   "cell_type": "code",
   "execution_count": 57,
   "metadata": {},
   "outputs": [
    {
     "data": {
      "image/png": "[encoded data removed]",
      "text/plain": [
       "<Figure size 1080x360 with 1 Axes>"
      ]
     },
     "metadata": {
      "needs_background": "light"
     },
     "output_type": "display_data"
    },
    {
     "data": {
      "image/png": "[encoded data removed]",
      "text/plain": [
       "<Figure size 1080x360 with 1 Axes>"
      ]
     },
     "metadata": {
      "needs_background": "light"
     },
     "output_type": "display_data"
    },
    {
     "data": {
      "image/png": "[encoded data removed]",
      "text/plain": [
       "<Figure size 1080x360 with 1 Axes>"
      ]
     },
     "metadata": {
      "needs_background": "light"
     },
     "output_type": "display_data"
    },
    {
     "data": {
      "image/png": "[encoded data removed]",
      "text/plain": [
       "<Figure size 1080x360 with 1 Axes>"
      ]
     },
     "metadata": {
      "needs_background": "light"
     },
     "output_type": "display_data"
    }
   ],
   "source": [
    "for i in col_list:\n",
    "    my_hist(df_good_SP, i) "
   ]
  },
  {
   "cell_type": "markdown",
   "metadata": {},
   "source": [
    "Распределение параметров по массиву квартир по всему Санкт-Петербургу\n",
    "\n",
    "1. Гистограмма \"Распределение площадей\": Большая часть квартир имеет метраж от 30 до 60 кв.м. Медианная площадь квартиры в центре Санкт-Петербурга - 47 кв.м (на 10 кв.м меньше, чем в центре)\n",
    "2. Гистограмма \"Распределение цен\": цена на квартиры лежит, в основном, в промежутке от 3 до 12 млн р. Большая часть квартир продается за цену в промежутке между 3 и 6 млн р.\n",
    "3. Гистограмма \"Распределение по количеству комнат\": Больше всего 1х-комнатных квартир. Чуть меньше 2х-квартир, еще меньше трехкомнатных и четырехкомнатных.\n",
    "4. Гистограмма \"Распределение по высоте потолков\": квартиры, в большинстве своем, имеют потолки 2,65м, чуть меньше квартир имеют потолки 2,5м."
   ]
  },
  {
   "cell_type": "code",
   "execution_count": 58,
   "metadata": {},
   "outputs": [],
   "source": [
    "def bar_plot_last_price(dff, col, parametr):\n",
    "    x1 = dff.groupby(col)[parametr].median().sort_values()\n",
    "    \n",
    "    plt.figure(figsize =(15, 5))\n",
    "    hist = x1.plot(\n",
    "                kind='bar', \n",
    "                alpha=0.5, \n",
    "                ec='black',\n",
    "                color='green',\n",
    "                )\n",
    "    plt.title('Распределение по столбцу ' + col)\n",
    "    plt.xlabel('Значение')\n",
    "    plt.ylabel('Частота')\n",
    "    plt.grid()\n",
    "    plt.show()"
   ]
  },
  {
   "cell_type": "code",
   "execution_count": 59,
   "metadata": {},
   "outputs": [
    {
     "data": {
      "image/png": "[encoded data removed]",
      "text/plain": [
       "<Figure size 1080x360 with 1 Axes>"
      ]
     },
     "metadata": {
      "needs_background": "light"
     },
     "output_type": "display_data"
    },
    {
     "data": {
      "image/png": "[encoded data removed]",
      "text/plain": [
       "<Figure size 1080x360 with 1 Axes>"
      ]
     },
     "metadata": {
      "needs_background": "light"
     },
     "output_type": "display_data"
    },
    {
     "data": {
      "image/png": "[encoded data removed]",
      "text/plain": [
       "<Figure size 1080x360 with 1 Axes>"
      ]
     },
     "metadata": {
      "needs_background": "light"
     },
     "output_type": "display_data"
    },
    {
     "data": {
      "image/png": "[encoded data removed]",
      "text/plain": [
       "<Figure size 1080x360 with 1 Axes>"
      ]
     },
     "metadata": {
      "needs_background": "light"
     },
     "output_type": "display_data"
    }
   ],
   "source": [
    "col1_list = ['set_floor_category', 'day_of_week_exp', 'month_exp', 'year_exp']\n",
    "\n",
    "for i in col1_list:\n",
    "    bar_plot_last_price(df_good_SP_center, i, 'last_price') "
   ]
  },
  {
   "cell_type": "markdown",
   "metadata": {},
   "source": [
    "Распределение параметров по массиву квартир в центре Санкт-Петербурга\n",
    "\n",
    "1. \"Этаж\": дешевле всего стоят квартиры на 1 этаже, чуть дороже на последнем, но дешевле, чем на всех остальных этажах. \n",
    "2. \"День недели\": дороже всего стоят квартиры, объявление о продаже которых было размещено на выходных и в конце недели (воскресенье, суббота, пятница).\n",
    "3. \"Месяц\":  наибольшую стоимость имеют квартиры, продающиеся в ноябре и марте, наименьшую - в апреле.\n",
    "4. \"Год\": дороже всего стоят квартиры, продающиеся в 2017 году, дешевле всего в центре квартиры, проадющиеся в 2019 году."
   ]
  },
  {
   "cell_type": "code",
   "execution_count": 60,
   "metadata": {},
   "outputs": [
    {
     "data": {
      "image/png": "[encoded data removed]",
      "text/plain": [
       "<Figure size 1080x360 with 1 Axes>"
      ]
     },
     "metadata": {
      "needs_background": "light"
     },
     "output_type": "display_data"
    },
    {
     "data": {
      "image/png": "[encoded data removed]",
      "text/plain": [
       "<Figure size 1080x360 with 1 Axes>"
      ]
     },
     "metadata": {
      "needs_background": "light"
     },
     "output_type": "display_data"
    },
    {
     "data": {
      "image/png": "[encoded data removed]",
      "text/plain": [
       "<Figure size 1080x360 with 1 Axes>"
      ]
     },
     "metadata": {
      "needs_background": "light"
     },
     "output_type": "display_data"
    },
    {
     "data": {
      "image/png": "[encoded data removed]",
      "text/plain": [
       "<Figure size 1080x360 with 1 Axes>"
      ]
     },
     "metadata": {
      "needs_background": "light"
     },
     "output_type": "display_data"
    }
   ],
   "source": [
    "for i in col1_list:\n",
    "    bar_plot_last_price(df_good_SP, i, 'last_price') "
   ]
  },
  {
   "cell_type": "markdown",
   "metadata": {},
   "source": [
    "<div class=\"alert alert-success\">\n",
    "\n",
    "<h1>Комментарий ревьюера <a class=\"tocSkip\"></a></h1>\n",
    "Ну тут впринципе логичные результаты получаются\n",
    "</div>"
   ]
  },
  {
   "cell_type": "markdown",
   "metadata": {},
   "source": [
    "Распределение параметров по массиву квартир по всему Санкт-Петербургу\n",
    "\n",
    "1. \"Этаж\": дешевле всего стоят квартиры на 1 этаже, чуть дороже на последнем, но дешевле, чем на всех остальных этажах. Здесь никаких различий с квартирами в центре города нет.\n",
    "2. \"День недели\": здесь все наоборот по сравнению с квартирами в центре, дороже всего стоят квартиры, объявление о продаже которых было размещено на буднях, а дешевле - в конце недели.\n",
    "3. \"Месяц\":  наибольшую стоимость имеют квартиры, продающиеся в конце-начале года (сентябрь, декабрь, январь), наименьшую в июле и мае.\n",
    "4. \"Год\": здесь также все кардинально отличается, дороже всего стоят квартиры, продающиеся в 2019 году, дешевле всего-в 2017 году."
   ]
  },
  {
   "cell_type": "markdown",
   "metadata": {},
   "source": [
    "Посчитаем корреляцию цены квартиры и остальных параметров по обоим массивам."
   ]
  },
  {
   "cell_type": "code",
   "execution_count": 61,
   "metadata": {},
   "outputs": [
    {
     "data": {
      "text/html": [
       "<div>\n",
       "<style scoped>\n",
       "    .dataframe tbody tr th:only-of-type {\n",
       "        vertical-align: middle;\n",
       "    }\n",
       "\n",
       "    .dataframe tbody tr th {\n",
       "        vertical-align: top;\n",
       "    }\n",
       "\n",
       "    .dataframe thead th {\n",
       "        text-align: right;\n",
       "    }\n",
       "</style>\n",
       "<table border=\"1\" class=\"dataframe\">\n",
       "  <thead>\n",
       "    <tr style=\"text-align: right;\">\n",
       "      <th></th>\n",
       "      <th>index</th>\n",
       "      <th>last_price_x</th>\n",
       "      <th>last_price_y</th>\n",
       "    </tr>\n",
       "  </thead>\n",
       "  <tbody>\n",
       "    <tr>\n",
       "      <td>0</td>\n",
       "      <td>last_price</td>\n",
       "      <td>1.000000</td>\n",
       "      <td>1.000000</td>\n",
       "    </tr>\n",
       "    <tr>\n",
       "      <td>1</td>\n",
       "      <td>total_area</td>\n",
       "      <td>0.729426</td>\n",
       "      <td>0.795022</td>\n",
       "    </tr>\n",
       "    <tr>\n",
       "      <td>2</td>\n",
       "      <td>living_area</td>\n",
       "      <td>0.559341</td>\n",
       "      <td>0.631717</td>\n",
       "    </tr>\n",
       "    <tr>\n",
       "      <td>3</td>\n",
       "      <td>kitchen_area</td>\n",
       "      <td>0.511247</td>\n",
       "      <td>0.533132</td>\n",
       "    </tr>\n",
       "    <tr>\n",
       "      <td>4</td>\n",
       "      <td>rooms</td>\n",
       "      <td>0.437636</td>\n",
       "      <td>0.486956</td>\n",
       "    </tr>\n",
       "    <tr>\n",
       "      <td>5</td>\n",
       "      <td>m2_price</td>\n",
       "      <td>0.322196</td>\n",
       "      <td>0.404904</td>\n",
       "    </tr>\n",
       "    <tr>\n",
       "      <td>6</td>\n",
       "      <td>ceiling_height</td>\n",
       "      <td>0.227728</td>\n",
       "      <td>0.271917</td>\n",
       "    </tr>\n",
       "    <tr>\n",
       "      <td>7</td>\n",
       "      <td>floor</td>\n",
       "      <td>0.194743</td>\n",
       "      <td>0.126689</td>\n",
       "    </tr>\n",
       "    <tr>\n",
       "      <td>8</td>\n",
       "      <td>balcony</td>\n",
       "      <td>0.187082</td>\n",
       "      <td>0.195446</td>\n",
       "    </tr>\n",
       "    <tr>\n",
       "      <td>9</td>\n",
       "      <td>floors_total</td>\n",
       "      <td>0.187082</td>\n",
       "      <td>0.195446</td>\n",
       "    </tr>\n",
       "    <tr>\n",
       "      <td>10</td>\n",
       "      <td>days_exposition</td>\n",
       "      <td>0.113210</td>\n",
       "      <td>0.064988</td>\n",
       "    </tr>\n",
       "    <tr>\n",
       "      <td>11</td>\n",
       "      <td>parks_nearest</td>\n",
       "      <td>0.109990</td>\n",
       "      <td>0.064524</td>\n",
       "    </tr>\n",
       "    <tr>\n",
       "      <td>12</td>\n",
       "      <td>ponds_around3000</td>\n",
       "      <td>0.106230</td>\n",
       "      <td>0.125395</td>\n",
       "    </tr>\n",
       "    <tr>\n",
       "      <td>13</td>\n",
       "      <td>parks_around3000</td>\n",
       "      <td>0.065770</td>\n",
       "      <td>0.053618</td>\n",
       "    </tr>\n",
       "    <tr>\n",
       "      <td>14</td>\n",
       "      <td>total_images</td>\n",
       "      <td>0.058551</td>\n",
       "      <td>0.144230</td>\n",
       "    </tr>\n",
       "    <tr>\n",
       "      <td>15</td>\n",
       "      <td>ponds_nearest</td>\n",
       "      <td>0.011930</td>\n",
       "      <td>-0.041910</td>\n",
       "    </tr>\n",
       "    <tr>\n",
       "      <td>16</td>\n",
       "      <td>airports_nearest</td>\n",
       "      <td>-0.009505</td>\n",
       "      <td>0.023218</td>\n",
       "    </tr>\n",
       "    <tr>\n",
       "      <td>17</td>\n",
       "      <td>year_exp</td>\n",
       "      <td>-0.017635</td>\n",
       "      <td>0.023618</td>\n",
       "    </tr>\n",
       "    <tr>\n",
       "      <td>18</td>\n",
       "      <td>is_apartment</td>\n",
       "      <td>-0.029234</td>\n",
       "      <td>-0.003920</td>\n",
       "    </tr>\n",
       "    <tr>\n",
       "      <td>19</td>\n",
       "      <td>ratio_kitchen_to_total_area</td>\n",
       "      <td>-0.066725</td>\n",
       "      <td>-0.140979</td>\n",
       "    </tr>\n",
       "    <tr>\n",
       "      <td>20</td>\n",
       "      <td>studio</td>\n",
       "      <td>-0.066988</td>\n",
       "      <td>-0.078855</td>\n",
       "    </tr>\n",
       "    <tr>\n",
       "      <td>21</td>\n",
       "      <td>ratio_living_to_total_area</td>\n",
       "      <td>-0.072638</td>\n",
       "      <td>0.001080</td>\n",
       "    </tr>\n",
       "    <tr>\n",
       "      <td>22</td>\n",
       "      <td>open_plan</td>\n",
       "      <td>-0.093142</td>\n",
       "      <td>-0.055326</td>\n",
       "    </tr>\n",
       "    <tr>\n",
       "      <td>23</td>\n",
       "      <td>cityCenters_nearest</td>\n",
       "      <td>-0.180694</td>\n",
       "      <td>-0.277963</td>\n",
       "    </tr>\n",
       "    <tr>\n",
       "      <td>24</td>\n",
       "      <td>cityCenters_nearest_km</td>\n",
       "      <td>-0.182752</td>\n",
       "      <td>-0.278415</td>\n",
       "    </tr>\n",
       "  </tbody>\n",
       "</table>\n",
       "</div>"
      ],
      "text/plain": [
       "                          index  last_price_x  last_price_y\n",
       "0                    last_price      1.000000      1.000000\n",
       "1                    total_area      0.729426      0.795022\n",
       "2                   living_area      0.559341      0.631717\n",
       "3                  kitchen_area      0.511247      0.533132\n",
       "4                         rooms      0.437636      0.486956\n",
       "5                      m2_price      0.322196      0.404904\n",
       "6                ceiling_height      0.227728      0.271917\n",
       "7                         floor      0.194743      0.126689\n",
       "8                       balcony      0.187082      0.195446\n",
       "9                  floors_total      0.187082      0.195446\n",
       "10              days_exposition      0.113210      0.064988\n",
       "11                parks_nearest      0.109990      0.064524\n",
       "12             ponds_around3000      0.106230      0.125395\n",
       "13             parks_around3000      0.065770      0.053618\n",
       "14                 total_images      0.058551      0.144230\n",
       "15                ponds_nearest      0.011930     -0.041910\n",
       "16             airports_nearest     -0.009505      0.023218\n",
       "17                     year_exp     -0.017635      0.023618\n",
       "18                 is_apartment     -0.029234     -0.003920\n",
       "19  ratio_kitchen_to_total_area     -0.066725     -0.140979\n",
       "20                       studio     -0.066988     -0.078855\n",
       "21   ratio_living_to_total_area     -0.072638      0.001080\n",
       "22                    open_plan     -0.093142     -0.055326\n",
       "23          cityCenters_nearest     -0.180694     -0.277963\n",
       "24       cityCenters_nearest_km     -0.182752     -0.278415"
      ]
     },
     "execution_count": 61,
     "metadata": {},
     "output_type": "execute_result"
    }
   ],
   "source": [
    "corr_SP_center = df_good_SP_center.corr()[['last_price']].sort_values(by='last_price', ascending=False).reset_index()\n",
    "corr_SP = df_good_SP.corr()[['last_price']].sort_values(by='last_price', ascending=False).reset_index()\n",
    "\n",
    "corrr = corr_SP_center.merge(corr_SP,on='index')\n",
    "corrr"
   ]
  },
  {
   "cell_type": "markdown",
   "metadata": {},
   "source": [
    "Сильнее всего на стоимость квартиры влияет общая площадь квартиры (чем она больше, тем выше стоимость), площадь жилой площади и площадь кухни, а также количество комнат. В сравнении по обоим массивам корреляции по параметрам не сильно отличается."
   ]
  },
  {
   "cell_type": "markdown",
   "metadata": {},
   "source": [
    "### Вывод"
   ]
  },
  {
   "cell_type": "markdown",
   "metadata": {},
   "source": [
    "При сравнение разных параметров массивов квартир в центре Санкт-Петербурга и квартир всего города, а также влияния этих параметров на цену квартиры можно сказать следущее:\n",
    "\n",
    "- Общая площадь квартиры в центре скорее всего будет больше, чем во всем остальном городе\n",
    "- Цена соответственно тоже выше в центре, чем по всему городу\n",
    "- В центре больше 2-х комнатных квартир, а во всем Санкт-Петербурге больше однушек\n",
    "- В центре у большинства квартир высота потолков - 2,65 м, но встречаются также квартиры с потолками 2,7; 2,75; 2,8 м, по всему Санкт-Петербургу чаще всего встречается высота 2,65 м, при этом чаще по сравнению с центром встречается высота потолков 2,5 м.\n",
    "- Что в центре, что по всему городу, дешевле всего квартиры на первом этаже, дороже на последнем, но все равно чуть дешевле, чем на остальных этажах\n",
    "- Квартиры в центре, размещенные на продажу в сервисе по выходным, стоят дороже, чем по будням, по всему городу - наоборот, дороже те, чьи объявления были размещены по будням\n",
    "- Квартиры в центре дороже всего стоят, когда размещаются в сервисе в ноябре и марте, а по всему Санкт-Петербургу - в декабре\n",
    "- Квартиры в центре дороже всего стоили в 2019 году, а дешевле в 2017 году, по всему Санкт-Петербургу - наоборот, дороже всего в 2017, а дешевле в 2019"
   ]
  },
  {
   "cell_type": "markdown",
   "metadata": {},
   "source": [
    "## Общий вывод"
   ]
  },
  {
   "cell_type": "markdown",
   "metadata": {},
   "source": [
    "В ходе анализа было обнаружено большое количество пропусков - чтобы в дальнейшем не сталкиваться с проблемой отсутствующих значений необходимо пересмотреть правила заполнения формы объявления, сделать поля обязательными к заполнению.\n",
    "\n",
    "Параметры, влияющие на стоимость квартиры:\n",
    "1. \"Площадь квартиры\", \"Жилая площадь\", \"Площадь кухни\": Чем больше площадь, тем выше цена.\n",
    "2. \"Количество комнат\": Чем больше комнат, тем выше цена.\n",
    "3. \"Удаленность от центра\": Чем дальше от центра, тем дешевле.\n",
    "4. \"Этаж\": Дешевле всего квартиры на первом этаже, дороже на последнем, но все равно чуть дешевле, чем на остальных этажах.\n",
    "5. \"День размещения объявления\": Если квартира находится в центре города, размещенная на продажу на сервисе по выходным, она обычно стоит дороже, чем по будням, в среднем по городу - наоборот, дороже те квартиры, чьи объявления были размещены по будням.\n",
    "6. \"Месяц размещения объявления\": Наибольшую стоимость имели квартиры, чьи объявления были размещены в сентябре и ноябре, а наименьшую стоимость - те, чьи объявления были размещены в начале лета (июне и июле).\n",
    "7. \"Год размещения объявления\": Из выборки выделяется 2019 и 2015 год - продающиеся в этом году квартиры имели наибольшую стоимость. Меньше всего из всей выборки стоят квартиры, объявление о продаже которых было опубликовано в 2016, 2017 и 2018 году.\n",
    "8. \"Время продажи\": В среднем квартиры продаются в первые три месяца после размещения объявления на сервисе. Быстро проданными квартирами можно считать такие квартиры, которые продались за первые 45 дней с момента публикации объявления. Долго продаются квартиры, чьи объявления были опубликованы уже более 230 дней.\n"
   ]
  },
  {
   "cell_type": "markdown",
   "metadata": {},
   "source": [
    "<div class=\"alert alert-success\">\n",
    "\n",
    "<h1>Комментарий ревьюера <a class=\"tocSkip\"></a></h1>\n",
    "За такой вывод - отдельный лайк!\n",
    "</div>"
   ]
  },
  {
   "cell_type": "markdown",
   "metadata": {},
   "source": [
    "## Чек-лист готовности проекта\n",
    "\n",
    "Поставьте 'x' в выполненных пунктах. Далее нажмите Shift+Enter."
   ]
  },
  {
   "cell_type": "markdown",
   "metadata": {},
   "source": [
    "<div class=\"alert alert-success\">\n",
    "<h2> Комментарий ревьюера</h2>\n",
    "\n",
    "-Спасибо за качественно сделанный проект, было приятно проверять. \n",
    "\n",
    "- Видно, что приложено много усилий\n",
    "\n",
    "- Код написан хорошо, молодец, что автоматизируешь некоторые процессы и не дублируешь код!\n",
    "\n",
    "- Соблюдена структура проекта \n",
    "    \n",
    "- Не забывай подписывать графики (за это будут карать)  \n",
    "    \n",
    "- Удачи в следующих проектах!\n",
    "</div>"
   ]
  },
  {
   "cell_type": "markdown",
   "metadata": {},
   "source": [
    "- [x]  открыт файл\n",
    "- [x]  файлы изучены (выведены первые строки, метод info())\n",
    "- [x]  определены пропущенные значения\n",
    "- [x]  заполнены пропущенные значения\n",
    "- [x]  есть пояснение, какие пропущенные значения обнаружены\n",
    "- [x]  изменены типы данных\n",
    "- [x]  есть пояснение, в каких столбцах изменены типы и почему\n",
    "- [x]  посчитано и добавлено в таблицу: цена квадратного метра\n",
    "- [x]  посчитано и добавлено в таблицу: день недели, месяц и год публикации объявления\n",
    "- [x]  посчитано и добавлено в таблицу: этаж квартиры; варианты — первый, последний, другой\n",
    "- [x]  посчитано и добавлено в таблицу: соотношение жилой и общей площади, а также отношение площади кухни к общей\n",
    "- [x]  изучены следующие параметры: площадь, цена, число комнат, высота потолков\n",
    "- [x]  построены гистограммы для каждого параметра\n",
    "- [x]  выполнено задание: \"Изучите время продажи квартиры. Постройте гистограмму. Посчитайте среднее и медиану. Опишите, сколько обычно занимает продажа. Когда можно считать, что продажи прошли очень быстро, а когда необычно долго?\"\n",
    "- [x]  выполнено задание: \"Уберите редкие и выбивающиеся значения. Опишите, какие особенности обнаружили.\"\n",
    "- [x]  выполнено задание: \"Какие факторы больше всего влияют на стоимость квартиры? Изучите, зависит ли цена от квадратного метра, числа комнат, этажа (первого или последнего), удалённости от центра. Также изучите зависимость от даты размещения: дня недели, месяца и года. \"Выберите 10 населённых пунктов с наибольшим числом объявлений. Посчитайте среднюю цену квадратного метра в этих населённых пунктах. Выделите населённые пункты с самой высокой и низкой стоимостью жилья. Эти данные можно найти по имени в столбце '*locality_name'*. \"\n",
    "- [x]  выполнено задание: \"Изучите предложения квартир: для каждой квартиры есть информация о расстоянии до центра. Выделите квартиры в Санкт-Петербурге (*'locality_name'*). Ваша задача — выяснить, какая область входит в центр. Создайте столбец с расстоянием до центра в километрах: округлите до целых значений. После этого посчитайте среднюю цену для каждого километра. Постройте график: он должен показывать, как цена зависит от удалённости от центра. Определите границу, где график сильно меняется — это и будет центральная зона. \"\n",
    "- [x]  выполнено задание: \"Выделите сегмент квартир в центре. Проанализируйте эту территорию и изучите следующие параметры: площадь, цена, число комнат, высота потолков. Также выделите факторы, которые влияют на стоимость квартиры (число комнат, этаж, удалённость от центра, дата размещения объявления). Сделайте выводы. Отличаются ли они от общих выводов по всему городу?\"\n",
    "- [x]  в каждом этапе есть выводы\n",
    "- [x]  есть общий вывод"
   ]
  },
  {
   "cell_type": "code",
   "execution_count": null,
   "metadata": {},
   "outputs": [],
   "source": []
  }
 ],
 "metadata": {
  "kernelspec": {
   "display_name": "Python 3",
   "language": "python",
   "name": "python3"
  },
  "language_info": {
   "codemirror_mode": {
    "name": "ipython",
    "version": 3
   },
   "file_extension": ".py",
   "mimetype": "text/x-python",
   "name": "python",
   "nbconvert_exporter": "python",
   "pygments_lexer": "ipython3",
   "version": "3.7.8"
  },
  "toc": {
   "base_numbering": 1,
   "nav_menu": {},
   "number_sections": true,
   "sideBar": true,
   "skip_h1_title": true,
   "title_cell": "Содержание",
   "title_sidebar": "Contents",
   "toc_cell": true,
   "toc_position": {
    "height": "calc(100% - 180px)",
    "left": "10px",
    "top": "150px",
    "width": "312.969px"
   },
   "toc_section_display": true,
   "toc_window_display": true
  }
 },
 "nbformat": 4,
 "nbformat_minor": 2
}
